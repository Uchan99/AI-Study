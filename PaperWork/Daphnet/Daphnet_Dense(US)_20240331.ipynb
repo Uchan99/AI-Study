{
 "cells": [
  {
   "cell_type": "code",
   "execution_count": 24,
   "id": "37babecb-f45d-4b70-aa05-a6a798ae0eee",
   "metadata": {},
   "outputs": [],
   "source": [
    "import numpy as np\n",
    "import tensorflow as tf\n",
    "from tensorflow import keras\n",
    "\n",
    "import pandas as pd\n",
    "import seaborn as sns\n",
    "from pylab import rcParams\n",
    "import matplotlib.pyplot as plt\n",
    "from matplotlib import rc\n",
    "from pandas.plotting import register_matplotlib_converters\n",
    "from sklearn.model_selection import train_test_split\n",
    "from sklearn.metrics import precision_score, recall_score, f1_score\n",
    "\n",
    "from pandas import read_csv, unique\n",
    "\n",
    "import numpy as np\n",
    "import pandas as pd\n",
    "\n",
    "from scipy.interpolate import interp1d\n",
    "from scipy.stats import mode\n",
    "\n",
    "from sklearn.preprocessing import LabelEncoder\n",
    "from sklearn.metrics import classification_report, confusion_matrix, ConfusionMatrixDisplay\n",
    "\n",
    "from tensorflow import stack\n",
    "from tensorflow.keras.utils import to_categorical\n",
    "from keras.models import Sequential\n",
    "from tensorflow.keras.layers import Bidirectional, LSTM, Dropout, Dense\n",
    "from keras.layers import Dense, GlobalAveragePooling1D, BatchNormalization, MaxPool1D, Reshape, Activation\n",
    "from tensorflow.keras.layers import Conv1D, Flatten, Reshape, MaxPooling1D\n",
    "from keras.callbacks import ModelCheckpoint, EarlyStopping\n",
    "import matplotlib.pyplot as plt\n",
    "from imblearn.over_sampling import SMOTE\n",
    "from imblearn.under_sampling import RandomUnderSampler"
   ]
  },
  {
   "cell_type": "code",
   "execution_count": 2,
   "id": "198098f8-026d-40e7-a52f-e0cf7d56246c",
   "metadata": {},
   "outputs": [
    {
     "name": "stdout",
     "output_type": "stream",
     "text": [
      "              TS   Ankel_1  Ankel_2  Ankel_3  Thigh_1  Thigh_2  Thigh_3  \\\n",
      "0             15        70       39     -970        0        0        0   \n",
      "1             31        70       39     -970        0        0        0   \n",
      "2             46        60       49     -960        0        0        0   \n",
      "3             62        60       49     -960        0        0        0   \n",
      "4             78        50       39     -960        0        0        0   \n",
      "...          ...       ...      ...      ...      ...      ...      ...   \n",
      "1798357  3020296      -131      107     -960        0        0        0   \n",
      "1798358  3020312      -121      127     -970        0        0        0   \n",
      "1798359  3020328      -141      117     -960        0        0        0   \n",
      "1798360  3020343      -131      127     -980        0        0        0   \n",
      "1798361  3020359      -141        0        0        0        0        0   \n",
      "\n",
      "         Trunk_1  Trunk_2  Trunk_3  status  User_Number  \n",
      "0              0        0        0       0            1  \n",
      "1              0        0        0       0            1  \n",
      "2              0        0        0       0            1  \n",
      "3              0        0        0       0            1  \n",
      "4              0        0        0       0            1  \n",
      "...          ...      ...      ...     ...          ...  \n",
      "1798357        0        0        0       0           10  \n",
      "1798358        0        0        0       0           10  \n",
      "1798359        0        0        0       0           10  \n",
      "1798360        0        0        0       0           10  \n",
      "1798361        0        0        0       0           10  \n",
      "\n",
      "[1798362 rows x 12 columns]\n"
     ]
    }
   ],
   "source": [
    "import pandas as pd\n",
    "\n",
    "filepath = 'C:/AI_study/dataset/'\n",
    "# Load all 9 files as a list\n",
    "filenames = [\n",
    "    'S01R01.txt', 'S01R02.txt', 'S02R01.txt', 'S02R02.txt', 'S03R01.txt', 'S03R02.txt',\n",
    "    'S03R03.txt', 'S04R01.txt', 'S05R01.txt', 'S05R02.txt', 'S06R01.txt', 'S06R02.txt',\n",
    "    'S07R02.txt', 'S08R01.txt', 'S09R01.txt', 'S10R01.txt'\n",
    "]\n",
    "\n",
    "# Create an empty list to store DataFrames\n",
    "dfs = []\n",
    "\n",
    "# Iterate over each filename, load the CSV file, and append the DataFrame to the list\n",
    "for filename in filenames:\n",
    "    df = pd.read_csv(filepath + filename, sep=\"\\s+\", header=None)\n",
    "    user_number = int(filename[1:3])\n",
    "    df['User_Number'] = user_number\n",
    "    dfs.append(df)\n",
    "\n",
    "# Concatenate all DataFrames in the list into a single DataFrame\n",
    "df = pd.concat(dfs, ignore_index=True)\n",
    "\n",
    "# Set column names\n",
    "columns = \"TS, Ankel_1,Ankel_2,Ankel_3,Thigh_1,Thigh_2,Thigh_3,Trunk_1,Trunk_2,Trunk_3,status,User_Number\".split(\",\")\n",
    "df.columns = columns\n",
    "\n",
    "print(df)"
   ]
  },
  {
   "cell_type": "code",
   "execution_count": 3,
   "id": "2ee1c8f4-9f89-4d5a-9f33-116e060bbd75",
   "metadata": {},
   "outputs": [
    {
     "data": {
      "text/html": [
       "<div>\n",
       "<style scoped>\n",
       "    .dataframe tbody tr th:only-of-type {\n",
       "        vertical-align: middle;\n",
       "    }\n",
       "\n",
       "    .dataframe tbody tr th {\n",
       "        vertical-align: top;\n",
       "    }\n",
       "\n",
       "    .dataframe thead th {\n",
       "        text-align: right;\n",
       "    }\n",
       "</style>\n",
       "<table border=\"1\" class=\"dataframe\">\n",
       "  <thead>\n",
       "    <tr style=\"text-align: right;\">\n",
       "      <th></th>\n",
       "      <th>TS</th>\n",
       "      <th>Ankel_1</th>\n",
       "      <th>Ankel_2</th>\n",
       "      <th>Ankel_3</th>\n",
       "      <th>Thigh_1</th>\n",
       "      <th>Thigh_2</th>\n",
       "      <th>Thigh_3</th>\n",
       "      <th>Trunk_1</th>\n",
       "      <th>Trunk_2</th>\n",
       "      <th>Trunk_3</th>\n",
       "      <th>status</th>\n",
       "      <th>User_Number</th>\n",
       "    </tr>\n",
       "  </thead>\n",
       "  <tbody>\n",
       "    <tr>\n",
       "      <th>0</th>\n",
       "      <td>15</td>\n",
       "      <td>70</td>\n",
       "      <td>39</td>\n",
       "      <td>-970</td>\n",
       "      <td>0</td>\n",
       "      <td>0</td>\n",
       "      <td>0</td>\n",
       "      <td>0</td>\n",
       "      <td>0</td>\n",
       "      <td>0</td>\n",
       "      <td>0</td>\n",
       "      <td>1</td>\n",
       "    </tr>\n",
       "    <tr>\n",
       "      <th>1</th>\n",
       "      <td>31</td>\n",
       "      <td>70</td>\n",
       "      <td>39</td>\n",
       "      <td>-970</td>\n",
       "      <td>0</td>\n",
       "      <td>0</td>\n",
       "      <td>0</td>\n",
       "      <td>0</td>\n",
       "      <td>0</td>\n",
       "      <td>0</td>\n",
       "      <td>0</td>\n",
       "      <td>1</td>\n",
       "    </tr>\n",
       "    <tr>\n",
       "      <th>2</th>\n",
       "      <td>46</td>\n",
       "      <td>60</td>\n",
       "      <td>49</td>\n",
       "      <td>-960</td>\n",
       "      <td>0</td>\n",
       "      <td>0</td>\n",
       "      <td>0</td>\n",
       "      <td>0</td>\n",
       "      <td>0</td>\n",
       "      <td>0</td>\n",
       "      <td>0</td>\n",
       "      <td>1</td>\n",
       "    </tr>\n",
       "    <tr>\n",
       "      <th>3</th>\n",
       "      <td>62</td>\n",
       "      <td>60</td>\n",
       "      <td>49</td>\n",
       "      <td>-960</td>\n",
       "      <td>0</td>\n",
       "      <td>0</td>\n",
       "      <td>0</td>\n",
       "      <td>0</td>\n",
       "      <td>0</td>\n",
       "      <td>0</td>\n",
       "      <td>0</td>\n",
       "      <td>1</td>\n",
       "    </tr>\n",
       "    <tr>\n",
       "      <th>4</th>\n",
       "      <td>78</td>\n",
       "      <td>50</td>\n",
       "      <td>39</td>\n",
       "      <td>-960</td>\n",
       "      <td>0</td>\n",
       "      <td>0</td>\n",
       "      <td>0</td>\n",
       "      <td>0</td>\n",
       "      <td>0</td>\n",
       "      <td>0</td>\n",
       "      <td>0</td>\n",
       "      <td>1</td>\n",
       "    </tr>\n",
       "  </tbody>\n",
       "</table>\n",
       "</div>"
      ],
      "text/plain": [
       "   TS   Ankel_1  Ankel_2  Ankel_3  Thigh_1  Thigh_2  Thigh_3  Trunk_1  \\\n",
       "0  15        70       39     -970        0        0        0        0   \n",
       "1  31        70       39     -970        0        0        0        0   \n",
       "2  46        60       49     -960        0        0        0        0   \n",
       "3  62        60       49     -960        0        0        0        0   \n",
       "4  78        50       39     -960        0        0        0        0   \n",
       "\n",
       "   Trunk_2  Trunk_3  status  User_Number  \n",
       "0        0        0       0            1  \n",
       "1        0        0       0            1  \n",
       "2        0        0       0            1  \n",
       "3        0        0       0            1  \n",
       "4        0        0       0            1  "
      ]
     },
     "execution_count": 3,
     "metadata": {},
     "output_type": "execute_result"
    }
   ],
   "source": [
    "df.head()"
   ]
  },
  {
   "cell_type": "code",
   "execution_count": 4,
   "id": "a8a519c3-7059-460b-90c9-2d98e597620b",
   "metadata": {},
   "outputs": [
    {
     "name": "stdout",
     "output_type": "stream",
     "text": [
      "<class 'pandas.core.frame.DataFrame'>\n",
      "RangeIndex: 1798362 entries, 0 to 1798361\n",
      "Data columns (total 12 columns):\n",
      " #   Column       Dtype\n",
      "---  ------       -----\n",
      " 0   TS           int64\n",
      " 1    Ankel_1     int64\n",
      " 2   Ankel_2      int64\n",
      " 3   Ankel_3      int64\n",
      " 4   Thigh_1      int64\n",
      " 5   Thigh_2      int64\n",
      " 6   Thigh_3      int64\n",
      " 7   Trunk_1      int64\n",
      " 8   Trunk_2      int64\n",
      " 9   Trunk_3      int64\n",
      " 10  status       int64\n",
      " 11  User_Number  int64\n",
      "dtypes: int64(12)\n",
      "memory usage: 164.6 MB\n"
     ]
    }
   ],
   "source": [
    "df.info()"
   ]
  },
  {
   "cell_type": "code",
   "execution_count": 5,
   "id": "29d3ed2a-1b4f-4289-a6ee-e163ec47ead9",
   "metadata": {},
   "outputs": [
    {
     "data": {
      "text/html": [
       "<div>\n",
       "<style scoped>\n",
       "    .dataframe tbody tr th:only-of-type {\n",
       "        vertical-align: middle;\n",
       "    }\n",
       "\n",
       "    .dataframe tbody tr th {\n",
       "        vertical-align: top;\n",
       "    }\n",
       "\n",
       "    .dataframe thead th {\n",
       "        text-align: right;\n",
       "    }\n",
       "</style>\n",
       "<table border=\"1\" class=\"dataframe\">\n",
       "  <thead>\n",
       "    <tr style=\"text-align: right;\">\n",
       "      <th></th>\n",
       "      <th>TS</th>\n",
       "      <th>Ankel_1</th>\n",
       "      <th>Ankel_2</th>\n",
       "      <th>Ankel_3</th>\n",
       "      <th>Thigh_1</th>\n",
       "      <th>Thigh_2</th>\n",
       "      <th>Thigh_3</th>\n",
       "      <th>Trunk_1</th>\n",
       "      <th>Trunk_2</th>\n",
       "      <th>Trunk_3</th>\n",
       "      <th>status</th>\n",
       "      <th>User_Number</th>\n",
       "    </tr>\n",
       "  </thead>\n",
       "  <tbody>\n",
       "    <tr>\n",
       "      <th>count</th>\n",
       "      <td>1.798362e+06</td>\n",
       "      <td>1.798362e+06</td>\n",
       "      <td>1.798362e+06</td>\n",
       "      <td>1.798362e+06</td>\n",
       "      <td>1.798362e+06</td>\n",
       "      <td>1.798362e+06</td>\n",
       "      <td>1.798362e+06</td>\n",
       "      <td>1.798362e+06</td>\n",
       "      <td>1.798362e+06</td>\n",
       "      <td>1.798362e+06</td>\n",
       "      <td>1.798362e+06</td>\n",
       "      <td>1.798362e+06</td>\n",
       "    </tr>\n",
       "    <tr>\n",
       "      <th>mean</th>\n",
       "      <td>1.077208e+06</td>\n",
       "      <td>-5.840035e+01</td>\n",
       "      <td>8.205787e+02</td>\n",
       "      <td>5.888554e+01</td>\n",
       "      <td>-2.079832e+01</td>\n",
       "      <td>6.020473e+02</td>\n",
       "      <td>-3.875299e+01</td>\n",
       "      <td>4.821141e+01</td>\n",
       "      <td>7.631992e+02</td>\n",
       "      <td>-1.167351e+02</td>\n",
       "      <td>6.525399e-01</td>\n",
       "      <td>5.211849e+00</td>\n",
       "    </tr>\n",
       "    <tr>\n",
       "      <th>std</th>\n",
       "      <td>7.637586e+05</td>\n",
       "      <td>5.273884e+02</td>\n",
       "      <td>4.954709e+02</td>\n",
       "      <td>5.610358e+02</td>\n",
       "      <td>5.378507e+02</td>\n",
       "      <td>4.358368e+02</td>\n",
       "      <td>4.883318e+02</td>\n",
       "      <td>2.827634e+02</td>\n",
       "      <td>4.226899e+02</td>\n",
       "      <td>4.159825e+02</td>\n",
       "      <td>5.879011e-01</td>\n",
       "      <td>2.897030e+00</td>\n",
       "    </tr>\n",
       "    <tr>\n",
       "      <th>min</th>\n",
       "      <td>1.500000e+01</td>\n",
       "      <td>-3.123400e+04</td>\n",
       "      <td>-3.276300e+04</td>\n",
       "      <td>-3.148800e+04</td>\n",
       "      <td>-2.184600e+04</td>\n",
       "      <td>-2.967300e+04</td>\n",
       "      <td>-2.431800e+04</td>\n",
       "      <td>-4.621000e+03</td>\n",
       "      <td>-3.400000e+03</td>\n",
       "      <td>-4.786000e+03</td>\n",
       "      <td>0.000000e+00</td>\n",
       "      <td>1.000000e+00</td>\n",
       "    </tr>\n",
       "    <tr>\n",
       "      <th>25%</th>\n",
       "      <td>4.390620e+05</td>\n",
       "      <td>-2.220000e+02</td>\n",
       "      <td>7.450000e+02</td>\n",
       "      <td>6.900000e+01</td>\n",
       "      <td>-2.630000e+02</td>\n",
       "      <td>2.590000e+02</td>\n",
       "      <td>-1.010000e+02</td>\n",
       "      <td>-8.700000e+01</td>\n",
       "      <td>7.800000e+02</td>\n",
       "      <td>-2.030000e+02</td>\n",
       "      <td>0.000000e+00</td>\n",
       "      <td>3.000000e+00</td>\n",
       "    </tr>\n",
       "    <tr>\n",
       "      <th>50%</th>\n",
       "      <td>9.293750e+05</td>\n",
       "      <td>-3.000000e+01</td>\n",
       "      <td>9.700000e+02</td>\n",
       "      <td>2.170000e+02</td>\n",
       "      <td>-1.800000e+01</td>\n",
       "      <td>6.290000e+02</td>\n",
       "      <td>9.000000e+01</td>\n",
       "      <td>2.900000e+01</td>\n",
       "      <td>9.520000e+02</td>\n",
       "      <td>-3.800000e+01</td>\n",
       "      <td>1.000000e+00</td>\n",
       "      <td>5.000000e+00</td>\n",
       "    </tr>\n",
       "    <tr>\n",
       "      <th>75%</th>\n",
       "      <td>1.621328e+06</td>\n",
       "      <td>1.210000e+02</td>\n",
       "      <td>1.019000e+03</td>\n",
       "      <td>3.260000e+02</td>\n",
       "      <td>2.180000e+02</td>\n",
       "      <td>9.620000e+02</td>\n",
       "      <td>2.420000e+02</td>\n",
       "      <td>1.940000e+02</td>\n",
       "      <td>1.009000e+03</td>\n",
       "      <td>1.160000e+02</td>\n",
       "      <td>1.000000e+00</td>\n",
       "      <td>8.000000e+00</td>\n",
       "    </tr>\n",
       "    <tr>\n",
       "      <th>max</th>\n",
       "      <td>3.058390e+06</td>\n",
       "      <td>3.072500e+04</td>\n",
       "      <td>3.200200e+04</td>\n",
       "      <td>3.174400e+04</td>\n",
       "      <td>2.662500e+04</td>\n",
       "      <td>3.259800e+04</td>\n",
       "      <td>2.841800e+04</td>\n",
       "      <td>6.707000e+03</td>\n",
       "      <td>2.429800e+04</td>\n",
       "      <td>4.339000e+03</td>\n",
       "      <td>2.000000e+00</td>\n",
       "      <td>1.000000e+01</td>\n",
       "    </tr>\n",
       "  </tbody>\n",
       "</table>\n",
       "</div>"
      ],
      "text/plain": [
       "                 TS       Ankel_1       Ankel_2       Ankel_3       Thigh_1  \\\n",
       "count  1.798362e+06  1.798362e+06  1.798362e+06  1.798362e+06  1.798362e+06   \n",
       "mean   1.077208e+06 -5.840035e+01  8.205787e+02  5.888554e+01 -2.079832e+01   \n",
       "std    7.637586e+05  5.273884e+02  4.954709e+02  5.610358e+02  5.378507e+02   \n",
       "min    1.500000e+01 -3.123400e+04 -3.276300e+04 -3.148800e+04 -2.184600e+04   \n",
       "25%    4.390620e+05 -2.220000e+02  7.450000e+02  6.900000e+01 -2.630000e+02   \n",
       "50%    9.293750e+05 -3.000000e+01  9.700000e+02  2.170000e+02 -1.800000e+01   \n",
       "75%    1.621328e+06  1.210000e+02  1.019000e+03  3.260000e+02  2.180000e+02   \n",
       "max    3.058390e+06  3.072500e+04  3.200200e+04  3.174400e+04  2.662500e+04   \n",
       "\n",
       "            Thigh_2       Thigh_3       Trunk_1       Trunk_2       Trunk_3  \\\n",
       "count  1.798362e+06  1.798362e+06  1.798362e+06  1.798362e+06  1.798362e+06   \n",
       "mean   6.020473e+02 -3.875299e+01  4.821141e+01  7.631992e+02 -1.167351e+02   \n",
       "std    4.358368e+02  4.883318e+02  2.827634e+02  4.226899e+02  4.159825e+02   \n",
       "min   -2.967300e+04 -2.431800e+04 -4.621000e+03 -3.400000e+03 -4.786000e+03   \n",
       "25%    2.590000e+02 -1.010000e+02 -8.700000e+01  7.800000e+02 -2.030000e+02   \n",
       "50%    6.290000e+02  9.000000e+01  2.900000e+01  9.520000e+02 -3.800000e+01   \n",
       "75%    9.620000e+02  2.420000e+02  1.940000e+02  1.009000e+03  1.160000e+02   \n",
       "max    3.259800e+04  2.841800e+04  6.707000e+03  2.429800e+04  4.339000e+03   \n",
       "\n",
       "             status   User_Number  \n",
       "count  1.798362e+06  1.798362e+06  \n",
       "mean   6.525399e-01  5.211849e+00  \n",
       "std    5.879011e-01  2.897030e+00  \n",
       "min    0.000000e+00  1.000000e+00  \n",
       "25%    0.000000e+00  3.000000e+00  \n",
       "50%    1.000000e+00  5.000000e+00  \n",
       "75%    1.000000e+00  8.000000e+00  \n",
       "max    2.000000e+00  1.000000e+01  "
      ]
     },
     "execution_count": 5,
     "metadata": {},
     "output_type": "execute_result"
    }
   ],
   "source": [
    "df.describe()"
   ]
  },
  {
   "cell_type": "code",
   "execution_count": 6,
   "id": "21a86b73-08c2-4479-9f13-0a4b7c7c0c25",
   "metadata": {},
   "outputs": [
    {
     "data": {
      "text/plain": [
       "Index(['TS', ' Ankel_1', 'Ankel_2', 'Ankel_3', 'Thigh_1', 'Thigh_2', 'Thigh_3',\n",
       "       'Trunk_1', 'Trunk_2', 'Trunk_3', 'status', 'User_Number'],\n",
       "      dtype='object')"
      ]
     },
     "execution_count": 6,
     "metadata": {},
     "output_type": "execute_result"
    }
   ],
   "source": [
    "df.columns"
   ]
  },
  {
   "cell_type": "code",
   "execution_count": 7,
   "id": "924f81da-4f38-4a9b-b83c-b3d1b3f41122",
   "metadata": {},
   "outputs": [
    {
     "data": {
      "text/plain": [
       "status\n",
       "1    959685\n",
       "0    731768\n",
       "2    106909\n",
       "Name: count, dtype: int64"
      ]
     },
     "execution_count": 7,
     "metadata": {},
     "output_type": "execute_result"
    }
   ],
   "source": [
    "df['status'].value_counts()"
   ]
  },
  {
   "cell_type": "code",
   "execution_count": 8,
   "id": "271c8ece-5789-406b-be71-fc2ee626803c",
   "metadata": {},
   "outputs": [
    {
     "data": {
      "text/plain": [
       "(1798362, 12)"
      ]
     },
     "execution_count": 8,
     "metadata": {},
     "output_type": "execute_result"
    }
   ],
   "source": [
    "df.shape"
   ]
  },
  {
   "cell_type": "code",
   "execution_count": 9,
   "id": "2f7b4771-ee3b-43dc-a424-f3f9cd62d4a5",
   "metadata": {},
   "outputs": [],
   "source": [
    "# status 열에서 값이 0인 행 제거\n",
    "df = df[df['status'] != 0]\n",
    "\n",
    "# status 열에서 값이 1인 행을 0으로, 값이 2인 행을 1로 바꾸기\n",
    "df['status'] = df['status'].replace({1: 0, 2: 1})"
   ]
  },
  {
   "cell_type": "code",
   "execution_count": 10,
   "id": "3fc5ea6f-b927-49a4-9df8-018c83cc7ba4",
   "metadata": {},
   "outputs": [
    {
     "data": {
      "text/plain": [
       "status\n",
       "0    959685\n",
       "1    106909\n",
       "Name: count, dtype: int64"
      ]
     },
     "execution_count": 10,
     "metadata": {},
     "output_type": "execute_result"
    }
   ],
   "source": [
    "df['status'].value_counts()"
   ]
  },
  {
   "cell_type": "code",
   "execution_count": 11,
   "id": "7966c596-6657-45f2-b7c4-33ade71c7617",
   "metadata": {},
   "outputs": [
    {
     "data": {
      "text/plain": [
       "(1066594, 12)"
      ]
     },
     "execution_count": 11,
     "metadata": {},
     "output_type": "execute_result"
    }
   ],
   "source": [
    "df.shape"
   ]
  },
  {
   "cell_type": "code",
   "execution_count": 12,
   "id": "09b858fc-e2a6-4c40-94ef-6b89226b11af",
   "metadata": {},
   "outputs": [
    {
     "name": "stderr",
     "output_type": "stream",
     "text": [
      "I:\\anaconda3\\envs\\test01\\lib\\site-packages\\seaborn\\_base.py:948: FutureWarning: When grouping with a length-1 list-like, you will need to pass a length-1 tuple to get_group in a future version of pandas. Pass `(name,)` instead of `name` to silence this warning.\n",
      "  data_subset = grouped_data.get_group(pd_key)\n",
      "I:\\anaconda3\\envs\\test01\\lib\\site-packages\\seaborn\\_base.py:948: FutureWarning: When grouping with a length-1 list-like, you will need to pass a length-1 tuple to get_group in a future version of pandas. Pass `(name,)` instead of `name` to silence this warning.\n",
      "  data_subset = grouped_data.get_group(pd_key)\n"
     ]
    },
    {
     "data": {
      "image/png": "[encoded data removed]",
      "text/plain": [
       "<Figure size 1800x600 with 1 Axes>"
      ]
     },
     "metadata": {},
     "output_type": "display_data"
    }
   ],
   "source": [
    "plt.figure(figsize=(18, 6))\n",
    "sns.countplot(x = \"User_Number\", hue=\"status\", data = df,\n",
    "              order = df.User_Number.value_counts().index)\n",
    "plt.title(\"Records per user\");"
   ]
  },
  {
   "cell_type": "code",
   "execution_count": 13,
   "id": "0987487a-7c25-4740-8a09-fd92d878c9b8",
   "metadata": {},
   "outputs": [],
   "source": [
    "X = df[['TS', ' Ankel_1', 'Ankel_2', 'Ankel_3', 'Thigh_1', 'Thigh_2', 'Thigh_3',\n",
    "       'Trunk_1', 'Trunk_2', 'Trunk_3']].values\n",
    "y = df['status'].values.reshape(-1, 1)"
   ]
  },
  {
   "cell_type": "code",
   "execution_count": 14,
   "id": "8a4dd0fc-4f6f-424d-b625-cd4857004184",
   "metadata": {},
   "outputs": [
    {
     "name": "stdout",
     "output_type": "stream",
     "text": [
      "(682620, 10) (682620, 1)\n",
      "(213319, 10) (213319, 1)\n"
     ]
    }
   ],
   "source": [
    "X_train, X_test,y_train, y_test = train_test_split(X, y, test_size = 0.2, stratify= y)\n",
    "X_train, X_val, y_train, y_val  = train_test_split(X_train, y_train, test_size = 0.2, stratify= y_train )\n",
    "print(X_train.shape, y_train.shape)\n",
    "print(X_test.shape, y_test.shape)"
   ]
  },
  {
   "cell_type": "code",
   "execution_count": 15,
   "id": "c6234564-024c-4d16-8d71-5f1259e9b454",
   "metadata": {},
   "outputs": [],
   "source": [
    "from sklearn.preprocessing import OneHotEncoder\n",
    "\n",
    "enc = OneHotEncoder(handle_unknown=\"ignore\", sparse_output=False)\n",
    "enc.fit(y_train)\n",
    "\n",
    "y_train_hot = enc.transform(y_train) \n",
    "y_test_hot = enc.transform(y_test) \n",
    "y_val_hot = enc.transform(y_val)"
   ]
  },
  {
   "cell_type": "code",
   "execution_count": 16,
   "id": "8d6b5677-735c-4d12-906c-3642988fc168",
   "metadata": {},
   "outputs": [],
   "source": [
    "n_features, n_outputs = X_train.shape[1], y_train_hot.shape[1]"
   ]
  },
  {
   "cell_type": "markdown",
   "id": "620538d5-8c69-4154-b53b-c3981a24ed7e",
   "metadata": {},
   "source": [
    "## 데이터 밸런싱 전 모델"
   ]
  },
  {
   "cell_type": "code",
   "execution_count": 17,
   "id": "84e5a564-0236-4797-a8d8-9f40fdb62ff9",
   "metadata": {},
   "outputs": [
    {
     "name": "stdout",
     "output_type": "stream",
     "text": [
      "Model: \"sequential\"\n",
      "_________________________________________________________________\n",
      " Layer (type)                Output Shape              Param #   \n",
      "=================================================================\n",
      " dense (Dense)               (None, 50)                550       \n",
      "                                                                 \n",
      " flatten (Flatten)           (None, 50)                0         \n",
      "                                                                 \n",
      " dense_1 (Dense)             (None, 2)                 102       \n",
      "                                                                 \n",
      "=================================================================\n",
      "Total params: 652\n",
      "Trainable params: 652\n",
      "Non-trainable params: 0\n",
      "_________________________________________________________________\n"
     ]
    }
   ],
   "source": [
    "model = keras.Sequential()\n",
    "model.add(keras.layers.Dense(50, activation='relu', input_shape=(n_features,)))\n",
    "model.add(Flatten())\n",
    "model.add(Dense(n_outputs, activation='sigmoid'))\n",
    "model.compile(loss='binary_crossentropy', optimizer='adam', metrics=['accuracy'])\n",
    "model.summary()"
   ]
  },
  {
   "cell_type": "code",
   "execution_count": 18,
   "id": "90463ce5-e6d7-49dc-8ac4-5e8ce54140ca",
   "metadata": {},
   "outputs": [
    {
     "name": "stdout",
     "output_type": "stream",
     "text": [
      "Epoch 1/10\n",
      "5333/5333 [==============================] - 17s 3ms/step - loss: 337.7119 - accuracy: 0.8715 - val_loss: 379.4170 - val_accuracy: 0.8995\n",
      "Epoch 2/10\n",
      "5333/5333 [==============================] - 16s 3ms/step - loss: 291.8830 - accuracy: 0.8700 - val_loss: 216.0445 - val_accuracy: 0.8964\n",
      "Epoch 3/10\n",
      "5333/5333 [==============================] - 18s 3ms/step - loss: 275.7745 - accuracy: 0.8711 - val_loss: 177.8177 - val_accuracy: 0.8960\n",
      "Epoch 4/10\n",
      "5333/5333 [==============================] - 17s 3ms/step - loss: 264.3179 - accuracy: 0.8710 - val_loss: 178.7521 - val_accuracy: 0.8957\n",
      "Epoch 5/10\n",
      "5333/5333 [==============================] - 17s 3ms/step - loss: 249.4189 - accuracy: 0.8687 - val_loss: 296.3219 - val_accuracy: 0.8988\n",
      "Epoch 6/10\n",
      "5333/5333 [==============================] - 17s 3ms/step - loss: 241.0326 - accuracy: 0.8708 - val_loss: 176.2217 - val_accuracy: 0.8960\n",
      "Epoch 7/10\n",
      "5333/5333 [==============================] - 17s 3ms/step - loss: 227.3559 - accuracy: 0.8699 - val_loss: 141.0587 - val_accuracy: 0.8960\n",
      "Epoch 8/10\n",
      "5333/5333 [==============================] - 17s 3ms/step - loss: 226.7458 - accuracy: 0.8681 - val_loss: 193.2487 - val_accuracy: 0.8960\n",
      "Epoch 9/10\n",
      "5333/5333 [==============================] - 17s 3ms/step - loss: 212.2028 - accuracy: 0.8688 - val_loss: 246.6527 - val_accuracy: 0.8983\n",
      "Epoch 10/10\n",
      "5333/5333 [==============================] - 17s 3ms/step - loss: 188.4111 - accuracy: 0.8704 - val_loss: 37.3315 - val_accuracy: 0.8780\n"
     ]
    }
   ],
   "source": [
    "epochs, batch_size = 10, 128\n",
    "history = model.fit(X_train, y_train_hot, epochs=epochs, batch_size=batch_size, verbose=1, validation_data=(X_val, y_val_hot), shuffle=True)"
   ]
  },
  {
   "cell_type": "code",
   "execution_count": 19,
   "id": "c58bc83b-b21f-42f0-8485-a72adc2beec3",
   "metadata": {},
   "outputs": [
    {
     "data": {
      "text/plain": [
       "<matplotlib.legend.Legend at 0x26cda513940>"
      ]
     },
     "execution_count": 19,
     "metadata": {},
     "output_type": "execute_result"
    },
    {
     "data": {
      "image/png": "[encoded data removed]",
      "text/plain": [
       "<Figure size 640x480 with 1 Axes>"
      ]
     },
     "metadata": {},
     "output_type": "display_data"
    }
   ],
   "source": [
    "plt.plot(history.history['loss'])\n",
    "plt.plot(history.history['val_loss'])\n",
    "plt.title('model loss')\n",
    "plt.ylabel('loss')\n",
    "plt.xlabel('epoch')\n",
    "plt.legend(['train', 'Validation'], loc='upper left')"
   ]
  },
  {
   "cell_type": "code",
   "execution_count": 20,
   "id": "af0d0e34-a05b-4afb-8771-f77c838e33ee",
   "metadata": {},
   "outputs": [
    {
     "data": {
      "text/plain": [
       "<matplotlib.legend.Legend at 0x26cb250a590>"
      ]
     },
     "execution_count": 20,
     "metadata": {},
     "output_type": "execute_result"
    },
    {
     "data": {
      "image/png": "[encoded data removed]",
      "text/plain": [
       "<Figure size 640x480 with 1 Axes>"
      ]
     },
     "metadata": {},
     "output_type": "display_data"
    }
   ],
   "source": [
    "plt.plot(history.history['accuracy'])\n",
    "plt.plot(history.history['val_accuracy'])\n",
    "plt.title('Training and validation accuracy')\n",
    "plt.ylabel('accuracy')\n",
    "plt.xlabel('epoch')\n",
    "plt.legend(['train', 'Validation'], loc='upper left')"
   ]
  },
  {
   "cell_type": "code",
   "execution_count": 21,
   "id": "2eb87aa5-1ad6-4688-bf22-dac3f0455329",
   "metadata": {},
   "outputs": [
    {
     "name": "stdout",
     "output_type": "stream",
     "text": [
      "6667/6667 [==============================] - 6s 904us/step\n",
      "f1_score =  0.8545097502590632\n",
      "0.8791153155602642\n",
      "              precision    recall  f1-score   support\n",
      "\n",
      "           0       0.91      0.97      0.94    191937\n",
      "           1       0.24      0.09      0.13     21382\n",
      "\n",
      "    accuracy                           0.88    213319\n",
      "   macro avg       0.57      0.53      0.53    213319\n",
      "weighted avg       0.84      0.88      0.85    213319\n",
      "\n"
     ]
    },
    {
     "data": {
      "text/plain": [
       "<Axes: >"
      ]
     },
     "execution_count": 21,
     "metadata": {},
     "output_type": "execute_result"
    },
    {
     "data": {
      "image/png": "[encoded data removed]",
      "text/plain": [
       "<Figure size 640x480 with 2 Axes>"
      ]
     },
     "metadata": {},
     "output_type": "display_data"
    }
   ],
   "source": [
    "from sklearn.metrics import confusion_matrix,classification_report,accuracy_score\n",
    "\n",
    "y_pred=model.predict(X_test)\n",
    "y_pred = np.argmax(y_pred, axis=-1)\n",
    "y_true = np.argmax(y_test_hot, axis=-1)\n",
    "\n",
    "LABELS = ['No_Freeze','Freeze']\n",
    "cm=confusion_matrix(y_true,y_pred)\n",
    "\n",
    "#print(cm)\n",
    "print('f1_score = ', f1_score(y_true, y_pred, average='weighted'))\n",
    "print(accuracy_score(y_true,y_pred))\n",
    "print(classification_report(y_true,y_pred))\n",
    "sns.heatmap(cm, cmap=\"YlGnBu\", xticklabels=LABELS, yticklabels=LABELS, annot=True, fmt = '.2f')"
   ]
  },
  {
   "cell_type": "markdown",
   "id": "bae6f970-ebc9-4d66-af6f-6dd8d9e6a5b3",
   "metadata": {},
   "source": [
    "## RandomUnderSampler를 통해 데이터 밸런싱"
   ]
  },
  {
   "cell_type": "code",
   "execution_count": 25,
   "id": "05ba945c-851c-4ec8-950e-28a329ec9418",
   "metadata": {},
   "outputs": [],
   "source": [
    "undersample = RandomUnderSampler(sampling_strategy='auto', random_state=42)\n",
    "X_resampled, y_resampled = undersample.fit_resample(df.drop('status', axis=1), df['status'])"
   ]
  },
  {
   "cell_type": "code",
   "execution_count": 26,
   "id": "5635673b-ffeb-430b-a2ae-2b0ca882a86a",
   "metadata": {},
   "outputs": [],
   "source": [
    "df = pd.concat([pd.DataFrame(X_resampled, columns=df.drop('status', axis=1).columns),\n",
    "                         pd.DataFrame({'status': y_resampled})], axis=1)"
   ]
  },
  {
   "cell_type": "code",
   "execution_count": 27,
   "id": "81d088b1-d78a-4401-aaf5-21f641727497",
   "metadata": {},
   "outputs": [
    {
     "name": "stdout",
     "output_type": "stream",
     "text": [
      "status\n",
      "0    106909\n",
      "1    106909\n",
      "Name: count, dtype: int64\n"
     ]
    }
   ],
   "source": [
    "print(df['status'].value_counts())"
   ]
  },
  {
   "cell_type": "code",
   "execution_count": 28,
   "id": "76857d25-8775-42f4-83ee-2be17175bbc6",
   "metadata": {},
   "outputs": [
    {
     "data": {
      "text/html": [
       "<div>\n",
       "<style scoped>\n",
       "    .dataframe tbody tr th:only-of-type {\n",
       "        vertical-align: middle;\n",
       "    }\n",
       "\n",
       "    .dataframe tbody tr th {\n",
       "        vertical-align: top;\n",
       "    }\n",
       "\n",
       "    .dataframe thead th {\n",
       "        text-align: right;\n",
       "    }\n",
       "</style>\n",
       "<table border=\"1\" class=\"dataframe\">\n",
       "  <thead>\n",
       "    <tr style=\"text-align: right;\">\n",
       "      <th></th>\n",
       "      <th>TS</th>\n",
       "      <th>Ankel_1</th>\n",
       "      <th>Ankel_2</th>\n",
       "      <th>Ankel_3</th>\n",
       "      <th>Thigh_1</th>\n",
       "      <th>Thigh_2</th>\n",
       "      <th>Thigh_3</th>\n",
       "      <th>Trunk_1</th>\n",
       "      <th>Trunk_2</th>\n",
       "      <th>Trunk_3</th>\n",
       "      <th>User_Number</th>\n",
       "      <th>status</th>\n",
       "    </tr>\n",
       "  </thead>\n",
       "  <tbody>\n",
       "    <tr>\n",
       "      <th>1178539</th>\n",
       "      <td>2385156</td>\n",
       "      <td>-484</td>\n",
       "      <td>833</td>\n",
       "      <td>386</td>\n",
       "      <td>-945</td>\n",
       "      <td>-27</td>\n",
       "      <td>-161</td>\n",
       "      <td>-87</td>\n",
       "      <td>1019</td>\n",
       "      <td>-29</td>\n",
       "      <td>6</td>\n",
       "      <td>0</td>\n",
       "    </tr>\n",
       "    <tr>\n",
       "      <th>1503549</th>\n",
       "      <td>1106281</td>\n",
       "      <td>303</td>\n",
       "      <td>980</td>\n",
       "      <td>138</td>\n",
       "      <td>-563</td>\n",
       "      <td>453</td>\n",
       "      <td>676</td>\n",
       "      <td>-174</td>\n",
       "      <td>971</td>\n",
       "      <td>233</td>\n",
       "      <td>9</td>\n",
       "      <td>0</td>\n",
       "    </tr>\n",
       "    <tr>\n",
       "      <th>1221997</th>\n",
       "      <td>318765</td>\n",
       "      <td>535</td>\n",
       "      <td>990</td>\n",
       "      <td>396</td>\n",
       "      <td>318</td>\n",
       "      <td>722</td>\n",
       "      <td>656</td>\n",
       "      <td>398</td>\n",
       "      <td>923</td>\n",
       "      <td>-184</td>\n",
       "      <td>6</td>\n",
       "      <td>0</td>\n",
       "    </tr>\n",
       "    <tr>\n",
       "      <th>1262699</th>\n",
       "      <td>263687</td>\n",
       "      <td>151</td>\n",
       "      <td>1009</td>\n",
       "      <td>99</td>\n",
       "      <td>27</td>\n",
       "      <td>981</td>\n",
       "      <td>171</td>\n",
       "      <td>29</td>\n",
       "      <td>1019</td>\n",
       "      <td>-29</td>\n",
       "      <td>7</td>\n",
       "      <td>0</td>\n",
       "    </tr>\n",
       "    <tr>\n",
       "      <th>803915</th>\n",
       "      <td>2881171</td>\n",
       "      <td>-202</td>\n",
       "      <td>1352</td>\n",
       "      <td>29</td>\n",
       "      <td>436</td>\n",
       "      <td>1101</td>\n",
       "      <td>30</td>\n",
       "      <td>19</td>\n",
       "      <td>1104</td>\n",
       "      <td>-97</td>\n",
       "      <td>4</td>\n",
       "      <td>0</td>\n",
       "    </tr>\n",
       "  </tbody>\n",
       "</table>\n",
       "</div>"
      ],
      "text/plain": [
       "              TS   Ankel_1  Ankel_2  Ankel_3  Thigh_1  Thigh_2  Thigh_3  \\\n",
       "1178539  2385156      -484      833      386     -945      -27     -161   \n",
       "1503549  1106281       303      980      138     -563      453      676   \n",
       "1221997   318765       535      990      396      318      722      656   \n",
       "1262699   263687       151     1009       99       27      981      171   \n",
       "803915   2881171      -202     1352       29      436     1101       30   \n",
       "\n",
       "         Trunk_1  Trunk_2  Trunk_3  User_Number  status  \n",
       "1178539      -87     1019      -29            6       0  \n",
       "1503549     -174      971      233            9       0  \n",
       "1221997      398      923     -184            6       0  \n",
       "1262699       29     1019      -29            7       0  \n",
       "803915        19     1104      -97            4       0  "
      ]
     },
     "execution_count": 28,
     "metadata": {},
     "output_type": "execute_result"
    }
   ],
   "source": [
    "df.head()"
   ]
  },
  {
   "cell_type": "code",
   "execution_count": 29,
   "id": "9fba43f8-8faf-4780-914c-0386c76ae8a1",
   "metadata": {},
   "outputs": [
    {
     "name": "stderr",
     "output_type": "stream",
     "text": [
      "I:\\anaconda3\\envs\\test01\\lib\\site-packages\\seaborn\\_base.py:948: FutureWarning: When grouping with a length-1 list-like, you will need to pass a length-1 tuple to get_group in a future version of pandas. Pass `(name,)` instead of `name` to silence this warning.\n",
      "  data_subset = grouped_data.get_group(pd_key)\n",
      "I:\\anaconda3\\envs\\test01\\lib\\site-packages\\seaborn\\_base.py:948: FutureWarning: When grouping with a length-1 list-like, you will need to pass a length-1 tuple to get_group in a future version of pandas. Pass `(name,)` instead of `name` to silence this warning.\n",
      "  data_subset = grouped_data.get_group(pd_key)\n"
     ]
    },
    {
     "data": {
      "image/png": "[encoded data removed]",
      "text/plain": [
       "<Figure size 1800x600 with 1 Axes>"
      ]
     },
     "metadata": {},
     "output_type": "display_data"
    }
   ],
   "source": [
    "plt.figure(figsize=(18, 6))\n",
    "sns.countplot(x = \"User_Number\", hue=\"status\", data = df,\n",
    "              order = df.User_Number.value_counts().index)\n",
    "plt.title(\"Records per user\");"
   ]
  },
  {
   "cell_type": "code",
   "execution_count": 30,
   "id": "ac451de0-c14f-4538-b2bf-1db88617cb5c",
   "metadata": {},
   "outputs": [],
   "source": [
    "X = df[['TS', ' Ankel_1', 'Ankel_2', 'Ankel_3', 'Thigh_1', 'Thigh_2', 'Thigh_3',\n",
    "       'Trunk_1', 'Trunk_2', 'Trunk_3']].values\n",
    "y = df['status'].values.reshape(-1, 1)"
   ]
  },
  {
   "cell_type": "code",
   "execution_count": 31,
   "id": "d08803d7-562f-4c83-b608-a50de5c54b2f",
   "metadata": {},
   "outputs": [
    {
     "name": "stdout",
     "output_type": "stream",
     "text": [
      "(136843, 10) (136843, 1)\n",
      "(42764, 10) (42764, 1)\n"
     ]
    }
   ],
   "source": [
    "X_train, X_test,y_train, y_test = train_test_split(X, y, test_size = 0.2, stratify= y)\n",
    "X_train, X_val, y_train, y_val  = train_test_split(X_train, y_train, test_size = 0.2, stratify= y_train )\n",
    "print(X_train.shape, y_train.shape)\n",
    "print(X_test.shape, y_test.shape)"
   ]
  },
  {
   "cell_type": "code",
   "execution_count": 32,
   "id": "b78d2f8c-0c01-4a90-b723-88137a6f3b62",
   "metadata": {},
   "outputs": [],
   "source": [
    "from sklearn.preprocessing import OneHotEncoder\n",
    "\n",
    "enc = OneHotEncoder(handle_unknown=\"ignore\", sparse_output=False)\n",
    "enc.fit(y_train)\n",
    "\n",
    "y_train_hot = enc.transform(y_train) \n",
    "y_test_hot = enc.transform(y_test) \n",
    "y_val_hot = enc.transform(y_val)"
   ]
  },
  {
   "cell_type": "code",
   "execution_count": 33,
   "id": "e853f0ea-2dc6-4615-bc68-7f77080d0048",
   "metadata": {},
   "outputs": [],
   "source": [
    "n_features, n_outputs = X_train.shape[1], y_train_hot.shape[1]"
   ]
  },
  {
   "cell_type": "code",
   "execution_count": 34,
   "id": "8e8c4e13-6420-4d93-8027-5328699b0eae",
   "metadata": {},
   "outputs": [
    {
     "name": "stdout",
     "output_type": "stream",
     "text": [
      "Model: \"sequential_1\"\n",
      "_________________________________________________________________\n",
      " Layer (type)                Output Shape              Param #   \n",
      "=================================================================\n",
      " dense_2 (Dense)             (None, 50)                550       \n",
      "                                                                 \n",
      " flatten_1 (Flatten)         (None, 50)                0         \n",
      "                                                                 \n",
      " dense_3 (Dense)             (None, 2)                 102       \n",
      "                                                                 \n",
      "=================================================================\n",
      "Total params: 652\n",
      "Trainable params: 652\n",
      "Non-trainable params: 0\n",
      "_________________________________________________________________\n"
     ]
    }
   ],
   "source": [
    "model = keras.Sequential()\n",
    "model.add(keras.layers.Dense(50, activation='relu', input_shape=(n_features,)))\n",
    "model.add(Flatten())\n",
    "model.add(Dense(n_outputs, activation='sigmoid'))\n",
    "model.compile(loss='binary_crossentropy', optimizer='adam', metrics=['accuracy'])\n",
    "model.summary()"
   ]
  },
  {
   "cell_type": "code",
   "execution_count": null,
   "id": "9efe07a8-659b-49bd-a918-5a412d8bf20d",
   "metadata": {},
   "outputs": [
    {
     "name": "stdout",
     "output_type": "stream",
     "text": [
      "Epoch 1/10\n",
      "1070/1070 [==============================] - 3s 2ms/step - loss: 959.3997 - accuracy: 0.5638 - val_loss: 301.5555 - val_accuracy: 0.5005\n",
      "Epoch 2/10\n",
      "1070/1070 [==============================] - 2s 2ms/step - loss: 241.5777 - accuracy: 0.5916 - val_loss: 99.8342 - val_accuracy: 0.6760\n",
      "Epoch 3/10\n",
      "1070/1070 [==============================] - 2s 2ms/step - loss: 197.0105 - accuracy: 0.6043 - val_loss: 118.8008 - val_accuracy: 0.6841\n",
      "Epoch 4/10\n",
      "1070/1070 [==============================] - 2s 2ms/step - loss: 233.0651 - accuracy: 0.6005 - val_loss: 308.0711 - val_accuracy: 0.5726\n",
      "Epoch 5/10\n",
      "1070/1070 [==============================] - 2s 2ms/step - loss: 235.9339 - accuracy: 0.6021 - val_loss: 307.0958 - val_accuracy: 0.6045\n",
      "Epoch 6/10\n",
      "1070/1070 [==============================] - 2s 2ms/step - loss: 215.8314 - accuracy: 0.6119 - val_loss: 233.7395 - val_accuracy: 0.5130\n",
      "Epoch 7/10\n",
      " 625/1070 [================>.............] - ETA: 0s - loss: 201.7576 - accuracy: 0.6140"
     ]
    }
   ],
   "source": [
    "epochs, batch_size = 10, 128\n",
    "history = model.fit(X_train, y_train_hot, epochs=epochs, batch_size=batch_size, verbose=1, validation_data=(X_val, y_val_hot), shuffle=True)"
   ]
  },
  {
   "cell_type": "code",
   "execution_count": null,
   "id": "761699b1-6e8c-4afe-8345-f87326242c3a",
   "metadata": {},
   "outputs": [],
   "source": [
    "plt.plot(history.history['loss'])\n",
    "plt.plot(history.history['val_loss'])\n",
    "plt.title('model loss')\n",
    "plt.ylabel('loss')\n",
    "plt.xlabel('epoch')\n",
    "plt.legend(['train', 'Validation'], loc='upper left')"
   ]
  },
  {
   "cell_type": "code",
   "execution_count": null,
   "id": "a61111b6-a0d5-41b7-8e59-26252cf272a2",
   "metadata": {},
   "outputs": [],
   "source": [
    "plt.plot(history.history['accuracy'])\n",
    "plt.plot(history.history['val_accuracy'])\n",
    "plt.title('Training and validation accuracy')\n",
    "plt.ylabel('accuracy')\n",
    "plt.xlabel('epoch')\n",
    "plt.legend(['train', 'Validation'], loc='upper left')"
   ]
  },
  {
   "cell_type": "code",
   "execution_count": null,
   "id": "7ef2b2a6-1b32-4600-84d6-dbfce8b1f837",
   "metadata": {},
   "outputs": [],
   "source": [
    "from sklearn.metrics import confusion_matrix,classification_report,accuracy_score\n",
    "\n",
    "y_pred=model.predict(X_test)\n",
    "y_pred = np.argmax(y_pred, axis=-1)\n",
    "y_true = np.argmax(y_test_hot, axis=-1)\n",
    "\n",
    "LABELS = ['No_Freeze','Freeze']\n",
    "cm=confusion_matrix(y_true,y_pred)\n",
    "\n",
    "#print(cm)\n",
    "print('f1_score = ', f1_score(y_true, y_pred, average='weighted'))\n",
    "print(accuracy_score(y_true,y_pred))\n",
    "print(classification_report(y_true,y_pred))\n",
    "sns.heatmap(cm, cmap=\"YlGnBu\", xticklabels=LABELS, yticklabels=LABELS, annot=True, fmt = '.2f')"
   ]
  },
  {
   "cell_type": "code",
   "execution_count": null,
   "id": "923b95dc-35bb-46c8-b1ed-a254b2c59512",
   "metadata": {},
   "outputs": [],
   "source": []
  }
 ],
 "metadata": {
  "kernelspec": {
   "display_name": "Python 3 (ipykernel)",
   "language": "python",
   "name": "python3"
  },
  "language_info": {
   "codemirror_mode": {
    "name": "ipython",
    "version": 3
   },
   "file_extension": ".py",
   "mimetype": "text/x-python",
   "name": "python",
   "nbconvert_exporter": "python",
   "pygments_lexer": "ipython3",
   "version": "3.10.13"
  }
 },
 "nbformat": 4,
 "nbformat_minor": 5
}
