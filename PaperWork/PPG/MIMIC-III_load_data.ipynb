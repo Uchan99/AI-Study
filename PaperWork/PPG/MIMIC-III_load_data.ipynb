{
 "cells": [
  {
   "cell_type": "markdown",
   "id": "5a75fd94",
   "metadata": {},
   "source": [
    "이 데이터 세트는 비침습적 혈압 예측에 사용되는 MIMIC-III 데이터 세트의 하위 집합입니다. PPG 및 ABP 데이터는 7초 길이의 윈도우(875개 데이터 포인트)로 나뉩니다. 수축기 및 이완기 혈압 값은 ABP 윈도우에서 파생되었습니다. 데이터 세트의 각 샘플은 PPG 신호와 혈압 값, 그리고 고유한 피험자 식별자로 구성됩니다. 이 파일은 세 개의 데이터 세트로 구성됩니다.\n",
    "\n",
    "PPG: 905,400 x 875 크기의 PPG 데이터\n",
    "레이블: 905,400 x 2 크기의 BP 데이터\n",
    "subject_idx: 각 샘플의 피험자 소속(크기 905,400 x 1)"
   ]
  },
  {
   "cell_type": "code",
   "execution_count": 1,
   "id": "e1fe88a5",
   "metadata": {},
   "outputs": [
    {
     "name": "stderr",
     "output_type": "stream",
     "text": [
      "2024-08-13 13:47:23.692035: E tensorflow/compiler/xla/stream_executor/cuda/cuda_dnn.cc:9360] Unable to register cuDNN factory: Attempting to register factory for plugin cuDNN when one has already been registered\n",
      "2024-08-13 13:47:23.692126: E tensorflow/compiler/xla/stream_executor/cuda/cuda_fft.cc:609] Unable to register cuFFT factory: Attempting to register factory for plugin cuFFT when one has already been registered\n",
      "2024-08-13 13:47:23.692169: E tensorflow/compiler/xla/stream_executor/cuda/cuda_blas.cc:1537] Unable to register cuBLAS factory: Attempting to register factory for plugin cuBLAS when one has already been registered\n",
      "2024-08-13 13:47:23.701883: I tensorflow/core/platform/cpu_feature_guard.cc:183] This TensorFlow binary is optimized to use available CPU instructions in performance-critical operations.\n",
      "To enable the following instructions: SSE3 SSE4.1 SSE4.2 AVX, in other operations, rebuild TensorFlow with the appropriate compiler flags.\n"
     ]
    }
   ],
   "source": [
    "import tensorflow as tf\n",
    "from tensorflow import keras\n",
    "from tensorflow.keras import layers, models, Input, Model\n",
    "\n",
    "# cnn model vary kernel size\n",
    "from numpy import mean\n",
    "from numpy import std\n",
    "from numpy import dstack\n",
    "from pandas import read_csv\n",
    "from matplotlib import pyplot\n",
    "\n",
    "from tensorflow.keras.utils import to_categorical\n",
    "import tensorflow.keras\n",
    "\n",
    "from tensorflow.keras.models import Sequential\n",
    "from tensorflow.keras.layers import Conv1D, Dense, Dropout, Flatten, Reshape, LSTM, Conv1D, MaxPooling1D, Bidirectional, ConvLSTM1D, GRU\n",
    "from tensorflow.keras.layers import Input, TimeDistributed, Conv1D, MaxPooling1D, BatchNormalization, GlobalAveragePooling1D, Activation, UpSampling1D\n",
    "from tensorflow.python.keras.utils import np_utils\n",
    "from sklearn.metrics import precision_score, recall_score, f1_score\n",
    "from tensorflow.keras.layers import add, multiply, GlobalAveragePooling1D\n",
    "\n",
    "from typing import Any, Dict, List, Tuple\n",
    "import matplotlib.pyplot as plt\n",
    "import seaborn as sns\n",
    "from keras import  backend as K\n",
    "import numpy as np\n",
    "import pandas as pd\n",
    "from tensorflow.keras.utils import to_categorical\n",
    "import matplotlib.pyplot as plt\n",
    "import seaborn as sns\n"
   ]
  },
  {
   "cell_type": "code",
   "execution_count": 9,
   "id": "72da2bd0",
   "metadata": {},
   "outputs": [
    {
     "name": "stdout",
     "output_type": "stream",
     "text": [
      "Available datasets: ['label', 'ppg', 'subject_idx']\n"
     ]
    }
   ],
   "source": [
    "import h5py\n",
    "\n",
    "# 잠금 없이 파일 열기\n",
    "with h5py.File('MIMIC-III_ppg_dataset.h5', 'r', locking=False) as f:\n",
    "    dataset_names = list(f.keys())\n",
    "    print(\"Available datasets:\", dataset_names)"
   ]
  },
  {
   "cell_type": "code",
   "execution_count": 10,
   "id": "42df5491",
   "metadata": {},
   "outputs": [
    {
     "name": "stdout",
     "output_type": "stream",
     "text": [
      "[[ 98  57]\n",
      " [100  56]\n",
      " [115  60]\n",
      " ...\n",
      " [143  66]\n",
      " [119  63]\n",
      " [146  74]]\n",
      "[[-0.5025518  -0.5326032  -0.5624843  ... -0.28123745 -0.27767116\n",
      "  -0.2727553 ]\n",
      " [-0.32402784 -0.3677722  -0.41105923 ...  0.660843    0.5616221\n",
      "   0.4570674 ]\n",
      " [ 0.0789502  -0.02330504 -0.12383569 ... -0.04361962 -0.03981035\n",
      "  -0.03410682]\n",
      " ...\n",
      " [-0.22356206 -0.27264422 -0.32297283 ... -0.0673175  -0.06447504\n",
      "  -0.06026017]\n",
      " [-0.03491007 -0.1202258  -0.20588434 ...  0.28017786  0.28330782\n",
      "   0.2905485 ]\n",
      " [ 0.38536417  0.43365255  0.48704892 ... -0.30071005 -0.29895812\n",
      "  -0.2964506 ]]\n",
      "[[   0]\n",
      " [   0]\n",
      " [   0]\n",
      " ...\n",
      " [4554]\n",
      " [4554]\n",
      " [4554]]\n"
     ]
    }
   ],
   "source": [
    "# .h5 파일 열기\n",
    "with h5py.File('MIMIC-III_ppg_dataset.h5', 'r', locking=False) as f:\n",
    "    # 특정 데이터셋 불러오기 (예: 'label' 데이터셋)\n",
    "    data_label = f['label'][:]\n",
    "    data_ppg = f['ppg'][:]\n",
    "    data_subject_idx = f['subject_idx'][:]\n",
    "    \n",
    "    print(data_label)\n",
    "    print(data_ppg)\n",
    "    print(data_subject_idx)"
   ]
  },
  {
   "cell_type": "code",
   "execution_count": 11,
   "id": "d01b8687",
   "metadata": {},
   "outputs": [
    {
     "name": "stdout",
     "output_type": "stream",
     "text": [
      "(9054000, 2)\n",
      "(9054000, 875)\n",
      "[[   0]\n",
      " [   0]\n",
      " [   0]\n",
      " ...\n",
      " [4554]\n",
      " [4554]\n",
      " [4554]]\n"
     ]
    }
   ],
   "source": [
    "print(data_label.shape)\n",
    "print(data_ppg.shape)\n",
    "print(data_subject_idx)"
   ]
  },
  {
   "cell_type": "markdown",
   "id": "fb7cad08",
   "metadata": {},
   "source": [
    "data_label 값 중 앞부분은 수축기 혈압(SBP), 뒷 부분은 이완기 혈압(DBP)"
   ]
  },
  {
   "cell_type": "code",
   "execution_count": 12,
   "id": "b1a6c2c2",
   "metadata": {},
   "outputs": [],
   "source": [
    "# 각각의 데이터를 DataFrame으로 변환\n",
    "df_label = pd.DataFrame(data_label, columns=['SBP', 'DBP'])\n",
    "df_ppg = pd.DataFrame(data_ppg)\n",
    "df_subject_idx = pd.DataFrame(data_subject_idx, columns=['subject_idx'])"
   ]
  },
  {
   "cell_type": "code",
   "execution_count": 13,
   "id": "9c63a3f7",
   "metadata": {},
   "outputs": [
    {
     "name": "stdout",
     "output_type": "stream",
     "text": [
      "   subject_idx  SBP  DBP         0         1         2         3         4  \\\n",
      "0            0   98   57 -0.502552 -0.532603 -0.562484 -0.591756 -0.620017   \n",
      "1            0  100   56 -0.324028 -0.367772 -0.411059 -0.453427 -0.494457   \n",
      "2            0  115   60  0.078950 -0.023305 -0.123836 -0.221000 -0.313295   \n",
      "3            0   83   55  0.233394  0.251590  0.267639  0.279521  0.285665   \n",
      "4            0  109   58 -0.173036 -0.190641 -0.208551 -0.226650 -0.244931   \n",
      "\n",
      "          5         6  ...       865       866       867       868       869  \\\n",
      "0 -0.646934 -0.672269  ... -0.257694 -0.267066 -0.274259 -0.279373 -0.282512   \n",
      "1 -0.533794 -0.571164  ...  1.077976  1.055641  1.019408  0.970138  0.908652   \n",
      "2 -0.399417 -0.478317  ... -0.012682 -0.025805 -0.034969 -0.040991 -0.044514   \n",
      "3  0.285092  0.277481  ... -0.217937 -0.226153 -0.233065 -0.238201 -0.241181   \n",
      "4 -0.263568 -0.282928  ... -0.305273 -0.304013 -0.303961 -0.304851 -0.306394   \n",
      "\n",
      "        870       871       872       873       874  \n",
      "0 -0.283788 -0.283321 -0.281237 -0.277671 -0.272755  \n",
      "1  0.835847  0.752798  0.660843  0.561622  0.457067  \n",
      "2 -0.045987 -0.045662 -0.043620 -0.039810 -0.034107  \n",
      "3 -0.241780 -0.239970 -0.235934 -0.230042 -0.222807  \n",
      "4 -0.308315 -0.310368 -0.312341 -0.314045 -0.315297  \n",
      "\n",
      "[5 rows x 878 columns]\n"
     ]
    }
   ],
   "source": [
    "# 세 개의 DataFrame을 하나로 합치기\n",
    "df = pd.concat([df_subject_idx, df_label, df_ppg], axis=1)\n",
    "\n",
    "# 결과 확인\n",
    "print(df.head())"
   ]
  },
  {
   "cell_type": "code",
   "execution_count": null,
   "id": "0b7cd7c6",
   "metadata": {},
   "outputs": [
    {
     "name": "stdout",
     "output_type": "stream",
     "text": [
      "<class 'pandas.core.frame.DataFrame'>\n",
      "RangeIndex: 9054000 entries, 0 to 9053999\n",
      "Columns: 878 entries, subject_idx to 874\n",
      "dtypes: float32(875), int64(3)\n",
      "memory usage: 29.7 GB\n",
      "None\n"
     ]
    }
   ],
   "source": [
    "# 데이터프레임 정보 요약\n",
    "print(df.info())\n",
    "\n",
    "# 데이터프레임의 통계 요약\n",
    "print(df.describe())\n",
    "\n",
    "# 결측치 확인\n",
    "print(df.isnull().sum())"
   ]
  },
  {
   "cell_type": "code",
   "execution_count": null,
   "id": "95316ee1",
   "metadata": {},
   "outputs": [],
   "source": []
  }
 ],
 "metadata": {
  "kernelspec": {
   "display_name": "Python 3.10 (NGC 24.01 / TensorFlow 2.14) on Backend.AI",
   "language": "python",
   "name": "python3"
  },
  "language_info": {
   "codemirror_mode": {
    "name": "ipython",
    "version": 3
   },
   "file_extension": ".py",
   "mimetype": "text/x-python",
   "name": "python",
   "nbconvert_exporter": "python",
   "pygments_lexer": "ipython3",
   "version": "3.10.12"
  }
 },
 "nbformat": 4,
 "nbformat_minor": 5
}
