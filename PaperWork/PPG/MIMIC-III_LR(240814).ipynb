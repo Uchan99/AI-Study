{
 "cells": [
  {
   "cell_type": "markdown",
   "id": "5a75fd94",
   "metadata": {},
   "source": [
    "이 데이터 세트는 비침습적 혈압 예측에 사용되는 MIMIC-III 데이터 세트의 하위 집합입니다. PPG 및 ABP 데이터는 7초 길이의 윈도우(875개 데이터 포인트)로 나뉩니다. 수축기 및 이완기 혈압 값은 ABP 윈도우에서 파생되었습니다. 데이터 세트의 각 샘플은 PPG 신호와 혈압 값, 그리고 고유한 피험자 식별자로 구성됩니다. 이 파일은 세 개의 데이터 세트로 구성됩니다.\n",
    "\n",
    "PPG: 905,400 x 875 크기의 PPG 데이터\n",
    "레이블: 905,400 x 2 크기의 BP 데이터\n",
    "subject_idx: 각 샘플의 피험자 소속(크기 905,400 x 1)"
   ]
  },
  {
   "cell_type": "code",
   "execution_count": 15,
   "id": "e1fe88a5",
   "metadata": {},
   "outputs": [],
   "source": [
    "import tensorflow as tf\n",
    "from tensorflow import keras\n",
    "from tensorflow.keras import layers, models, Input, Model\n",
    "\n",
    "# cnn model vary kernel size\n",
    "from numpy import mean\n",
    "from numpy import std\n",
    "from numpy import dstack\n",
    "from pandas import read_csv\n",
    "from matplotlib import pyplot\n",
    "\n",
    "from tensorflow.keras.utils import to_categorical\n",
    "import tensorflow.keras\n",
    "\n",
    "from tensorflow.keras.models import Sequential\n",
    "from tensorflow.keras.layers import Conv1D, Dense, Dropout, Flatten, Reshape, LSTM, Conv1D, MaxPooling1D, Bidirectional, ConvLSTM1D, GRU\n",
    "from tensorflow.keras.layers import Input, TimeDistributed, Conv1D, MaxPooling1D, BatchNormalization, GlobalAveragePooling1D, Activation, UpSampling1D\n",
    "from tensorflow.python.keras.utils import np_utils\n",
    "from sklearn.metrics import precision_score, recall_score, f1_score\n",
    "from tensorflow.keras.layers import add, multiply, GlobalAveragePooling1D\n",
    "from sklearn.linear_model import LinearRegression\n",
    "\n",
    "from typing import Any, Dict, List, Tuple\n",
    "import matplotlib.pyplot as plt\n",
    "import seaborn as sns\n",
    "from keras import  backend as K\n",
    "import numpy as np\n",
    "import pandas as pd\n",
    "from tensorflow.keras.utils import to_categorical\n",
    "import matplotlib.pyplot as plt\n",
    "import seaborn as sns\n"
   ]
  },
  {
   "cell_type": "code",
   "execution_count": 2,
   "id": "72da2bd0",
   "metadata": {},
   "outputs": [
    {
     "name": "stdout",
     "output_type": "stream",
     "text": [
      "Available datasets: ['label', 'ppg', 'subject_idx']\n"
     ]
    }
   ],
   "source": [
    "import h5py\n",
    "\n",
    "# 잠금 없이 파일 열기\n",
    "with h5py.File('MIMIC-III_ppg_dataset.h5', 'r', locking=False) as f:\n",
    "    dataset_names = list(f.keys())\n",
    "    print(\"Available datasets:\", dataset_names)"
   ]
  },
  {
   "cell_type": "code",
   "execution_count": 3,
   "id": "42df5491",
   "metadata": {},
   "outputs": [
    {
     "name": "stdout",
     "output_type": "stream",
     "text": [
      "[[ 98  57]\n",
      " [100  56]\n",
      " [115  60]\n",
      " ...\n",
      " [143  66]\n",
      " [119  63]\n",
      " [146  74]]\n",
      "[[-0.5025518  -0.5326032  -0.5624843  ... -0.28123745 -0.27767116\n",
      "  -0.2727553 ]\n",
      " [-0.32402784 -0.3677722  -0.41105923 ...  0.660843    0.5616221\n",
      "   0.4570674 ]\n",
      " [ 0.0789502  -0.02330504 -0.12383569 ... -0.04361962 -0.03981035\n",
      "  -0.03410682]\n",
      " ...\n",
      " [-0.22356206 -0.27264422 -0.32297283 ... -0.0673175  -0.06447504\n",
      "  -0.06026017]\n",
      " [-0.03491007 -0.1202258  -0.20588434 ...  0.28017786  0.28330782\n",
      "   0.2905485 ]\n",
      " [ 0.38536417  0.43365255  0.48704892 ... -0.30071005 -0.29895812\n",
      "  -0.2964506 ]]\n",
      "[[   0]\n",
      " [   0]\n",
      " [   0]\n",
      " ...\n",
      " [4554]\n",
      " [4554]\n",
      " [4554]]\n"
     ]
    }
   ],
   "source": [
    "# .h5 파일 열기\n",
    "with h5py.File('MIMIC-III_ppg_dataset.h5', 'r', locking=False) as f:\n",
    "    # 특정 데이터셋 불러오기 (예: 'label' 데이터셋)\n",
    "    data_label = f['label'][:]\n",
    "    data_ppg = f['ppg'][:]\n",
    "    data_subject_idx = f['subject_idx'][:]\n",
    "    \n",
    "    print(data_label)\n",
    "    print(data_ppg)\n",
    "    print(data_subject_idx)"
   ]
  },
  {
   "cell_type": "code",
   "execution_count": 4,
   "id": "d01b8687",
   "metadata": {},
   "outputs": [
    {
     "name": "stdout",
     "output_type": "stream",
     "text": [
      "(9054000, 2)\n",
      "(9054000, 875)\n",
      "[[   0]\n",
      " [   0]\n",
      " [   0]\n",
      " ...\n",
      " [4554]\n",
      " [4554]\n",
      " [4554]]\n"
     ]
    }
   ],
   "source": [
    "print(data_label.shape)\n",
    "print(data_ppg.shape)\n",
    "print(data_subject_idx)"
   ]
  },
  {
   "cell_type": "markdown",
   "id": "fb7cad08",
   "metadata": {},
   "source": [
    "data_label 값 중 앞부분은 수축기 혈압(SBP), 뒷 부분은 이완기 혈압(DBP)"
   ]
  },
  {
   "cell_type": "code",
   "execution_count": 5,
   "id": "b1a6c2c2",
   "metadata": {},
   "outputs": [],
   "source": [
    "# 각각의 데이터를 DataFrame으로 변환\n",
    "df_label = pd.DataFrame(data_label, columns=['SBP', 'DBP'])\n",
    "df_ppg = pd.DataFrame(data_ppg)\n",
    "df_subject_idx = pd.DataFrame(data_subject_idx, columns=['subject_idx'])"
   ]
  },
  {
   "cell_type": "code",
   "execution_count": 6,
   "id": "9c63a3f7",
   "metadata": {},
   "outputs": [
    {
     "name": "stdout",
     "output_type": "stream",
     "text": [
      "   subject_idx  SBP  DBP         0         1         2         3         4  \\\n",
      "0            0   98   57 -0.502552 -0.532603 -0.562484 -0.591756 -0.620017   \n",
      "1            0  100   56 -0.324028 -0.367772 -0.411059 -0.453427 -0.494457   \n",
      "2            0  115   60  0.078950 -0.023305 -0.123836 -0.221000 -0.313295   \n",
      "3            0   83   55  0.233394  0.251590  0.267639  0.279521  0.285665   \n",
      "4            0  109   58 -0.173036 -0.190641 -0.208551 -0.226650 -0.244931   \n",
      "\n",
      "          5         6  ...       865       866       867       868       869  \\\n",
      "0 -0.646934 -0.672269  ... -0.257694 -0.267066 -0.274259 -0.279373 -0.282512   \n",
      "1 -0.533794 -0.571164  ...  1.077976  1.055641  1.019408  0.970138  0.908652   \n",
      "2 -0.399417 -0.478317  ... -0.012682 -0.025805 -0.034969 -0.040991 -0.044514   \n",
      "3  0.285092  0.277481  ... -0.217937 -0.226153 -0.233065 -0.238201 -0.241181   \n",
      "4 -0.263568 -0.282928  ... -0.305273 -0.304013 -0.303961 -0.304851 -0.306394   \n",
      "\n",
      "        870       871       872       873       874  \n",
      "0 -0.283788 -0.283321 -0.281237 -0.277671 -0.272755  \n",
      "1  0.835847  0.752798  0.660843  0.561622  0.457067  \n",
      "2 -0.045987 -0.045662 -0.043620 -0.039810 -0.034107  \n",
      "3 -0.241780 -0.239970 -0.235934 -0.230042 -0.222807  \n",
      "4 -0.308315 -0.310368 -0.312341 -0.314045 -0.315297  \n",
      "\n",
      "[5 rows x 878 columns]\n"
     ]
    }
   ],
   "source": [
    "# 세 개의 DataFrame을 하나로 합치기\n",
    "df = pd.concat([df_subject_idx, df_label, df_ppg], axis=1)\n",
    "\n",
    "# 결과 확인\n",
    "print(df.head())"
   ]
  },
  {
   "cell_type": "code",
   "execution_count": 7,
   "id": "74439eec",
   "metadata": {},
   "outputs": [],
   "source": [
    "# 데이터 샘플링 (예: 10%)\n",
    "df_sample = df.sample(frac=0.1, random_state=42)\n",
    "\n",
    "# 특징과 타겟 설정\n",
    "features = df_sample.drop(['subject_idx', 'SBP', 'DBP'], axis=1)\n",
    "target_sbp = df_sample['SBP']\n",
    "target_dbp = df_sample['DBP']"
   ]
  },
  {
   "cell_type": "code",
   "execution_count": 9,
   "id": "326f807b",
   "metadata": {},
   "outputs": [
    {
     "data": {
      "text/plain": [
       "\"\\nfeatures = df.drop(['subject_idx', 'SBP', 'DBP'], axis=1)  # 'subject_idx', 'SBP', 'DBP'를 제외한 나머지가 특징\\ntarget_sbp = df['SBP']  # SBP 예측\\ntarget_dbp = df['DBP']  # DBP 예측\\n\""
      ]
     },
     "execution_count": 9,
     "metadata": {},
     "output_type": "execute_result"
    }
   ],
   "source": [
    "# 특징(features)과 타겟(target) 변수 설정\n",
    "'''\n",
    "features = df.drop(['subject_idx', 'SBP', 'DBP'], axis=1)  # 'subject_idx', 'SBP', 'DBP'를 제외한 나머지가 특징\n",
    "target_sbp = df['SBP']  # SBP 예측\n",
    "target_dbp = df['DBP']  # DBP 예측\n",
    "'''"
   ]
  },
  {
   "cell_type": "code",
   "execution_count": 11,
   "id": "1cb7e6ff",
   "metadata": {},
   "outputs": [],
   "source": [
    "# 학습 데이터와 테스트 데이터로 분리\n",
    "from sklearn.model_selection import train_test_split\n",
    "X_train_sbp, X_test_sbp, y_train_sbp, y_test_sbp = train_test_split(features, target_sbp, test_size=0.2, random_state=42)\n",
    "X_train_dbp, X_test_dbp, y_train_dbp, y_test_dbp = train_test_split(features, target_dbp, test_size=0.2, random_state=42)"
   ]
  },
  {
   "cell_type": "code",
   "execution_count": 16,
   "id": "c8138a35",
   "metadata": {},
   "outputs": [
    {
     "data": {
      "text/html": [
       "<style>#sk-container-id-1 {color: black;background-color: white;}#sk-container-id-1 pre{padding: 0;}#sk-container-id-1 div.sk-toggleable {background-color: white;}#sk-container-id-1 label.sk-toggleable__label {cursor: pointer;display: block;width: 100%;margin-bottom: 0;padding: 0.3em;box-sizing: border-box;text-align: center;}#sk-container-id-1 label.sk-toggleable__label-arrow:before {content: \"▸\";float: left;margin-right: 0.25em;color: #696969;}#sk-container-id-1 label.sk-toggleable__label-arrow:hover:before {color: black;}#sk-container-id-1 div.sk-estimator:hover label.sk-toggleable__label-arrow:before {color: black;}#sk-container-id-1 div.sk-toggleable__content {max-height: 0;max-width: 0;overflow: hidden;text-align: left;background-color: #f0f8ff;}#sk-container-id-1 div.sk-toggleable__content pre {margin: 0.2em;color: black;border-radius: 0.25em;background-color: #f0f8ff;}#sk-container-id-1 input.sk-toggleable__control:checked~div.sk-toggleable__content {max-height: 200px;max-width: 100%;overflow: auto;}#sk-container-id-1 input.sk-toggleable__control:checked~label.sk-toggleable__label-arrow:before {content: \"▾\";}#sk-container-id-1 div.sk-estimator input.sk-toggleable__control:checked~label.sk-toggleable__label {background-color: #d4ebff;}#sk-container-id-1 div.sk-label input.sk-toggleable__control:checked~label.sk-toggleable__label {background-color: #d4ebff;}#sk-container-id-1 input.sk-hidden--visually {border: 0;clip: rect(1px 1px 1px 1px);clip: rect(1px, 1px, 1px, 1px);height: 1px;margin: -1px;overflow: hidden;padding: 0;position: absolute;width: 1px;}#sk-container-id-1 div.sk-estimator {font-family: monospace;background-color: #f0f8ff;border: 1px dotted black;border-radius: 0.25em;box-sizing: border-box;margin-bottom: 0.5em;}#sk-container-id-1 div.sk-estimator:hover {background-color: #d4ebff;}#sk-container-id-1 div.sk-parallel-item::after {content: \"\";width: 100%;border-bottom: 1px solid gray;flex-grow: 1;}#sk-container-id-1 div.sk-label:hover label.sk-toggleable__label {background-color: #d4ebff;}#sk-container-id-1 div.sk-serial::before {content: \"\";position: absolute;border-left: 1px solid gray;box-sizing: border-box;top: 0;bottom: 0;left: 50%;z-index: 0;}#sk-container-id-1 div.sk-serial {display: flex;flex-direction: column;align-items: center;background-color: white;padding-right: 0.2em;padding-left: 0.2em;position: relative;}#sk-container-id-1 div.sk-item {position: relative;z-index: 1;}#sk-container-id-1 div.sk-parallel {display: flex;align-items: stretch;justify-content: center;background-color: white;position: relative;}#sk-container-id-1 div.sk-item::before, #sk-container-id-1 div.sk-parallel-item::before {content: \"\";position: absolute;border-left: 1px solid gray;box-sizing: border-box;top: 0;bottom: 0;left: 50%;z-index: -1;}#sk-container-id-1 div.sk-parallel-item {display: flex;flex-direction: column;z-index: 1;position: relative;background-color: white;}#sk-container-id-1 div.sk-parallel-item:first-child::after {align-self: flex-end;width: 50%;}#sk-container-id-1 div.sk-parallel-item:last-child::after {align-self: flex-start;width: 50%;}#sk-container-id-1 div.sk-parallel-item:only-child::after {width: 0;}#sk-container-id-1 div.sk-dashed-wrapped {border: 1px dashed gray;margin: 0 0.4em 0.5em 0.4em;box-sizing: border-box;padding-bottom: 0.4em;background-color: white;}#sk-container-id-1 div.sk-label label {font-family: monospace;font-weight: bold;display: inline-block;line-height: 1.2em;}#sk-container-id-1 div.sk-label-container {text-align: center;}#sk-container-id-1 div.sk-container {/* jupyter's `normalize.less` sets `[hidden] { display: none; }` but bootstrap.min.css set `[hidden] { display: none !important; }` so we also need the `!important` here to be able to override the default hidden behavior on the sphinx rendered scikit-learn.org. See: https://github.com/scikit-learn/scikit-learn/issues/21755 */display: inline-block !important;position: relative;}#sk-container-id-1 div.sk-text-repr-fallback {display: none;}</style><div id=\"sk-container-id-1\" class=\"sk-top-container\"><div class=\"sk-text-repr-fallback\"><pre>LinearRegression()</pre><b>In a Jupyter environment, please rerun this cell to show the HTML representation or trust the notebook. <br />On GitHub, the HTML representation is unable to render, please try loading this page with nbviewer.org.</b></div><div class=\"sk-container\" hidden><div class=\"sk-item\"><div class=\"sk-estimator sk-toggleable\"><input class=\"sk-toggleable__control sk-hidden--visually\" id=\"sk-estimator-id-1\" type=\"checkbox\" checked><label for=\"sk-estimator-id-1\" class=\"sk-toggleable__label sk-toggleable__label-arrow\">LinearRegression</label><div class=\"sk-toggleable__content\"><pre>LinearRegression()</pre></div></div></div></div></div>"
      ],
      "text/plain": [
       "LinearRegression()"
      ]
     },
     "execution_count": 16,
     "metadata": {},
     "output_type": "execute_result"
    }
   ],
   "source": [
    "# SBP 회귀 모델\n",
    "from sklearn.linear_model import LinearRegression\n",
    "model_sbp = LinearRegression()\n",
    "model_sbp.fit(X_train_sbp, y_train_sbp)\n",
    "\n",
    "# DBP 회귀 모델\n",
    "model_dbp = LinearRegression()\n",
    "model_dbp.fit(X_train_dbp, y_train_dbp)"
   ]
  },
  {
   "cell_type": "code",
   "execution_count": 18,
   "id": "125f2ba4",
   "metadata": {},
   "outputs": [
    {
     "name": "stdout",
     "output_type": "stream",
     "text": [
      "SBP Mean Squared Error: 580.9122290038129, R^2: -0.0003182634359701897\n",
      "DBP Mean Squared Error: 156.2720063188497, R^2: -0.000467449777701745\n"
     ]
    }
   ],
   "source": [
    "# 예측하기\n",
    "from sklearn.metrics import mean_squared_error, r2_score\n",
    "from sklearn.metrics import confusion_matrix\n",
    "\n",
    "predictions_sbp = model_sbp.predict(X_test_sbp)\n",
    "predictions_dbp = model_dbp.predict(X_test_dbp)\n",
    "\n",
    "# 평가하기\n",
    "mse_sbp = mean_squared_error(y_test_sbp, predictions_sbp)\n",
    "r2_sbp = r2_score(y_test_sbp, predictions_sbp)\n",
    "\n",
    "mse_dbp = mean_squared_error(y_test_dbp, predictions_dbp)\n",
    "r2_dbp = r2_score(y_test_dbp, predictions_dbp)\n",
    "\n",
    "print(f\"SBP Mean Squared Error: {mse_sbp}, R^2: {r2_sbp}\")\n",
    "print(f\"DBP Mean Squared Error: {mse_dbp}, R^2: {r2_dbp}\")"
   ]
  }
 ],
 "metadata": {
  "kernelspec": {
   "display_name": "Python 3.10 (NGC 24.01 / TensorFlow 2.14) on Backend.AI",
   "language": "python",
   "name": "python3"
  },
  "language_info": {
   "codemirror_mode": {
    "name": "ipython",
    "version": 3
   },
   "file_extension": ".py",
   "mimetype": "text/x-python",
   "name": "python",
   "nbconvert_exporter": "python",
   "pygments_lexer": "ipython3",
   "version": "3.10.12"
  }
 },
 "nbformat": 4,
 "nbformat_minor": 5
}
