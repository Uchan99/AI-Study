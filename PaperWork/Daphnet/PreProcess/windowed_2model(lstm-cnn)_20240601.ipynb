{
 "cells": [
  {
   "cell_type": "code",
   "execution_count": 1,
   "id": "40ad79fd",
   "metadata": {},
   "outputs": [
    {
     "name": "stderr",
     "output_type": "stream",
     "text": [
      "2024-06-02 10:26:07.082112: E tensorflow/compiler/xla/stream_executor/cuda/cuda_dnn.cc:9360] Unable to register cuDNN factory: Attempting to register factory for plugin cuDNN when one has already been registered\n",
      "2024-06-02 10:26:07.082186: E tensorflow/compiler/xla/stream_executor/cuda/cuda_fft.cc:609] Unable to register cuFFT factory: Attempting to register factory for plugin cuFFT when one has already been registered\n",
      "2024-06-02 10:26:07.082211: E tensorflow/compiler/xla/stream_executor/cuda/cuda_blas.cc:1537] Unable to register cuBLAS factory: Attempting to register factory for plugin cuBLAS when one has already been registered\n",
      "2024-06-02 10:26:07.089850: I tensorflow/core/platform/cpu_feature_guard.cc:183] This TensorFlow binary is optimized to use available CPU instructions in performance-critical operations.\n",
      "To enable the following instructions: SSE3 SSE4.1 SSE4.2 AVX, in other operations, rebuild TensorFlow with the appropriate compiler flags.\n"
     ]
    }
   ],
   "source": [
    "import numpy as np\n",
    "import tensorflow as tf\n",
    "from tensorflow import keras\n",
    "\n",
    "import pandas as pd\n",
    "import seaborn as sns\n",
    "from pylab import rcParams\n",
    "import matplotlib.pyplot as plt\n",
    "from matplotlib import rc\n",
    "from pandas.plotting import register_matplotlib_converters\n",
    "from sklearn.model_selection import train_test_split\n",
    "from sklearn.metrics import precision_score, recall_score, f1_score\n",
    "\n",
    "from pandas import read_csv, unique\n",
    "\n",
    "import numpy as np\n",
    "import pandas as pd\n",
    "\n",
    "from scipy.interpolate import interp1d\n",
    "from scipy.stats import mode\n",
    "\n",
    "from sklearn.preprocessing import LabelEncoder\n",
    "from sklearn.metrics import classification_report, confusion_matrix, ConfusionMatrixDisplay\n",
    "\n",
    "from tensorflow import stack\n",
    "from tensorflow.keras.utils import to_categorical\n",
    "from keras.models import Sequential\n",
    "from tensorflow.keras.layers import Bidirectional, LSTM, Dropout, Dense\n",
    "from keras.layers import Dense, GlobalAveragePooling1D, BatchNormalization, MaxPool1D, Reshape, Activation\n",
    "from tensorflow.keras.layers import Conv1D, Flatten, Reshape, MaxPooling1D\n",
    "from keras.callbacks import ModelCheckpoint, EarlyStopping\n",
    "import matplotlib.pyplot as plt"
   ]
  },
  {
   "cell_type": "code",
   "execution_count": 2,
   "id": "fd4e04d1",
   "metadata": {},
   "outputs": [],
   "source": [
    "df = pd.read_csv('dataset/windows/windowed_2.csv')"
   ]
  },
  {
   "cell_type": "code",
   "execution_count": 3,
   "id": "8edc6ded",
   "metadata": {
    "scrolled": true
   },
   "outputs": [
    {
     "name": "stdout",
     "output_type": "stream",
     "text": [
      "<class 'pandas.core.frame.DataFrame'>\n",
      "RangeIndex: 810624 entries, 0 to 810623\n",
      "Data columns (total 12 columns):\n",
      " #   Column  Non-Null Count   Dtype \n",
      "---  ------  --------------   ----- \n",
      " 0   time    810624 non-null  int64 \n",
      " 1   A_F     810624 non-null  int64 \n",
      " 2   A_V     810624 non-null  int64 \n",
      " 3   A_L     810624 non-null  int64 \n",
      " 4   L_F     810624 non-null  int64 \n",
      " 5   L_V     810624 non-null  int64 \n",
      " 6   L_L     810624 non-null  int64 \n",
      " 7   T_F     810624 non-null  int64 \n",
      " 8   T_V     810624 non-null  int64 \n",
      " 9   T_L     810624 non-null  int64 \n",
      " 10  Action  810624 non-null  int64 \n",
      " 11  name    810624 non-null  object\n",
      "dtypes: int64(11), object(1)\n",
      "memory usage: 74.2+ MB\n"
     ]
    }
   ],
   "source": [
    "df.info()"
   ]
  },
  {
   "cell_type": "code",
   "execution_count": 4,
   "id": "13c014df",
   "metadata": {},
   "outputs": [],
   "source": [
    "# 'name' 열에서 2, 3번째 숫자를 추출하여 새로운 열 'user_number' 생성\n",
    "df['user_number'] = df['name'].str[1:3]\n",
    "\n",
    "# 'user_number' 열을 int형으로 변환\n",
    "df['user_number'] = df['user_number'].astype(int)\n",
    "\n",
    "# 기존 'name' 열 삭제\n",
    "df.drop(columns=['name'], inplace=True)"
   ]
  },
  {
   "cell_type": "code",
   "execution_count": 5,
   "id": "8ba9ca7c",
   "metadata": {},
   "outputs": [
    {
     "name": "stdout",
     "output_type": "stream",
     "text": [
      "<class 'pandas.core.frame.DataFrame'>\n",
      "RangeIndex: 810624 entries, 0 to 810623\n",
      "Data columns (total 12 columns):\n",
      " #   Column       Non-Null Count   Dtype\n",
      "---  ------       --------------   -----\n",
      " 0   time         810624 non-null  int64\n",
      " 1   A_F          810624 non-null  int64\n",
      " 2   A_V          810624 non-null  int64\n",
      " 3   A_L          810624 non-null  int64\n",
      " 4   L_F          810624 non-null  int64\n",
      " 5   L_V          810624 non-null  int64\n",
      " 6   L_L          810624 non-null  int64\n",
      " 7   T_F          810624 non-null  int64\n",
      " 8   T_V          810624 non-null  int64\n",
      " 9   T_L          810624 non-null  int64\n",
      " 10  Action       810624 non-null  int64\n",
      " 11  user_number  810624 non-null  int64\n",
      "dtypes: int64(12)\n",
      "memory usage: 74.2 MB\n"
     ]
    }
   ],
   "source": [
    "df.info()"
   ]
  },
  {
   "cell_type": "code",
   "execution_count": 6,
   "id": "0f2e2e21",
   "metadata": {},
   "outputs": [
    {
     "data": {
      "text/plain": [
       "(810624, 12)"
      ]
     },
     "execution_count": 6,
     "metadata": {},
     "output_type": "execute_result"
    }
   ],
   "source": [
    "df.shape"
   ]
  },
  {
   "cell_type": "code",
   "execution_count": 7,
   "id": "4b1e15ac",
   "metadata": {},
   "outputs": [
    {
     "data": {
      "text/plain": [
       "0    677184\n",
       "1    103104\n",
       "2     30336\n",
       "Name: Action, dtype: int64"
      ]
     },
     "execution_count": 7,
     "metadata": {},
     "output_type": "execute_result"
    }
   ],
   "source": [
    "df['Action'].value_counts()"
   ]
  },
  {
   "cell_type": "code",
   "execution_count": 8,
   "id": "9b021e86",
   "metadata": {},
   "outputs": [],
   "source": [
    "# status 열에서 값이 0인 행 제거\n",
    "df = df[df['Action'] != 0]\n",
    "\n",
    "# status 열에서 값이 1인 행을 0으로, 값이 2인 행을 1로 바꾸기\n",
    "df['Action'] = df['Action'].replace({1: 0, 2: 1})"
   ]
  },
  {
   "cell_type": "code",
   "execution_count": 9,
   "id": "80ce5534",
   "metadata": {},
   "outputs": [
    {
     "data": {
      "text/plain": [
       "0    103104\n",
       "1     30336\n",
       "Name: Action, dtype: int64"
      ]
     },
     "execution_count": 9,
     "metadata": {},
     "output_type": "execute_result"
    }
   ],
   "source": [
    "df['Action'].value_counts()"
   ]
  },
  {
   "cell_type": "code",
   "execution_count": 10,
   "id": "f6c21d7f",
   "metadata": {},
   "outputs": [
    {
     "data": {
      "image/png": "[encoded data removed]",
      "text/plain": [
       "<Figure size 640x480 with 1 Axes>"
      ]
     },
     "metadata": {},
     "output_type": "display_data"
    }
   ],
   "source": [
    "import pandas as pd\n",
    "import seaborn as sns\n",
    "import matplotlib.pyplot as plt\n",
    "\n",
    "# Assuming 'df' is your DataFrame and '0' is the column name\n",
    "# Ensure the column is of categorical dtype\n",
    "df['Action'] = df['Action'].astype('category')\n",
    "\n",
    "# Now plot\n",
    "sns.countplot(data=df, x=\"Action\")\n",
    "plt.xlabel(\"Action\")\n",
    "plt.ylabel(\"Count\")\n",
    "plt.show()"
   ]
  },
  {
   "cell_type": "code",
   "execution_count": 11,
   "id": "c95718e3",
   "metadata": {},
   "outputs": [],
   "source": [
    "def split_sequence(X, y, n_steps):\n",
    "    X_seq, y_seq = list(), list()\n",
    "    for i in range(len(X) - n_steps + 1):\n",
    "        end_ix = i + n_steps\n",
    "        seq_x = X[i:end_ix]\n",
    "        seq_y = y[end_ix-1]\n",
    "        X_seq.append(seq_x)\n",
    "        y_seq.append(seq_y)\n",
    "    return np.array(X_seq), np.array(y_seq)"
   ]
  },
  {
   "cell_type": "code",
   "execution_count": 12,
   "id": "33c82c46",
   "metadata": {},
   "outputs": [],
   "source": [
    "X = df.drop(columns=['Action']).to_numpy()\n",
    "y = df['Action'].to_numpy()"
   ]
  },
  {
   "cell_type": "code",
   "execution_count": 13,
   "id": "d18daec2",
   "metadata": {},
   "outputs": [],
   "source": [
    "n_steps = 128"
   ]
  },
  {
   "cell_type": "code",
   "execution_count": 14,
   "id": "27362a15",
   "metadata": {},
   "outputs": [],
   "source": [
    "X, y = split_sequence(X, y, n_steps)"
   ]
  },
  {
   "cell_type": "code",
   "execution_count": 15,
   "id": "ff4ddda2",
   "metadata": {},
   "outputs": [
    {
     "data": {
      "text/plain": [
       "array([[1., 0.],\n",
       "       [1., 0.],\n",
       "       [1., 0.],\n",
       "       ...,\n",
       "       [0., 1.],\n",
       "       [0., 1.],\n",
       "       [0., 1.]], dtype=float32)"
      ]
     },
     "execution_count": 15,
     "metadata": {},
     "output_type": "execute_result"
    }
   ],
   "source": [
    "Y = to_categorical(y)\n",
    "Y"
   ]
  },
  {
   "cell_type": "code",
   "execution_count": 16,
   "id": "3e0a4c15",
   "metadata": {},
   "outputs": [],
   "source": [
    "X_train, X_test, y_train, y_test =  train_test_split(X, Y, test_size = 0.2, random_state = 0, stratify = y)"
   ]
  },
  {
   "cell_type": "code",
   "execution_count": 17,
   "id": "ccdf4bff",
   "metadata": {},
   "outputs": [],
   "source": [
    "X_train, X_val, y_train, y_val = train_test_split(X_train,y_train , test_size = 0.2, random_state = 0, stratify = y_train)"
   ]
  },
  {
   "cell_type": "code",
   "execution_count": 18,
   "id": "942a66d9",
   "metadata": {},
   "outputs": [
    {
     "data": {
      "text/plain": [
       "((85320, 128, 11), (26663, 128, 11), (85320, 2), (26663, 2))"
      ]
     },
     "execution_count": 18,
     "metadata": {},
     "output_type": "execute_result"
    }
   ],
   "source": [
    "X_train.shape, X_test.shape, y_train.shape, y_test.shape"
   ]
  },
  {
   "cell_type": "code",
   "execution_count": 19,
   "id": "3629bb16",
   "metadata": {},
   "outputs": [],
   "source": [
    "n_features, n_outputs = X_train.shape[2], y_train.shape[1]"
   ]
  },
  {
   "cell_type": "code",
   "execution_count": 20,
   "id": "636448ff",
   "metadata": {},
   "outputs": [
    {
     "name": "stderr",
     "output_type": "stream",
     "text": [
      "2024-06-02 10:26:18.777033: I tensorflow/core/common_runtime/gpu/gpu_device.cc:1883] Created device /job:localhost/replica:0/task:0/device:GPU:0 with 38698 MB memory:  -> device: 0, name: CUDA GPU, pci bus id: 0000:cc:00.0, compute capability: 8.0\n",
      "2024-06-02 10:26:18.779357: I tensorflow/core/common_runtime/gpu/gpu_device.cc:1883] Created device /job:localhost/replica:0/task:0/device:GPU:1 with 38698 MB memory:  -> device: 1, name: CUDA GPU, pci bus id: 0000:cd:00.0, compute capability: 8.0\n"
     ]
    },
    {
     "name": "stdout",
     "output_type": "stream",
     "text": [
      "Model: \"sequential\"\n",
      "_________________________________________________________________\n",
      " Layer (type)                Output Shape              Param #   \n",
      "=================================================================\n",
      " lstm (LSTM)                 (None, 128, 128)          71680     \n",
      "                                                                 \n",
      " dropout (Dropout)           (None, 128, 128)          0         \n",
      "                                                                 \n",
      " conv1d (Conv1D)             (None, 126, 64)           24640     \n",
      "                                                                 \n",
      " dropout_1 (Dropout)         (None, 126, 64)           0         \n",
      "                                                                 \n",
      " flatten (Flatten)           (None, 8064)              0         \n",
      "                                                                 \n",
      " dense (Dense)               (None, 64)                516160    \n",
      "                                                                 \n",
      " dense_1 (Dense)             (None, 2)                 130       \n",
      "                                                                 \n",
      "=================================================================\n",
      "Total params: 612610 (2.34 MB)\n",
      "Trainable params: 612610 (2.34 MB)\n",
      "Non-trainable params: 0 (0.00 Byte)\n",
      "_________________________________________________________________\n"
     ]
    }
   ],
   "source": [
    "model = Sequential()\n",
    "# RNN layer\n",
    "model.add(LSTM(units = 128, input_shape = (X_train.shape[1], X_train.shape[2]),  return_sequences=True))\n",
    "# Dropout layer\n",
    "model.add(Dropout(0.5))\n",
    "# Dense layer with ReLu\n",
    "\n",
    "model.add(Conv1D(filters=64, kernel_size=3, activation='relu'))\n",
    "model.add(Dropout(0.5))\n",
    "model.add(Flatten())\n",
    "\n",
    "\n",
    "model.add(Dense(units = 64, activation='relu'))\n",
    "# Softmax layer\n",
    "model.add(Dense(y_train.shape[1], activation = 'sigmoid'))\n",
    "# Compile model\n",
    "model.compile(loss='binary_crossentropy', optimizer='adam', metrics=['accuracy'])\n",
    "model.summary()"
   ]
  },
  {
   "cell_type": "code",
   "execution_count": 21,
   "id": "f43849bb",
   "metadata": {},
   "outputs": [
    {
     "name": "stdout",
     "output_type": "stream",
     "text": [
      "X_train type: <class 'numpy.ndarray'>\n",
      "y_train type: <class 'numpy.ndarray'>\n",
      "X_val type: <class 'numpy.ndarray'>\n",
      "y_val type: <class 'numpy.ndarray'>\n"
     ]
    }
   ],
   "source": [
    "print(f\"X_train type: {type(X_train)}\")\n",
    "print(f\"y_train type: {type(y_train)}\")\n",
    "print(f\"X_val type: {type(X_val)}\")\n",
    "print(f\"y_val type: {type(y_val)}\")"
   ]
  },
  {
   "cell_type": "code",
   "execution_count": 22,
   "id": "c40c5954",
   "metadata": {},
   "outputs": [
    {
     "name": "stdout",
     "output_type": "stream",
     "text": [
      "Checking data types...\n",
      "X_train dtype: int64\n",
      "y_train dtype: float32\n",
      "X_val dtype: int64\n",
      "y_val dtype: float32\n"
     ]
    }
   ],
   "source": [
    "# 데이터 타입 확인\n",
    "print(\"Checking data types...\")\n",
    "print(f\"X_train dtype: {X_train.dtype}\")\n",
    "print(f\"y_train dtype: {y_train.dtype}\")\n",
    "print(f\"X_val dtype: {X_val.dtype}\")\n",
    "print(f\"y_val dtype: {y_val.dtype}\")"
   ]
  },
  {
   "cell_type": "code",
   "execution_count": null,
   "id": "346c80cc",
   "metadata": {},
   "outputs": [
    {
     "name": "stdout",
     "output_type": "stream",
     "text": [
      "Epoch 1/50\n"
     ]
    },
    {
     "name": "stderr",
     "output_type": "stream",
     "text": [
      "2024-06-02 10:26:23.107180: I tensorflow/compiler/xla/stream_executor/cuda/cuda_dnn.cc:442] Loaded cuDNN version 8907\n",
      "2024-06-02 10:26:25.019069: I tensorflow/compiler/xla/service/service.cc:168] XLA service 0x7f6b3b858470 initialized for platform CUDA (this does not guarantee that XLA will be used). Devices:\n",
      "2024-06-02 10:26:25.019124: I tensorflow/compiler/xla/service/service.cc:176]   StreamExecutor device (0): CUDA GPU, Compute Capability 8.0\n",
      "2024-06-02 10:26:25.019129: I tensorflow/compiler/xla/service/service.cc:176]   StreamExecutor device (1): CUDA GPU, Compute Capability 8.0\n",
      "2024-06-02 10:26:25.024177: I tensorflow/compiler/mlir/tensorflow/utils/dump_mlir_util.cc:269] disabling MLIR crash reproducer, set env var `MLIR_CRASH_REPRODUCER_DIRECTORY` to enable.\n",
      "2024-06-02 10:26:25.106185: I ./tensorflow/compiler/jit/device_compiler.h:186] Compiled cluster using XLA!  This line is logged at most once for the lifetime of the process.\n"
     ]
    },
    {
     "name": "stdout",
     "output_type": "stream",
     "text": [
      "1334/1334 [==============================] - 21s 12ms/step - loss: 0.5445 - accuracy: 0.7722 - val_loss: 0.5486 - val_accuracy: 0.7724\n",
      "Epoch 2/50\n",
      "1334/1334 [==============================] - 15s 11ms/step - loss: 0.5395 - accuracy: 0.7724 - val_loss: 0.5405 - val_accuracy: 0.7724\n",
      "Epoch 3/50\n",
      "1334/1334 [==============================] - 14s 11ms/step - loss: 0.5383 - accuracy: 0.7724 - val_loss: 0.5407 - val_accuracy: 0.7724\n",
      "Epoch 4/50\n",
      "1334/1334 [==============================] - 15s 11ms/step - loss: 0.5384 - accuracy: 0.7724 - val_loss: 0.5368 - val_accuracy: 0.7724\n",
      "Epoch 5/50\n",
      "1334/1334 [==============================] - 14s 11ms/step - loss: 0.5379 - accuracy: 0.7724 - val_loss: 0.5367 - val_accuracy: 0.7724\n",
      "Epoch 6/50\n",
      "1334/1334 [==============================] - 15s 11ms/step - loss: 0.5378 - accuracy: 0.7724 - val_loss: 0.5366 - val_accuracy: 0.7724\n",
      "Epoch 7/50\n",
      "1334/1334 [==============================] - 15s 11ms/step - loss: 0.5375 - accuracy: 0.7724 - val_loss: 0.5366 - val_accuracy: 0.7724\n",
      "Epoch 8/50\n",
      "1334/1334 [==============================] - 15s 11ms/step - loss: 0.5374 - accuracy: 0.7724 - val_loss: 0.5365 - val_accuracy: 0.7724\n",
      "Epoch 9/50\n",
      "1334/1334 [==============================] - 15s 11ms/step - loss: 0.5374 - accuracy: 0.7724 - val_loss: 0.5364 - val_accuracy: 0.7724\n",
      "Epoch 10/50\n",
      "1334/1334 [==============================] - 14s 11ms/step - loss: 0.5373 - accuracy: 0.7724 - val_loss: 0.5363 - val_accuracy: 0.7724\n",
      "Epoch 11/50\n",
      "1334/1334 [==============================] - 14s 11ms/step - loss: 0.5371 - accuracy: 0.7724 - val_loss: 0.5428 - val_accuracy: 0.7724\n",
      "Epoch 12/50\n",
      "1334/1334 [==============================] - 15s 11ms/step - loss: 0.5370 - accuracy: 0.7724 - val_loss: 0.5371 - val_accuracy: 0.7724\n",
      "Epoch 13/50\n",
      "1334/1334 [==============================] - 15s 11ms/step - loss: 0.5368 - accuracy: 0.7724 - val_loss: 0.5376 - val_accuracy: 0.7724\n",
      "Epoch 14/50\n",
      "1334/1334 [==============================] - 15s 11ms/step - loss: 0.5368 - accuracy: 0.7724 - val_loss: 0.5364 - val_accuracy: 0.7724\n",
      "Epoch 15/50\n",
      "1334/1334 [==============================] - 14s 11ms/step - loss: 0.5367 - accuracy: 0.7724 - val_loss: 0.5367 - val_accuracy: 0.7724\n",
      "Epoch 16/50\n",
      "1334/1334 [==============================] - 15s 11ms/step - loss: 0.5366 - accuracy: 0.7724 - val_loss: 0.5365 - val_accuracy: 0.7724\n",
      "Epoch 17/50\n",
      "1334/1334 [==============================] - 15s 11ms/step - loss: 0.5365 - accuracy: 0.7724 - val_loss: 0.5364 - val_accuracy: 0.7724\n",
      "Epoch 18/50\n",
      "1334/1334 [==============================] - 15s 11ms/step - loss: 0.5364 - accuracy: 0.7724 - val_loss: 0.5363 - val_accuracy: 0.7724\n",
      "Epoch 19/50\n",
      "1334/1334 [==============================] - 15s 11ms/step - loss: 0.5364 - accuracy: 0.7724 - val_loss: 0.5363 - val_accuracy: 0.7724\n",
      "Epoch 20/50\n",
      "1334/1334 [==============================] - 14s 11ms/step - loss: 0.5364 - accuracy: 0.7724 - val_loss: 0.5364 - val_accuracy: 0.7724\n",
      "Epoch 21/50\n",
      "1334/1334 [==============================] - 15s 11ms/step - loss: 0.5363 - accuracy: 0.7724 - val_loss: 0.5363 - val_accuracy: 0.7724\n",
      "Epoch 22/50\n",
      "1334/1334 [==============================] - 14s 11ms/step - loss: 0.5363 - accuracy: 0.7724 - val_loss: 0.5363 - val_accuracy: 0.7724\n",
      "Epoch 23/50\n",
      "1334/1334 [==============================] - 16s 12ms/step - loss: 0.5364 - accuracy: 0.7724 - val_loss: 0.5363 - val_accuracy: 0.7724\n",
      "Epoch 24/50\n",
      "1334/1334 [==============================] - 15s 11ms/step - loss: 0.5363 - accuracy: 0.7724 - val_loss: 0.5363 - val_accuracy: 0.7724\n",
      "Epoch 25/50\n",
      "1334/1334 [==============================] - 15s 11ms/step - loss: 0.5364 - accuracy: 0.7724 - val_loss: 0.5363 - val_accuracy: 0.7724\n",
      "Epoch 26/50\n",
      "1334/1334 [==============================] - 14s 11ms/step - loss: 0.5363 - accuracy: 0.7724 - val_loss: 0.5363 - val_accuracy: 0.7724\n",
      "Epoch 27/50\n",
      "1334/1334 [==============================] - 14s 11ms/step - loss: 0.5363 - accuracy: 0.7724 - val_loss: 0.5363 - val_accuracy: 0.7724\n",
      "Epoch 28/50\n",
      "1334/1334 [==============================] - 15s 11ms/step - loss: 0.5363 - accuracy: 0.7724 - val_loss: 0.5363 - val_accuracy: 0.7724\n",
      "Epoch 29/50\n",
      "1334/1334 [==============================] - 14s 11ms/step - loss: 0.5363 - accuracy: 0.7724 - val_loss: 0.5364 - val_accuracy: 0.7724\n",
      "Epoch 30/50\n",
      "1334/1334 [==============================] - 15s 11ms/step - loss: 0.5363 - accuracy: 0.7724 - val_loss: 0.5363 - val_accuracy: 0.7724\n",
      "Epoch 31/50\n",
      "1334/1334 [==============================] - 15s 11ms/step - loss: 0.5363 - accuracy: 0.7724 - val_loss: 0.5363 - val_accuracy: 0.7724\n",
      "Epoch 32/50\n",
      "1334/1334 [==============================] - 15s 11ms/step - loss: 0.5363 - accuracy: 0.7724 - val_loss: 0.5363 - val_accuracy: 0.7724\n",
      "Epoch 33/50\n",
      "1334/1334 [==============================] - 15s 11ms/step - loss: 0.5364 - accuracy: 0.7724 - val_loss: 0.5363 - val_accuracy: 0.7724\n",
      "Epoch 34/50\n",
      "1334/1334 [==============================] - 15s 11ms/step - loss: 0.5363 - accuracy: 0.7724 - val_loss: 0.5363 - val_accuracy: 0.7724\n",
      "Epoch 35/50\n",
      "1334/1334 [==============================] - 15s 11ms/step - loss: 0.5363 - accuracy: 0.7724 - val_loss: 0.5363 - val_accuracy: 0.7724\n",
      "Epoch 36/50\n",
      "1334/1334 [==============================] - 15s 11ms/step - loss: 0.5363 - accuracy: 0.7724 - val_loss: 0.5364 - val_accuracy: 0.7724\n",
      "Epoch 37/50\n",
      "1334/1334 [==============================] - 14s 11ms/step - loss: 0.5363 - accuracy: 0.7724 - val_loss: 0.5363 - val_accuracy: 0.7724\n",
      "Epoch 38/50\n",
      "1334/1334 [==============================] - 14s 11ms/step - loss: 0.5363 - accuracy: 0.7724 - val_loss: 0.5363 - val_accuracy: 0.7724\n",
      "Epoch 39/50\n",
      "1334/1334 [==============================] - 15s 11ms/step - loss: 0.5363 - accuracy: 0.7724 - val_loss: 0.5363 - val_accuracy: 0.7724\n",
      "Epoch 40/50\n",
      "1334/1334 [==============================] - 14s 11ms/step - loss: 0.5363 - accuracy: 0.7724 - val_loss: 0.5363 - val_accuracy: 0.7724\n",
      "Epoch 41/50\n",
      "1334/1334 [==============================] - 15s 11ms/step - loss: 0.5363 - accuracy: 0.7724 - val_loss: 0.5363 - val_accuracy: 0.7724\n",
      "Epoch 42/50\n",
      "1334/1334 [==============================] - 15s 11ms/step - loss: 0.5363 - accuracy: 0.7724 - val_loss: 0.5363 - val_accuracy: 0.7724\n",
      "Epoch 43/50\n",
      " 582/1334 [============>.................] - ETA: 7s - loss: 0.5365 - accuracy: 0.7723"
     ]
    }
   ],
   "source": [
    "epochs, batch_size = 50, 64\n",
    "history = model.fit(X_train, y_train, epochs=epochs, batch_size=batch_size, verbose=1, validation_data=(X_val, y_val), shuffle=True)"
   ]
  },
  {
   "cell_type": "code",
   "execution_count": null,
   "id": "7e4bc622",
   "metadata": {},
   "outputs": [],
   "source": [
    "plt.plot(history.history['loss'])\n",
    "plt.plot(history.history['val_loss'])\n",
    "plt.title('model loss')\n",
    "plt.ylabel('loss')\n",
    "plt.xlabel('epoch')\n",
    "plt.legend(['train', 'Validation'], loc='upper left')"
   ]
  },
  {
   "cell_type": "code",
   "execution_count": null,
   "id": "3fa1c52b",
   "metadata": {},
   "outputs": [],
   "source": [
    "plt.plot(history.history['accuracy'])\n",
    "plt.plot(history.history['val_accuracy'])\n",
    "plt.title('Training and validation accuracy')\n",
    "plt.ylabel('accuracy')\n",
    "plt.xlabel('epoch')\n",
    "plt.legend(['train', 'Validation'], loc='upper left')"
   ]
  },
  {
   "cell_type": "code",
   "execution_count": null,
   "id": "fe0d75e6",
   "metadata": {},
   "outputs": [],
   "source": [
    "from mlxtend.plotting import plot_confusion_matrix\n",
    "from sklearn.metrics import confusion_matrix, classification_report, accuracy_score, f1_score\n",
    "import numpy as np\n",
    "\n",
    "# 모델 예측\n",
    "predy = model.predict(X_test)\n",
    "predy = np.argmax(predy, axis=-1)\n",
    "y_true = np.argmax(y_test, axis=-1)\n",
    "\n",
    "LABELS = ['No_Freeze', 'Freeze']\n",
    "cm = confusion_matrix(y_true, predy)\n",
    "\n",
    "# 결과 출력\n",
    "print('f1_score = ', f1_score(y_true, predy, average='weighted'))\n",
    "print(accuracy_score(y_true, predy))\n",
    "print(classification_report(y_true, predy))\n",
    "\n",
    "# 혼동 행렬 시각화\n",
    "plot_confusion_matrix(conf_mat=cm, class_names=LABELS, show_normed=True, figsize=(7, 7))"
   ]
  },
  {
   "cell_type": "markdown",
   "id": "4ca98cd1",
   "metadata": {},
   "source": [
    "### SMOTE() 오버 샘플링"
   ]
  },
  {
   "cell_type": "code",
   "execution_count": null,
   "id": "e04e17d6",
   "metadata": {},
   "outputs": [],
   "source": [
    "from imblearn.over_sampling import SMOTE\n",
    "smote = SMOTE(sampling_strategy='auto', random_state=42)\n",
    "X_resampled, y_resampled = smote.fit_resample(df.drop('Action', axis=1), df['Action'])"
   ]
  },
  {
   "cell_type": "code",
   "execution_count": null,
   "id": "93787447",
   "metadata": {},
   "outputs": [],
   "source": [
    "df = pd.concat([pd.DataFrame(X_resampled, columns=df.drop('Action', axis=1).columns),\n",
    "                         pd.DataFrame({'Action': y_resampled})], axis=1)"
   ]
  },
  {
   "cell_type": "code",
   "execution_count": null,
   "id": "6a10ba5b",
   "metadata": {},
   "outputs": [],
   "source": [
    "print(df['Action'].value_counts())"
   ]
  },
  {
   "cell_type": "code",
   "execution_count": null,
   "id": "71062c59",
   "metadata": {},
   "outputs": [],
   "source": [
    "import pandas as pd\n",
    "import seaborn as sns\n",
    "import matplotlib.pyplot as plt\n",
    "\n",
    "# Assuming 'df' is your DataFrame and '0' is the column name\n",
    "# Ensure the column is of categorical dtype\n",
    "df['Action'] = df['Action'].astype('category')\n",
    "\n",
    "# Now plot\n",
    "sns.countplot(data=df, x=\"Action\")\n",
    "plt.xlabel(\"Action\")\n",
    "plt.ylabel(\"Count\")\n",
    "plt.show()"
   ]
  },
  {
   "cell_type": "code",
   "execution_count": null,
   "id": "f7a5da73",
   "metadata": {},
   "outputs": [],
   "source": [
    "X = df.drop(columns=['Action']).to_numpy()\n",
    "y = df['Action'].to_numpy()"
   ]
  },
  {
   "cell_type": "code",
   "execution_count": null,
   "id": "c30ce4dc",
   "metadata": {},
   "outputs": [],
   "source": [
    "X, y = split_sequence(X, y, n_steps)"
   ]
  },
  {
   "cell_type": "code",
   "execution_count": null,
   "id": "e34e2140",
   "metadata": {},
   "outputs": [],
   "source": [
    "Y = to_categorical(y)\n",
    "Y"
   ]
  },
  {
   "cell_type": "code",
   "execution_count": null,
   "id": "801200d8",
   "metadata": {},
   "outputs": [],
   "source": [
    "X_train, X_test, y_train, y_test =  train_test_split(X, Y, test_size = 0.2, random_state = 0, stratify = y)"
   ]
  },
  {
   "cell_type": "code",
   "execution_count": null,
   "id": "2e7cd427",
   "metadata": {},
   "outputs": [],
   "source": [
    "X_train, X_val, y_train, y_val = train_test_split(X_train,y_train , test_size = 0.2, random_state = 0, stratify = y_train)"
   ]
  },
  {
   "cell_type": "code",
   "execution_count": null,
   "id": "2384c49b",
   "metadata": {},
   "outputs": [],
   "source": [
    "X_train.shape, X_test.shape, y_train.shape, y_test.shape"
   ]
  },
  {
   "cell_type": "code",
   "execution_count": null,
   "id": "0d154c1a",
   "metadata": {},
   "outputs": [],
   "source": [
    "n_features, n_outputs = X_train.shape[1], y_train.shape[1]"
   ]
  },
  {
   "cell_type": "code",
   "execution_count": null,
   "id": "591f42d7",
   "metadata": {},
   "outputs": [],
   "source": [
    "model = Sequential()\n",
    "# RNN layer\n",
    "model.add(LSTM(units = 128, input_shape = (X_train.shape[1], X_train.shape[2]),  return_sequences=True))\n",
    "# Dropout layer\n",
    "model.add(Dropout(0.5))\n",
    "# Dense layer with ReLu\n",
    "\n",
    "model.add(Conv1D(filters=64, kernel_size=3, activation='relu'))\n",
    "model.add(Dropout(0.5))\n",
    "model.add(Flatten())\n",
    "\n",
    "\n",
    "model.add(Dense(units = 64, activation='relu'))\n",
    "# Softmax layer\n",
    "model.add(Dense(y_train.shape[1], activation = 'sigmoid'))\n",
    "# Compile model\n",
    "model.compile(loss='binary_crossentropy', optimizer='adam', metrics=['accuracy'])\n",
    "model.summary()"
   ]
  },
  {
   "cell_type": "code",
   "execution_count": null,
   "id": "0923b8ef",
   "metadata": {},
   "outputs": [],
   "source": [
    "epochs, batch_size = 50, 64\n",
    "history = model.fit(X_train, y_train, epochs=epochs, batch_size=batch_size, verbose=1, validation_data=(X_val, y_val), shuffle=True)"
   ]
  },
  {
   "cell_type": "code",
   "execution_count": null,
   "id": "fb486b9b",
   "metadata": {},
   "outputs": [],
   "source": [
    "plt.plot(history.history['loss'])\n",
    "plt.plot(history.history['val_loss'])\n",
    "plt.title('model loss')\n",
    "plt.ylabel('loss')\n",
    "plt.xlabel('epoch')\n",
    "plt.legend(['train', 'Validation'], loc='upper left')"
   ]
  },
  {
   "cell_type": "code",
   "execution_count": null,
   "id": "b0d1583a",
   "metadata": {},
   "outputs": [],
   "source": [
    "plt.plot(history.history['accuracy'])\n",
    "plt.plot(history.history['val_accuracy'])\n",
    "plt.title('Training and validation accuracy')\n",
    "plt.ylabel('accuracy')\n",
    "plt.xlabel('epoch')\n",
    "plt.legend(['train', 'Validation'], loc='upper left')"
   ]
  },
  {
   "cell_type": "code",
   "execution_count": null,
   "id": "ec038f77",
   "metadata": {},
   "outputs": [],
   "source": [
    "from mlxtend.plotting import plot_confusion_matrix\n",
    "from sklearn.metrics import confusion_matrix, classification_report, accuracy_score, f1_score\n",
    "import numpy as np\n",
    "\n",
    "# 모델 예측\n",
    "predy = model.predict(X_test)\n",
    "predy = np.argmax(predy, axis=-1)\n",
    "y_true = np.argmax(y_test, axis=-1)\n",
    "\n",
    "LABELS = ['No_Freeze', 'Freeze']\n",
    "cm = confusion_matrix(y_true, predy)\n",
    "\n",
    "# 결과 출력\n",
    "print('f1_score = ', f1_score(y_true, predy, average='weighted'))\n",
    "print(accuracy_score(y_true, predy))\n",
    "print(classification_report(y_true, predy))\n",
    "\n",
    "# 혼동 행렬 시각화\n",
    "plot_confusion_matrix(conf_mat=cm, class_names=LABELS, show_normed=True, figsize=(7, 7))"
   ]
  }
 ],
 "metadata": {
  "kernelspec": {
   "display_name": "Python 3.10 (NGC 24.01 / TensorFlow 2.14) on Backend.AI",
   "language": "python",
   "name": "python3"
  },
  "language_info": {
   "codemirror_mode": {
    "name": "ipython",
    "version": 3
   },
   "file_extension": ".py",
   "mimetype": "text/x-python",
   "name": "python",
   "nbconvert_exporter": "python",
   "pygments_lexer": "ipython3",
   "version": "3.10.12"
  }
 },
 "nbformat": 4,
 "nbformat_minor": 5
}
