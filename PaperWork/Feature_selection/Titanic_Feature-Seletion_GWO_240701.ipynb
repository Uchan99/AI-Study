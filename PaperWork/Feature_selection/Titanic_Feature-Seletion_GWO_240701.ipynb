{
 "cells": [
  {
   "cell_type": "code",
   "execution_count": 1,
   "id": "e0cef4ee",
   "metadata": {},
   "outputs": [
    {
     "name": "stdout",
     "output_type": "stream",
     "text": [
      "Defaulting to user installation because normal site-packages is not writeable\n",
      "Requirement already satisfied: seaborn in /home/work/.local/lib/python3.10/site-packages (0.13.2)\n",
      "Requirement already satisfied: numpy!=1.24.0,>=1.20 in /usr/local/lib/python3.10/dist-packages (from seaborn) (1.24.4)\n",
      "Requirement already satisfied: pandas>=1.2 in /usr/local/lib/python3.10/dist-packages (from seaborn) (1.5.3)\n",
      "Requirement already satisfied: matplotlib!=3.6.1,>=3.4 in /usr/local/lib/python3.10/dist-packages (from seaborn) (3.8.3)\n",
      "Requirement already satisfied: contourpy>=1.0.1 in /usr/local/lib/python3.10/dist-packages (from matplotlib!=3.6.1,>=3.4->seaborn) (1.2.0)\n",
      "Requirement already satisfied: cycler>=0.10 in /usr/local/lib/python3.10/dist-packages (from matplotlib!=3.6.1,>=3.4->seaborn) (0.10.0)\n",
      "Requirement already satisfied: fonttools>=4.22.0 in /usr/local/lib/python3.10/dist-packages (from matplotlib!=3.6.1,>=3.4->seaborn) (4.49.0)\n",
      "Requirement already satisfied: kiwisolver>=1.3.1 in /usr/local/lib/python3.10/dist-packages (from matplotlib!=3.6.1,>=3.4->seaborn) (1.4.5)\n",
      "Requirement already satisfied: packaging>=20.0 in /usr/local/lib/python3.10/dist-packages (from matplotlib!=3.6.1,>=3.4->seaborn) (23.2)\n",
      "Requirement already satisfied: pillow>=8 in /usr/local/lib/python3.10/dist-packages (from matplotlib!=3.6.1,>=3.4->seaborn) (10.1.0)\n",
      "Requirement already satisfied: pyparsing>=2.3.1 in /usr/local/lib/python3.10/dist-packages (from matplotlib!=3.6.1,>=3.4->seaborn) (3.1.1)\n",
      "Requirement already satisfied: python-dateutil>=2.7 in /usr/local/lib/python3.10/dist-packages (from matplotlib!=3.6.1,>=3.4->seaborn) (2.8.2)\n",
      "Requirement already satisfied: pytz>=2020.1 in /usr/local/lib/python3.10/dist-packages (from pandas>=1.2->seaborn) (2023.3.post1)\n",
      "Requirement already satisfied: six in /usr/local/lib/python3.10/dist-packages (from cycler>=0.10->matplotlib!=3.6.1,>=3.4->seaborn) (1.16.0)\n",
      "Note: you may need to restart the kernel to use updated packages.\n"
     ]
    }
   ],
   "source": [
    "pip install --upgrade seaborn"
   ]
  },
  {
   "cell_type": "code",
   "execution_count": 1,
   "id": "137fa170",
   "metadata": {},
   "outputs": [],
   "source": [
    "import pandas as pd\n",
    "from sklearn.model_selection import train_test_split\n",
    "from sklearn.preprocessing import StandardScaler\n",
    "from sklearn.linear_model import LogisticRegression\n",
    "from sklearn.model_selection import cross_val_score\n",
    "import numpy as np\n",
    "import random\n",
    "import time\n",
    "import matplotlib.pyplot as plt\n",
    "import seaborn as sns"
   ]
  },
  {
   "cell_type": "code",
   "execution_count": 2,
   "id": "d6582268",
   "metadata": {},
   "outputs": [
    {
     "data": {
      "text/html": [
       "<div>\n",
       "<style scoped>\n",
       "    .dataframe tbody tr th:only-of-type {\n",
       "        vertical-align: middle;\n",
       "    }\n",
       "\n",
       "    .dataframe tbody tr th {\n",
       "        vertical-align: top;\n",
       "    }\n",
       "\n",
       "    .dataframe thead th {\n",
       "        text-align: right;\n",
       "    }\n",
       "</style>\n",
       "<table border=\"1\" class=\"dataframe\">\n",
       "  <thead>\n",
       "    <tr style=\"text-align: right;\">\n",
       "      <th></th>\n",
       "      <th>PassengerId</th>\n",
       "      <th>Survived</th>\n",
       "      <th>Pclass</th>\n",
       "      <th>Name</th>\n",
       "      <th>Sex</th>\n",
       "      <th>Age</th>\n",
       "      <th>SibSp</th>\n",
       "      <th>Parch</th>\n",
       "      <th>Ticket</th>\n",
       "      <th>Fare</th>\n",
       "      <th>Cabin</th>\n",
       "      <th>Embarked</th>\n",
       "    </tr>\n",
       "  </thead>\n",
       "  <tbody>\n",
       "    <tr>\n",
       "      <th>0</th>\n",
       "      <td>1</td>\n",
       "      <td>0</td>\n",
       "      <td>3</td>\n",
       "      <td>Braund, Mr. Owen Harris</td>\n",
       "      <td>male</td>\n",
       "      <td>22.0</td>\n",
       "      <td>1</td>\n",
       "      <td>0</td>\n",
       "      <td>A/5 21171</td>\n",
       "      <td>7.2500</td>\n",
       "      <td>NaN</td>\n",
       "      <td>S</td>\n",
       "    </tr>\n",
       "    <tr>\n",
       "      <th>1</th>\n",
       "      <td>2</td>\n",
       "      <td>1</td>\n",
       "      <td>1</td>\n",
       "      <td>Cumings, Mrs. John Bradley (Florence Briggs Th...</td>\n",
       "      <td>female</td>\n",
       "      <td>38.0</td>\n",
       "      <td>1</td>\n",
       "      <td>0</td>\n",
       "      <td>PC 17599</td>\n",
       "      <td>71.2833</td>\n",
       "      <td>C85</td>\n",
       "      <td>C</td>\n",
       "    </tr>\n",
       "    <tr>\n",
       "      <th>2</th>\n",
       "      <td>3</td>\n",
       "      <td>1</td>\n",
       "      <td>3</td>\n",
       "      <td>Heikkinen, Miss. Laina</td>\n",
       "      <td>female</td>\n",
       "      <td>26.0</td>\n",
       "      <td>0</td>\n",
       "      <td>0</td>\n",
       "      <td>STON/O2. 3101282</td>\n",
       "      <td>7.9250</td>\n",
       "      <td>NaN</td>\n",
       "      <td>S</td>\n",
       "    </tr>\n",
       "    <tr>\n",
       "      <th>3</th>\n",
       "      <td>4</td>\n",
       "      <td>1</td>\n",
       "      <td>1</td>\n",
       "      <td>Futrelle, Mrs. Jacques Heath (Lily May Peel)</td>\n",
       "      <td>female</td>\n",
       "      <td>35.0</td>\n",
       "      <td>1</td>\n",
       "      <td>0</td>\n",
       "      <td>113803</td>\n",
       "      <td>53.1000</td>\n",
       "      <td>C123</td>\n",
       "      <td>S</td>\n",
       "    </tr>\n",
       "    <tr>\n",
       "      <th>4</th>\n",
       "      <td>5</td>\n",
       "      <td>0</td>\n",
       "      <td>3</td>\n",
       "      <td>Allen, Mr. William Henry</td>\n",
       "      <td>male</td>\n",
       "      <td>35.0</td>\n",
       "      <td>0</td>\n",
       "      <td>0</td>\n",
       "      <td>373450</td>\n",
       "      <td>8.0500</td>\n",
       "      <td>NaN</td>\n",
       "      <td>S</td>\n",
       "    </tr>\n",
       "    <tr>\n",
       "      <th>...</th>\n",
       "      <td>...</td>\n",
       "      <td>...</td>\n",
       "      <td>...</td>\n",
       "      <td>...</td>\n",
       "      <td>...</td>\n",
       "      <td>...</td>\n",
       "      <td>...</td>\n",
       "      <td>...</td>\n",
       "      <td>...</td>\n",
       "      <td>...</td>\n",
       "      <td>...</td>\n",
       "      <td>...</td>\n",
       "    </tr>\n",
       "    <tr>\n",
       "      <th>886</th>\n",
       "      <td>887</td>\n",
       "      <td>0</td>\n",
       "      <td>2</td>\n",
       "      <td>Montvila, Rev. Juozas</td>\n",
       "      <td>male</td>\n",
       "      <td>27.0</td>\n",
       "      <td>0</td>\n",
       "      <td>0</td>\n",
       "      <td>211536</td>\n",
       "      <td>13.0000</td>\n",
       "      <td>NaN</td>\n",
       "      <td>S</td>\n",
       "    </tr>\n",
       "    <tr>\n",
       "      <th>887</th>\n",
       "      <td>888</td>\n",
       "      <td>1</td>\n",
       "      <td>1</td>\n",
       "      <td>Graham, Miss. Margaret Edith</td>\n",
       "      <td>female</td>\n",
       "      <td>19.0</td>\n",
       "      <td>0</td>\n",
       "      <td>0</td>\n",
       "      <td>112053</td>\n",
       "      <td>30.0000</td>\n",
       "      <td>B42</td>\n",
       "      <td>S</td>\n",
       "    </tr>\n",
       "    <tr>\n",
       "      <th>888</th>\n",
       "      <td>889</td>\n",
       "      <td>0</td>\n",
       "      <td>3</td>\n",
       "      <td>Johnston, Miss. Catherine Helen \"Carrie\"</td>\n",
       "      <td>female</td>\n",
       "      <td>NaN</td>\n",
       "      <td>1</td>\n",
       "      <td>2</td>\n",
       "      <td>W./C. 6607</td>\n",
       "      <td>23.4500</td>\n",
       "      <td>NaN</td>\n",
       "      <td>S</td>\n",
       "    </tr>\n",
       "    <tr>\n",
       "      <th>889</th>\n",
       "      <td>890</td>\n",
       "      <td>1</td>\n",
       "      <td>1</td>\n",
       "      <td>Behr, Mr. Karl Howell</td>\n",
       "      <td>male</td>\n",
       "      <td>26.0</td>\n",
       "      <td>0</td>\n",
       "      <td>0</td>\n",
       "      <td>111369</td>\n",
       "      <td>30.0000</td>\n",
       "      <td>C148</td>\n",
       "      <td>C</td>\n",
       "    </tr>\n",
       "    <tr>\n",
       "      <th>890</th>\n",
       "      <td>891</td>\n",
       "      <td>0</td>\n",
       "      <td>3</td>\n",
       "      <td>Dooley, Mr. Patrick</td>\n",
       "      <td>male</td>\n",
       "      <td>32.0</td>\n",
       "      <td>0</td>\n",
       "      <td>0</td>\n",
       "      <td>370376</td>\n",
       "      <td>7.7500</td>\n",
       "      <td>NaN</td>\n",
       "      <td>Q</td>\n",
       "    </tr>\n",
       "  </tbody>\n",
       "</table>\n",
       "<p>891 rows × 12 columns</p>\n",
       "</div>"
      ],
      "text/plain": [
       "     PassengerId  Survived  Pclass  \\\n",
       "0              1         0       3   \n",
       "1              2         1       1   \n",
       "2              3         1       3   \n",
       "3              4         1       1   \n",
       "4              5         0       3   \n",
       "..           ...       ...     ...   \n",
       "886          887         0       2   \n",
       "887          888         1       1   \n",
       "888          889         0       3   \n",
       "889          890         1       1   \n",
       "890          891         0       3   \n",
       "\n",
       "                                                  Name     Sex   Age  SibSp  \\\n",
       "0                              Braund, Mr. Owen Harris    male  22.0      1   \n",
       "1    Cumings, Mrs. John Bradley (Florence Briggs Th...  female  38.0      1   \n",
       "2                               Heikkinen, Miss. Laina  female  26.0      0   \n",
       "3         Futrelle, Mrs. Jacques Heath (Lily May Peel)  female  35.0      1   \n",
       "4                             Allen, Mr. William Henry    male  35.0      0   \n",
       "..                                                 ...     ...   ...    ...   \n",
       "886                              Montvila, Rev. Juozas    male  27.0      0   \n",
       "887                       Graham, Miss. Margaret Edith  female  19.0      0   \n",
       "888           Johnston, Miss. Catherine Helen \"Carrie\"  female   NaN      1   \n",
       "889                              Behr, Mr. Karl Howell    male  26.0      0   \n",
       "890                                Dooley, Mr. Patrick    male  32.0      0   \n",
       "\n",
       "     Parch            Ticket     Fare Cabin Embarked  \n",
       "0        0         A/5 21171   7.2500   NaN        S  \n",
       "1        0          PC 17599  71.2833   C85        C  \n",
       "2        0  STON/O2. 3101282   7.9250   NaN        S  \n",
       "3        0            113803  53.1000  C123        S  \n",
       "4        0            373450   8.0500   NaN        S  \n",
       "..     ...               ...      ...   ...      ...  \n",
       "886      0            211536  13.0000   NaN        S  \n",
       "887      0            112053  30.0000   B42        S  \n",
       "888      2        W./C. 6607  23.4500   NaN        S  \n",
       "889      0            111369  30.0000  C148        C  \n",
       "890      0            370376   7.7500   NaN        Q  \n",
       "\n",
       "[891 rows x 12 columns]"
      ]
     },
     "execution_count": 2,
     "metadata": {},
     "output_type": "execute_result"
    }
   ],
   "source": [
    "data = pd.read_csv('titanic.csv')\n",
    "data"
   ]
  },
  {
   "cell_type": "code",
   "execution_count": 3,
   "id": "a8a413c2",
   "metadata": {},
   "outputs": [
    {
     "data": {
      "text/plain": [
       "PassengerId      0\n",
       "Survived         0\n",
       "Pclass           0\n",
       "Name             0\n",
       "Sex              0\n",
       "Age            177\n",
       "SibSp            0\n",
       "Parch            0\n",
       "Ticket           0\n",
       "Fare             0\n",
       "Cabin          687\n",
       "Embarked         2\n",
       "dtype: int64"
      ]
     },
     "execution_count": 3,
     "metadata": {},
     "output_type": "execute_result"
    }
   ],
   "source": [
    "data.isnull().sum()"
   ]
  },
  {
   "cell_type": "code",
   "execution_count": 4,
   "id": "0fefbd8c",
   "metadata": {},
   "outputs": [],
   "source": [
    "data = data[['Survived', 'Pclass', 'Sex', 'Age', 'SibSp', 'Parch', 'Fare', 'Embarked']]"
   ]
  },
  {
   "cell_type": "code",
   "execution_count": 5,
   "id": "fb7a8b16",
   "metadata": {},
   "outputs": [
    {
     "name": "stderr",
     "output_type": "stream",
     "text": [
      "/tmp/ipykernel_961/1690689035.py:1: SettingWithCopyWarning: \n",
      "A value is trying to be set on a copy of a slice from a DataFrame\n",
      "\n",
      "See the caveats in the documentation: https://pandas.pydata.org/pandas-docs/stable/user_guide/indexing.html#returning-a-view-versus-a-copy\n",
      "  data['Age'].fillna(data['Age'].mean(), inplace=True)\n",
      "/tmp/ipykernel_961/1690689035.py:2: SettingWithCopyWarning: \n",
      "A value is trying to be set on a copy of a slice from a DataFrame\n",
      "\n",
      "See the caveats in the documentation: https://pandas.pydata.org/pandas-docs/stable/user_guide/indexing.html#returning-a-view-versus-a-copy\n",
      "  data['Embarked'].fillna(data['Embarked'].mode()[0], inplace=True)\n"
     ]
    }
   ],
   "source": [
    "data['Age'].fillna(data['Age'].mean(), inplace=True)\n",
    "data['Embarked'].fillna(data['Embarked'].mode()[0], inplace=True)"
   ]
  },
  {
   "cell_type": "code",
   "execution_count": 6,
   "id": "e0152a7c",
   "metadata": {},
   "outputs": [
    {
     "data": {
      "text/plain": [
       "Survived    0\n",
       "Pclass      0\n",
       "Sex         0\n",
       "Age         0\n",
       "SibSp       0\n",
       "Parch       0\n",
       "Fare        0\n",
       "Embarked    0\n",
       "dtype: int64"
      ]
     },
     "execution_count": 6,
     "metadata": {},
     "output_type": "execute_result"
    }
   ],
   "source": [
    "data.isnull().sum()"
   ]
  },
  {
   "cell_type": "code",
   "execution_count": 7,
   "id": "a03e9e19",
   "metadata": {},
   "outputs": [
    {
     "data": {
      "text/html": [
       "<div>\n",
       "<style scoped>\n",
       "    .dataframe tbody tr th:only-of-type {\n",
       "        vertical-align: middle;\n",
       "    }\n",
       "\n",
       "    .dataframe tbody tr th {\n",
       "        vertical-align: top;\n",
       "    }\n",
       "\n",
       "    .dataframe thead th {\n",
       "        text-align: right;\n",
       "    }\n",
       "</style>\n",
       "<table border=\"1\" class=\"dataframe\">\n",
       "  <thead>\n",
       "    <tr style=\"text-align: right;\">\n",
       "      <th></th>\n",
       "      <th>Survived</th>\n",
       "      <th>Pclass</th>\n",
       "      <th>Age</th>\n",
       "      <th>SibSp</th>\n",
       "      <th>Parch</th>\n",
       "      <th>Fare</th>\n",
       "      <th>Sex_male</th>\n",
       "      <th>Embarked_Q</th>\n",
       "      <th>Embarked_S</th>\n",
       "    </tr>\n",
       "  </thead>\n",
       "  <tbody>\n",
       "    <tr>\n",
       "      <th>0</th>\n",
       "      <td>0</td>\n",
       "      <td>3</td>\n",
       "      <td>22.0</td>\n",
       "      <td>1</td>\n",
       "      <td>0</td>\n",
       "      <td>7.2500</td>\n",
       "      <td>1</td>\n",
       "      <td>0</td>\n",
       "      <td>1</td>\n",
       "    </tr>\n",
       "    <tr>\n",
       "      <th>1</th>\n",
       "      <td>1</td>\n",
       "      <td>1</td>\n",
       "      <td>38.0</td>\n",
       "      <td>1</td>\n",
       "      <td>0</td>\n",
       "      <td>71.2833</td>\n",
       "      <td>0</td>\n",
       "      <td>0</td>\n",
       "      <td>0</td>\n",
       "    </tr>\n",
       "    <tr>\n",
       "      <th>2</th>\n",
       "      <td>1</td>\n",
       "      <td>3</td>\n",
       "      <td>26.0</td>\n",
       "      <td>0</td>\n",
       "      <td>0</td>\n",
       "      <td>7.9250</td>\n",
       "      <td>0</td>\n",
       "      <td>0</td>\n",
       "      <td>1</td>\n",
       "    </tr>\n",
       "    <tr>\n",
       "      <th>3</th>\n",
       "      <td>1</td>\n",
       "      <td>1</td>\n",
       "      <td>35.0</td>\n",
       "      <td>1</td>\n",
       "      <td>0</td>\n",
       "      <td>53.1000</td>\n",
       "      <td>0</td>\n",
       "      <td>0</td>\n",
       "      <td>1</td>\n",
       "    </tr>\n",
       "    <tr>\n",
       "      <th>4</th>\n",
       "      <td>0</td>\n",
       "      <td>3</td>\n",
       "      <td>35.0</td>\n",
       "      <td>0</td>\n",
       "      <td>0</td>\n",
       "      <td>8.0500</td>\n",
       "      <td>1</td>\n",
       "      <td>0</td>\n",
       "      <td>1</td>\n",
       "    </tr>\n",
       "  </tbody>\n",
       "</table>\n",
       "</div>"
      ],
      "text/plain": [
       "   Survived  Pclass   Age  SibSp  Parch     Fare  Sex_male  Embarked_Q  \\\n",
       "0         0       3  22.0      1      0   7.2500         1           0   \n",
       "1         1       1  38.0      1      0  71.2833         0           0   \n",
       "2         1       3  26.0      0      0   7.9250         0           0   \n",
       "3         1       1  35.0      1      0  53.1000         0           0   \n",
       "4         0       3  35.0      0      0   8.0500         1           0   \n",
       "\n",
       "   Embarked_S  \n",
       "0           1  \n",
       "1           0  \n",
       "2           1  \n",
       "3           1  \n",
       "4           1  "
      ]
     },
     "execution_count": 7,
     "metadata": {},
     "output_type": "execute_result"
    }
   ],
   "source": [
    "data = pd.get_dummies(data, columns=['Sex', 'Embarked'], drop_first=True)\n",
    "data.head()"
   ]
  },
  {
   "cell_type": "code",
   "execution_count": 8,
   "id": "e2658fb0",
   "metadata": {},
   "outputs": [
    {
     "data": {
      "image/png": "[encoded data removed]",
      "text/plain": [
       "<Figure size 1000x1000 with 1 Axes>"
      ]
     },
     "metadata": {},
     "output_type": "display_data"
    }
   ],
   "source": [
    "#상관 관계 행렬\n",
    "df_corr=data.corr()\n",
    "\n",
    "#히트맵\n",
    "plt.figure(figsize=(10,10))\n",
    "sns.set(font_scale=0.8)\n",
    "sns.heatmap(df_corr, annot=True, cbar=False)\n",
    "plt.show()"
   ]
  },
  {
   "cell_type": "code",
   "execution_count": 9,
   "id": "d1916cf9",
   "metadata": {},
   "outputs": [],
   "source": [
    "# 특징과 타겟 분리\n",
    "X = data.drop('Survived', axis=1)\n",
    "y = data['Survived']"
   ]
  },
  {
   "cell_type": "code",
   "execution_count": 10,
   "id": "a0859cf6",
   "metadata": {},
   "outputs": [
    {
     "name": "stdout",
     "output_type": "stream",
     "text": [
      "Index(['Pclass', 'Age', 'SibSp', 'Parch', 'Fare', 'Sex_male', 'Embarked_Q',\n",
      "       'Embarked_S'],\n",
      "      dtype='object')\n"
     ]
    }
   ],
   "source": [
    "feature_names = X.columns\n",
    "print(feature_names)"
   ]
  },
  {
   "cell_type": "code",
   "execution_count": 11,
   "id": "af8518c1",
   "metadata": {},
   "outputs": [],
   "source": [
    "# 데이터 표준화\n",
    "scaler = StandardScaler()\n",
    "X_before = scaler.fit_transform(X)"
   ]
  },
  {
   "cell_type": "code",
   "execution_count": 12,
   "id": "6d7517e4",
   "metadata": {},
   "outputs": [],
   "source": [
    "from sklearn.model_selection import train_test_split\n",
    "\n",
    "X_train, X_test, y_train, y_test = train_test_split(X_before, y,test_size=0.25,random_state=0)"
   ]
  },
  {
   "cell_type": "code",
   "execution_count": 13,
   "id": "848ac74d",
   "metadata": {},
   "outputs": [],
   "source": [
    "from sklearn.linear_model import LogisticRegression\n",
    "from sklearn.svm import SVC\n",
    "from sklearn.neural_network import MLPClassifier\n",
    "from sklearn.tree import DecisionTreeClassifier\n",
    "from sklearn.metrics import accuracy_score\n",
    "from sklearn.metrics import confusion_matrix"
   ]
  },
  {
   "cell_type": "code",
   "execution_count": 14,
   "id": "b1a9793f",
   "metadata": {},
   "outputs": [
    {
     "name": "stdout",
     "output_type": "stream",
     "text": [
      "[0 0 0 1 1 0 1 1 1 1 0 1 0 1 1 1 0 0 0 0 0 1 0 0 1 1 0 1 1 1 0 1 0 0 0 1 0\n",
      " 0 0 0 0 0 0 0 1 0 0 1 0 0 0 1 1 0 1 0 0 0 0 0 0 1 1 1 1 0 1 0 1 1 1 0 1 0\n",
      " 0 1 0 0 0 0 0 0 1 0 0 1 1 0 1 1 0 0 0 1 1 0 1 0 0 1 0 0 0 0 1 0 1 0 0 1 0\n",
      " 1 0 1 0 1 1 1 0 1 0 0 0 0 0 0 0 0 0 0 1 0 0 1 0 0 0 0 0 0 0 1 0 1 1 1 0 1\n",
      " 1 0 0 1 1 0 1 0 1 0 1 1 0 0 1 0 0 0 0 0 0 0 0 1 0 0 1 0 1 0 0 1 0 0 0 0 0\n",
      " 0 1 0 0 1 1 0 1 1 0 0 0 1 0 0 0 1 0 1 0 0 1 0 1 0 0 0 0 1 0 0 0 0 0 1 0 1\n",
      " 1]\n",
      "\n",
      "--- Logistic Regression Classifier ---\n",
      "0.7937219730941704\n",
      "[[116  23]\n",
      " [ 23  61]]\n"
     ]
    }
   ],
   "source": [
    "# Build a logistic regression classifier and predict\n",
    "\n",
    "clf_lr = LogisticRegression(random_state=0)\n",
    "clf_lr.fit(X_train, y_train)\n",
    "\n",
    "pred_lr = clf_lr.predict(X_test)\n",
    "print(pred_lr)\n",
    "\n",
    "print (\"\\n--- Logistic Regression Classifier ---\")\n",
    "print (accuracy_score(y_test, pred_lr))\n",
    "print (confusion_matrix(y_test, pred_lr))"
   ]
  },
  {
   "cell_type": "code",
   "execution_count": 15,
   "id": "bc05206b",
   "metadata": {},
   "outputs": [
    {
     "name": "stdout",
     "output_type": "stream",
     "text": [
      "[[116  23]\n",
      " [ 23  61]]\n",
      "0.7937219730941704\n",
      "0.7937219730941704\n",
      "              precision    recall  f1-score   support\n",
      "\n",
      "           0       0.83      0.83      0.83       139\n",
      "           1       0.73      0.73      0.73        84\n",
      "\n",
      "    accuracy                           0.79       223\n",
      "   macro avg       0.78      0.78      0.78       223\n",
      "weighted avg       0.79      0.79      0.79       223\n",
      "\n"
     ]
    },
    {
     "data": {
      "text/plain": [
       "<Axes: >"
      ]
     },
     "execution_count": 15,
     "metadata": {},
     "output_type": "execute_result"
    },
    {
     "data": {
      "image/png": "[encoded data removed]",
      "text/plain": [
       "<Figure size 640x480 with 2 Axes>"
      ]
     },
     "metadata": {},
     "output_type": "display_data"
    }
   ],
   "source": [
    "from sklearn.metrics import confusion_matrix,classification_report,accuracy_score\n",
    "from sklearn.metrics import precision_score, recall_score, f1_score\n",
    "\n",
    "LABELS = ['Not Survived','Survived']\n",
    "cm=confusion_matrix(y_test,pred_lr)\n",
    "print(cm)\n",
    "print(accuracy_score(y_test,pred_lr))\n",
    "print(f1_score(y_test,pred_lr, average='weighted'))\n",
    "print(classification_report(y_test,pred_lr))\n",
    "sns.heatmap(cm, cmap=\"YlGnBu\", xticklabels=LABELS, yticklabels=LABELS, annot=True, fmt = '.2f')"
   ]
  },
  {
   "cell_type": "markdown",
   "id": "6556f337",
   "metadata": {},
   "source": [
    "# GWO를 이용한 Feature Selection"
   ]
  },
  {
   "cell_type": "code",
   "execution_count": 16,
   "id": "4d537cb4",
   "metadata": {},
   "outputs": [],
   "source": [
    "def objective_function(selected_features):\n",
    "    selected_indices = [i for i, val in enumerate(selected_features) if val > 0.5]\n",
    "    if len(selected_indices) == 0:  # 아무 특성도 선택되지 않은 경우\n",
    "        return 1.0  # 높은 오류 값 반환\n",
    "    \n",
    "    X_selected = X_before[:, selected_indices]\n",
    "    model = LogisticRegression(max_iter=1000)\n",
    "    scores = cross_val_score(model, X_selected, y, cv=5, scoring='accuracy')\n",
    "    return 1 - scores.mean()  # GWO는 최소화를 하므로 1에서 평균 점수를 뺀 값을 반환"
   ]
  },
  {
   "cell_type": "code",
   "execution_count": 17,
   "id": "08e0fbdf",
   "metadata": {},
   "outputs": [
    {
     "name": "stdout",
     "output_type": "stream",
     "text": [
      "GWO is optimizing \"objective_function\"\n",
      "['At iteration 0 the best fitness is 0.20539828008285732']\n",
      "['At iteration 1 the best fitness is 0.20539828008285732']\n",
      "['At iteration 2 the best fitness is 0.20091017513024922']\n",
      "['At iteration 3 the best fitness is 0.20091017513024922']\n",
      "['At iteration 4 the best fitness is 0.20091017513024922']\n",
      "['At iteration 5 the best fitness is 0.20091017513024922']\n",
      "['At iteration 6 the best fitness is 0.20091017513024922']\n",
      "['At iteration 7 the best fitness is 0.20091017513024922']\n",
      "['At iteration 8 the best fitness is 0.20091017513024922']\n",
      "['At iteration 9 the best fitness is 0.20091017513024922']\n",
      "['At iteration 10 the best fitness is 0.20091017513024922']\n",
      "['At iteration 11 the best fitness is 0.20091017513024922']\n",
      "['At iteration 12 the best fitness is 0.20091017513024922']\n",
      "['At iteration 13 the best fitness is 0.20091017513024922']\n",
      "['At iteration 14 the best fitness is 0.20091017513024922']\n",
      "['At iteration 15 the best fitness is 0.20091017513024922']\n",
      "['At iteration 16 the best fitness is 0.20091017513024922']\n",
      "['At iteration 17 the best fitness is 0.20091017513024922']\n",
      "['At iteration 18 the best fitness is 0.20091017513024922']\n",
      "['At iteration 19 the best fitness is 0.20091017513024922']\n",
      "['At iteration 20 the best fitness is 0.20091017513024922']\n",
      "['At iteration 21 the best fitness is 0.20091017513024922']\n",
      "['At iteration 22 the best fitness is 0.20091017513024922']\n",
      "['At iteration 23 the best fitness is 0.20091017513024922']\n",
      "['At iteration 24 the best fitness is 0.20091017513024922']\n",
      "['At iteration 25 the best fitness is 0.20091017513024922']\n",
      "['At iteration 26 the best fitness is 0.20091017513024922']\n",
      "['At iteration 27 the best fitness is 0.20091017513024922']\n",
      "['At iteration 28 the best fitness is 0.20091017513024922']\n",
      "['At iteration 29 the best fitness is 0.20091017513024922']\n",
      "['At iteration 30 the best fitness is 0.20091017513024922']\n",
      "['At iteration 31 the best fitness is 0.20091017513024922']\n",
      "['At iteration 32 the best fitness is 0.20091017513024922']\n",
      "['At iteration 33 the best fitness is 0.20091017513024922']\n",
      "['At iteration 34 the best fitness is 0.20091017513024922']\n",
      "['At iteration 35 the best fitness is 0.20091017513024922']\n",
      "['At iteration 36 the best fitness is 0.20091017513024922']\n",
      "['At iteration 37 the best fitness is 0.20091017513024922']\n",
      "['At iteration 38 the best fitness is 0.20091017513024922']\n",
      "['At iteration 39 the best fitness is 0.20091017513024922']\n",
      "['At iteration 40 the best fitness is 0.20091017513024922']\n",
      "['At iteration 41 the best fitness is 0.20091017513024922']\n",
      "['At iteration 42 the best fitness is 0.20091017513024922']\n",
      "['At iteration 43 the best fitness is 0.20091017513024922']\n",
      "['At iteration 44 the best fitness is 0.20091017513024922']\n",
      "['At iteration 45 the best fitness is 0.20091017513024922']\n",
      "['At iteration 46 the best fitness is 0.20091017513024922']\n",
      "['At iteration 47 the best fitness is 0.20091017513024922']\n",
      "['At iteration 48 the best fitness is 0.20091017513024922']\n",
      "['At iteration 49 the best fitness is 0.20091017513024922']\n",
      "['At iteration 50 the best fitness is 0.20091017513024922']\n",
      "['At iteration 51 the best fitness is 0.20091017513024922']\n",
      "['At iteration 52 the best fitness is 0.20091017513024922']\n",
      "['At iteration 53 the best fitness is 0.20091017513024922']\n",
      "['At iteration 54 the best fitness is 0.20091017513024922']\n",
      "['At iteration 55 the best fitness is 0.20091017513024922']\n",
      "['At iteration 56 the best fitness is 0.20091017513024922']\n",
      "['At iteration 57 the best fitness is 0.20091017513024922']\n",
      "['At iteration 58 the best fitness is 0.20091017513024922']\n",
      "['At iteration 59 the best fitness is 0.20091017513024922']\n",
      "['At iteration 60 the best fitness is 0.20091017513024922']\n",
      "['At iteration 61 the best fitness is 0.20091017513024922']\n",
      "['At iteration 62 the best fitness is 0.20091017513024922']\n",
      "['At iteration 63 the best fitness is 0.20091017513024922']\n",
      "['At iteration 64 the best fitness is 0.20091017513024922']\n",
      "['At iteration 65 the best fitness is 0.20091017513024922']\n",
      "['At iteration 66 the best fitness is 0.20091017513024922']\n",
      "['At iteration 67 the best fitness is 0.20091017513024922']\n",
      "['At iteration 68 the best fitness is 0.20091017513024922']\n",
      "['At iteration 69 the best fitness is 0.20091017513024922']\n",
      "['At iteration 70 the best fitness is 0.20091017513024922']\n",
      "['At iteration 71 the best fitness is 0.20091017513024922']\n",
      "['At iteration 72 the best fitness is 0.20091017513024922']\n",
      "['At iteration 73 the best fitness is 0.20091017513024922']\n",
      "['At iteration 74 the best fitness is 0.20091017513024922']\n",
      "['At iteration 75 the best fitness is 0.20091017513024922']\n",
      "['At iteration 76 the best fitness is 0.20091017513024922']\n",
      "['At iteration 77 the best fitness is 0.20091017513024922']\n",
      "['At iteration 78 the best fitness is 0.20091017513024922']\n",
      "['At iteration 79 the best fitness is 0.20091017513024922']\n",
      "['At iteration 80 the best fitness is 0.20091017513024922']\n",
      "['At iteration 81 the best fitness is 0.20091017513024922']\n",
      "['At iteration 82 the best fitness is 0.20091017513024922']\n",
      "['At iteration 83 the best fitness is 0.20091017513024922']\n",
      "['At iteration 84 the best fitness is 0.20091017513024922']\n",
      "['At iteration 85 the best fitness is 0.20091017513024922']\n",
      "['At iteration 86 the best fitness is 0.20091017513024922']\n",
      "['At iteration 87 the best fitness is 0.20091017513024922']\n",
      "['At iteration 88 the best fitness is 0.20091017513024922']\n",
      "['At iteration 89 the best fitness is 0.20091017513024922']\n",
      "['At iteration 90 the best fitness is 0.20091017513024922']\n",
      "['At iteration 91 the best fitness is 0.20091017513024922']\n",
      "['At iteration 92 the best fitness is 0.20091017513024922']\n",
      "['At iteration 93 the best fitness is 0.20091017513024922']\n",
      "['At iteration 94 the best fitness is 0.20091017513024922']\n",
      "['At iteration 95 the best fitness is 0.20091017513024922']\n",
      "['At iteration 96 the best fitness is 0.20091017513024922']\n",
      "['At iteration 97 the best fitness is 0.20091017513024922']\n",
      "['At iteration 98 the best fitness is 0.20091017513024922']\n",
      "['At iteration 99 the best fitness is 0.20091017513024922']\n",
      "Completed in 28.26280117034912\n",
      "Selected features indices: [0, 2, 5]\n"
     ]
    }
   ],
   "source": [
    "def GWO(objf, dim, SearchAgents_no, Max_iter):\n",
    "    Alpha_pos = np.zeros(dim)\n",
    "    Alpha_score = float(\"inf\")\n",
    "    \n",
    "    Beta_pos = np.zeros(dim)\n",
    "    Beta_score = float(\"inf\")\n",
    "    \n",
    "    Delta_pos = np.zeros(dim)\n",
    "    Delta_score = float(\"inf\")\n",
    "\n",
    "    Positions = np.random.randint(2, size=(SearchAgents_no, dim))\n",
    "    \n",
    "    Convergence_curve = np.zeros(Max_iter)\n",
    "    \n",
    "    print(\"GWO is optimizing \\\"\" + objf.__name__ + \"\\\"\")\n",
    "    timerStart = time.time()\n",
    "    \n",
    "    for l in range(0, Max_iter):\n",
    "        for i in range(0, SearchAgents_no):\n",
    "            fitness = objf(Positions[i, :])\n",
    "            \n",
    "            if fitness < Alpha_score:\n",
    "                Alpha_score = fitness\n",
    "                Alpha_pos = Positions[i, :].copy()\n",
    "            \n",
    "            if (fitness > Alpha_score and fitness < Beta_score):\n",
    "                Beta_score = fitness\n",
    "                Beta_pos = Positions[i, :].copy()\n",
    "            \n",
    "            if (fitness > Alpha_score and fitness > Beta_score and fitness < Delta_score):\n",
    "                Delta_score = fitness\n",
    "                Delta_pos = Positions[i, :].copy()\n",
    "        \n",
    "        a = 2 - l * ((2) / Max_iter)\n",
    "        \n",
    "        for i in range(0, SearchAgents_no):\n",
    "            for j in range(dim):\n",
    "                r1 = random.random()\n",
    "                r2 = random.random()\n",
    "                \n",
    "                A1 = 2 * a * r1 - a\n",
    "                C1 = 2 * r2\n",
    "                \n",
    "                D_alpha = abs(C1 * Alpha_pos[j] - Positions[i, j])\n",
    "                X1 = Alpha_pos[j] - A1 * D_alpha\n",
    "                \n",
    "                r1 = random.random()\n",
    "                r2 = random.random()\n",
    "                \n",
    "                A2 = 2 * a * r1 - a\n",
    "                C2 = 2 * r2\n",
    "                \n",
    "                D_beta = abs(C2 * Beta_pos[j] - Positions[i, j])\n",
    "                X2 = Beta_pos[j] - A2 * D_beta\n",
    "                \n",
    "                r1 = random.random()\n",
    "                r2 = random.random()\n",
    "                \n",
    "                A3 = 2 * a * r1 - a\n",
    "                C3 = 2 * r2\n",
    "                \n",
    "                D_delta = abs(C3 * Delta_pos[j] - Positions[i, j])\n",
    "                X3 = Delta_pos[j] - A3 * D_delta\n",
    "                \n",
    "                Positions[i, j] = (X1 + X2 + X3) / 3 > 0.5  # 바이너리 선택을 위해 임계값 0.5 사용\n",
    "        \n",
    "        Convergence_curve[l] = Alpha_score\n",
    "        \n",
    "        if l % 1 == 0:\n",
    "            print(['At iteration ' + str(l) + ' the best fitness is ' + str(Alpha_score)])\n",
    "    \n",
    "    timerEnd = time.time()\n",
    "    print('Completed in', (timerEnd - timerStart))\n",
    "    \n",
    "    return Alpha_pos\n",
    "\n",
    "# GWO 파라미터 설정\n",
    "dim = X_before.shape[1]  # 특성 수\n",
    "SearchAgents_no = 20  # 탐색 에이전트 수\n",
    "Max_iter = 100  # 최대 반복 횟수\n",
    "\n",
    "# 최적화 수행\n",
    "best_features = GWO(objective_function, dim, SearchAgents_no, Max_iter)\n",
    "selected_indices = [i for i, val in enumerate(best_features) if val > 0.5]\n",
    "print(\"Selected features indices:\", selected_indices)"
   ]
  },
  {
   "cell_type": "code",
   "execution_count": 18,
   "id": "228460cc",
   "metadata": {},
   "outputs": [
    {
     "name": "stdout",
     "output_type": "stream",
     "text": [
      "Index(['Pclass', 'SibSp', 'Sex_male'], dtype='object')\n"
     ]
    }
   ],
   "source": [
    "selected_feature_names = feature_names[selected_indices]\n",
    "print(selected_feature_names)"
   ]
  },
  {
   "cell_type": "markdown",
   "id": "1dbb6c81",
   "metadata": {},
   "source": [
    "# 선택된 Feature들만 사용하여 학습"
   ]
  },
  {
   "cell_type": "code",
   "execution_count": 19,
   "id": "0966e223",
   "metadata": {},
   "outputs": [],
   "source": [
    "X = X[['Pclass', 'SibSp', 'Sex_male']]"
   ]
  },
  {
   "cell_type": "code",
   "execution_count": 20,
   "id": "f632d782",
   "metadata": {},
   "outputs": [],
   "source": [
    "# 데이터 표준화\n",
    "scaler = StandardScaler()\n",
    "X_after = scaler.fit_transform(X)"
   ]
  },
  {
   "cell_type": "code",
   "execution_count": 21,
   "id": "4a01ad93",
   "metadata": {},
   "outputs": [],
   "source": [
    "from sklearn.model_selection import train_test_split\n",
    "\n",
    "X_train, X_test, y_train, y_test = train_test_split(X_after, y,test_size=0.25,random_state=0)"
   ]
  },
  {
   "cell_type": "code",
   "execution_count": 22,
   "id": "d78ad6bd",
   "metadata": {},
   "outputs": [
    {
     "name": "stdout",
     "output_type": "stream",
     "text": [
      "[0 0 0 1 1 0 1 1 0 1 0 1 0 1 1 1 0 0 0 0 0 1 0 0 1 1 0 1 1 0 0 1 0 0 0 0 0\n",
      " 0 0 0 0 0 0 0 1 0 0 1 0 0 0 0 1 0 0 0 0 0 0 0 0 1 1 0 1 0 1 0 1 1 1 0 0 0\n",
      " 0 1 0 0 0 0 0 0 1 0 0 1 1 1 1 0 0 0 0 1 0 0 1 0 0 0 0 0 0 0 1 1 1 1 0 1 0\n",
      " 1 0 1 0 1 1 1 0 1 0 0 0 0 0 0 0 0 0 0 1 0 0 1 0 0 0 1 0 0 0 1 0 1 1 1 0 1\n",
      " 1 0 0 1 1 0 1 0 1 0 1 1 0 0 1 0 0 0 0 0 0 0 0 1 0 0 1 0 1 0 0 1 0 0 0 0 0\n",
      " 0 1 0 0 1 1 0 1 1 0 0 0 1 0 0 0 1 0 1 0 0 1 0 1 0 0 0 0 1 0 0 0 0 1 1 0 1\n",
      " 1]\n",
      "\n",
      "--- Logistic Regression Classifier ---\n",
      "0.7892376681614349\n",
      "[[118  21]\n",
      " [ 26  58]]\n"
     ]
    }
   ],
   "source": [
    "# Build a logistic regression classifier and predict\n",
    "\n",
    "clf_lr = LogisticRegression(random_state=0)\n",
    "clf_lr.fit(X_train, y_train)\n",
    "\n",
    "pred_lr = clf_lr.predict(X_test)\n",
    "print(pred_lr)\n",
    "\n",
    "print (\"\\n--- Logistic Regression Classifier ---\")\n",
    "print (accuracy_score(y_test, pred_lr))\n",
    "print (confusion_matrix(y_test, pred_lr))"
   ]
  },
  {
   "cell_type": "code",
   "execution_count": 23,
   "id": "995da1d8",
   "metadata": {},
   "outputs": [
    {
     "name": "stdout",
     "output_type": "stream",
     "text": [
      "[[118  21]\n",
      " [ 26  58]]\n",
      "0.7892376681614349\n",
      "0.7878669751147275\n",
      "              precision    recall  f1-score   support\n",
      "\n",
      "           0       0.82      0.85      0.83       139\n",
      "           1       0.73      0.69      0.71        84\n",
      "\n",
      "    accuracy                           0.79       223\n",
      "   macro avg       0.78      0.77      0.77       223\n",
      "weighted avg       0.79      0.79      0.79       223\n",
      "\n"
     ]
    },
    {
     "data": {
      "text/plain": [
       "<Axes: >"
      ]
     },
     "execution_count": 23,
     "metadata": {},
     "output_type": "execute_result"
    },
    {
     "data": {
      "image/png": "[encoded data removed]",
      "text/plain": [
       "<Figure size 640x480 with 2 Axes>"
      ]
     },
     "metadata": {},
     "output_type": "display_data"
    }
   ],
   "source": [
    "from sklearn.metrics import confusion_matrix,classification_report,accuracy_score\n",
    "from sklearn.metrics import precision_score, recall_score, f1_score\n",
    "\n",
    "LABELS = ['Not Survived','Survived']\n",
    "cm=confusion_matrix(y_test,pred_lr)\n",
    "print(cm)\n",
    "print(accuracy_score(y_test,pred_lr))\n",
    "print(f1_score(y_test,pred_lr, average='weighted'))\n",
    "print(classification_report(y_test,pred_lr))\n",
    "sns.heatmap(cm, cmap=\"YlGnBu\", xticklabels=LABELS, yticklabels=LABELS, annot=True, fmt = '.2f')"
   ]
  }
 ],
 "metadata": {
  "kernelspec": {
   "display_name": "Python 3.10 (NGC 24.01 / TensorFlow 2.14) on Backend.AI",
   "language": "python",
   "name": "python3"
  },
  "language_info": {
   "codemirror_mode": {
    "name": "ipython",
    "version": 3
   },
   "file_extension": ".py",
   "mimetype": "text/x-python",
   "name": "python",
   "nbconvert_exporter": "python",
   "pygments_lexer": "ipython3",
   "version": "3.10.12"
  }
 },
 "nbformat": 4,
 "nbformat_minor": 5
}
