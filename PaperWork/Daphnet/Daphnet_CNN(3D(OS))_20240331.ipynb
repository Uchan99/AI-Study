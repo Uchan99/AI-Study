{
 "cells": [
  {
   "cell_type": "code",
   "execution_count": 1,
   "id": "a9569106-565f-43a0-9e49-0db3112857bd",
   "metadata": {},
   "outputs": [],
   "source": [
    "import numpy as np\n",
    "import tensorflow as tf\n",
    "from tensorflow import keras\n",
    "\n",
    "import pandas as pd\n",
    "import seaborn as sns\n",
    "from pylab import rcParams\n",
    "import matplotlib.pyplot as plt\n",
    "from matplotlib import rc\n",
    "from pandas.plotting import register_matplotlib_converters\n",
    "from sklearn.model_selection import train_test_split\n",
    "from sklearn.metrics import precision_score, recall_score, f1_score\n",
    "\n",
    "from pandas import read_csv, unique\n",
    "\n",
    "import numpy as np\n",
    "import pandas as pd\n",
    "\n",
    "from scipy.interpolate import interp1d\n",
    "from scipy.stats import mode\n",
    "\n",
    "from sklearn.preprocessing import LabelEncoder\n",
    "from sklearn.metrics import classification_report, confusion_matrix, ConfusionMatrixDisplay\n",
    "\n",
    "from tensorflow import stack\n",
    "from tensorflow.keras.utils import to_categorical\n",
    "from keras.models import Sequential\n",
    "from tensorflow.keras.layers import Bidirectional, LSTM, Dropout, Dense\n",
    "from keras.layers import Dense, GlobalAveragePooling1D, BatchNormalization, MaxPool1D, Reshape, Activation\n",
    "from tensorflow.keras.layers import Conv1D, Flatten, Reshape, MaxPooling1D\n",
    "from keras.callbacks import ModelCheckpoint, EarlyStopping\n",
    "import matplotlib.pyplot as plt\n",
    "from imblearn.over_sampling import SMOTE"
   ]
  },
  {
   "cell_type": "code",
   "execution_count": 2,
   "id": "42ebaea9-9892-4216-b9ab-9ed53b4219a9",
   "metadata": {},
   "outputs": [
    {
     "name": "stdout",
     "output_type": "stream",
     "text": [
      "              TS   Ankel_1  Ankel_2  Ankel_3  Thigh_1  Thigh_2  Thigh_3  \\\n",
      "0             15        70       39     -970        0        0        0   \n",
      "1             31        70       39     -970        0        0        0   \n",
      "2             46        60       49     -960        0        0        0   \n",
      "3             62        60       49     -960        0        0        0   \n",
      "4             78        50       39     -960        0        0        0   \n",
      "...          ...       ...      ...      ...      ...      ...      ...   \n",
      "1798357  3020296      -131      107     -960        0        0        0   \n",
      "1798358  3020312      -121      127     -970        0        0        0   \n",
      "1798359  3020328      -141      117     -960        0        0        0   \n",
      "1798360  3020343      -131      127     -980        0        0        0   \n",
      "1798361  3020359      -141        0        0        0        0        0   \n",
      "\n",
      "         Trunk_1  Trunk_2  Trunk_3  status  User_Number  \n",
      "0              0        0        0       0            1  \n",
      "1              0        0        0       0            1  \n",
      "2              0        0        0       0            1  \n",
      "3              0        0        0       0            1  \n",
      "4              0        0        0       0            1  \n",
      "...          ...      ...      ...     ...          ...  \n",
      "1798357        0        0        0       0           10  \n",
      "1798358        0        0        0       0           10  \n",
      "1798359        0        0        0       0           10  \n",
      "1798360        0        0        0       0           10  \n",
      "1798361        0        0        0       0           10  \n",
      "\n",
      "[1798362 rows x 12 columns]\n"
     ]
    }
   ],
   "source": [
    "import pandas as pd\n",
    "\n",
    "filepath = 'C:/AI_study/dataset/'\n",
    "# Load all 9 files as a list\n",
    "filenames = [\n",
    "    'S01R01.txt', 'S01R02.txt', 'S02R01.txt', 'S02R02.txt', 'S03R01.txt', 'S03R02.txt',\n",
    "    'S03R03.txt', 'S04R01.txt', 'S05R01.txt', 'S05R02.txt', 'S06R01.txt', 'S06R02.txt',\n",
    "    'S07R02.txt', 'S08R01.txt', 'S09R01.txt', 'S10R01.txt'\n",
    "]\n",
    "\n",
    "# Create an empty list to store DataFrames\n",
    "dfs = []\n",
    "\n",
    "# Iterate over each filename, load the CSV file, and append the DataFrame to the list\n",
    "for filename in filenames:\n",
    "    df = pd.read_csv(filepath + filename, sep=\"\\s+\", header=None)\n",
    "    user_number = int(filename[1:3])\n",
    "    df['User_Number'] = user_number\n",
    "    dfs.append(df)\n",
    "\n",
    "# Concatenate all DataFrames in the list into a single DataFrame\n",
    "df = pd.concat(dfs, ignore_index=True)\n",
    "\n",
    "# Set column names\n",
    "columns = \"TS, Ankel_1,Ankel_2,Ankel_3,Thigh_1,Thigh_2,Thigh_3,Trunk_1,Trunk_2,Trunk_3,status,User_Number\".split(\",\")\n",
    "df.columns = columns\n",
    "\n",
    "print(df)"
   ]
  },
  {
   "cell_type": "code",
   "execution_count": 3,
   "id": "02a19c6f-831f-4b3f-bb5e-e3ace6da40d4",
   "metadata": {},
   "outputs": [
    {
     "data": {
      "text/html": [
       "<div>\n",
       "<style scoped>\n",
       "    .dataframe tbody tr th:only-of-type {\n",
       "        vertical-align: middle;\n",
       "    }\n",
       "\n",
       "    .dataframe tbody tr th {\n",
       "        vertical-align: top;\n",
       "    }\n",
       "\n",
       "    .dataframe thead th {\n",
       "        text-align: right;\n",
       "    }\n",
       "</style>\n",
       "<table border=\"1\" class=\"dataframe\">\n",
       "  <thead>\n",
       "    <tr style=\"text-align: right;\">\n",
       "      <th></th>\n",
       "      <th>TS</th>\n",
       "      <th>Ankel_1</th>\n",
       "      <th>Ankel_2</th>\n",
       "      <th>Ankel_3</th>\n",
       "      <th>Thigh_1</th>\n",
       "      <th>Thigh_2</th>\n",
       "      <th>Thigh_3</th>\n",
       "      <th>Trunk_1</th>\n",
       "      <th>Trunk_2</th>\n",
       "      <th>Trunk_3</th>\n",
       "      <th>status</th>\n",
       "      <th>User_Number</th>\n",
       "    </tr>\n",
       "  </thead>\n",
       "  <tbody>\n",
       "    <tr>\n",
       "      <th>0</th>\n",
       "      <td>15</td>\n",
       "      <td>70</td>\n",
       "      <td>39</td>\n",
       "      <td>-970</td>\n",
       "      <td>0</td>\n",
       "      <td>0</td>\n",
       "      <td>0</td>\n",
       "      <td>0</td>\n",
       "      <td>0</td>\n",
       "      <td>0</td>\n",
       "      <td>0</td>\n",
       "      <td>1</td>\n",
       "    </tr>\n",
       "    <tr>\n",
       "      <th>1</th>\n",
       "      <td>31</td>\n",
       "      <td>70</td>\n",
       "      <td>39</td>\n",
       "      <td>-970</td>\n",
       "      <td>0</td>\n",
       "      <td>0</td>\n",
       "      <td>0</td>\n",
       "      <td>0</td>\n",
       "      <td>0</td>\n",
       "      <td>0</td>\n",
       "      <td>0</td>\n",
       "      <td>1</td>\n",
       "    </tr>\n",
       "    <tr>\n",
       "      <th>2</th>\n",
       "      <td>46</td>\n",
       "      <td>60</td>\n",
       "      <td>49</td>\n",
       "      <td>-960</td>\n",
       "      <td>0</td>\n",
       "      <td>0</td>\n",
       "      <td>0</td>\n",
       "      <td>0</td>\n",
       "      <td>0</td>\n",
       "      <td>0</td>\n",
       "      <td>0</td>\n",
       "      <td>1</td>\n",
       "    </tr>\n",
       "    <tr>\n",
       "      <th>3</th>\n",
       "      <td>62</td>\n",
       "      <td>60</td>\n",
       "      <td>49</td>\n",
       "      <td>-960</td>\n",
       "      <td>0</td>\n",
       "      <td>0</td>\n",
       "      <td>0</td>\n",
       "      <td>0</td>\n",
       "      <td>0</td>\n",
       "      <td>0</td>\n",
       "      <td>0</td>\n",
       "      <td>1</td>\n",
       "    </tr>\n",
       "    <tr>\n",
       "      <th>4</th>\n",
       "      <td>78</td>\n",
       "      <td>50</td>\n",
       "      <td>39</td>\n",
       "      <td>-960</td>\n",
       "      <td>0</td>\n",
       "      <td>0</td>\n",
       "      <td>0</td>\n",
       "      <td>0</td>\n",
       "      <td>0</td>\n",
       "      <td>0</td>\n",
       "      <td>0</td>\n",
       "      <td>1</td>\n",
       "    </tr>\n",
       "  </tbody>\n",
       "</table>\n",
       "</div>"
      ],
      "text/plain": [
       "   TS   Ankel_1  Ankel_2  Ankel_3  Thigh_1  Thigh_2  Thigh_3  Trunk_1  \\\n",
       "0  15        70       39     -970        0        0        0        0   \n",
       "1  31        70       39     -970        0        0        0        0   \n",
       "2  46        60       49     -960        0        0        0        0   \n",
       "3  62        60       49     -960        0        0        0        0   \n",
       "4  78        50       39     -960        0        0        0        0   \n",
       "\n",
       "   Trunk_2  Trunk_3  status  User_Number  \n",
       "0        0        0       0            1  \n",
       "1        0        0       0            1  \n",
       "2        0        0       0            1  \n",
       "3        0        0       0            1  \n",
       "4        0        0       0            1  "
      ]
     },
     "execution_count": 3,
     "metadata": {},
     "output_type": "execute_result"
    }
   ],
   "source": [
    "df.head()"
   ]
  },
  {
   "cell_type": "code",
   "execution_count": 4,
   "id": "e15a6e69-d9fd-414b-89ff-c01f6332665a",
   "metadata": {},
   "outputs": [
    {
     "name": "stdout",
     "output_type": "stream",
     "text": [
      "<class 'pandas.core.frame.DataFrame'>\n",
      "RangeIndex: 1798362 entries, 0 to 1798361\n",
      "Data columns (total 12 columns):\n",
      " #   Column       Dtype\n",
      "---  ------       -----\n",
      " 0   TS           int64\n",
      " 1    Ankel_1     int64\n",
      " 2   Ankel_2      int64\n",
      " 3   Ankel_3      int64\n",
      " 4   Thigh_1      int64\n",
      " 5   Thigh_2      int64\n",
      " 6   Thigh_3      int64\n",
      " 7   Trunk_1      int64\n",
      " 8   Trunk_2      int64\n",
      " 9   Trunk_3      int64\n",
      " 10  status       int64\n",
      " 11  User_Number  int64\n",
      "dtypes: int64(12)\n",
      "memory usage: 164.6 MB\n"
     ]
    }
   ],
   "source": [
    "df.info()"
   ]
  },
  {
   "cell_type": "code",
   "execution_count": 5,
   "id": "c1f23f93-ed32-4b55-8e1c-657aaeb12d62",
   "metadata": {},
   "outputs": [
    {
     "data": {
      "text/html": [
       "<div>\n",
       "<style scoped>\n",
       "    .dataframe tbody tr th:only-of-type {\n",
       "        vertical-align: middle;\n",
       "    }\n",
       "\n",
       "    .dataframe tbody tr th {\n",
       "        vertical-align: top;\n",
       "    }\n",
       "\n",
       "    .dataframe thead th {\n",
       "        text-align: right;\n",
       "    }\n",
       "</style>\n",
       "<table border=\"1\" class=\"dataframe\">\n",
       "  <thead>\n",
       "    <tr style=\"text-align: right;\">\n",
       "      <th></th>\n",
       "      <th>TS</th>\n",
       "      <th>Ankel_1</th>\n",
       "      <th>Ankel_2</th>\n",
       "      <th>Ankel_3</th>\n",
       "      <th>Thigh_1</th>\n",
       "      <th>Thigh_2</th>\n",
       "      <th>Thigh_3</th>\n",
       "      <th>Trunk_1</th>\n",
       "      <th>Trunk_2</th>\n",
       "      <th>Trunk_3</th>\n",
       "      <th>status</th>\n",
       "      <th>User_Number</th>\n",
       "    </tr>\n",
       "  </thead>\n",
       "  <tbody>\n",
       "    <tr>\n",
       "      <th>count</th>\n",
       "      <td>1.798362e+06</td>\n",
       "      <td>1.798362e+06</td>\n",
       "      <td>1.798362e+06</td>\n",
       "      <td>1.798362e+06</td>\n",
       "      <td>1.798362e+06</td>\n",
       "      <td>1.798362e+06</td>\n",
       "      <td>1.798362e+06</td>\n",
       "      <td>1.798362e+06</td>\n",
       "      <td>1.798362e+06</td>\n",
       "      <td>1.798362e+06</td>\n",
       "      <td>1.798362e+06</td>\n",
       "      <td>1.798362e+06</td>\n",
       "    </tr>\n",
       "    <tr>\n",
       "      <th>mean</th>\n",
       "      <td>1.077208e+06</td>\n",
       "      <td>-5.840035e+01</td>\n",
       "      <td>8.205787e+02</td>\n",
       "      <td>5.888554e+01</td>\n",
       "      <td>-2.079832e+01</td>\n",
       "      <td>6.020473e+02</td>\n",
       "      <td>-3.875299e+01</td>\n",
       "      <td>4.821141e+01</td>\n",
       "      <td>7.631992e+02</td>\n",
       "      <td>-1.167351e+02</td>\n",
       "      <td>6.525399e-01</td>\n",
       "      <td>5.211849e+00</td>\n",
       "    </tr>\n",
       "    <tr>\n",
       "      <th>std</th>\n",
       "      <td>7.637586e+05</td>\n",
       "      <td>5.273884e+02</td>\n",
       "      <td>4.954709e+02</td>\n",
       "      <td>5.610358e+02</td>\n",
       "      <td>5.378507e+02</td>\n",
       "      <td>4.358368e+02</td>\n",
       "      <td>4.883318e+02</td>\n",
       "      <td>2.827634e+02</td>\n",
       "      <td>4.226899e+02</td>\n",
       "      <td>4.159825e+02</td>\n",
       "      <td>5.879011e-01</td>\n",
       "      <td>2.897030e+00</td>\n",
       "    </tr>\n",
       "    <tr>\n",
       "      <th>min</th>\n",
       "      <td>1.500000e+01</td>\n",
       "      <td>-3.123400e+04</td>\n",
       "      <td>-3.276300e+04</td>\n",
       "      <td>-3.148800e+04</td>\n",
       "      <td>-2.184600e+04</td>\n",
       "      <td>-2.967300e+04</td>\n",
       "      <td>-2.431800e+04</td>\n",
       "      <td>-4.621000e+03</td>\n",
       "      <td>-3.400000e+03</td>\n",
       "      <td>-4.786000e+03</td>\n",
       "      <td>0.000000e+00</td>\n",
       "      <td>1.000000e+00</td>\n",
       "    </tr>\n",
       "    <tr>\n",
       "      <th>25%</th>\n",
       "      <td>4.390620e+05</td>\n",
       "      <td>-2.220000e+02</td>\n",
       "      <td>7.450000e+02</td>\n",
       "      <td>6.900000e+01</td>\n",
       "      <td>-2.630000e+02</td>\n",
       "      <td>2.590000e+02</td>\n",
       "      <td>-1.010000e+02</td>\n",
       "      <td>-8.700000e+01</td>\n",
       "      <td>7.800000e+02</td>\n",
       "      <td>-2.030000e+02</td>\n",
       "      <td>0.000000e+00</td>\n",
       "      <td>3.000000e+00</td>\n",
       "    </tr>\n",
       "    <tr>\n",
       "      <th>50%</th>\n",
       "      <td>9.293750e+05</td>\n",
       "      <td>-3.000000e+01</td>\n",
       "      <td>9.700000e+02</td>\n",
       "      <td>2.170000e+02</td>\n",
       "      <td>-1.800000e+01</td>\n",
       "      <td>6.290000e+02</td>\n",
       "      <td>9.000000e+01</td>\n",
       "      <td>2.900000e+01</td>\n",
       "      <td>9.520000e+02</td>\n",
       "      <td>-3.800000e+01</td>\n",
       "      <td>1.000000e+00</td>\n",
       "      <td>5.000000e+00</td>\n",
       "    </tr>\n",
       "    <tr>\n",
       "      <th>75%</th>\n",
       "      <td>1.621328e+06</td>\n",
       "      <td>1.210000e+02</td>\n",
       "      <td>1.019000e+03</td>\n",
       "      <td>3.260000e+02</td>\n",
       "      <td>2.180000e+02</td>\n",
       "      <td>9.620000e+02</td>\n",
       "      <td>2.420000e+02</td>\n",
       "      <td>1.940000e+02</td>\n",
       "      <td>1.009000e+03</td>\n",
       "      <td>1.160000e+02</td>\n",
       "      <td>1.000000e+00</td>\n",
       "      <td>8.000000e+00</td>\n",
       "    </tr>\n",
       "    <tr>\n",
       "      <th>max</th>\n",
       "      <td>3.058390e+06</td>\n",
       "      <td>3.072500e+04</td>\n",
       "      <td>3.200200e+04</td>\n",
       "      <td>3.174400e+04</td>\n",
       "      <td>2.662500e+04</td>\n",
       "      <td>3.259800e+04</td>\n",
       "      <td>2.841800e+04</td>\n",
       "      <td>6.707000e+03</td>\n",
       "      <td>2.429800e+04</td>\n",
       "      <td>4.339000e+03</td>\n",
       "      <td>2.000000e+00</td>\n",
       "      <td>1.000000e+01</td>\n",
       "    </tr>\n",
       "  </tbody>\n",
       "</table>\n",
       "</div>"
      ],
      "text/plain": [
       "                 TS       Ankel_1       Ankel_2       Ankel_3       Thigh_1  \\\n",
       "count  1.798362e+06  1.798362e+06  1.798362e+06  1.798362e+06  1.798362e+06   \n",
       "mean   1.077208e+06 -5.840035e+01  8.205787e+02  5.888554e+01 -2.079832e+01   \n",
       "std    7.637586e+05  5.273884e+02  4.954709e+02  5.610358e+02  5.378507e+02   \n",
       "min    1.500000e+01 -3.123400e+04 -3.276300e+04 -3.148800e+04 -2.184600e+04   \n",
       "25%    4.390620e+05 -2.220000e+02  7.450000e+02  6.900000e+01 -2.630000e+02   \n",
       "50%    9.293750e+05 -3.000000e+01  9.700000e+02  2.170000e+02 -1.800000e+01   \n",
       "75%    1.621328e+06  1.210000e+02  1.019000e+03  3.260000e+02  2.180000e+02   \n",
       "max    3.058390e+06  3.072500e+04  3.200200e+04  3.174400e+04  2.662500e+04   \n",
       "\n",
       "            Thigh_2       Thigh_3       Trunk_1       Trunk_2       Trunk_3  \\\n",
       "count  1.798362e+06  1.798362e+06  1.798362e+06  1.798362e+06  1.798362e+06   \n",
       "mean   6.020473e+02 -3.875299e+01  4.821141e+01  7.631992e+02 -1.167351e+02   \n",
       "std    4.358368e+02  4.883318e+02  2.827634e+02  4.226899e+02  4.159825e+02   \n",
       "min   -2.967300e+04 -2.431800e+04 -4.621000e+03 -3.400000e+03 -4.786000e+03   \n",
       "25%    2.590000e+02 -1.010000e+02 -8.700000e+01  7.800000e+02 -2.030000e+02   \n",
       "50%    6.290000e+02  9.000000e+01  2.900000e+01  9.520000e+02 -3.800000e+01   \n",
       "75%    9.620000e+02  2.420000e+02  1.940000e+02  1.009000e+03  1.160000e+02   \n",
       "max    3.259800e+04  2.841800e+04  6.707000e+03  2.429800e+04  4.339000e+03   \n",
       "\n",
       "             status   User_Number  \n",
       "count  1.798362e+06  1.798362e+06  \n",
       "mean   6.525399e-01  5.211849e+00  \n",
       "std    5.879011e-01  2.897030e+00  \n",
       "min    0.000000e+00  1.000000e+00  \n",
       "25%    0.000000e+00  3.000000e+00  \n",
       "50%    1.000000e+00  5.000000e+00  \n",
       "75%    1.000000e+00  8.000000e+00  \n",
       "max    2.000000e+00  1.000000e+01  "
      ]
     },
     "execution_count": 5,
     "metadata": {},
     "output_type": "execute_result"
    }
   ],
   "source": [
    "df.describe()"
   ]
  },
  {
   "cell_type": "code",
   "execution_count": 6,
   "id": "4a3e7a90-995b-4021-95fd-4e08dfb14e71",
   "metadata": {},
   "outputs": [
    {
     "data": {
      "text/plain": [
       "Index(['TS', ' Ankel_1', 'Ankel_2', 'Ankel_3', 'Thigh_1', 'Thigh_2', 'Thigh_3',\n",
       "       'Trunk_1', 'Trunk_2', 'Trunk_3', 'status', 'User_Number'],\n",
       "      dtype='object')"
      ]
     },
     "execution_count": 6,
     "metadata": {},
     "output_type": "execute_result"
    }
   ],
   "source": [
    "df.columns"
   ]
  },
  {
   "cell_type": "code",
   "execution_count": 7,
   "id": "1ea9ebe6-3219-4138-bdb7-c9292cf93e64",
   "metadata": {},
   "outputs": [
    {
     "data": {
      "text/plain": [
       "status\n",
       "1    959685\n",
       "0    731768\n",
       "2    106909\n",
       "Name: count, dtype: int64"
      ]
     },
     "execution_count": 7,
     "metadata": {},
     "output_type": "execute_result"
    }
   ],
   "source": [
    "df['status'].value_counts()"
   ]
  },
  {
   "cell_type": "code",
   "execution_count": 8,
   "id": "a2ce2c64-5b30-4af3-a06f-ed09fbf1480d",
   "metadata": {},
   "outputs": [
    {
     "data": {
      "text/plain": [
       "(1798362, 12)"
      ]
     },
     "execution_count": 8,
     "metadata": {},
     "output_type": "execute_result"
    }
   ],
   "source": [
    "df.shape"
   ]
  },
  {
   "cell_type": "code",
   "execution_count": 9,
   "id": "a41f55dd-9094-4949-abf1-e18836ef1b26",
   "metadata": {},
   "outputs": [],
   "source": [
    "# status 열에서 값이 0인 행 제거\n",
    "df = df[df['status'] != 0]\n",
    "\n",
    "# status 열에서 값이 1인 행을 0으로, 값이 2인 행을 1로 바꾸기\n",
    "df['status'] = df['status'].replace({1: 0, 2: 1})"
   ]
  },
  {
   "cell_type": "code",
   "execution_count": 10,
   "id": "7c15ec7c-86ec-4074-9cd5-98c2908a0cf0",
   "metadata": {},
   "outputs": [
    {
     "data": {
      "text/plain": [
       "status\n",
       "0    959685\n",
       "1    106909\n",
       "Name: count, dtype: int64"
      ]
     },
     "execution_count": 10,
     "metadata": {},
     "output_type": "execute_result"
    }
   ],
   "source": [
    "df['status'].value_counts()"
   ]
  },
  {
   "cell_type": "code",
   "execution_count": 11,
   "id": "4629ecc3-8eab-4a05-b52c-a51293496f63",
   "metadata": {},
   "outputs": [
    {
     "data": {
      "text/plain": [
       "(1066594, 12)"
      ]
     },
     "execution_count": 11,
     "metadata": {},
     "output_type": "execute_result"
    }
   ],
   "source": [
    "df.shape"
   ]
  },
  {
   "cell_type": "code",
   "execution_count": 12,
   "id": "1a649068-6bd5-485d-a69f-3272a4c26556",
   "metadata": {},
   "outputs": [
    {
     "name": "stderr",
     "output_type": "stream",
     "text": [
      "I:\\anaconda3\\envs\\test01\\lib\\site-packages\\seaborn\\_base.py:948: FutureWarning: When grouping with a length-1 list-like, you will need to pass a length-1 tuple to get_group in a future version of pandas. Pass `(name,)` instead of `name` to silence this warning.\n",
      "  data_subset = grouped_data.get_group(pd_key)\n",
      "I:\\anaconda3\\envs\\test01\\lib\\site-packages\\seaborn\\_base.py:948: FutureWarning: When grouping with a length-1 list-like, you will need to pass a length-1 tuple to get_group in a future version of pandas. Pass `(name,)` instead of `name` to silence this warning.\n",
      "  data_subset = grouped_data.get_group(pd_key)\n"
     ]
    },
    {
     "data": {
      "image/png": "[encoded data removed]",
      "text/plain": [
       "<Figure size 1800x600 with 1 Axes>"
      ]
     },
     "metadata": {},
     "output_type": "display_data"
    }
   ],
   "source": [
    "plt.figure(figsize=(18, 6))\n",
    "sns.countplot(x = \"User_Number\", hue=\"status\", data = df,\n",
    "              order = df.User_Number.value_counts().index)\n",
    "plt.title(\"Records per user\");"
   ]
  },
  {
   "cell_type": "code",
   "execution_count": 13,
   "id": "fa5fa48c-b68a-4ede-820c-28f2fa7c21a7",
   "metadata": {},
   "outputs": [
    {
     "name": "stdout",
     "output_type": "stream",
     "text": [
      "(17062, 200, 10) (17062, 1)\n",
      "(5332, 200, 10) (5332, 1)\n"
     ]
    }
   ],
   "source": [
    "from scipy import stats\n",
    "\n",
    "def create_dataset(X, y, time_steps=1, step=1):\n",
    "    Xs, ys = [], []\n",
    "    for i in range(0, len(X) - time_steps, step):\n",
    "        v = X.iloc[i:(i + time_steps)].values\n",
    "        labels = y.iloc[i: i + time_steps]\n",
    "        Xs.append(v)\n",
    "        ys.append(stats.mode(labels)[0])\n",
    "    return np.array(Xs), np.array(ys).reshape(-1, 1)\n",
    "\n",
    "TIME_STEPS = 200\n",
    "STEP = 40\n",
    "\n",
    "X_data, y_data = create_dataset(df[['TS', ' Ankel_1', 'Ankel_2', 'Ankel_3', 'Thigh_1', 'Thigh_2', 'Thigh_3',\n",
    "       'Trunk_1', 'Trunk_2', 'Trunk_3']], df.status, TIME_STEPS,\n",
    "                                  STEP)\n",
    "\n",
    "X_train, X_test,y_train, y_test = train_test_split(X_data, y_data, test_size = 0.2, stratify=  y_data )\n",
    "X_train, X_val, y_train, y_val  = train_test_split(X_train, y_train, test_size = 0.2, stratify=  y_train )\n",
    "print(X_train.shape, y_train.shape)\n",
    "print(X_test.shape, y_test.shape)"
   ]
  },
  {
   "cell_type": "code",
   "execution_count": 14,
   "id": "bc0a3399-fadf-4587-bf22-a3fff1b3d22c",
   "metadata": {},
   "outputs": [
    {
     "data": {
      "text/plain": [
       "\"\\nX = df[['TS', ' Ankel_1', 'Ankel_2', 'Ankel_3', 'Thigh_1', 'Thigh_2', 'Thigh_3',\\n       'Trunk_1', 'Trunk_2', 'Trunk_3']].values\\ny = df['status'].values.reshape(-1, 1)\\n\""
      ]
     },
     "execution_count": 14,
     "metadata": {},
     "output_type": "execute_result"
    }
   ],
   "source": [
    "'''\n",
    "X = df[['TS', ' Ankel_1', 'Ankel_2', 'Ankel_3', 'Thigh_1', 'Thigh_2', 'Thigh_3',\n",
    "       'Trunk_1', 'Trunk_2', 'Trunk_3']].values\n",
    "y = df['status'].values.reshape(-1, 1)\n",
    "'''"
   ]
  },
  {
   "cell_type": "code",
   "execution_count": 15,
   "id": "6569a7c8-d267-4c53-ab6e-3b7c590caf34",
   "metadata": {},
   "outputs": [
    {
     "data": {
      "text/plain": [
       "'\\nX_train, X_test,y_train, y_test = train_test_split(X, y, test_size = 0.2, stratify= y)\\nX_train, X_val, y_train, y_val  = train_test_split(X_train, y_train, test_size = 0.2, stratify= y_train )\\nprint(X_train.shape, y_train.shape)\\nprint(X_test.shape, y_test.shape)\\n'"
      ]
     },
     "execution_count": 15,
     "metadata": {},
     "output_type": "execute_result"
    }
   ],
   "source": [
    "'''\n",
    "X_train, X_test,y_train, y_test = train_test_split(X, y, test_size = 0.2, stratify= y)\n",
    "X_train, X_val, y_train, y_val  = train_test_split(X_train, y_train, test_size = 0.2, stratify= y_train )\n",
    "print(X_train.shape, y_train.shape)\n",
    "print(X_test.shape, y_test.shape)\n",
    "'''"
   ]
  },
  {
   "cell_type": "code",
   "execution_count": 16,
   "id": "6f9c0ffd-ea15-498b-8bba-de2b88217775",
   "metadata": {},
   "outputs": [
    {
     "name": "stdout",
     "output_type": "stream",
     "text": [
      "(17062, 200, 10) (17062, 2) (5332, 200, 10) (5332, 2)\n"
     ]
    }
   ],
   "source": [
    "from sklearn.preprocessing import OneHotEncoder\n",
    "\n",
    "enc = OneHotEncoder(handle_unknown = \"ignore\", sparse_output = False)\n",
    "enc = enc.fit(y_train)\n",
    "\n",
    "y_train_hot = enc.transform(y_train)\n",
    "y_test_hot = enc.transform(y_test)\n",
    "y_val_hot = enc.transform(y_val)\n",
    "\n",
    "print(X_train.shape, y_train_hot.shape, X_test.shape, y_test_hot.shape)"
   ]
  },
  {
   "cell_type": "code",
   "execution_count": 17,
   "id": "d2c54abe-559c-4dd7-a1ca-e64f5d6014b9",
   "metadata": {},
   "outputs": [
    {
     "data": {
      "text/plain": [
       "'n_features, n_outputs = X_train.shape[1], y_train_hot.shape[1]'"
      ]
     },
     "execution_count": 17,
     "metadata": {},
     "output_type": "execute_result"
    }
   ],
   "source": [
    "'''n_features, n_outputs = X_train.shape[1], y_train_hot.shape[1]'''"
   ]
  },
  {
   "cell_type": "code",
   "execution_count": 18,
   "id": "1d3a20bd-c97d-4d11-9a46-842b99287535",
   "metadata": {},
   "outputs": [
    {
     "data": {
      "text/plain": [
       "(200, 10, 2)"
      ]
     },
     "execution_count": 18,
     "metadata": {},
     "output_type": "execute_result"
    }
   ],
   "source": [
    "n_timesteps,n_features,n_outputs= X_train.shape[1],X_train.shape[2],y_train_hot.shape[1]\n",
    "n_timesteps,n_features,n_outputs"
   ]
  },
  {
   "cell_type": "markdown",
   "id": "c36e31f1-628f-4dde-ab5d-10afe00eb7cb",
   "metadata": {},
   "source": [
    "## 데이터 밸런싱 전 모델"
   ]
  },
  {
   "cell_type": "code",
   "execution_count": 19,
   "id": "08640db3-89fb-4a10-938e-0f089802b460",
   "metadata": {},
   "outputs": [
    {
     "name": "stdout",
     "output_type": "stream",
     "text": [
      "Model: \"sequential\"\n",
      "_________________________________________________________________\n",
      " Layer (type)                Output Shape              Param #   \n",
      "=================================================================\n",
      " conv1d (Conv1D)             (None, 198, 64)           1984      \n",
      "                                                                 \n",
      " dropout (Dropout)           (None, 198, 64)           0         \n",
      "                                                                 \n",
      " max_pooling1d (MaxPooling1D  (None, 99, 64)           0         \n",
      " )                                                               \n",
      "                                                                 \n",
      " flatten (Flatten)           (None, 6336)              0         \n",
      "                                                                 \n",
      " dense (Dense)               (None, 128)               811136    \n",
      "                                                                 \n",
      " dense_1 (Dense)             (None, 2)                 258       \n",
      "                                                                 \n",
      "=================================================================\n",
      "Total params: 813,378\n",
      "Trainable params: 813,378\n",
      "Non-trainable params: 0\n",
      "_________________________________________________________________\n"
     ]
    }
   ],
   "source": [
    "model = Sequential()\n",
    "model.add(Conv1D(filters=64, kernel_size=3, activation='relu', input_shape=(n_timesteps,n_features)))\n",
    "model.add(Dropout(0.5))\n",
    "model.add(MaxPooling1D(pool_size=2))\n",
    "model.add(Flatten())\n",
    "\n",
    "model.add(Dense(128, activation='relu'))\n",
    "model.add(Dense(n_outputs, activation='sigmoid'))\n",
    "model.compile(loss='binary_crossentropy', optimizer='adam', metrics=['accuracy'])\n",
    "model.summary()"
   ]
  },
  {
   "cell_type": "code",
   "execution_count": 20,
   "id": "9eceecc5-0249-42ac-a0b8-d6dff50e1969",
   "metadata": {},
   "outputs": [
    {
     "name": "stdout",
     "output_type": "stream",
     "text": [
      "Epoch 1/10\n",
      "134/134 [==============================] - 6s 8ms/step - loss: 87126.7266 - accuracy: 0.8698 - val_loss: 2059.0930 - val_accuracy: 0.9018\n",
      "Epoch 2/10\n",
      "134/134 [==============================] - 1s 4ms/step - loss: 6250.1270 - accuracy: 0.8703 - val_loss: 4458.5649 - val_accuracy: 0.9018\n",
      "Epoch 3/10\n",
      "134/134 [==============================] - 1s 5ms/step - loss: 3219.6270 - accuracy: 0.8734 - val_loss: 701.2434 - val_accuracy: 0.9018\n",
      "Epoch 4/10\n",
      "134/134 [==============================] - 1s 4ms/step - loss: 1162.0575 - accuracy: 0.8769 - val_loss: 153.3329 - val_accuracy: 0.9018\n",
      "Epoch 5/10\n",
      "134/134 [==============================] - 0s 3ms/step - loss: 205.3791 - accuracy: 0.8698 - val_loss: 20.1546 - val_accuracy: 0.8933\n",
      "Epoch 6/10\n",
      "134/134 [==============================] - 0s 3ms/step - loss: 49.9011 - accuracy: 0.8661 - val_loss: 9.3485 - val_accuracy: 0.8964\n",
      "Epoch 7/10\n",
      "134/134 [==============================] - 0s 3ms/step - loss: 9.4711 - accuracy: 0.8657 - val_loss: 1.5818 - val_accuracy: 0.8654\n",
      "Epoch 8/10\n",
      "134/134 [==============================] - 1s 4ms/step - loss: 3.0419 - accuracy: 0.8651 - val_loss: 1.2014 - val_accuracy: 0.8446\n",
      "Epoch 9/10\n",
      "134/134 [==============================] - 0s 3ms/step - loss: 2.6932 - accuracy: 0.8694 - val_loss: 1.1978 - val_accuracy: 0.8561\n",
      "Epoch 10/10\n",
      "134/134 [==============================] - 0s 3ms/step - loss: 1.8232 - accuracy: 0.8661 - val_loss: 0.9578 - val_accuracy: 0.8080\n"
     ]
    }
   ],
   "source": [
    "epochs, batch_size = 10, 128\n",
    "history = model.fit(X_train, y_train_hot, epochs=epochs, batch_size=batch_size, verbose=1, validation_data=(X_val, y_val_hot), shuffle=True)"
   ]
  },
  {
   "cell_type": "code",
   "execution_count": 21,
   "id": "e6d16ee8-c3c7-48ad-a7af-16d45d95ef20",
   "metadata": {},
   "outputs": [
    {
     "data": {
      "text/plain": [
       "<matplotlib.legend.Legend at 0x24da10b65f0>"
      ]
     },
     "execution_count": 21,
     "metadata": {},
     "output_type": "execute_result"
    },
    {
     "data": {
      "image/png": "[encoded data removed]",
      "text/plain": [
       "<Figure size 640x480 with 1 Axes>"
      ]
     },
     "metadata": {},
     "output_type": "display_data"
    }
   ],
   "source": [
    "plt.plot(history.history['loss'])\n",
    "plt.plot(history.history['val_loss'])\n",
    "plt.title('model loss')\n",
    "plt.ylabel('loss')\n",
    "plt.xlabel('epoch')\n",
    "plt.legend(['train', 'Validation'], loc='upper left')"
   ]
  },
  {
   "cell_type": "code",
   "execution_count": 22,
   "id": "75261af1-f701-4cf2-92fe-58b1b9a566d0",
   "metadata": {},
   "outputs": [
    {
     "data": {
      "text/plain": [
       "<matplotlib.legend.Legend at 0x24ddab4e2f0>"
      ]
     },
     "execution_count": 22,
     "metadata": {},
     "output_type": "execute_result"
    },
    {
     "data": {
      "image/png": "[encoded data removed]",
      "text/plain": [
       "<Figure size 640x480 with 1 Axes>"
      ]
     },
     "metadata": {},
     "output_type": "display_data"
    }
   ],
   "source": [
    "plt.plot(history.history['accuracy'])\n",
    "plt.plot(history.history['val_accuracy'])\n",
    "plt.title('Training and validation accuracy')\n",
    "plt.ylabel('accuracy')\n",
    "plt.xlabel('epoch')\n",
    "plt.legend(['train', 'Validation'], loc='upper left')"
   ]
  },
  {
   "cell_type": "code",
   "execution_count": 23,
   "id": "e7558175-2e59-4eed-809a-463f579012e4",
   "metadata": {},
   "outputs": [
    {
     "name": "stdout",
     "output_type": "stream",
     "text": [
      "167/167 [==============================] - 0s 1ms/step\n",
      "f1_score =  0.8392553536029854\n",
      "0.8223930982745686\n",
      "              precision    recall  f1-score   support\n",
      "\n",
      "           0       0.93      0.87      0.90      4808\n",
      "           1       0.24      0.38      0.30       524\n",
      "\n",
      "    accuracy                           0.82      5332\n",
      "   macro avg       0.59      0.63      0.60      5332\n",
      "weighted avg       0.86      0.82      0.84      5332\n",
      "\n"
     ]
    },
    {
     "data": {
      "text/plain": [
       "<Axes: >"
      ]
     },
     "execution_count": 23,
     "metadata": {},
     "output_type": "execute_result"
    },
    {
     "data": {
      "image/png": "[encoded data removed]",
      "text/plain": [
       "<Figure size 640x480 with 2 Axes>"
      ]
     },
     "metadata": {},
     "output_type": "display_data"
    }
   ],
   "source": [
    "from sklearn.metrics import confusion_matrix,classification_report,accuracy_score\n",
    "\n",
    "y_pred=model.predict(X_test)\n",
    "y_pred = np.argmax(y_pred, axis=-1)\n",
    "y_true = np.argmax(y_test_hot, axis=-1)\n",
    "\n",
    "LABELS = ['No_Freeze','Freeze']\n",
    "cm=confusion_matrix(y_true,y_pred)\n",
    "\n",
    "#print(cm)\n",
    "print('f1_score = ', f1_score(y_true, y_pred, average='weighted'))\n",
    "print(accuracy_score(y_true,y_pred))\n",
    "print(classification_report(y_true,y_pred))\n",
    "sns.heatmap(cm, cmap=\"YlGnBu\", xticklabels=LABELS, yticklabels=LABELS, annot=True, fmt = '.2f')"
   ]
  },
  {
   "cell_type": "markdown",
   "id": "c1b66c46-ef5c-4fe6-85f7-cc2fb15e8c80",
   "metadata": {},
   "source": [
    "## Smote()를 통해 데이터 밸런싱"
   ]
  },
  {
   "cell_type": "code",
   "execution_count": 24,
   "id": "e7dd84d9-bab4-4b26-808a-3a4a18fdc02a",
   "metadata": {},
   "outputs": [],
   "source": [
    "#Smote()를 통한 OverSampling\n",
    "smote = SMOTE(sampling_strategy='auto', random_state=42)\n",
    "X_resampled, y_resampled = smote.fit_resample(df.drop('status', axis=1), df['status'])"
   ]
  },
  {
   "cell_type": "code",
   "execution_count": 25,
   "id": "1fab33af-4487-4eda-a1fa-3f34ee7c6fd2",
   "metadata": {},
   "outputs": [],
   "source": [
    "df = pd.concat([pd.DataFrame(X_resampled, columns=df.drop('status', axis=1).columns),\n",
    "                         pd.DataFrame({'status': y_resampled})], axis=1)"
   ]
  },
  {
   "cell_type": "code",
   "execution_count": 26,
   "id": "202acc90-f5bf-4f96-9b0f-ec0593b2dbcd",
   "metadata": {},
   "outputs": [
    {
     "name": "stdout",
     "output_type": "stream",
     "text": [
      "status\n",
      "0    959685\n",
      "1    959685\n",
      "Name: count, dtype: int64\n"
     ]
    }
   ],
   "source": [
    "print(df['status'].value_counts())"
   ]
  },
  {
   "cell_type": "code",
   "execution_count": 27,
   "id": "6effc370-42e8-4b44-bd1f-c2acecd1b449",
   "metadata": {},
   "outputs": [
    {
     "data": {
      "text/html": [
       "<div>\n",
       "<style scoped>\n",
       "    .dataframe tbody tr th:only-of-type {\n",
       "        vertical-align: middle;\n",
       "    }\n",
       "\n",
       "    .dataframe tbody tr th {\n",
       "        vertical-align: top;\n",
       "    }\n",
       "\n",
       "    .dataframe thead th {\n",
       "        text-align: right;\n",
       "    }\n",
       "</style>\n",
       "<table border=\"1\" class=\"dataframe\">\n",
       "  <thead>\n",
       "    <tr style=\"text-align: right;\">\n",
       "      <th></th>\n",
       "      <th>TS</th>\n",
       "      <th>Ankel_1</th>\n",
       "      <th>Ankel_2</th>\n",
       "      <th>Ankel_3</th>\n",
       "      <th>Thigh_1</th>\n",
       "      <th>Thigh_2</th>\n",
       "      <th>Thigh_3</th>\n",
       "      <th>Trunk_1</th>\n",
       "      <th>Trunk_2</th>\n",
       "      <th>Trunk_3</th>\n",
       "      <th>User_Number</th>\n",
       "      <th>status</th>\n",
       "    </tr>\n",
       "  </thead>\n",
       "  <tbody>\n",
       "    <tr>\n",
       "      <th>0</th>\n",
       "      <td>750000</td>\n",
       "      <td>-30</td>\n",
       "      <td>990</td>\n",
       "      <td>326</td>\n",
       "      <td>-45</td>\n",
       "      <td>972</td>\n",
       "      <td>181</td>\n",
       "      <td>-38</td>\n",
       "      <td>1000</td>\n",
       "      <td>29</td>\n",
       "      <td>1</td>\n",
       "      <td>0</td>\n",
       "    </tr>\n",
       "    <tr>\n",
       "      <th>1</th>\n",
       "      <td>750015</td>\n",
       "      <td>-30</td>\n",
       "      <td>1000</td>\n",
       "      <td>356</td>\n",
       "      <td>-18</td>\n",
       "      <td>981</td>\n",
       "      <td>212</td>\n",
       "      <td>-48</td>\n",
       "      <td>1028</td>\n",
       "      <td>29</td>\n",
       "      <td>1</td>\n",
       "      <td>0</td>\n",
       "    </tr>\n",
       "    <tr>\n",
       "      <th>2</th>\n",
       "      <td>750031</td>\n",
       "      <td>-20</td>\n",
       "      <td>990</td>\n",
       "      <td>336</td>\n",
       "      <td>18</td>\n",
       "      <td>981</td>\n",
       "      <td>222</td>\n",
       "      <td>-38</td>\n",
       "      <td>1038</td>\n",
       "      <td>9</td>\n",
       "      <td>1</td>\n",
       "      <td>0</td>\n",
       "    </tr>\n",
       "    <tr>\n",
       "      <th>3</th>\n",
       "      <td>750046</td>\n",
       "      <td>-20</td>\n",
       "      <td>1000</td>\n",
       "      <td>316</td>\n",
       "      <td>36</td>\n",
       "      <td>990</td>\n",
       "      <td>222</td>\n",
       "      <td>-19</td>\n",
       "      <td>1038</td>\n",
       "      <td>9</td>\n",
       "      <td>1</td>\n",
       "      <td>0</td>\n",
       "    </tr>\n",
       "    <tr>\n",
       "      <th>4</th>\n",
       "      <td>750062</td>\n",
       "      <td>0</td>\n",
       "      <td>990</td>\n",
       "      <td>316</td>\n",
       "      <td>36</td>\n",
       "      <td>990</td>\n",
       "      <td>212</td>\n",
       "      <td>-29</td>\n",
       "      <td>1038</td>\n",
       "      <td>29</td>\n",
       "      <td>1</td>\n",
       "      <td>0</td>\n",
       "    </tr>\n",
       "  </tbody>\n",
       "</table>\n",
       "</div>"
      ],
      "text/plain": [
       "       TS   Ankel_1  Ankel_2  Ankel_3  Thigh_1  Thigh_2  Thigh_3  Trunk_1  \\\n",
       "0  750000       -30      990      326      -45      972      181      -38   \n",
       "1  750015       -30     1000      356      -18      981      212      -48   \n",
       "2  750031       -20      990      336       18      981      222      -38   \n",
       "3  750046       -20     1000      316       36      990      222      -19   \n",
       "4  750062         0      990      316       36      990      212      -29   \n",
       "\n",
       "   Trunk_2  Trunk_3  User_Number  status  \n",
       "0     1000       29            1       0  \n",
       "1     1028       29            1       0  \n",
       "2     1038        9            1       0  \n",
       "3     1038        9            1       0  \n",
       "4     1038       29            1       0  "
      ]
     },
     "execution_count": 27,
     "metadata": {},
     "output_type": "execute_result"
    }
   ],
   "source": [
    "df.head()"
   ]
  },
  {
   "cell_type": "code",
   "execution_count": 28,
   "id": "700356db-c1d1-42c5-8920-2190f7914726",
   "metadata": {},
   "outputs": [
    {
     "data": {
      "text/plain": [
       "(1919370, 12)"
      ]
     },
     "execution_count": 28,
     "metadata": {},
     "output_type": "execute_result"
    }
   ],
   "source": [
    "df.shape"
   ]
  },
  {
   "cell_type": "code",
   "execution_count": 29,
   "id": "827229fe-ee90-474d-b2e1-204240bbf034",
   "metadata": {},
   "outputs": [
    {
     "name": "stderr",
     "output_type": "stream",
     "text": [
      "I:\\anaconda3\\envs\\test01\\lib\\site-packages\\seaborn\\_base.py:948: FutureWarning: When grouping with a length-1 list-like, you will need to pass a length-1 tuple to get_group in a future version of pandas. Pass `(name,)` instead of `name` to silence this warning.\n",
      "  data_subset = grouped_data.get_group(pd_key)\n",
      "I:\\anaconda3\\envs\\test01\\lib\\site-packages\\seaborn\\_base.py:948: FutureWarning: When grouping with a length-1 list-like, you will need to pass a length-1 tuple to get_group in a future version of pandas. Pass `(name,)` instead of `name` to silence this warning.\n",
      "  data_subset = grouped_data.get_group(pd_key)\n"
     ]
    },
    {
     "data": {
      "image/png": "[encoded data removed]",
      "text/plain": [
       "<Figure size 1800x600 with 1 Axes>"
      ]
     },
     "metadata": {},
     "output_type": "display_data"
    }
   ],
   "source": [
    "plt.figure(figsize=(18, 6))\n",
    "sns.countplot(x = \"User_Number\", hue=\"status\", data = df,\n",
    "              order = df.User_Number.value_counts().index)\n",
    "plt.title(\"Records per user\");"
   ]
  },
  {
   "cell_type": "code",
   "execution_count": 30,
   "id": "2b95b7b2-2f26-473a-a1c8-30ede629eb72",
   "metadata": {},
   "outputs": [
    {
     "name": "stdout",
     "output_type": "stream",
     "text": [
      "(30707, 200, 10) (30707, 1)\n",
      "(9596, 200, 10) (9596, 1)\n"
     ]
    }
   ],
   "source": [
    "from scipy import stats\n",
    "\n",
    "def create_dataset(X, y, time_steps=1, step=1):\n",
    "    Xs, ys = [], []\n",
    "    for i in range(0, len(X) - time_steps, step):\n",
    "        v = X.iloc[i:(i + time_steps)].values\n",
    "        labels = y.iloc[i: i + time_steps]\n",
    "        Xs.append(v)\n",
    "        ys.append(stats.mode(labels)[0])\n",
    "    return np.array(Xs), np.array(ys).reshape(-1, 1)\n",
    "\n",
    "TIME_STEPS = 200\n",
    "STEP = 40\n",
    "\n",
    "X_data, y_data = create_dataset(df[['TS', ' Ankel_1', 'Ankel_2', 'Ankel_3', 'Thigh_1', 'Thigh_2', 'Thigh_3',\n",
    "       'Trunk_1', 'Trunk_2', 'Trunk_3']], df.status, TIME_STEPS,\n",
    "                                  STEP)\n",
    "\n",
    "X_train, X_test,y_train, y_test = train_test_split(X_data, y_data, test_size = 0.2, stratify=  y_data )\n",
    "X_train, X_val, y_train, y_val  = train_test_split(X_train, y_train, test_size = 0.2, stratify=  y_train )\n",
    "print(X_train.shape, y_train.shape)\n",
    "print(X_test.shape, y_test.shape)"
   ]
  },
  {
   "cell_type": "code",
   "execution_count": 31,
   "id": "679d8241-b88b-446a-8865-ab3cb37e1495",
   "metadata": {},
   "outputs": [
    {
     "data": {
      "text/plain": [
       "\"X = df[['TS', ' Ankel_1', 'Ankel_2', 'Ankel_3', 'Thigh_1', 'Thigh_2', 'Thigh_3',\\n       'Trunk_1', 'Trunk_2', 'Trunk_3']].values\\ny = df['status'].values.reshape(-1, 1)\""
      ]
     },
     "execution_count": 31,
     "metadata": {},
     "output_type": "execute_result"
    }
   ],
   "source": [
    "'''X = df[['TS', ' Ankel_1', 'Ankel_2', 'Ankel_3', 'Thigh_1', 'Thigh_2', 'Thigh_3',\n",
    "       'Trunk_1', 'Trunk_2', 'Trunk_3']].values\n",
    "y = df['status'].values.reshape(-1, 1)'''"
   ]
  },
  {
   "cell_type": "code",
   "execution_count": 32,
   "id": "7dc8ef86-ad52-49b4-9006-d96ac27887d8",
   "metadata": {},
   "outputs": [
    {
     "data": {
      "text/plain": [
       "'X_train, X_test,y_train, y_test = train_test_split(X, y, test_size = 0.2, stratify= y)\\nX_train, X_val, y_train, y_val  = train_test_split(X_train, y_train, test_size = 0.2, stratify= y_train )\\nprint(X_train.shape, y_train.shape)\\nprint(X_test.shape, y_test.shape)'"
      ]
     },
     "execution_count": 32,
     "metadata": {},
     "output_type": "execute_result"
    }
   ],
   "source": [
    "'''X_train, X_test,y_train, y_test = train_test_split(X, y, test_size = 0.2, stratify= y)\n",
    "X_train, X_val, y_train, y_val  = train_test_split(X_train, y_train, test_size = 0.2, stratify= y_train )\n",
    "print(X_train.shape, y_train.shape)\n",
    "print(X_test.shape, y_test.shape)'''"
   ]
  },
  {
   "cell_type": "code",
   "execution_count": 33,
   "id": "73050ffa-8169-448d-95af-8c800e1418ff",
   "metadata": {},
   "outputs": [
    {
     "name": "stdout",
     "output_type": "stream",
     "text": [
      "(30707, 200, 10) (30707, 2) (9596, 200, 10) (9596, 2)\n"
     ]
    }
   ],
   "source": [
    "from sklearn.preprocessing import OneHotEncoder\n",
    "\n",
    "enc = OneHotEncoder(handle_unknown = \"ignore\", sparse_output = False)\n",
    "enc = enc.fit(y_train)\n",
    "\n",
    "y_train_hot = enc.transform(y_train)\n",
    "y_test_hot = enc.transform(y_test)\n",
    "y_val_hot = enc.transform(y_val)\n",
    "\n",
    "print(X_train.shape, y_train_hot.shape, X_test.shape, y_test_hot.shape)"
   ]
  },
  {
   "cell_type": "code",
   "execution_count": 34,
   "id": "dc83aac4-3c2c-4fd4-845a-85119f6fa371",
   "metadata": {},
   "outputs": [
    {
     "data": {
      "text/plain": [
       "(200, 10, 2)"
      ]
     },
     "execution_count": 34,
     "metadata": {},
     "output_type": "execute_result"
    }
   ],
   "source": [
    "n_timesteps,n_features,n_outputs= X_train.shape[1],X_train.shape[2],y_train_hot.shape[1]\n",
    "n_timesteps,n_features,n_outputs"
   ]
  },
  {
   "cell_type": "code",
   "execution_count": 35,
   "id": "04d5f8e6-56b9-4584-b40e-665b07de327f",
   "metadata": {},
   "outputs": [
    {
     "data": {
      "text/plain": [
       "'n_features, n_outputs = X_train.shape[1], y_train_hot.shape[1]'"
      ]
     },
     "execution_count": 35,
     "metadata": {},
     "output_type": "execute_result"
    }
   ],
   "source": [
    "'''n_features, n_outputs = X_train.shape[1], y_train_hot.shape[1]'''"
   ]
  },
  {
   "cell_type": "code",
   "execution_count": 36,
   "id": "1f5485a4-ce0c-4e72-8a53-08a064bf7917",
   "metadata": {},
   "outputs": [
    {
     "name": "stdout",
     "output_type": "stream",
     "text": [
      "Model: \"sequential_1\"\n",
      "_________________________________________________________________\n",
      " Layer (type)                Output Shape              Param #   \n",
      "=================================================================\n",
      " conv1d_1 (Conv1D)           (None, 198, 64)           1984      \n",
      "                                                                 \n",
      " dropout_1 (Dropout)         (None, 198, 64)           0         \n",
      "                                                                 \n",
      " max_pooling1d_1 (MaxPooling  (None, 99, 64)           0         \n",
      " 1D)                                                             \n",
      "                                                                 \n",
      " flatten_1 (Flatten)         (None, 6336)              0         \n",
      "                                                                 \n",
      " dense_2 (Dense)             (None, 128)               811136    \n",
      "                                                                 \n",
      " dense_3 (Dense)             (None, 2)                 258       \n",
      "                                                                 \n",
      "=================================================================\n",
      "Total params: 813,378\n",
      "Trainable params: 813,378\n",
      "Non-trainable params: 0\n",
      "_________________________________________________________________\n"
     ]
    }
   ],
   "source": [
    "model = Sequential()\n",
    "model.add(Conv1D(filters=64, kernel_size=3, activation='relu', input_shape=(n_timesteps,n_features)))\n",
    "model.add(Dropout(0.5))\n",
    "model.add(MaxPooling1D(pool_size=2))\n",
    "model.add(Flatten())\n",
    "\n",
    "model.add(Dense(128, activation='relu'))\n",
    "model.add(Dense(n_outputs, activation='sigmoid'))\n",
    "model.compile(loss='binary_crossentropy', optimizer='adam', metrics=['accuracy'])\n",
    "model.summary()"
   ]
  },
  {
   "cell_type": "code",
   "execution_count": 37,
   "id": "2cf1871a-13ce-4de7-8844-03576a65c5bf",
   "metadata": {},
   "outputs": [
    {
     "name": "stdout",
     "output_type": "stream",
     "text": [
      "Epoch 1/10\n",
      "240/240 [==============================] - 21s 60ms/step - loss: 16267.1299 - accuracy: 0.8884 - val_loss: 0.5509 - val_accuracy: 0.9457\n",
      "Epoch 2/10\n",
      "240/240 [==============================] - 10s 21ms/step - loss: 0.7604 - accuracy: 0.9456 - val_loss: 0.4125 - val_accuracy: 0.9457\n",
      "Epoch 3/10\n",
      "240/240 [==============================] - 1s 4ms/step - loss: 0.4836 - accuracy: 0.9456 - val_loss: 0.2810 - val_accuracy: 0.9457\n",
      "Epoch 4/10\n",
      "240/240 [==============================] - 6s 23ms/step - loss: 0.5162 - accuracy: 0.9457 - val_loss: 0.2552 - val_accuracy: 0.9457\n",
      "Epoch 5/10\n",
      "240/240 [==============================] - 5s 23ms/step - loss: 0.2753 - accuracy: 0.9456 - val_loss: 0.2355 - val_accuracy: 0.9457\n",
      "Epoch 6/10\n",
      "240/240 [==============================] - 6s 23ms/step - loss: 0.2574 - accuracy: 0.9455 - val_loss: 0.2206 - val_accuracy: 0.9457\n",
      "Epoch 7/10\n",
      "240/240 [==============================] - 5s 22ms/step - loss: 0.3956 - accuracy: 0.9456 - val_loss: 0.2093 - val_accuracy: 0.9457\n",
      "Epoch 8/10\n",
      "240/240 [==============================] - 5s 22ms/step - loss: 0.2052 - accuracy: 0.9454 - val_loss: 0.2007 - val_accuracy: 0.9457\n",
      "Epoch 9/10\n",
      "240/240 [==============================] - 5s 21ms/step - loss: 0.2081 - accuracy: 0.9455 - val_loss: 0.1942 - val_accuracy: 0.9457\n",
      "Epoch 10/10\n",
      "240/240 [==============================] - 1s 3ms/step - loss: 0.1987 - accuracy: 0.9456 - val_loss: 0.1894 - val_accuracy: 0.9457\n"
     ]
    }
   ],
   "source": [
    "epochs, batch_size = 10, 128\n",
    "history = model.fit(X_train, y_train_hot, epochs=epochs, batch_size=batch_size, verbose=1, validation_data=(X_val, y_val_hot), shuffle=True)"
   ]
  },
  {
   "cell_type": "code",
   "execution_count": 38,
   "id": "a6c442ff-a0c2-455d-9ecd-f3a72ab94387",
   "metadata": {},
   "outputs": [
    {
     "data": {
      "text/plain": [
       "<matplotlib.legend.Legend at 0x24d80428c10>"
      ]
     },
     "execution_count": 38,
     "metadata": {},
     "output_type": "execute_result"
    },
    {
     "data": {
      "image/png": "[encoded data removed]",
      "text/plain": [
       "<Figure size 640x480 with 1 Axes>"
      ]
     },
     "metadata": {},
     "output_type": "display_data"
    }
   ],
   "source": [
    "plt.plot(history.history['loss'])\n",
    "plt.plot(history.history['val_loss'])\n",
    "plt.title('model loss')\n",
    "plt.ylabel('loss')\n",
    "plt.xlabel('epoch')\n",
    "plt.legend(['train', 'Validation'], loc='upper left')"
   ]
  },
  {
   "cell_type": "code",
   "execution_count": 39,
   "id": "acb91e58-7c3d-4e6f-8c25-96ac41d2e68e",
   "metadata": {},
   "outputs": [
    {
     "data": {
      "text/plain": [
       "<matplotlib.legend.Legend at 0x24d80465ff0>"
      ]
     },
     "execution_count": 39,
     "metadata": {},
     "output_type": "execute_result"
    },
    {
     "data": {
      "image/png": "[encoded data removed]",
      "text/plain": [
       "<Figure size 640x480 with 1 Axes>"
      ]
     },
     "metadata": {},
     "output_type": "display_data"
    }
   ],
   "source": [
    "plt.plot(history.history['accuracy'])\n",
    "plt.plot(history.history['val_accuracy'])\n",
    "plt.title('Training and validation accuracy')\n",
    "plt.ylabel('accuracy')\n",
    "plt.xlabel('epoch')\n",
    "plt.legend(['train', 'Validation'], loc='upper left')"
   ]
  },
  {
   "cell_type": "code",
   "execution_count": 40,
   "id": "1c55cd4e-27fd-468e-8475-2a4e33898d70",
   "metadata": {},
   "outputs": [
    {
     "name": "stdout",
     "output_type": "stream",
     "text": [
      "300/300 [==============================] - 0s 970us/step\n",
      "f1_score =  0.9439620111197949\n",
      "0.9441433930804501\n",
      "              precision    recall  f1-score   support\n",
      "\n",
      "           0       0.90      1.00      0.95      4808\n",
      "           1       1.00      0.89      0.94      4788\n",
      "\n",
      "    accuracy                           0.94      9596\n",
      "   macro avg       0.95      0.94      0.94      9596\n",
      "weighted avg       0.95      0.94      0.94      9596\n",
      "\n"
     ]
    },
    {
     "data": {
      "text/plain": [
       "<Axes: >"
      ]
     },
     "execution_count": 40,
     "metadata": {},
     "output_type": "execute_result"
    },
    {
     "data": {
      "image/png": "[encoded data removed]",
      "text/plain": [
       "<Figure size 640x480 with 2 Axes>"
      ]
     },
     "metadata": {},
     "output_type": "display_data"
    }
   ],
   "source": [
    "from sklearn.metrics import confusion_matrix,classification_report,accuracy_score\n",
    "\n",
    "y_pred=model.predict(X_test)\n",
    "y_pred = np.argmax(y_pred, axis=-1)\n",
    "y_true = np.argmax(y_test_hot, axis=-1)\n",
    "\n",
    "LABELS = ['No_Freeze','Freeze']\n",
    "cm=confusion_matrix(y_true,y_pred)\n",
    "\n",
    "#print(cm)\n",
    "print('f1_score = ', f1_score(y_true, y_pred, average='weighted'))\n",
    "print(accuracy_score(y_true,y_pred))\n",
    "print(classification_report(y_true,y_pred))\n",
    "sns.heatmap(cm, cmap=\"YlGnBu\", xticklabels=LABELS, yticklabels=LABELS, annot=True, fmt = '.2f')"
   ]
  }
 ],
 "metadata": {
  "kernelspec": {
   "display_name": "Python 3 (ipykernel)",
   "language": "python",
   "name": "python3"
  },
  "language_info": {
   "codemirror_mode": {
    "name": "ipython",
    "version": 3
   },
   "file_extension": ".py",
   "mimetype": "text/x-python",
   "name": "python",
   "nbconvert_exporter": "python",
   "pygments_lexer": "ipython3",
   "version": "3.10.13"
  }
 },
 "nbformat": 4,
 "nbformat_minor": 5
}
