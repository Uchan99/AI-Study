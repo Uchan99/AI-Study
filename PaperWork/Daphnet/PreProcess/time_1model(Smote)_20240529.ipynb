{
 "cells": [
  {
   "cell_type": "code",
   "execution_count": 1,
   "id": "40ad79fd",
   "metadata": {},
   "outputs": [
    {
     "name": "stderr",
     "output_type": "stream",
     "text": [
      "2024-05-30 07:35:58.014694: E tensorflow/compiler/xla/stream_executor/cuda/cuda_dnn.cc:9360] Unable to register cuDNN factory: Attempting to register factory for plugin cuDNN when one has already been registered\n",
      "2024-05-30 07:35:58.014798: E tensorflow/compiler/xla/stream_executor/cuda/cuda_fft.cc:609] Unable to register cuFFT factory: Attempting to register factory for plugin cuFFT when one has already been registered\n",
      "2024-05-30 07:35:58.014837: E tensorflow/compiler/xla/stream_executor/cuda/cuda_blas.cc:1537] Unable to register cuBLAS factory: Attempting to register factory for plugin cuBLAS when one has already been registered\n",
      "2024-05-30 07:35:58.023858: I tensorflow/core/platform/cpu_feature_guard.cc:183] This TensorFlow binary is optimized to use available CPU instructions in performance-critical operations.\n",
      "To enable the following instructions: SSE3 SSE4.1 SSE4.2 AVX, in other operations, rebuild TensorFlow with the appropriate compiler flags.\n"
     ]
    }
   ],
   "source": [
    "import numpy as np\n",
    "import tensorflow as tf\n",
    "from tensorflow import keras\n",
    "\n",
    "import pandas as pd\n",
    "import seaborn as sns\n",
    "from pylab import rcParams\n",
    "import matplotlib.pyplot as plt\n",
    "from matplotlib import rc\n",
    "from pandas.plotting import register_matplotlib_converters\n",
    "from sklearn.model_selection import train_test_split\n",
    "from sklearn.metrics import precision_score, recall_score, f1_score\n",
    "\n",
    "from pandas import read_csv, unique\n",
    "\n",
    "import numpy as np\n",
    "import pandas as pd\n",
    "\n",
    "from scipy.interpolate import interp1d\n",
    "from scipy.stats import mode\n",
    "\n",
    "from sklearn.preprocessing import LabelEncoder\n",
    "from sklearn.metrics import classification_report, confusion_matrix, ConfusionMatrixDisplay\n",
    "\n",
    "from tensorflow import stack\n",
    "from tensorflow.keras.utils import to_categorical\n",
    "from keras.models import Sequential\n",
    "from tensorflow.keras.layers import Bidirectional, LSTM, Dropout, Dense\n",
    "from keras.layers import Dense, GlobalAveragePooling1D, BatchNormalization, MaxPool1D, Reshape, Activation\n",
    "from tensorflow.keras.layers import Conv1D, Flatten, Reshape, MaxPooling1D\n",
    "from keras.callbacks import ModelCheckpoint, EarlyStopping\n",
    "import matplotlib.pyplot as plt"
   ]
  },
  {
   "cell_type": "code",
   "execution_count": 2,
   "id": "fd4e04d1",
   "metadata": {},
   "outputs": [],
   "source": [
    "df = pd.read_csv('dataset/features/time_1.csv')"
   ]
  },
  {
   "cell_type": "code",
   "execution_count": 3,
   "id": "8edc6ded",
   "metadata": {
    "scrolled": true
   },
   "outputs": [
    {
     "name": "stdout",
     "output_type": "stream",
     "text": [
      "<class 'pandas.core.frame.DataFrame'>\n",
      "RangeIndex: 12658 entries, 0 to 12657\n",
      "Data columns (total 46 columns):\n",
      " #   Column    Non-Null Count  Dtype  \n",
      "---  ------    --------------  -----  \n",
      " 0   0         12658 non-null  int64  \n",
      " 1   mean_A_F  12658 non-null  float64\n",
      " 2   var_A_F   12658 non-null  float64\n",
      " 3   std_A_F   12658 non-null  float64\n",
      " 4   rms_A_F   12658 non-null  float64\n",
      " 5   mav_A_F   12658 non-null  float64\n",
      " 6   mean_A_V  12658 non-null  float64\n",
      " 7   var_A_V   12658 non-null  float64\n",
      " 8   std_A_V   12658 non-null  float64\n",
      " 9   rms_A_V   12658 non-null  float64\n",
      " 10  mav_A_V   12658 non-null  float64\n",
      " 11  mean_A_L  12658 non-null  float64\n",
      " 12  var_A_L   12658 non-null  float64\n",
      " 13  std_A_L   12658 non-null  float64\n",
      " 14  rms_A_L   12658 non-null  float64\n",
      " 15  mav_A_L   12658 non-null  float64\n",
      " 16  mean_L_F  12658 non-null  float64\n",
      " 17  var_L_F   12658 non-null  float64\n",
      " 18  std_L_F   12658 non-null  float64\n",
      " 19  rms_L_F   12658 non-null  float64\n",
      " 20  mav_L_F   12658 non-null  float64\n",
      " 21  mean_L_V  12658 non-null  float64\n",
      " 22  var_L_V   12658 non-null  float64\n",
      " 23  std_L_V   12658 non-null  float64\n",
      " 24  rms_L_V   12658 non-null  float64\n",
      " 25  mav_L_V   12658 non-null  float64\n",
      " 26  mean_L_L  12658 non-null  float64\n",
      " 27  var_L_L   12658 non-null  float64\n",
      " 28  std_L_L   12658 non-null  float64\n",
      " 29  rms_L_L   12658 non-null  float64\n",
      " 30  mav_L_L   12658 non-null  float64\n",
      " 31  mean_T_F  12658 non-null  float64\n",
      " 32  var_T_F   12658 non-null  float64\n",
      " 33  std_T_F   12658 non-null  float64\n",
      " 34  rms_T_F   12658 non-null  float64\n",
      " 35  mav_T_F   12658 non-null  float64\n",
      " 36  mean_T_V  12658 non-null  float64\n",
      " 37  var_T_V   12658 non-null  float64\n",
      " 38  std_T_V   12658 non-null  float64\n",
      " 39  rms_T_V   12658 non-null  float64\n",
      " 40  mav_T_V   12658 non-null  float64\n",
      " 41  mean_T_L  12658 non-null  float64\n",
      " 42  var_T_L   12658 non-null  float64\n",
      " 43  std_T_L   12658 non-null  float64\n",
      " 44  rms_T_L   12658 non-null  float64\n",
      " 45  mav_T_L   12658 non-null  float64\n",
      "dtypes: float64(45), int64(1)\n",
      "memory usage: 4.4 MB\n"
     ]
    }
   ],
   "source": [
    "df.info()"
   ]
  },
  {
   "cell_type": "code",
   "execution_count": 4,
   "id": "0f2e2e21",
   "metadata": {},
   "outputs": [
    {
     "data": {
      "text/plain": [
       "(12658, 46)"
      ]
     },
     "execution_count": 4,
     "metadata": {},
     "output_type": "execute_result"
    }
   ],
   "source": [
    "df.shape"
   ]
  },
  {
   "cell_type": "code",
   "execution_count": 5,
   "id": "4de0c3c7",
   "metadata": {},
   "outputs": [
    {
     "data": {
      "text/plain": [
       "0    10804\n",
       "1     1617\n",
       "2      237\n",
       "Name: 0, dtype: int64"
      ]
     },
     "execution_count": 5,
     "metadata": {},
     "output_type": "execute_result"
    }
   ],
   "source": [
    "df['0'].value_counts()"
   ]
  },
  {
   "cell_type": "code",
   "execution_count": 6,
   "id": "9b021e86",
   "metadata": {},
   "outputs": [],
   "source": [
    "# status 열에서 값이 0인 행 제거\n",
    "df = df[df['0'] != 0]\n",
    "\n",
    "# status 열에서 값이 1인 행을 0으로, 값이 2인 행을 1로 바꾸기\n",
    "df['0'] = df['0'].replace({1: 0, 2: 1})"
   ]
  },
  {
   "cell_type": "code",
   "execution_count": 7,
   "id": "01a51673",
   "metadata": {},
   "outputs": [
    {
     "data": {
      "text/plain": [
       "0    1617\n",
       "1     237\n",
       "Name: 0, dtype: int64"
      ]
     },
     "execution_count": 7,
     "metadata": {},
     "output_type": "execute_result"
    }
   ],
   "source": [
    "df['0'].value_counts()"
   ]
  },
  {
   "cell_type": "code",
   "execution_count": 8,
   "id": "afd4155d",
   "metadata": {},
   "outputs": [
    {
     "data": {
      "image/png": "[encoded data removed]",
      "text/plain": [
       "<Figure size 640x480 with 1 Axes>"
      ]
     },
     "metadata": {},
     "output_type": "display_data"
    }
   ],
   "source": [
    "import pandas as pd\n",
    "import seaborn as sns\n",
    "import matplotlib.pyplot as plt\n",
    "\n",
    "# Assuming 'df' is your DataFrame and '0' is the column name\n",
    "# Ensure the column is of categorical dtype\n",
    "df['0'] = df['0'].astype('category')\n",
    "\n",
    "# Now plot\n",
    "sns.countplot(data=df, x=\"0\")\n",
    "plt.xlabel(\"Status\")\n",
    "plt.ylabel(\"Count\")\n",
    "plt.show()"
   ]
  },
  {
   "cell_type": "code",
   "execution_count": 9,
   "id": "be76ffa7",
   "metadata": {},
   "outputs": [
    {
     "data": {
      "text/html": [
       "<div>\n",
       "<style scoped>\n",
       "    .dataframe tbody tr th:only-of-type {\n",
       "        vertical-align: middle;\n",
       "    }\n",
       "\n",
       "    .dataframe tbody tr th {\n",
       "        vertical-align: top;\n",
       "    }\n",
       "\n",
       "    .dataframe thead th {\n",
       "        text-align: right;\n",
       "    }\n",
       "</style>\n",
       "<table border=\"1\" class=\"dataframe\">\n",
       "  <thead>\n",
       "    <tr style=\"text-align: right;\">\n",
       "      <th></th>\n",
       "      <th>mean_A_F</th>\n",
       "      <th>var_A_F</th>\n",
       "      <th>std_A_F</th>\n",
       "      <th>rms_A_F</th>\n",
       "      <th>mav_A_F</th>\n",
       "      <th>mean_A_V</th>\n",
       "      <th>var_A_V</th>\n",
       "      <th>std_A_V</th>\n",
       "      <th>rms_A_V</th>\n",
       "      <th>mav_A_V</th>\n",
       "      <th>...</th>\n",
       "      <th>mean_T_V</th>\n",
       "      <th>var_T_V</th>\n",
       "      <th>std_T_V</th>\n",
       "      <th>rms_T_V</th>\n",
       "      <th>mav_T_V</th>\n",
       "      <th>mean_T_L</th>\n",
       "      <th>var_T_L</th>\n",
       "      <th>std_T_L</th>\n",
       "      <th>rms_T_L</th>\n",
       "      <th>mav_T_L</th>\n",
       "    </tr>\n",
       "  </thead>\n",
       "  <tbody>\n",
       "    <tr>\n",
       "      <th>10804</th>\n",
       "      <td>-283.375000</td>\n",
       "      <td>720704.859375</td>\n",
       "      <td>848.943378</td>\n",
       "      <td>894.989525</td>\n",
       "      <td>459.000000</td>\n",
       "      <td>1017.812500</td>\n",
       "      <td>475692.152344</td>\n",
       "      <td>689.704395</td>\n",
       "      <td>1229.485436</td>\n",
       "      <td>1038.875000</td>\n",
       "      <td>...</td>\n",
       "      <td>1025.421875</td>\n",
       "      <td>47970.493896</td>\n",
       "      <td>219.021674</td>\n",
       "      <td>1048.551628</td>\n",
       "      <td>1025.421875</td>\n",
       "      <td>109.609375</td>\n",
       "      <td>21488.425537</td>\n",
       "      <td>146.589309</td>\n",
       "      <td>183.037266</td>\n",
       "      <td>158.578125</td>\n",
       "    </tr>\n",
       "    <tr>\n",
       "      <th>10805</th>\n",
       "      <td>-286.781250</td>\n",
       "      <td>353485.108398</td>\n",
       "      <td>594.546136</td>\n",
       "      <td>660.097412</td>\n",
       "      <td>381.593750</td>\n",
       "      <td>1025.765625</td>\n",
       "      <td>186732.773193</td>\n",
       "      <td>432.125877</td>\n",
       "      <td>1113.071377</td>\n",
       "      <td>1043.515625</td>\n",
       "      <td>...</td>\n",
       "      <td>988.375000</td>\n",
       "      <td>29664.109375</td>\n",
       "      <td>172.232719</td>\n",
       "      <td>1003.269281</td>\n",
       "      <td>988.375000</td>\n",
       "      <td>136.125000</td>\n",
       "      <td>28641.265625</td>\n",
       "      <td>169.237306</td>\n",
       "      <td>217.189505</td>\n",
       "      <td>177.593750</td>\n",
       "    </tr>\n",
       "    <tr>\n",
       "      <th>10806</th>\n",
       "      <td>-276.390625</td>\n",
       "      <td>318946.081787</td>\n",
       "      <td>564.753116</td>\n",
       "      <td>628.758984</td>\n",
       "      <td>471.296875</td>\n",
       "      <td>927.390625</td>\n",
       "      <td>159429.738037</td>\n",
       "      <td>399.286536</td>\n",
       "      <td>1009.694562</td>\n",
       "      <td>927.390625</td>\n",
       "      <td>...</td>\n",
       "      <td>1024.031250</td>\n",
       "      <td>73886.686523</td>\n",
       "      <td>271.821056</td>\n",
       "      <td>1059.493600</td>\n",
       "      <td>1024.031250</td>\n",
       "      <td>5.390625</td>\n",
       "      <td>22899.519287</td>\n",
       "      <td>151.325871</td>\n",
       "      <td>151.421855</td>\n",
       "      <td>117.203125</td>\n",
       "    </tr>\n",
       "    <tr>\n",
       "      <th>10807</th>\n",
       "      <td>-270.437500</td>\n",
       "      <td>165594.683594</td>\n",
       "      <td>406.933267</td>\n",
       "      <td>488.601192</td>\n",
       "      <td>359.343750</td>\n",
       "      <td>949.718750</td>\n",
       "      <td>68043.170898</td>\n",
       "      <td>260.850859</td>\n",
       "      <td>984.890286</td>\n",
       "      <td>949.718750</td>\n",
       "      <td>...</td>\n",
       "      <td>1031.984375</td>\n",
       "      <td>178930.234131</td>\n",
       "      <td>423.001459</td>\n",
       "      <td>1115.312505</td>\n",
       "      <td>1031.984375</td>\n",
       "      <td>23.562500</td>\n",
       "      <td>33986.996094</td>\n",
       "      <td>184.355624</td>\n",
       "      <td>185.855286</td>\n",
       "      <td>136.343750</td>\n",
       "    </tr>\n",
       "    <tr>\n",
       "      <th>10808</th>\n",
       "      <td>-268.734375</td>\n",
       "      <td>148727.976318</td>\n",
       "      <td>385.652663</td>\n",
       "      <td>470.049083</td>\n",
       "      <td>328.546875</td>\n",
       "      <td>933.781250</td>\n",
       "      <td>86459.295898</td>\n",
       "      <td>294.039616</td>\n",
       "      <td>978.982492</td>\n",
       "      <td>942.031250</td>\n",
       "      <td>...</td>\n",
       "      <td>998.390625</td>\n",
       "      <td>58966.175537</td>\n",
       "      <td>242.829519</td>\n",
       "      <td>1027.496966</td>\n",
       "      <td>998.390625</td>\n",
       "      <td>23.000000</td>\n",
       "      <td>32503.062500</td>\n",
       "      <td>180.286057</td>\n",
       "      <td>181.747249</td>\n",
       "      <td>125.750000</td>\n",
       "    </tr>\n",
       "    <tr>\n",
       "      <th>...</th>\n",
       "      <td>...</td>\n",
       "      <td>...</td>\n",
       "      <td>...</td>\n",
       "      <td>...</td>\n",
       "      <td>...</td>\n",
       "      <td>...</td>\n",
       "      <td>...</td>\n",
       "      <td>...</td>\n",
       "      <td>...</td>\n",
       "      <td>...</td>\n",
       "      <td>...</td>\n",
       "      <td>...</td>\n",
       "      <td>...</td>\n",
       "      <td>...</td>\n",
       "      <td>...</td>\n",
       "      <td>...</td>\n",
       "      <td>...</td>\n",
       "      <td>...</td>\n",
       "      <td>...</td>\n",
       "      <td>...</td>\n",
       "      <td>...</td>\n",
       "    </tr>\n",
       "    <tr>\n",
       "      <th>12653</th>\n",
       "      <td>99.156250</td>\n",
       "      <td>403.600586</td>\n",
       "      <td>20.089813</td>\n",
       "      <td>101.170957</td>\n",
       "      <td>99.156250</td>\n",
       "      <td>998.531250</td>\n",
       "      <td>400.092773</td>\n",
       "      <td>20.002319</td>\n",
       "      <td>998.731571</td>\n",
       "      <td>998.531250</td>\n",
       "      <td>...</td>\n",
       "      <td>992.484375</td>\n",
       "      <td>2499.218506</td>\n",
       "      <td>49.992184</td>\n",
       "      <td>993.742649</td>\n",
       "      <td>992.484375</td>\n",
       "      <td>-215.578125</td>\n",
       "      <td>680.618896</td>\n",
       "      <td>26.088674</td>\n",
       "      <td>217.150977</td>\n",
       "      <td>215.578125</td>\n",
       "    </tr>\n",
       "    <tr>\n",
       "      <th>12654</th>\n",
       "      <td>225.734375</td>\n",
       "      <td>785.913818</td>\n",
       "      <td>28.034154</td>\n",
       "      <td>227.468507</td>\n",
       "      <td>225.734375</td>\n",
       "      <td>982.265625</td>\n",
       "      <td>1042.445068</td>\n",
       "      <td>32.286918</td>\n",
       "      <td>982.796115</td>\n",
       "      <td>982.265625</td>\n",
       "      <td>...</td>\n",
       "      <td>975.250000</td>\n",
       "      <td>2075.250000</td>\n",
       "      <td>45.554912</td>\n",
       "      <td>976.313378</td>\n",
       "      <td>975.250000</td>\n",
       "      <td>-231.062500</td>\n",
       "      <td>873.183594</td>\n",
       "      <td>29.549680</td>\n",
       "      <td>232.944333</td>\n",
       "      <td>231.062500</td>\n",
       "    </tr>\n",
       "    <tr>\n",
       "      <th>12655</th>\n",
       "      <td>247.750000</td>\n",
       "      <td>121800.500000</td>\n",
       "      <td>348.999284</td>\n",
       "      <td>427.995984</td>\n",
       "      <td>301.937500</td>\n",
       "      <td>970.578125</td>\n",
       "      <td>32596.025146</td>\n",
       "      <td>180.543693</td>\n",
       "      <td>987.227391</td>\n",
       "      <td>970.578125</td>\n",
       "      <td>...</td>\n",
       "      <td>991.062500</td>\n",
       "      <td>5452.558594</td>\n",
       "      <td>73.841442</td>\n",
       "      <td>993.809558</td>\n",
       "      <td>991.062500</td>\n",
       "      <td>-192.703125</td>\n",
       "      <td>1679.771240</td>\n",
       "      <td>40.985012</td>\n",
       "      <td>197.013364</td>\n",
       "      <td>192.703125</td>\n",
       "    </tr>\n",
       "    <tr>\n",
       "      <th>12656</th>\n",
       "      <td>238.593750</td>\n",
       "      <td>52313.991211</td>\n",
       "      <td>228.722520</td>\n",
       "      <td>330.516216</td>\n",
       "      <td>238.593750</td>\n",
       "      <td>986.046875</td>\n",
       "      <td>10855.138428</td>\n",
       "      <td>104.187996</td>\n",
       "      <td>991.535969</td>\n",
       "      <td>986.046875</td>\n",
       "      <td>...</td>\n",
       "      <td>997.406250</td>\n",
       "      <td>1663.584961</td>\n",
       "      <td>40.787069</td>\n",
       "      <td>998.239857</td>\n",
       "      <td>997.406250</td>\n",
       "      <td>-227.937500</td>\n",
       "      <td>1225.683594</td>\n",
       "      <td>35.009764</td>\n",
       "      <td>230.610467</td>\n",
       "      <td>227.937500</td>\n",
       "    </tr>\n",
       "    <tr>\n",
       "      <th>12657</th>\n",
       "      <td>270.109375</td>\n",
       "      <td>169820.253662</td>\n",
       "      <td>412.092530</td>\n",
       "      <td>492.726423</td>\n",
       "      <td>326.515625</td>\n",
       "      <td>967.296875</td>\n",
       "      <td>21719.208740</td>\n",
       "      <td>147.374383</td>\n",
       "      <td>978.459224</td>\n",
       "      <td>967.296875</td>\n",
       "      <td>...</td>\n",
       "      <td>993.296875</td>\n",
       "      <td>6310.208740</td>\n",
       "      <td>79.436822</td>\n",
       "      <td>996.468209</td>\n",
       "      <td>993.296875</td>\n",
       "      <td>-201.750000</td>\n",
       "      <td>2839.562500</td>\n",
       "      <td>53.287545</td>\n",
       "      <td>208.668697</td>\n",
       "      <td>201.750000</td>\n",
       "    </tr>\n",
       "  </tbody>\n",
       "</table>\n",
       "<p>1854 rows × 45 columns</p>\n",
       "</div>"
      ],
      "text/plain": [
       "         mean_A_F        var_A_F     std_A_F     rms_A_F     mav_A_F  \\\n",
       "10804 -283.375000  720704.859375  848.943378  894.989525  459.000000   \n",
       "10805 -286.781250  353485.108398  594.546136  660.097412  381.593750   \n",
       "10806 -276.390625  318946.081787  564.753116  628.758984  471.296875   \n",
       "10807 -270.437500  165594.683594  406.933267  488.601192  359.343750   \n",
       "10808 -268.734375  148727.976318  385.652663  470.049083  328.546875   \n",
       "...           ...            ...         ...         ...         ...   \n",
       "12653   99.156250     403.600586   20.089813  101.170957   99.156250   \n",
       "12654  225.734375     785.913818   28.034154  227.468507  225.734375   \n",
       "12655  247.750000  121800.500000  348.999284  427.995984  301.937500   \n",
       "12656  238.593750   52313.991211  228.722520  330.516216  238.593750   \n",
       "12657  270.109375  169820.253662  412.092530  492.726423  326.515625   \n",
       "\n",
       "          mean_A_V        var_A_V     std_A_V      rms_A_V      mav_A_V  ...  \\\n",
       "10804  1017.812500  475692.152344  689.704395  1229.485436  1038.875000  ...   \n",
       "10805  1025.765625  186732.773193  432.125877  1113.071377  1043.515625  ...   \n",
       "10806   927.390625  159429.738037  399.286536  1009.694562   927.390625  ...   \n",
       "10807   949.718750   68043.170898  260.850859   984.890286   949.718750  ...   \n",
       "10808   933.781250   86459.295898  294.039616   978.982492   942.031250  ...   \n",
       "...            ...            ...         ...          ...          ...  ...   \n",
       "12653   998.531250     400.092773   20.002319   998.731571   998.531250  ...   \n",
       "12654   982.265625    1042.445068   32.286918   982.796115   982.265625  ...   \n",
       "12655   970.578125   32596.025146  180.543693   987.227391   970.578125  ...   \n",
       "12656   986.046875   10855.138428  104.187996   991.535969   986.046875  ...   \n",
       "12657   967.296875   21719.208740  147.374383   978.459224   967.296875  ...   \n",
       "\n",
       "          mean_T_V        var_T_V     std_T_V      rms_T_V      mav_T_V  \\\n",
       "10804  1025.421875   47970.493896  219.021674  1048.551628  1025.421875   \n",
       "10805   988.375000   29664.109375  172.232719  1003.269281   988.375000   \n",
       "10806  1024.031250   73886.686523  271.821056  1059.493600  1024.031250   \n",
       "10807  1031.984375  178930.234131  423.001459  1115.312505  1031.984375   \n",
       "10808   998.390625   58966.175537  242.829519  1027.496966   998.390625   \n",
       "...            ...            ...         ...          ...          ...   \n",
       "12653   992.484375    2499.218506   49.992184   993.742649   992.484375   \n",
       "12654   975.250000    2075.250000   45.554912   976.313378   975.250000   \n",
       "12655   991.062500    5452.558594   73.841442   993.809558   991.062500   \n",
       "12656   997.406250    1663.584961   40.787069   998.239857   997.406250   \n",
       "12657   993.296875    6310.208740   79.436822   996.468209   993.296875   \n",
       "\n",
       "         mean_T_L       var_T_L     std_T_L     rms_T_L     mav_T_L  \n",
       "10804  109.609375  21488.425537  146.589309  183.037266  158.578125  \n",
       "10805  136.125000  28641.265625  169.237306  217.189505  177.593750  \n",
       "10806    5.390625  22899.519287  151.325871  151.421855  117.203125  \n",
       "10807   23.562500  33986.996094  184.355624  185.855286  136.343750  \n",
       "10808   23.000000  32503.062500  180.286057  181.747249  125.750000  \n",
       "...           ...           ...         ...         ...         ...  \n",
       "12653 -215.578125    680.618896   26.088674  217.150977  215.578125  \n",
       "12654 -231.062500    873.183594   29.549680  232.944333  231.062500  \n",
       "12655 -192.703125   1679.771240   40.985012  197.013364  192.703125  \n",
       "12656 -227.937500   1225.683594   35.009764  230.610467  227.937500  \n",
       "12657 -201.750000   2839.562500   53.287545  208.668697  201.750000  \n",
       "\n",
       "[1854 rows x 45 columns]"
      ]
     },
     "execution_count": 9,
     "metadata": {},
     "output_type": "execute_result"
    }
   ],
   "source": [
    "X = df.drop(['0'], axis=1)\n",
    "X"
   ]
  },
  {
   "cell_type": "code",
   "execution_count": 10,
   "id": "dd9f19ac",
   "metadata": {},
   "outputs": [
    {
     "data": {
      "text/plain": [
       "10804    0\n",
       "10805    0\n",
       "10806    0\n",
       "10807    0\n",
       "10808    0\n",
       "        ..\n",
       "12653    1\n",
       "12654    1\n",
       "12655    1\n",
       "12656    1\n",
       "12657    1\n",
       "Name: 0, Length: 1854, dtype: category\n",
       "Categories (2, int64): [0, 1]"
      ]
     },
     "execution_count": 10,
     "metadata": {},
     "output_type": "execute_result"
    }
   ],
   "source": [
    "y = df['0']\n",
    "y"
   ]
  },
  {
   "cell_type": "code",
   "execution_count": 11,
   "id": "19b2bbdc",
   "metadata": {},
   "outputs": [
    {
     "data": {
      "text/plain": [
       "array([[1., 0.],\n",
       "       [1., 0.],\n",
       "       [1., 0.],\n",
       "       ...,\n",
       "       [0., 1.],\n",
       "       [0., 1.],\n",
       "       [0., 1.]], dtype=float32)"
      ]
     },
     "execution_count": 11,
     "metadata": {},
     "output_type": "execute_result"
    }
   ],
   "source": [
    "Y = to_categorical(y)\n",
    "Y"
   ]
  },
  {
   "cell_type": "code",
   "execution_count": 12,
   "id": "3e0a4c15",
   "metadata": {},
   "outputs": [],
   "source": [
    "X_train, X_test, y_train, y_test =  train_test_split(X, Y, test_size = 0.2, random_state = 0, stratify = y)"
   ]
  },
  {
   "cell_type": "code",
   "execution_count": 13,
   "id": "ccdf4bff",
   "metadata": {},
   "outputs": [],
   "source": [
    "X_train, X_val, y_train, y_val = train_test_split(X_train,y_train , test_size = 0.2, random_state = 0, stratify = y_train)"
   ]
  },
  {
   "cell_type": "code",
   "execution_count": 14,
   "id": "942a66d9",
   "metadata": {},
   "outputs": [
    {
     "data": {
      "text/plain": [
       "((1186, 45), (371, 45), (1186, 2), (371, 2))"
      ]
     },
     "execution_count": 14,
     "metadata": {},
     "output_type": "execute_result"
    }
   ],
   "source": [
    "X_train.shape, X_test.shape, y_train.shape, y_test.shape"
   ]
  },
  {
   "cell_type": "code",
   "execution_count": 15,
   "id": "3629bb16",
   "metadata": {},
   "outputs": [],
   "source": [
    "n_features, n_outputs = X_train.shape[1], y_train.shape[1]"
   ]
  },
  {
   "cell_type": "code",
   "execution_count": 16,
   "id": "636448ff",
   "metadata": {},
   "outputs": [
    {
     "name": "stdout",
     "output_type": "stream",
     "text": [
      "Model: \"sequential\"\n",
      "_________________________________________________________________\n",
      " Layer (type)                Output Shape              Param #   \n",
      "=================================================================\n",
      " dense (Dense)               (None, 64)                2944      \n",
      "                                                                 \n",
      " dense_1 (Dense)             (None, 128)               8320      \n",
      "                                                                 \n",
      " batch_normalization (Batch  (None, 128)               512       \n",
      " Normalization)                                                  \n",
      "                                                                 \n",
      " dropout (Dropout)           (None, 128)               0         \n",
      "                                                                 \n",
      " flatten (Flatten)           (None, 128)               0         \n",
      "                                                                 \n",
      " dense_2 (Dense)             (None, 2)                 258       \n",
      "                                                                 \n",
      "=================================================================\n",
      "Total params: 12034 (47.01 KB)\n",
      "Trainable params: 11778 (46.01 KB)\n",
      "Non-trainable params: 256 (1.00 KB)\n",
      "_________________________________________________________________\n"
     ]
    }
   ],
   "source": [
    "model = keras.Sequential()\n",
    "model.add(keras.layers.Dense(64, activation='relu', input_shape=(n_features,)))\n",
    "model.add(keras.layers.Dense(128))\n",
    "model.add(BatchNormalization())\n",
    "model.add(Dropout(0.5))\n",
    "model.add(Flatten())\n",
    "model.add(Dense(n_outputs, activation='softmax'))\n",
    "model.compile(loss='categorical_crossentropy', optimizer='adam', metrics=['accuracy'])\n",
    "model.summary()"
   ]
  },
  {
   "cell_type": "code",
   "execution_count": 17,
   "id": "346c80cc",
   "metadata": {},
   "outputs": [
    {
     "name": "stdout",
     "output_type": "stream",
     "text": [
      "Epoch 1/50\n",
      "19/19 [==============================] - 1s 11ms/step - loss: 0.9651 - accuracy: 0.5396 - val_loss: 0.6361 - val_accuracy: 0.7811\n",
      "Epoch 2/50\n",
      "19/19 [==============================] - 0s 3ms/step - loss: 0.7736 - accuracy: 0.6653 - val_loss: 0.5242 - val_accuracy: 0.8316\n",
      "Epoch 3/50\n",
      "19/19 [==============================] - 0s 3ms/step - loss: 0.6798 - accuracy: 0.7201 - val_loss: 0.7856 - val_accuracy: 0.6768\n",
      "Epoch 4/50\n",
      "19/19 [==============================] - 0s 3ms/step - loss: 0.6225 - accuracy: 0.7740 - val_loss: 0.5679 - val_accuracy: 0.7677\n",
      "Epoch 5/50\n",
      "19/19 [==============================] - 0s 3ms/step - loss: 0.5704 - accuracy: 0.7808 - val_loss: 0.4271 - val_accuracy: 0.8586\n",
      "Epoch 6/50\n",
      "19/19 [==============================] - 0s 3ms/step - loss: 0.5245 - accuracy: 0.8162 - val_loss: 0.4271 - val_accuracy: 0.8552\n",
      "Epoch 7/50\n",
      "19/19 [==============================] - 0s 3ms/step - loss: 0.5001 - accuracy: 0.8331 - val_loss: 0.4046 - val_accuracy: 0.8721\n",
      "Epoch 8/50\n",
      "19/19 [==============================] - 0s 3ms/step - loss: 0.5435 - accuracy: 0.8162 - val_loss: 0.3755 - val_accuracy: 0.8687\n",
      "Epoch 9/50\n",
      "19/19 [==============================] - 0s 3ms/step - loss: 0.4888 - accuracy: 0.8322 - val_loss: 0.3798 - val_accuracy: 0.8653\n",
      "Epoch 10/50\n",
      "19/19 [==============================] - 0s 12ms/step - loss: 0.4768 - accuracy: 0.8465 - val_loss: 0.3798 - val_accuracy: 0.8687\n",
      "Epoch 11/50\n",
      "19/19 [==============================] - 0s 3ms/step - loss: 0.4416 - accuracy: 0.8508 - val_loss: 0.3899 - val_accuracy: 0.8687\n",
      "Epoch 12/50\n",
      "19/19 [==============================] - 0s 3ms/step - loss: 0.4448 - accuracy: 0.8508 - val_loss: 0.3752 - val_accuracy: 0.8687\n",
      "Epoch 13/50\n",
      "19/19 [==============================] - 0s 3ms/step - loss: 0.4389 - accuracy: 0.8575 - val_loss: 0.3775 - val_accuracy: 0.8687\n",
      "Epoch 14/50\n",
      "19/19 [==============================] - 0s 3ms/step - loss: 0.4972 - accuracy: 0.8482 - val_loss: 0.3899 - val_accuracy: 0.8620\n",
      "Epoch 15/50\n",
      "19/19 [==============================] - 0s 3ms/step - loss: 0.4519 - accuracy: 0.8575 - val_loss: 0.3874 - val_accuracy: 0.8687\n",
      "Epoch 16/50\n",
      "19/19 [==============================] - 0s 3ms/step - loss: 0.4386 - accuracy: 0.8592 - val_loss: 0.3801 - val_accuracy: 0.8687\n",
      "Epoch 17/50\n",
      "19/19 [==============================] - 0s 3ms/step - loss: 0.4521 - accuracy: 0.8575 - val_loss: 0.3758 - val_accuracy: 0.8687\n",
      "Epoch 18/50\n",
      "19/19 [==============================] - 0s 3ms/step - loss: 0.4352 - accuracy: 0.8567 - val_loss: 0.3815 - val_accuracy: 0.8721\n",
      "Epoch 19/50\n",
      "19/19 [==============================] - 0s 3ms/step - loss: 0.4253 - accuracy: 0.8617 - val_loss: 0.3727 - val_accuracy: 0.8721\n",
      "Epoch 20/50\n",
      "19/19 [==============================] - 0s 3ms/step - loss: 0.4142 - accuracy: 0.8617 - val_loss: 0.3697 - val_accuracy: 0.8653\n",
      "Epoch 21/50\n",
      "19/19 [==============================] - 0s 3ms/step - loss: 0.4120 - accuracy: 0.8668 - val_loss: 0.3721 - val_accuracy: 0.8721\n",
      "Epoch 22/50\n",
      "19/19 [==============================] - 0s 3ms/step - loss: 0.4130 - accuracy: 0.8592 - val_loss: 0.3727 - val_accuracy: 0.8687\n",
      "Epoch 23/50\n",
      "19/19 [==============================] - 0s 3ms/step - loss: 0.4419 - accuracy: 0.8592 - val_loss: 0.3714 - val_accuracy: 0.8687\n",
      "Epoch 24/50\n",
      "19/19 [==============================] - 0s 3ms/step - loss: 0.4405 - accuracy: 0.8516 - val_loss: 0.3724 - val_accuracy: 0.8653\n",
      "Epoch 25/50\n",
      "19/19 [==============================] - 0s 3ms/step - loss: 0.4091 - accuracy: 0.8642 - val_loss: 0.3696 - val_accuracy: 0.8653\n",
      "Epoch 26/50\n",
      "19/19 [==============================] - 0s 3ms/step - loss: 0.4181 - accuracy: 0.8617 - val_loss: 0.3772 - val_accuracy: 0.8687\n",
      "Epoch 27/50\n",
      "19/19 [==============================] - 0s 3ms/step - loss: 0.4184 - accuracy: 0.8651 - val_loss: 0.3698 - val_accuracy: 0.8653\n",
      "Epoch 28/50\n",
      "19/19 [==============================] - 0s 3ms/step - loss: 0.4004 - accuracy: 0.8575 - val_loss: 0.3744 - val_accuracy: 0.8721\n",
      "Epoch 29/50\n",
      "19/19 [==============================] - 0s 3ms/step - loss: 0.4183 - accuracy: 0.8651 - val_loss: 0.3679 - val_accuracy: 0.8653\n",
      "Epoch 30/50\n",
      "19/19 [==============================] - 0s 3ms/step - loss: 0.4153 - accuracy: 0.8583 - val_loss: 0.3647 - val_accuracy: 0.8687\n",
      "Epoch 31/50\n",
      "19/19 [==============================] - 0s 3ms/step - loss: 0.4179 - accuracy: 0.8626 - val_loss: 0.3651 - val_accuracy: 0.8687\n",
      "Epoch 32/50\n",
      "19/19 [==============================] - 0s 3ms/step - loss: 0.3831 - accuracy: 0.8651 - val_loss: 0.3659 - val_accuracy: 0.8687\n",
      "Epoch 33/50\n",
      "19/19 [==============================] - 0s 3ms/step - loss: 0.4139 - accuracy: 0.8651 - val_loss: 0.3669 - val_accuracy: 0.8687\n",
      "Epoch 34/50\n",
      "19/19 [==============================] - 0s 3ms/step - loss: 0.4002 - accuracy: 0.8634 - val_loss: 0.3670 - val_accuracy: 0.8687\n",
      "Epoch 35/50\n",
      "19/19 [==============================] - 0s 3ms/step - loss: 0.3890 - accuracy: 0.8659 - val_loss: 0.3670 - val_accuracy: 0.8653\n",
      "Epoch 36/50\n",
      "19/19 [==============================] - 0s 3ms/step - loss: 0.3887 - accuracy: 0.8668 - val_loss: 0.3648 - val_accuracy: 0.8687\n",
      "Epoch 37/50\n",
      "19/19 [==============================] - 0s 3ms/step - loss: 0.4050 - accuracy: 0.8634 - val_loss: 0.3666 - val_accuracy: 0.8721\n",
      "Epoch 38/50\n",
      "19/19 [==============================] - 0s 3ms/step - loss: 0.4148 - accuracy: 0.8659 - val_loss: 0.3691 - val_accuracy: 0.8653\n",
      "Epoch 39/50\n",
      "19/19 [==============================] - 0s 3ms/step - loss: 0.4019 - accuracy: 0.8600 - val_loss: 0.3797 - val_accuracy: 0.8721\n",
      "Epoch 40/50\n",
      "19/19 [==============================] - 0s 3ms/step - loss: 0.4017 - accuracy: 0.8659 - val_loss: 0.3701 - val_accuracy: 0.8687\n",
      "Epoch 41/50\n",
      "19/19 [==============================] - 0s 3ms/step - loss: 0.3976 - accuracy: 0.8668 - val_loss: 0.3668 - val_accuracy: 0.8721\n",
      "Epoch 42/50\n",
      "19/19 [==============================] - 0s 3ms/step - loss: 0.3771 - accuracy: 0.8702 - val_loss: 0.3637 - val_accuracy: 0.8687\n",
      "Epoch 43/50\n",
      "19/19 [==============================] - 0s 3ms/step - loss: 0.3788 - accuracy: 0.8659 - val_loss: 0.3632 - val_accuracy: 0.8687\n",
      "Epoch 44/50\n",
      "19/19 [==============================] - 0s 3ms/step - loss: 0.3771 - accuracy: 0.8735 - val_loss: 0.3681 - val_accuracy: 0.8721\n",
      "Epoch 45/50\n",
      "19/19 [==============================] - 0s 3ms/step - loss: 0.3908 - accuracy: 0.8651 - val_loss: 0.3623 - val_accuracy: 0.8687\n",
      "Epoch 46/50\n",
      "19/19 [==============================] - 0s 3ms/step - loss: 0.3966 - accuracy: 0.8567 - val_loss: 0.3644 - val_accuracy: 0.8754\n",
      "Epoch 47/50\n",
      "19/19 [==============================] - 0s 3ms/step - loss: 0.3730 - accuracy: 0.8702 - val_loss: 0.3654 - val_accuracy: 0.8721\n",
      "Epoch 48/50\n",
      "19/19 [==============================] - 0s 3ms/step - loss: 0.3859 - accuracy: 0.8634 - val_loss: 0.3656 - val_accuracy: 0.8754\n",
      "Epoch 49/50\n",
      "19/19 [==============================] - 0s 3ms/step - loss: 0.3860 - accuracy: 0.8626 - val_loss: 0.3644 - val_accuracy: 0.8687\n",
      "Epoch 50/50\n",
      "19/19 [==============================] - 0s 3ms/step - loss: 0.3796 - accuracy: 0.8676 - val_loss: 0.3654 - val_accuracy: 0.8687\n"
     ]
    }
   ],
   "source": [
    "epochs, batch_size = 50, 64\n",
    "history = model.fit(X_train, y_train, epochs=epochs, batch_size=batch_size, verbose=1, validation_data=(X_val, y_val), shuffle=True)"
   ]
  },
  {
   "cell_type": "code",
   "execution_count": 18,
   "id": "7e4bc622",
   "metadata": {},
   "outputs": [
    {
     "data": {
      "text/plain": [
       "<matplotlib.legend.Legend at 0x7f6d26d2a860>"
      ]
     },
     "execution_count": 18,
     "metadata": {},
     "output_type": "execute_result"
    },
    {
     "data": {
      "image/png": "[encoded data removed]",
      "text/plain": [
       "<Figure size 640x480 with 1 Axes>"
      ]
     },
     "metadata": {},
     "output_type": "display_data"
    }
   ],
   "source": [
    "plt.plot(history.history['loss'])\n",
    "plt.plot(history.history['val_loss'])\n",
    "plt.title('model loss')\n",
    "plt.ylabel('loss')\n",
    "plt.xlabel('epoch')\n",
    "plt.legend(['train', 'Validation'], loc='upper left')"
   ]
  },
  {
   "cell_type": "code",
   "execution_count": 19,
   "id": "3fa1c52b",
   "metadata": {},
   "outputs": [
    {
     "data": {
      "text/plain": [
       "<matplotlib.legend.Legend at 0x7f6d2779abf0>"
      ]
     },
     "execution_count": 19,
     "metadata": {},
     "output_type": "execute_result"
    },
    {
     "data": {
      "image/png": "[encoded data removed]",
      "text/plain": [
       "<Figure size 640x480 with 1 Axes>"
      ]
     },
     "metadata": {},
     "output_type": "display_data"
    }
   ],
   "source": [
    "plt.plot(history.history['accuracy'])\n",
    "plt.plot(history.history['val_accuracy'])\n",
    "plt.title('Training and validation accuracy')\n",
    "plt.ylabel('accuracy')\n",
    "plt.xlabel('epoch')\n",
    "plt.legend(['train', 'Validation'], loc='upper left')"
   ]
  },
  {
   "cell_type": "code",
   "execution_count": 20,
   "id": "fe0d75e6",
   "metadata": {},
   "outputs": [
    {
     "name": "stdout",
     "output_type": "stream",
     "text": [
      "12/12 [==============================] - 0s 1ms/step\n",
      "f1_score =  0.8178059610800368\n",
      "0.8706199460916442\n",
      "              precision    recall  f1-score   support\n",
      "\n",
      "           0       0.88      0.99      0.93       324\n",
      "           1       0.33      0.02      0.04        47\n",
      "\n",
      "    accuracy                           0.87       371\n",
      "   macro avg       0.60      0.51      0.49       371\n",
      "weighted avg       0.81      0.87      0.82       371\n",
      "\n"
     ]
    },
    {
     "data": {
      "text/plain": [
       "(<Figure size 700x700 with 1 Axes>,\n",
       " <Axes: xlabel='predicted label', ylabel='true label'>)"
      ]
     },
     "execution_count": 20,
     "metadata": {},
     "output_type": "execute_result"
    },
    {
     "data": {
      "image/png": "[encoded data removed]",
      "text/plain": [
       "<Figure size 700x700 with 1 Axes>"
      ]
     },
     "metadata": {},
     "output_type": "display_data"
    }
   ],
   "source": [
    "from mlxtend.plotting import plot_confusion_matrix\n",
    "from sklearn.metrics import confusion_matrix, classification_report, accuracy_score, f1_score\n",
    "import numpy as np\n",
    "\n",
    "# 모델 예측\n",
    "predy = model.predict(X_test)\n",
    "predy = np.argmax(predy, axis=-1)\n",
    "y_true = np.argmax(y_test, axis=-1)\n",
    "\n",
    "LABELS = ['No_Freeze', 'Freeze']\n",
    "cm = confusion_matrix(y_true, predy)\n",
    "\n",
    "# 결과 출력\n",
    "print('f1_score = ', f1_score(y_true, predy, average='weighted'))\n",
    "print(accuracy_score(y_true, predy))\n",
    "print(classification_report(y_true, predy))\n",
    "\n",
    "# 혼동 행렬 시각화\n",
    "plot_confusion_matrix(conf_mat=cm, class_names=LABELS, show_normed=True, figsize=(7, 7))"
   ]
  },
  {
   "cell_type": "markdown",
   "id": "4cfeb223",
   "metadata": {},
   "source": [
    "### SMOTE() 오버 샘플링"
   ]
  },
  {
   "cell_type": "code",
   "execution_count": 21,
   "id": "af17947e",
   "metadata": {},
   "outputs": [],
   "source": [
    "from imblearn.over_sampling import SMOTE\n",
    "smote = SMOTE(sampling_strategy='auto', random_state=42)\n",
    "X_resampled, y_resampled = smote.fit_resample(df.drop('0', axis=1), df['0'])"
   ]
  },
  {
   "cell_type": "code",
   "execution_count": 22,
   "id": "ec610c8d",
   "metadata": {},
   "outputs": [],
   "source": [
    "df = pd.concat([pd.DataFrame(X_resampled, columns=df.drop('0', axis=1).columns),\n",
    "                         pd.DataFrame({'0': y_resampled})], axis=1)"
   ]
  },
  {
   "cell_type": "code",
   "execution_count": 23,
   "id": "b0ab8cd1",
   "metadata": {},
   "outputs": [
    {
     "name": "stdout",
     "output_type": "stream",
     "text": [
      "0    1617\n",
      "1    1617\n",
      "Name: 0, dtype: int64\n"
     ]
    }
   ],
   "source": [
    "print(df['0'].value_counts())"
   ]
  },
  {
   "cell_type": "code",
   "execution_count": 24,
   "id": "18f55cbc",
   "metadata": {},
   "outputs": [
    {
     "data": {
      "image/png": "[encoded data removed]",
      "text/plain": [
       "<Figure size 640x480 with 1 Axes>"
      ]
     },
     "metadata": {},
     "output_type": "display_data"
    }
   ],
   "source": [
    "import pandas as pd\n",
    "import seaborn as sns\n",
    "import matplotlib.pyplot as plt\n",
    "\n",
    "# Assuming 'df' is your DataFrame and '0' is the column name\n",
    "# Ensure the column is of categorical dtype\n",
    "df['0'] = df['0'].astype('category')\n",
    "\n",
    "# Now plot\n",
    "sns.countplot(data=df, x=\"0\")\n",
    "plt.xlabel(\"Status\")\n",
    "plt.ylabel(\"Count\")\n",
    "plt.show()"
   ]
  },
  {
   "cell_type": "code",
   "execution_count": 25,
   "id": "f21f4f09",
   "metadata": {},
   "outputs": [
    {
     "data": {
      "text/html": [
       "<div>\n",
       "<style scoped>\n",
       "    .dataframe tbody tr th:only-of-type {\n",
       "        vertical-align: middle;\n",
       "    }\n",
       "\n",
       "    .dataframe tbody tr th {\n",
       "        vertical-align: top;\n",
       "    }\n",
       "\n",
       "    .dataframe thead th {\n",
       "        text-align: right;\n",
       "    }\n",
       "</style>\n",
       "<table border=\"1\" class=\"dataframe\">\n",
       "  <thead>\n",
       "    <tr style=\"text-align: right;\">\n",
       "      <th></th>\n",
       "      <th>mean_A_F</th>\n",
       "      <th>var_A_F</th>\n",
       "      <th>std_A_F</th>\n",
       "      <th>rms_A_F</th>\n",
       "      <th>mav_A_F</th>\n",
       "      <th>mean_A_V</th>\n",
       "      <th>var_A_V</th>\n",
       "      <th>std_A_V</th>\n",
       "      <th>rms_A_V</th>\n",
       "      <th>mav_A_V</th>\n",
       "      <th>...</th>\n",
       "      <th>mean_T_V</th>\n",
       "      <th>var_T_V</th>\n",
       "      <th>std_T_V</th>\n",
       "      <th>rms_T_V</th>\n",
       "      <th>mav_T_V</th>\n",
       "      <th>mean_T_L</th>\n",
       "      <th>var_T_L</th>\n",
       "      <th>std_T_L</th>\n",
       "      <th>rms_T_L</th>\n",
       "      <th>mav_T_L</th>\n",
       "    </tr>\n",
       "  </thead>\n",
       "  <tbody>\n",
       "    <tr>\n",
       "      <th>0</th>\n",
       "      <td>-283.375000</td>\n",
       "      <td>720704.859375</td>\n",
       "      <td>848.943378</td>\n",
       "      <td>894.989525</td>\n",
       "      <td>459.000000</td>\n",
       "      <td>1017.812500</td>\n",
       "      <td>475692.152344</td>\n",
       "      <td>689.704395</td>\n",
       "      <td>1229.485436</td>\n",
       "      <td>1038.875000</td>\n",
       "      <td>...</td>\n",
       "      <td>1025.421875</td>\n",
       "      <td>47970.493896</td>\n",
       "      <td>219.021674</td>\n",
       "      <td>1048.551628</td>\n",
       "      <td>1025.421875</td>\n",
       "      <td>109.609375</td>\n",
       "      <td>21488.425537</td>\n",
       "      <td>146.589309</td>\n",
       "      <td>183.037266</td>\n",
       "      <td>158.578125</td>\n",
       "    </tr>\n",
       "    <tr>\n",
       "      <th>1</th>\n",
       "      <td>-286.781250</td>\n",
       "      <td>353485.108398</td>\n",
       "      <td>594.546136</td>\n",
       "      <td>660.097412</td>\n",
       "      <td>381.593750</td>\n",
       "      <td>1025.765625</td>\n",
       "      <td>186732.773193</td>\n",
       "      <td>432.125877</td>\n",
       "      <td>1113.071377</td>\n",
       "      <td>1043.515625</td>\n",
       "      <td>...</td>\n",
       "      <td>988.375000</td>\n",
       "      <td>29664.109375</td>\n",
       "      <td>172.232719</td>\n",
       "      <td>1003.269281</td>\n",
       "      <td>988.375000</td>\n",
       "      <td>136.125000</td>\n",
       "      <td>28641.265625</td>\n",
       "      <td>169.237306</td>\n",
       "      <td>217.189505</td>\n",
       "      <td>177.593750</td>\n",
       "    </tr>\n",
       "    <tr>\n",
       "      <th>2</th>\n",
       "      <td>-276.390625</td>\n",
       "      <td>318946.081787</td>\n",
       "      <td>564.753116</td>\n",
       "      <td>628.758984</td>\n",
       "      <td>471.296875</td>\n",
       "      <td>927.390625</td>\n",
       "      <td>159429.738037</td>\n",
       "      <td>399.286536</td>\n",
       "      <td>1009.694562</td>\n",
       "      <td>927.390625</td>\n",
       "      <td>...</td>\n",
       "      <td>1024.031250</td>\n",
       "      <td>73886.686523</td>\n",
       "      <td>271.821056</td>\n",
       "      <td>1059.493600</td>\n",
       "      <td>1024.031250</td>\n",
       "      <td>5.390625</td>\n",
       "      <td>22899.519287</td>\n",
       "      <td>151.325871</td>\n",
       "      <td>151.421855</td>\n",
       "      <td>117.203125</td>\n",
       "    </tr>\n",
       "    <tr>\n",
       "      <th>3</th>\n",
       "      <td>-270.437500</td>\n",
       "      <td>165594.683594</td>\n",
       "      <td>406.933267</td>\n",
       "      <td>488.601192</td>\n",
       "      <td>359.343750</td>\n",
       "      <td>949.718750</td>\n",
       "      <td>68043.170898</td>\n",
       "      <td>260.850859</td>\n",
       "      <td>984.890286</td>\n",
       "      <td>949.718750</td>\n",
       "      <td>...</td>\n",
       "      <td>1031.984375</td>\n",
       "      <td>178930.234131</td>\n",
       "      <td>423.001459</td>\n",
       "      <td>1115.312505</td>\n",
       "      <td>1031.984375</td>\n",
       "      <td>23.562500</td>\n",
       "      <td>33986.996094</td>\n",
       "      <td>184.355624</td>\n",
       "      <td>185.855286</td>\n",
       "      <td>136.343750</td>\n",
       "    </tr>\n",
       "    <tr>\n",
       "      <th>4</th>\n",
       "      <td>-268.734375</td>\n",
       "      <td>148727.976318</td>\n",
       "      <td>385.652663</td>\n",
       "      <td>470.049083</td>\n",
       "      <td>328.546875</td>\n",
       "      <td>933.781250</td>\n",
       "      <td>86459.295898</td>\n",
       "      <td>294.039616</td>\n",
       "      <td>978.982492</td>\n",
       "      <td>942.031250</td>\n",
       "      <td>...</td>\n",
       "      <td>998.390625</td>\n",
       "      <td>58966.175537</td>\n",
       "      <td>242.829519</td>\n",
       "      <td>1027.496966</td>\n",
       "      <td>998.390625</td>\n",
       "      <td>23.000000</td>\n",
       "      <td>32503.062500</td>\n",
       "      <td>180.286057</td>\n",
       "      <td>181.747249</td>\n",
       "      <td>125.750000</td>\n",
       "    </tr>\n",
       "    <tr>\n",
       "      <th>...</th>\n",
       "      <td>...</td>\n",
       "      <td>...</td>\n",
       "      <td>...</td>\n",
       "      <td>...</td>\n",
       "      <td>...</td>\n",
       "      <td>...</td>\n",
       "      <td>...</td>\n",
       "      <td>...</td>\n",
       "      <td>...</td>\n",
       "      <td>...</td>\n",
       "      <td>...</td>\n",
       "      <td>...</td>\n",
       "      <td>...</td>\n",
       "      <td>...</td>\n",
       "      <td>...</td>\n",
       "      <td>...</td>\n",
       "      <td>...</td>\n",
       "      <td>...</td>\n",
       "      <td>...</td>\n",
       "      <td>...</td>\n",
       "      <td>...</td>\n",
       "    </tr>\n",
       "    <tr>\n",
       "      <th>3229</th>\n",
       "      <td>198.683006</td>\n",
       "      <td>61551.297609</td>\n",
       "      <td>245.059025</td>\n",
       "      <td>317.248897</td>\n",
       "      <td>240.502920</td>\n",
       "      <td>1055.950672</td>\n",
       "      <td>45513.065478</td>\n",
       "      <td>212.775952</td>\n",
       "      <td>1077.281194</td>\n",
       "      <td>1055.950672</td>\n",
       "      <td>...</td>\n",
       "      <td>1014.085041</td>\n",
       "      <td>7662.191316</td>\n",
       "      <td>86.902863</td>\n",
       "      <td>1017.853151</td>\n",
       "      <td>1014.085041</td>\n",
       "      <td>35.598029</td>\n",
       "      <td>4227.239343</td>\n",
       "      <td>64.804404</td>\n",
       "      <td>78.230267</td>\n",
       "      <td>59.917404</td>\n",
       "    </tr>\n",
       "    <tr>\n",
       "      <th>3230</th>\n",
       "      <td>-84.504787</td>\n",
       "      <td>827656.572604</td>\n",
       "      <td>909.114148</td>\n",
       "      <td>913.199855</td>\n",
       "      <td>419.995874</td>\n",
       "      <td>1022.637751</td>\n",
       "      <td>309268.733108</td>\n",
       "      <td>556.080168</td>\n",
       "      <td>1164.080448</td>\n",
       "      <td>1029.071750</td>\n",
       "      <td>...</td>\n",
       "      <td>997.448922</td>\n",
       "      <td>29223.270425</td>\n",
       "      <td>170.696952</td>\n",
       "      <td>1011.972014</td>\n",
       "      <td>997.448922</td>\n",
       "      <td>116.680623</td>\n",
       "      <td>15223.518387</td>\n",
       "      <td>123.223583</td>\n",
       "      <td>199.452643</td>\n",
       "      <td>169.803105</td>\n",
       "    </tr>\n",
       "    <tr>\n",
       "      <th>3231</th>\n",
       "      <td>161.150066</td>\n",
       "      <td>208096.856220</td>\n",
       "      <td>455.958351</td>\n",
       "      <td>483.649320</td>\n",
       "      <td>256.863648</td>\n",
       "      <td>1007.513197</td>\n",
       "      <td>51029.784036</td>\n",
       "      <td>225.510094</td>\n",
       "      <td>1032.529689</td>\n",
       "      <td>1007.513197</td>\n",
       "      <td>...</td>\n",
       "      <td>961.522500</td>\n",
       "      <td>10204.524958</td>\n",
       "      <td>101.015307</td>\n",
       "      <td>966.814199</td>\n",
       "      <td>961.522500</td>\n",
       "      <td>-70.507609</td>\n",
       "      <td>4497.935632</td>\n",
       "      <td>67.053793</td>\n",
       "      <td>100.509752</td>\n",
       "      <td>86.031669</td>\n",
       "    </tr>\n",
       "    <tr>\n",
       "      <th>3232</th>\n",
       "      <td>-114.324504</td>\n",
       "      <td>292843.077487</td>\n",
       "      <td>539.094791</td>\n",
       "      <td>560.103048</td>\n",
       "      <td>362.388232</td>\n",
       "      <td>1035.505036</td>\n",
       "      <td>86544.913767</td>\n",
       "      <td>288.890713</td>\n",
       "      <td>1076.566849</td>\n",
       "      <td>1035.505036</td>\n",
       "      <td>...</td>\n",
       "      <td>1003.938005</td>\n",
       "      <td>44978.489432</td>\n",
       "      <td>209.646106</td>\n",
       "      <td>1026.180046</td>\n",
       "      <td>1003.938005</td>\n",
       "      <td>-22.715506</td>\n",
       "      <td>23838.308410</td>\n",
       "      <td>151.324476</td>\n",
       "      <td>174.252225</td>\n",
       "      <td>138.051903</td>\n",
       "    </tr>\n",
       "    <tr>\n",
       "      <th>3233</th>\n",
       "      <td>-185.328795</td>\n",
       "      <td>21437.488630</td>\n",
       "      <td>146.226127</td>\n",
       "      <td>243.597011</td>\n",
       "      <td>218.079152</td>\n",
       "      <td>982.101827</td>\n",
       "      <td>2943.453047</td>\n",
       "      <td>53.884032</td>\n",
       "      <td>983.595046</td>\n",
       "      <td>982.101827</td>\n",
       "      <td>...</td>\n",
       "      <td>1005.542138</td>\n",
       "      <td>4800.157547</td>\n",
       "      <td>68.971008</td>\n",
       "      <td>1007.920566</td>\n",
       "      <td>1005.542138</td>\n",
       "      <td>56.006082</td>\n",
       "      <td>3819.611034</td>\n",
       "      <td>61.678771</td>\n",
       "      <td>110.822936</td>\n",
       "      <td>97.126677</td>\n",
       "    </tr>\n",
       "  </tbody>\n",
       "</table>\n",
       "<p>3234 rows × 45 columns</p>\n",
       "</div>"
      ],
      "text/plain": [
       "        mean_A_F        var_A_F     std_A_F     rms_A_F     mav_A_F  \\\n",
       "0    -283.375000  720704.859375  848.943378  894.989525  459.000000   \n",
       "1    -286.781250  353485.108398  594.546136  660.097412  381.593750   \n",
       "2    -276.390625  318946.081787  564.753116  628.758984  471.296875   \n",
       "3    -270.437500  165594.683594  406.933267  488.601192  359.343750   \n",
       "4    -268.734375  148727.976318  385.652663  470.049083  328.546875   \n",
       "...          ...            ...         ...         ...         ...   \n",
       "3229  198.683006   61551.297609  245.059025  317.248897  240.502920   \n",
       "3230  -84.504787  827656.572604  909.114148  913.199855  419.995874   \n",
       "3231  161.150066  208096.856220  455.958351  483.649320  256.863648   \n",
       "3232 -114.324504  292843.077487  539.094791  560.103048  362.388232   \n",
       "3233 -185.328795   21437.488630  146.226127  243.597011  218.079152   \n",
       "\n",
       "         mean_A_V        var_A_V     std_A_V      rms_A_V      mav_A_V  ...  \\\n",
       "0     1017.812500  475692.152344  689.704395  1229.485436  1038.875000  ...   \n",
       "1     1025.765625  186732.773193  432.125877  1113.071377  1043.515625  ...   \n",
       "2      927.390625  159429.738037  399.286536  1009.694562   927.390625  ...   \n",
       "3      949.718750   68043.170898  260.850859   984.890286   949.718750  ...   \n",
       "4      933.781250   86459.295898  294.039616   978.982492   942.031250  ...   \n",
       "...           ...            ...         ...          ...          ...  ...   \n",
       "3229  1055.950672   45513.065478  212.775952  1077.281194  1055.950672  ...   \n",
       "3230  1022.637751  309268.733108  556.080168  1164.080448  1029.071750  ...   \n",
       "3231  1007.513197   51029.784036  225.510094  1032.529689  1007.513197  ...   \n",
       "3232  1035.505036   86544.913767  288.890713  1076.566849  1035.505036  ...   \n",
       "3233   982.101827    2943.453047   53.884032   983.595046   982.101827  ...   \n",
       "\n",
       "         mean_T_V        var_T_V     std_T_V      rms_T_V      mav_T_V  \\\n",
       "0     1025.421875   47970.493896  219.021674  1048.551628  1025.421875   \n",
       "1      988.375000   29664.109375  172.232719  1003.269281   988.375000   \n",
       "2     1024.031250   73886.686523  271.821056  1059.493600  1024.031250   \n",
       "3     1031.984375  178930.234131  423.001459  1115.312505  1031.984375   \n",
       "4      998.390625   58966.175537  242.829519  1027.496966   998.390625   \n",
       "...           ...            ...         ...          ...          ...   \n",
       "3229  1014.085041    7662.191316   86.902863  1017.853151  1014.085041   \n",
       "3230   997.448922   29223.270425  170.696952  1011.972014   997.448922   \n",
       "3231   961.522500   10204.524958  101.015307   966.814199   961.522500   \n",
       "3232  1003.938005   44978.489432  209.646106  1026.180046  1003.938005   \n",
       "3233  1005.542138    4800.157547   68.971008  1007.920566  1005.542138   \n",
       "\n",
       "        mean_T_L       var_T_L     std_T_L     rms_T_L     mav_T_L  \n",
       "0     109.609375  21488.425537  146.589309  183.037266  158.578125  \n",
       "1     136.125000  28641.265625  169.237306  217.189505  177.593750  \n",
       "2       5.390625  22899.519287  151.325871  151.421855  117.203125  \n",
       "3      23.562500  33986.996094  184.355624  185.855286  136.343750  \n",
       "4      23.000000  32503.062500  180.286057  181.747249  125.750000  \n",
       "...          ...           ...         ...         ...         ...  \n",
       "3229   35.598029   4227.239343   64.804404   78.230267   59.917404  \n",
       "3230  116.680623  15223.518387  123.223583  199.452643  169.803105  \n",
       "3231  -70.507609   4497.935632   67.053793  100.509752   86.031669  \n",
       "3232  -22.715506  23838.308410  151.324476  174.252225  138.051903  \n",
       "3233   56.006082   3819.611034   61.678771  110.822936   97.126677  \n",
       "\n",
       "[3234 rows x 45 columns]"
      ]
     },
     "execution_count": 25,
     "metadata": {},
     "output_type": "execute_result"
    }
   ],
   "source": [
    "X = df.drop(['0'], axis=1)\n",
    "X"
   ]
  },
  {
   "cell_type": "code",
   "execution_count": 26,
   "id": "41fcf2e8",
   "metadata": {},
   "outputs": [
    {
     "data": {
      "text/plain": [
       "0       0\n",
       "1       0\n",
       "2       0\n",
       "3       0\n",
       "4       0\n",
       "       ..\n",
       "3229    1\n",
       "3230    1\n",
       "3231    1\n",
       "3232    1\n",
       "3233    1\n",
       "Name: 0, Length: 3234, dtype: category\n",
       "Categories (2, int64): [0, 1]"
      ]
     },
     "execution_count": 26,
     "metadata": {},
     "output_type": "execute_result"
    }
   ],
   "source": [
    "y = df['0']\n",
    "y"
   ]
  },
  {
   "cell_type": "code",
   "execution_count": 27,
   "id": "a3d707c3",
   "metadata": {},
   "outputs": [
    {
     "data": {
      "text/plain": [
       "array([[1., 0.],\n",
       "       [1., 0.],\n",
       "       [1., 0.],\n",
       "       ...,\n",
       "       [0., 1.],\n",
       "       [0., 1.],\n",
       "       [0., 1.]], dtype=float32)"
      ]
     },
     "execution_count": 27,
     "metadata": {},
     "output_type": "execute_result"
    }
   ],
   "source": [
    "Y = to_categorical(y)\n",
    "Y"
   ]
  },
  {
   "cell_type": "code",
   "execution_count": 28,
   "id": "46193478",
   "metadata": {},
   "outputs": [],
   "source": [
    "X_train, X_test, y_train, y_test =  train_test_split(X, Y, test_size = 0.2, random_state = 0, stratify = y)"
   ]
  },
  {
   "cell_type": "code",
   "execution_count": 29,
   "id": "081b68bb",
   "metadata": {},
   "outputs": [],
   "source": [
    "X_train, X_val, y_train, y_val = train_test_split(X_train,y_train , test_size = 0.2, random_state = 0, stratify = y_train)"
   ]
  },
  {
   "cell_type": "code",
   "execution_count": 30,
   "id": "e5e44666",
   "metadata": {},
   "outputs": [
    {
     "data": {
      "text/plain": [
       "((2069, 45), (647, 45), (2069, 2), (647, 2))"
      ]
     },
     "execution_count": 30,
     "metadata": {},
     "output_type": "execute_result"
    }
   ],
   "source": [
    "X_train.shape, X_test.shape, y_train.shape, y_test.shape"
   ]
  },
  {
   "cell_type": "code",
   "execution_count": 31,
   "id": "e0e3e072",
   "metadata": {},
   "outputs": [],
   "source": [
    "n_features, n_outputs = X_train.shape[1], y_train.shape[1]"
   ]
  },
  {
   "cell_type": "code",
   "execution_count": 32,
   "id": "6b873799",
   "metadata": {},
   "outputs": [
    {
     "name": "stdout",
     "output_type": "stream",
     "text": [
      "Model: \"sequential_1\"\n",
      "_________________________________________________________________\n",
      " Layer (type)                Output Shape              Param #   \n",
      "=================================================================\n",
      " dense_3 (Dense)             (None, 64)                2944      \n",
      "                                                                 \n",
      " dense_4 (Dense)             (None, 128)               8320      \n",
      "                                                                 \n",
      " batch_normalization_1 (Bat  (None, 128)               512       \n",
      " chNormalization)                                                \n",
      "                                                                 \n",
      " dropout_1 (Dropout)         (None, 128)               0         \n",
      "                                                                 \n",
      " flatten_1 (Flatten)         (None, 128)               0         \n",
      "                                                                 \n",
      " dense_5 (Dense)             (None, 2)                 258       \n",
      "                                                                 \n",
      "=================================================================\n",
      "Total params: 12034 (47.01 KB)\n",
      "Trainable params: 11778 (46.01 KB)\n",
      "Non-trainable params: 256 (1.00 KB)\n",
      "_________________________________________________________________\n"
     ]
    }
   ],
   "source": [
    "model = keras.Sequential()\n",
    "model.add(keras.layers.Dense(64, activation='relu', input_shape=(n_features,)))\n",
    "model.add(keras.layers.Dense(128))\n",
    "model.add(BatchNormalization())\n",
    "model.add(Dropout(0.5))\n",
    "model.add(Flatten())\n",
    "model.add(Dense(n_outputs, activation='softmax'))\n",
    "model.compile(loss='categorical_crossentropy', optimizer='adam', metrics=['accuracy'])\n",
    "model.summary()"
   ]
  },
  {
   "cell_type": "code",
   "execution_count": 33,
   "id": "c6469bb8",
   "metadata": {},
   "outputs": [
    {
     "name": "stdout",
     "output_type": "stream",
     "text": [
      "Epoch 1/50\n",
      "33/33 [==============================] - 1s 6ms/step - loss: 0.8878 - accuracy: 0.5500 - val_loss: 0.8251 - val_accuracy: 0.5830\n",
      "Epoch 2/50\n",
      "33/33 [==============================] - 0s 3ms/step - loss: 0.8536 - accuracy: 0.5611 - val_loss: 0.6786 - val_accuracy: 0.5907\n",
      "Epoch 3/50\n",
      "33/33 [==============================] - 0s 3ms/step - loss: 0.8362 - accuracy: 0.5732 - val_loss: 0.6637 - val_accuracy: 0.5985\n",
      "Epoch 4/50\n",
      "33/33 [==============================] - 0s 3ms/step - loss: 0.7685 - accuracy: 0.5935 - val_loss: 0.6756 - val_accuracy: 0.6023\n",
      "Epoch 5/50\n",
      "33/33 [==============================] - 0s 3ms/step - loss: 0.7880 - accuracy: 0.5921 - val_loss: 0.6382 - val_accuracy: 0.6139\n",
      "Epoch 6/50\n",
      "33/33 [==============================] - 0s 3ms/step - loss: 0.7572 - accuracy: 0.6037 - val_loss: 0.6443 - val_accuracy: 0.6197\n",
      "Epoch 7/50\n",
      "33/33 [==============================] - 0s 3ms/step - loss: 0.7242 - accuracy: 0.5945 - val_loss: 0.6635 - val_accuracy: 0.6100\n",
      "Epoch 8/50\n",
      "33/33 [==============================] - 0s 3ms/step - loss: 0.7044 - accuracy: 0.6090 - val_loss: 0.6436 - val_accuracy: 0.6255\n",
      "Epoch 9/50\n",
      "33/33 [==============================] - 0s 3ms/step - loss: 0.7205 - accuracy: 0.5940 - val_loss: 0.6574 - val_accuracy: 0.6139\n",
      "Epoch 10/50\n",
      "33/33 [==============================] - 0s 3ms/step - loss: 0.6860 - accuracy: 0.6027 - val_loss: 0.6521 - val_accuracy: 0.6313\n",
      "Epoch 11/50\n",
      "33/33 [==============================] - 0s 3ms/step - loss: 0.6907 - accuracy: 0.6269 - val_loss: 0.6405 - val_accuracy: 0.6332\n",
      "Epoch 12/50\n",
      "33/33 [==============================] - 0s 3ms/step - loss: 0.7035 - accuracy: 0.6240 - val_loss: 0.6261 - val_accuracy: 0.6332\n",
      "Epoch 13/50\n",
      "33/33 [==============================] - 0s 3ms/step - loss: 0.6536 - accuracy: 0.6380 - val_loss: 0.6687 - val_accuracy: 0.6120\n",
      "Epoch 14/50\n",
      "33/33 [==============================] - 0s 3ms/step - loss: 0.6766 - accuracy: 0.6114 - val_loss: 0.6255 - val_accuracy: 0.6236\n",
      "Epoch 15/50\n",
      "33/33 [==============================] - 0s 3ms/step - loss: 0.6611 - accuracy: 0.6356 - val_loss: 0.6146 - val_accuracy: 0.6255\n",
      "Epoch 16/50\n",
      "33/33 [==============================] - 0s 3ms/step - loss: 0.6483 - accuracy: 0.6448 - val_loss: 0.6263 - val_accuracy: 0.6371\n",
      "Epoch 17/50\n",
      "33/33 [==============================] - 0s 3ms/step - loss: 0.6426 - accuracy: 0.6380 - val_loss: 0.6248 - val_accuracy: 0.6448\n",
      "Epoch 18/50\n",
      "33/33 [==============================] - 0s 3ms/step - loss: 0.6427 - accuracy: 0.6573 - val_loss: 0.6436 - val_accuracy: 0.6274\n",
      "Epoch 19/50\n",
      "33/33 [==============================] - 0s 3ms/step - loss: 0.6278 - accuracy: 0.6617 - val_loss: 0.6113 - val_accuracy: 0.6351\n",
      "Epoch 20/50\n",
      "33/33 [==============================] - 0s 3ms/step - loss: 0.6288 - accuracy: 0.6467 - val_loss: 0.6199 - val_accuracy: 0.6409\n",
      "Epoch 21/50\n",
      "33/33 [==============================] - 0s 3ms/step - loss: 0.5989 - accuracy: 0.6651 - val_loss: 0.5964 - val_accuracy: 0.6429\n",
      "Epoch 22/50\n",
      "33/33 [==============================] - 0s 3ms/step - loss: 0.6157 - accuracy: 0.6568 - val_loss: 0.6095 - val_accuracy: 0.6351\n",
      "Epoch 23/50\n",
      "33/33 [==============================] - 0s 3ms/step - loss: 0.6083 - accuracy: 0.6718 - val_loss: 0.6020 - val_accuracy: 0.6506\n",
      "Epoch 24/50\n",
      "33/33 [==============================] - 0s 3ms/step - loss: 0.6108 - accuracy: 0.6641 - val_loss: 0.6212 - val_accuracy: 0.6602\n",
      "Epoch 25/50\n",
      "33/33 [==============================] - 0s 3ms/step - loss: 0.5960 - accuracy: 0.6718 - val_loss: 0.6023 - val_accuracy: 0.6467\n",
      "Epoch 26/50\n",
      "33/33 [==============================] - 0s 3ms/step - loss: 0.5985 - accuracy: 0.6651 - val_loss: 0.6096 - val_accuracy: 0.6371\n",
      "Epoch 27/50\n",
      "33/33 [==============================] - 0s 3ms/step - loss: 0.5853 - accuracy: 0.6747 - val_loss: 0.5971 - val_accuracy: 0.6564\n",
      "Epoch 28/50\n",
      "33/33 [==============================] - 0s 3ms/step - loss: 0.5915 - accuracy: 0.6713 - val_loss: 0.6050 - val_accuracy: 0.6429\n",
      "Epoch 29/50\n",
      "33/33 [==============================] - 0s 3ms/step - loss: 0.5807 - accuracy: 0.6834 - val_loss: 0.6075 - val_accuracy: 0.6467\n",
      "Epoch 30/50\n",
      "33/33 [==============================] - 0s 3ms/step - loss: 0.5863 - accuracy: 0.6800 - val_loss: 0.6103 - val_accuracy: 0.6506\n",
      "Epoch 31/50\n",
      "33/33 [==============================] - 0s 3ms/step - loss: 0.5838 - accuracy: 0.6844 - val_loss: 0.6162 - val_accuracy: 0.6544\n",
      "Epoch 32/50\n",
      "33/33 [==============================] - 0s 3ms/step - loss: 0.5886 - accuracy: 0.6796 - val_loss: 0.6169 - val_accuracy: 0.6390\n",
      "Epoch 33/50\n",
      "33/33 [==============================] - 0s 3ms/step - loss: 0.5920 - accuracy: 0.6791 - val_loss: 0.6023 - val_accuracy: 0.6564\n",
      "Epoch 34/50\n",
      "33/33 [==============================] - 0s 3ms/step - loss: 0.5765 - accuracy: 0.6912 - val_loss: 0.6015 - val_accuracy: 0.6660\n",
      "Epoch 35/50\n",
      "33/33 [==============================] - 0s 3ms/step - loss: 0.5743 - accuracy: 0.6931 - val_loss: 0.5933 - val_accuracy: 0.6622\n",
      "Epoch 36/50\n",
      "33/33 [==============================] - 0s 3ms/step - loss: 0.5638 - accuracy: 0.6960 - val_loss: 0.5953 - val_accuracy: 0.6602\n",
      "Epoch 37/50\n",
      "33/33 [==============================] - 0s 3ms/step - loss: 0.5738 - accuracy: 0.6839 - val_loss: 0.6123 - val_accuracy: 0.6486\n",
      "Epoch 38/50\n",
      "33/33 [==============================] - 0s 3ms/step - loss: 0.5723 - accuracy: 0.6820 - val_loss: 0.6107 - val_accuracy: 0.6622\n",
      "Epoch 39/50\n",
      "33/33 [==============================] - 0s 3ms/step - loss: 0.5637 - accuracy: 0.7057 - val_loss: 0.6003 - val_accuracy: 0.6583\n",
      "Epoch 40/50\n",
      "33/33 [==============================] - 0s 3ms/step - loss: 0.5697 - accuracy: 0.6941 - val_loss: 0.5925 - val_accuracy: 0.6660\n",
      "Epoch 41/50\n",
      "33/33 [==============================] - 0s 3ms/step - loss: 0.5625 - accuracy: 0.6926 - val_loss: 0.5923 - val_accuracy: 0.6680\n",
      "Epoch 42/50\n",
      "33/33 [==============================] - 0s 3ms/step - loss: 0.5567 - accuracy: 0.6970 - val_loss: 0.5914 - val_accuracy: 0.6641\n",
      "Epoch 43/50\n",
      "33/33 [==============================] - 0s 3ms/step - loss: 0.5695 - accuracy: 0.7023 - val_loss: 0.5921 - val_accuracy: 0.6602\n",
      "Epoch 44/50\n",
      "33/33 [==============================] - 0s 3ms/step - loss: 0.5713 - accuracy: 0.7018 - val_loss: 0.5962 - val_accuracy: 0.6699\n",
      "Epoch 45/50\n",
      "33/33 [==============================] - 0s 3ms/step - loss: 0.5750 - accuracy: 0.6883 - val_loss: 0.5722 - val_accuracy: 0.6718\n",
      "Epoch 46/50\n",
      "33/33 [==============================] - 0s 3ms/step - loss: 0.5521 - accuracy: 0.7057 - val_loss: 0.5949 - val_accuracy: 0.6660\n",
      "Epoch 47/50\n",
      "33/33 [==============================] - 0s 3ms/step - loss: 0.5566 - accuracy: 0.7066 - val_loss: 0.5821 - val_accuracy: 0.6641\n",
      "Epoch 48/50\n",
      "33/33 [==============================] - 0s 3ms/step - loss: 0.5423 - accuracy: 0.7153 - val_loss: 0.5943 - val_accuracy: 0.6622\n",
      "Epoch 49/50\n",
      "33/33 [==============================] - 0s 3ms/step - loss: 0.5573 - accuracy: 0.7047 - val_loss: 0.5941 - val_accuracy: 0.6525\n",
      "Epoch 50/50\n",
      "33/33 [==============================] - 0s 3ms/step - loss: 0.5510 - accuracy: 0.7071 - val_loss: 0.6199 - val_accuracy: 0.6680\n"
     ]
    }
   ],
   "source": [
    "epochs, batch_size = 50, 64\n",
    "history = model.fit(X_train, y_train, epochs=epochs, batch_size=batch_size, verbose=1, validation_data=(X_val, y_val), shuffle=True)"
   ]
  },
  {
   "cell_type": "code",
   "execution_count": 34,
   "id": "f9f5b1bf",
   "metadata": {},
   "outputs": [
    {
     "data": {
      "text/plain": [
       "<matplotlib.legend.Legend at 0x7f6d239ccfa0>"
      ]
     },
     "execution_count": 34,
     "metadata": {},
     "output_type": "execute_result"
    },
    {
     "data": {
      "image/png": "[encoded data removed]",
      "text/plain": [
       "<Figure size 640x480 with 1 Axes>"
      ]
     },
     "metadata": {},
     "output_type": "display_data"
    }
   ],
   "source": [
    "plt.plot(history.history['loss'])\n",
    "plt.plot(history.history['val_loss'])\n",
    "plt.title('model loss')\n",
    "plt.ylabel('loss')\n",
    "plt.xlabel('epoch')\n",
    "plt.legend(['train', 'Validation'], loc='upper left')"
   ]
  },
  {
   "cell_type": "code",
   "execution_count": 35,
   "id": "b87f52bd",
   "metadata": {},
   "outputs": [
    {
     "data": {
      "text/plain": [
       "<matplotlib.legend.Legend at 0x7f6d2388eec0>"
      ]
     },
     "execution_count": 35,
     "metadata": {},
     "output_type": "execute_result"
    },
    {
     "data": {
      "image/png": "[encoded data removed]",
      "text/plain": [
       "<Figure size 640x480 with 1 Axes>"
      ]
     },
     "metadata": {},
     "output_type": "display_data"
    }
   ],
   "source": [
    "plt.plot(history.history['accuracy'])\n",
    "plt.plot(history.history['val_accuracy'])\n",
    "plt.title('Training and validation accuracy')\n",
    "plt.ylabel('accuracy')\n",
    "plt.xlabel('epoch')\n",
    "plt.legend(['train', 'Validation'], loc='upper left')"
   ]
  },
  {
   "cell_type": "code",
   "execution_count": 36,
   "id": "c1483f4c",
   "metadata": {},
   "outputs": [
    {
     "name": "stdout",
     "output_type": "stream",
     "text": [
      "21/21 [==============================] - 0s 908us/step\n",
      "f1_score =  0.6474021809268877\n",
      "0.6476043276661515\n",
      "              precision    recall  f1-score   support\n",
      "\n",
      "           0       0.66      0.62      0.64       324\n",
      "           1       0.64      0.67      0.66       323\n",
      "\n",
      "    accuracy                           0.65       647\n",
      "   macro avg       0.65      0.65      0.65       647\n",
      "weighted avg       0.65      0.65      0.65       647\n",
      "\n"
     ]
    },
    {
     "data": {
      "text/plain": [
       "(<Figure size 700x700 with 1 Axes>,\n",
       " <Axes: xlabel='predicted label', ylabel='true label'>)"
      ]
     },
     "execution_count": 36,
     "metadata": {},
     "output_type": "execute_result"
    },
    {
     "data": {
      "image/png": "[encoded data removed]",
      "text/plain": [
       "<Figure size 700x700 with 1 Axes>"
      ]
     },
     "metadata": {},
     "output_type": "display_data"
    }
   ],
   "source": [
    "from mlxtend.plotting import plot_confusion_matrix\n",
    "from sklearn.metrics import confusion_matrix, classification_report, accuracy_score, f1_score\n",
    "import numpy as np\n",
    "\n",
    "# 모델 예측\n",
    "predy = model.predict(X_test)\n",
    "predy = np.argmax(predy, axis=-1)\n",
    "y_true = np.argmax(y_test, axis=-1)\n",
    "\n",
    "LABELS = ['No_Freeze', 'Freeze']\n",
    "cm = confusion_matrix(y_true, predy)\n",
    "\n",
    "# 결과 출력\n",
    "print('f1_score = ', f1_score(y_true, predy, average='weighted'))\n",
    "print(accuracy_score(y_true, predy))\n",
    "print(classification_report(y_true, predy))\n",
    "\n",
    "# 혼동 행렬 시각화\n",
    "plot_confusion_matrix(conf_mat=cm, class_names=LABELS, show_normed=True, figsize=(7, 7))"
   ]
  }
 ],
 "metadata": {
  "kernelspec": {
   "display_name": "Python 3.10 (NGC 24.01 / TensorFlow 2.14) on Backend.AI",
   "language": "python",
   "name": "python3"
  },
  "language_info": {
   "codemirror_mode": {
    "name": "ipython",
    "version": 3
   },
   "file_extension": ".py",
   "mimetype": "text/x-python",
   "name": "python",
   "nbconvert_exporter": "python",
   "pygments_lexer": "ipython3",
   "version": "3.10.12"
  }
 },
 "nbformat": 4,
 "nbformat_minor": 5
}
