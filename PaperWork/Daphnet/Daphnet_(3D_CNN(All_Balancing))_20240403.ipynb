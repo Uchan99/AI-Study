{
 "cells": [
  {
   "cell_type": "code",
   "execution_count": 1,
   "id": "ce644e05-3ac4-4d2b-b917-51bff422fb02",
   "metadata": {},
   "outputs": [],
   "source": [
    "import numpy as np\n",
    "import tensorflow as tf\n",
    "from tensorflow import keras\n",
    "\n",
    "import pandas as pd\n",
    "import seaborn as sns\n",
    "from pylab import rcParams\n",
    "import matplotlib.pyplot as plt\n",
    "from matplotlib import rc\n",
    "from pandas.plotting import register_matplotlib_converters\n",
    "from sklearn.model_selection import train_test_split\n",
    "from sklearn.metrics import precision_score, recall_score, f1_score\n",
    "\n",
    "from pandas import read_csv, unique\n",
    "\n",
    "import numpy as np\n",
    "import pandas as pd\n",
    "\n",
    "from scipy.interpolate import interp1d\n",
    "from scipy.stats import mode\n",
    "\n",
    "from sklearn.preprocessing import LabelEncoder\n",
    "from sklearn.metrics import classification_report, confusion_matrix, ConfusionMatrixDisplay\n",
    "\n",
    "from tensorflow import stack\n",
    "from tensorflow.keras.utils import to_categorical\n",
    "from keras.models import Sequential\n",
    "from tensorflow.keras.layers import Bidirectional, LSTM, Dropout, Dense\n",
    "from keras.layers import Dense, GlobalAveragePooling1D, BatchNormalization, MaxPool1D, Reshape, Activation\n",
    "from tensorflow.keras.layers import Conv1D, Flatten, Reshape, MaxPooling1D\n",
    "from keras.callbacks import ModelCheckpoint, EarlyStopping\n",
    "import matplotlib.pyplot as plt\n",
    "from imblearn.over_sampling import SMOTE"
   ]
  },
  {
   "cell_type": "code",
   "execution_count": 2,
   "id": "06bef597-a266-4635-b3c4-9bce6e15ac78",
   "metadata": {},
   "outputs": [
    {
     "name": "stdout",
     "output_type": "stream",
     "text": [
      "              TS   Ankel_1  Ankel_2  Ankel_3  Thigh_1  Thigh_2  Thigh_3  \\\n",
      "0             15        70       39     -970        0        0        0   \n",
      "1             31        70       39     -970        0        0        0   \n",
      "2             46        60       49     -960        0        0        0   \n",
      "3             62        60       49     -960        0        0        0   \n",
      "4             78        50       39     -960        0        0        0   \n",
      "...          ...       ...      ...      ...      ...      ...      ...   \n",
      "1798357  3020296      -131      107     -960        0        0        0   \n",
      "1798358  3020312      -121      127     -970        0        0        0   \n",
      "1798359  3020328      -141      117     -960        0        0        0   \n",
      "1798360  3020343      -131      127     -980        0        0        0   \n",
      "1798361  3020359      -141        0        0        0        0        0   \n",
      "\n",
      "         Trunk_1  Trunk_2  Trunk_3  status  User_Number  \n",
      "0              0        0        0       0            1  \n",
      "1              0        0        0       0            1  \n",
      "2              0        0        0       0            1  \n",
      "3              0        0        0       0            1  \n",
      "4              0        0        0       0            1  \n",
      "...          ...      ...      ...     ...          ...  \n",
      "1798357        0        0        0       0           10  \n",
      "1798358        0        0        0       0           10  \n",
      "1798359        0        0        0       0           10  \n",
      "1798360        0        0        0       0           10  \n",
      "1798361        0        0        0       0           10  \n",
      "\n",
      "[1798362 rows x 12 columns]\n"
     ]
    }
   ],
   "source": [
    "import pandas as pd\n",
    "\n",
    "filepath = 'C:/AI_study/dataset/'\n",
    "# Load all 9 files as a list\n",
    "filenames = [\n",
    "    'S01R01.txt', 'S01R02.txt', 'S02R01.txt', 'S02R02.txt', 'S03R01.txt', 'S03R02.txt',\n",
    "    'S03R03.txt', 'S04R01.txt', 'S05R01.txt', 'S05R02.txt', 'S06R01.txt', 'S06R02.txt',\n",
    "    'S07R02.txt', 'S08R01.txt', 'S09R01.txt', 'S10R01.txt'\n",
    "]\n",
    "\n",
    "# Create an empty list to store DataFrames\n",
    "dfs = []\n",
    "\n",
    "# Iterate over each filename, load the CSV file, and append the DataFrame to the list\n",
    "for filename in filenames:\n",
    "    df = pd.read_csv(filepath + filename, sep=\"\\s+\", header=None)\n",
    "    user_number = int(filename[1:3])\n",
    "    df['User_Number'] = user_number\n",
    "    dfs.append(df)\n",
    "\n",
    "# Concatenate all DataFrames in the list into a single DataFrame\n",
    "df = pd.concat(dfs, ignore_index=True)\n",
    "\n",
    "# Set column names\n",
    "columns = \"TS, Ankel_1,Ankel_2,Ankel_3,Thigh_1,Thigh_2,Thigh_3,Trunk_1,Trunk_2,Trunk_3,status,User_Number\".split(\",\")\n",
    "df.columns = columns\n",
    "\n",
    "print(df)"
   ]
  },
  {
   "cell_type": "code",
   "execution_count": 3,
   "id": "13a67388-3403-4648-b7a4-dfa40e2a0805",
   "metadata": {},
   "outputs": [
    {
     "data": {
      "text/html": [
       "<div>\n",
       "<style scoped>\n",
       "    .dataframe tbody tr th:only-of-type {\n",
       "        vertical-align: middle;\n",
       "    }\n",
       "\n",
       "    .dataframe tbody tr th {\n",
       "        vertical-align: top;\n",
       "    }\n",
       "\n",
       "    .dataframe thead th {\n",
       "        text-align: right;\n",
       "    }\n",
       "</style>\n",
       "<table border=\"1\" class=\"dataframe\">\n",
       "  <thead>\n",
       "    <tr style=\"text-align: right;\">\n",
       "      <th></th>\n",
       "      <th>TS</th>\n",
       "      <th>Ankel_1</th>\n",
       "      <th>Ankel_2</th>\n",
       "      <th>Ankel_3</th>\n",
       "      <th>Thigh_1</th>\n",
       "      <th>Thigh_2</th>\n",
       "      <th>Thigh_3</th>\n",
       "      <th>Trunk_1</th>\n",
       "      <th>Trunk_2</th>\n",
       "      <th>Trunk_3</th>\n",
       "      <th>status</th>\n",
       "      <th>User_Number</th>\n",
       "    </tr>\n",
       "  </thead>\n",
       "  <tbody>\n",
       "    <tr>\n",
       "      <th>0</th>\n",
       "      <td>15</td>\n",
       "      <td>70</td>\n",
       "      <td>39</td>\n",
       "      <td>-970</td>\n",
       "      <td>0</td>\n",
       "      <td>0</td>\n",
       "      <td>0</td>\n",
       "      <td>0</td>\n",
       "      <td>0</td>\n",
       "      <td>0</td>\n",
       "      <td>0</td>\n",
       "      <td>1</td>\n",
       "    </tr>\n",
       "    <tr>\n",
       "      <th>1</th>\n",
       "      <td>31</td>\n",
       "      <td>70</td>\n",
       "      <td>39</td>\n",
       "      <td>-970</td>\n",
       "      <td>0</td>\n",
       "      <td>0</td>\n",
       "      <td>0</td>\n",
       "      <td>0</td>\n",
       "      <td>0</td>\n",
       "      <td>0</td>\n",
       "      <td>0</td>\n",
       "      <td>1</td>\n",
       "    </tr>\n",
       "    <tr>\n",
       "      <th>2</th>\n",
       "      <td>46</td>\n",
       "      <td>60</td>\n",
       "      <td>49</td>\n",
       "      <td>-960</td>\n",
       "      <td>0</td>\n",
       "      <td>0</td>\n",
       "      <td>0</td>\n",
       "      <td>0</td>\n",
       "      <td>0</td>\n",
       "      <td>0</td>\n",
       "      <td>0</td>\n",
       "      <td>1</td>\n",
       "    </tr>\n",
       "    <tr>\n",
       "      <th>3</th>\n",
       "      <td>62</td>\n",
       "      <td>60</td>\n",
       "      <td>49</td>\n",
       "      <td>-960</td>\n",
       "      <td>0</td>\n",
       "      <td>0</td>\n",
       "      <td>0</td>\n",
       "      <td>0</td>\n",
       "      <td>0</td>\n",
       "      <td>0</td>\n",
       "      <td>0</td>\n",
       "      <td>1</td>\n",
       "    </tr>\n",
       "    <tr>\n",
       "      <th>4</th>\n",
       "      <td>78</td>\n",
       "      <td>50</td>\n",
       "      <td>39</td>\n",
       "      <td>-960</td>\n",
       "      <td>0</td>\n",
       "      <td>0</td>\n",
       "      <td>0</td>\n",
       "      <td>0</td>\n",
       "      <td>0</td>\n",
       "      <td>0</td>\n",
       "      <td>0</td>\n",
       "      <td>1</td>\n",
       "    </tr>\n",
       "  </tbody>\n",
       "</table>\n",
       "</div>"
      ],
      "text/plain": [
       "   TS   Ankel_1  Ankel_2  Ankel_3  Thigh_1  Thigh_2  Thigh_3  Trunk_1  \\\n",
       "0  15        70       39     -970        0        0        0        0   \n",
       "1  31        70       39     -970        0        0        0        0   \n",
       "2  46        60       49     -960        0        0        0        0   \n",
       "3  62        60       49     -960        0        0        0        0   \n",
       "4  78        50       39     -960        0        0        0        0   \n",
       "\n",
       "   Trunk_2  Trunk_3  status  User_Number  \n",
       "0        0        0       0            1  \n",
       "1        0        0       0            1  \n",
       "2        0        0       0            1  \n",
       "3        0        0       0            1  \n",
       "4        0        0       0            1  "
      ]
     },
     "execution_count": 3,
     "metadata": {},
     "output_type": "execute_result"
    }
   ],
   "source": [
    "df.head()"
   ]
  },
  {
   "cell_type": "code",
   "execution_count": 4,
   "id": "02a4d9aa-6943-4f58-9477-9cc9cf7675f2",
   "metadata": {},
   "outputs": [
    {
     "name": "stdout",
     "output_type": "stream",
     "text": [
      "<class 'pandas.core.frame.DataFrame'>\n",
      "RangeIndex: 1798362 entries, 0 to 1798361\n",
      "Data columns (total 12 columns):\n",
      " #   Column       Dtype\n",
      "---  ------       -----\n",
      " 0   TS           int64\n",
      " 1    Ankel_1     int64\n",
      " 2   Ankel_2      int64\n",
      " 3   Ankel_3      int64\n",
      " 4   Thigh_1      int64\n",
      " 5   Thigh_2      int64\n",
      " 6   Thigh_3      int64\n",
      " 7   Trunk_1      int64\n",
      " 8   Trunk_2      int64\n",
      " 9   Trunk_3      int64\n",
      " 10  status       int64\n",
      " 11  User_Number  int64\n",
      "dtypes: int64(12)\n",
      "memory usage: 164.6 MB\n"
     ]
    }
   ],
   "source": [
    "df.info()"
   ]
  },
  {
   "cell_type": "code",
   "execution_count": 5,
   "id": "0f77a28f-a95e-4cda-a594-6bdcf3ce5227",
   "metadata": {},
   "outputs": [
    {
     "data": {
      "text/html": [
       "<div>\n",
       "<style scoped>\n",
       "    .dataframe tbody tr th:only-of-type {\n",
       "        vertical-align: middle;\n",
       "    }\n",
       "\n",
       "    .dataframe tbody tr th {\n",
       "        vertical-align: top;\n",
       "    }\n",
       "\n",
       "    .dataframe thead th {\n",
       "        text-align: right;\n",
       "    }\n",
       "</style>\n",
       "<table border=\"1\" class=\"dataframe\">\n",
       "  <thead>\n",
       "    <tr style=\"text-align: right;\">\n",
       "      <th></th>\n",
       "      <th>TS</th>\n",
       "      <th>Ankel_1</th>\n",
       "      <th>Ankel_2</th>\n",
       "      <th>Ankel_3</th>\n",
       "      <th>Thigh_1</th>\n",
       "      <th>Thigh_2</th>\n",
       "      <th>Thigh_3</th>\n",
       "      <th>Trunk_1</th>\n",
       "      <th>Trunk_2</th>\n",
       "      <th>Trunk_3</th>\n",
       "      <th>status</th>\n",
       "      <th>User_Number</th>\n",
       "    </tr>\n",
       "  </thead>\n",
       "  <tbody>\n",
       "    <tr>\n",
       "      <th>count</th>\n",
       "      <td>1.798362e+06</td>\n",
       "      <td>1.798362e+06</td>\n",
       "      <td>1.798362e+06</td>\n",
       "      <td>1.798362e+06</td>\n",
       "      <td>1.798362e+06</td>\n",
       "      <td>1.798362e+06</td>\n",
       "      <td>1.798362e+06</td>\n",
       "      <td>1.798362e+06</td>\n",
       "      <td>1.798362e+06</td>\n",
       "      <td>1.798362e+06</td>\n",
       "      <td>1.798362e+06</td>\n",
       "      <td>1.798362e+06</td>\n",
       "    </tr>\n",
       "    <tr>\n",
       "      <th>mean</th>\n",
       "      <td>1.077208e+06</td>\n",
       "      <td>-5.840035e+01</td>\n",
       "      <td>8.205787e+02</td>\n",
       "      <td>5.888554e+01</td>\n",
       "      <td>-2.079832e+01</td>\n",
       "      <td>6.020473e+02</td>\n",
       "      <td>-3.875299e+01</td>\n",
       "      <td>4.821141e+01</td>\n",
       "      <td>7.631992e+02</td>\n",
       "      <td>-1.167351e+02</td>\n",
       "      <td>6.525399e-01</td>\n",
       "      <td>5.211849e+00</td>\n",
       "    </tr>\n",
       "    <tr>\n",
       "      <th>std</th>\n",
       "      <td>7.637586e+05</td>\n",
       "      <td>5.273884e+02</td>\n",
       "      <td>4.954709e+02</td>\n",
       "      <td>5.610358e+02</td>\n",
       "      <td>5.378507e+02</td>\n",
       "      <td>4.358368e+02</td>\n",
       "      <td>4.883318e+02</td>\n",
       "      <td>2.827634e+02</td>\n",
       "      <td>4.226899e+02</td>\n",
       "      <td>4.159825e+02</td>\n",
       "      <td>5.879011e-01</td>\n",
       "      <td>2.897030e+00</td>\n",
       "    </tr>\n",
       "    <tr>\n",
       "      <th>min</th>\n",
       "      <td>1.500000e+01</td>\n",
       "      <td>-3.123400e+04</td>\n",
       "      <td>-3.276300e+04</td>\n",
       "      <td>-3.148800e+04</td>\n",
       "      <td>-2.184600e+04</td>\n",
       "      <td>-2.967300e+04</td>\n",
       "      <td>-2.431800e+04</td>\n",
       "      <td>-4.621000e+03</td>\n",
       "      <td>-3.400000e+03</td>\n",
       "      <td>-4.786000e+03</td>\n",
       "      <td>0.000000e+00</td>\n",
       "      <td>1.000000e+00</td>\n",
       "    </tr>\n",
       "    <tr>\n",
       "      <th>25%</th>\n",
       "      <td>4.390620e+05</td>\n",
       "      <td>-2.220000e+02</td>\n",
       "      <td>7.450000e+02</td>\n",
       "      <td>6.900000e+01</td>\n",
       "      <td>-2.630000e+02</td>\n",
       "      <td>2.590000e+02</td>\n",
       "      <td>-1.010000e+02</td>\n",
       "      <td>-8.700000e+01</td>\n",
       "      <td>7.800000e+02</td>\n",
       "      <td>-2.030000e+02</td>\n",
       "      <td>0.000000e+00</td>\n",
       "      <td>3.000000e+00</td>\n",
       "    </tr>\n",
       "    <tr>\n",
       "      <th>50%</th>\n",
       "      <td>9.293750e+05</td>\n",
       "      <td>-3.000000e+01</td>\n",
       "      <td>9.700000e+02</td>\n",
       "      <td>2.170000e+02</td>\n",
       "      <td>-1.800000e+01</td>\n",
       "      <td>6.290000e+02</td>\n",
       "      <td>9.000000e+01</td>\n",
       "      <td>2.900000e+01</td>\n",
       "      <td>9.520000e+02</td>\n",
       "      <td>-3.800000e+01</td>\n",
       "      <td>1.000000e+00</td>\n",
       "      <td>5.000000e+00</td>\n",
       "    </tr>\n",
       "    <tr>\n",
       "      <th>75%</th>\n",
       "      <td>1.621328e+06</td>\n",
       "      <td>1.210000e+02</td>\n",
       "      <td>1.019000e+03</td>\n",
       "      <td>3.260000e+02</td>\n",
       "      <td>2.180000e+02</td>\n",
       "      <td>9.620000e+02</td>\n",
       "      <td>2.420000e+02</td>\n",
       "      <td>1.940000e+02</td>\n",
       "      <td>1.009000e+03</td>\n",
       "      <td>1.160000e+02</td>\n",
       "      <td>1.000000e+00</td>\n",
       "      <td>8.000000e+00</td>\n",
       "    </tr>\n",
       "    <tr>\n",
       "      <th>max</th>\n",
       "      <td>3.058390e+06</td>\n",
       "      <td>3.072500e+04</td>\n",
       "      <td>3.200200e+04</td>\n",
       "      <td>3.174400e+04</td>\n",
       "      <td>2.662500e+04</td>\n",
       "      <td>3.259800e+04</td>\n",
       "      <td>2.841800e+04</td>\n",
       "      <td>6.707000e+03</td>\n",
       "      <td>2.429800e+04</td>\n",
       "      <td>4.339000e+03</td>\n",
       "      <td>2.000000e+00</td>\n",
       "      <td>1.000000e+01</td>\n",
       "    </tr>\n",
       "  </tbody>\n",
       "</table>\n",
       "</div>"
      ],
      "text/plain": [
       "                 TS       Ankel_1       Ankel_2       Ankel_3       Thigh_1  \\\n",
       "count  1.798362e+06  1.798362e+06  1.798362e+06  1.798362e+06  1.798362e+06   \n",
       "mean   1.077208e+06 -5.840035e+01  8.205787e+02  5.888554e+01 -2.079832e+01   \n",
       "std    7.637586e+05  5.273884e+02  4.954709e+02  5.610358e+02  5.378507e+02   \n",
       "min    1.500000e+01 -3.123400e+04 -3.276300e+04 -3.148800e+04 -2.184600e+04   \n",
       "25%    4.390620e+05 -2.220000e+02  7.450000e+02  6.900000e+01 -2.630000e+02   \n",
       "50%    9.293750e+05 -3.000000e+01  9.700000e+02  2.170000e+02 -1.800000e+01   \n",
       "75%    1.621328e+06  1.210000e+02  1.019000e+03  3.260000e+02  2.180000e+02   \n",
       "max    3.058390e+06  3.072500e+04  3.200200e+04  3.174400e+04  2.662500e+04   \n",
       "\n",
       "            Thigh_2       Thigh_3       Trunk_1       Trunk_2       Trunk_3  \\\n",
       "count  1.798362e+06  1.798362e+06  1.798362e+06  1.798362e+06  1.798362e+06   \n",
       "mean   6.020473e+02 -3.875299e+01  4.821141e+01  7.631992e+02 -1.167351e+02   \n",
       "std    4.358368e+02  4.883318e+02  2.827634e+02  4.226899e+02  4.159825e+02   \n",
       "min   -2.967300e+04 -2.431800e+04 -4.621000e+03 -3.400000e+03 -4.786000e+03   \n",
       "25%    2.590000e+02 -1.010000e+02 -8.700000e+01  7.800000e+02 -2.030000e+02   \n",
       "50%    6.290000e+02  9.000000e+01  2.900000e+01  9.520000e+02 -3.800000e+01   \n",
       "75%    9.620000e+02  2.420000e+02  1.940000e+02  1.009000e+03  1.160000e+02   \n",
       "max    3.259800e+04  2.841800e+04  6.707000e+03  2.429800e+04  4.339000e+03   \n",
       "\n",
       "             status   User_Number  \n",
       "count  1.798362e+06  1.798362e+06  \n",
       "mean   6.525399e-01  5.211849e+00  \n",
       "std    5.879011e-01  2.897030e+00  \n",
       "min    0.000000e+00  1.000000e+00  \n",
       "25%    0.000000e+00  3.000000e+00  \n",
       "50%    1.000000e+00  5.000000e+00  \n",
       "75%    1.000000e+00  8.000000e+00  \n",
       "max    2.000000e+00  1.000000e+01  "
      ]
     },
     "execution_count": 5,
     "metadata": {},
     "output_type": "execute_result"
    }
   ],
   "source": [
    "df.describe()"
   ]
  },
  {
   "cell_type": "code",
   "execution_count": 6,
   "id": "0d3255a9-3906-4749-bc79-ffcae248a505",
   "metadata": {},
   "outputs": [
    {
     "data": {
      "text/plain": [
       "Index(['TS', ' Ankel_1', 'Ankel_2', 'Ankel_3', 'Thigh_1', 'Thigh_2', 'Thigh_3',\n",
       "       'Trunk_1', 'Trunk_2', 'Trunk_3', 'status', 'User_Number'],\n",
       "      dtype='object')"
      ]
     },
     "execution_count": 6,
     "metadata": {},
     "output_type": "execute_result"
    }
   ],
   "source": [
    "df.columns"
   ]
  },
  {
   "cell_type": "code",
   "execution_count": 7,
   "id": "4a18797b-9cb7-4639-94f6-a2ea981151d0",
   "metadata": {},
   "outputs": [
    {
     "data": {
      "text/plain": [
       "status\n",
       "1    959685\n",
       "0    731768\n",
       "2    106909\n",
       "Name: count, dtype: int64"
      ]
     },
     "execution_count": 7,
     "metadata": {},
     "output_type": "execute_result"
    }
   ],
   "source": [
    "df['status'].value_counts()"
   ]
  },
  {
   "cell_type": "code",
   "execution_count": 8,
   "id": "765a3428-2a16-4591-a0d8-d582e023eef6",
   "metadata": {},
   "outputs": [
    {
     "data": {
      "text/plain": [
       "(1798362, 12)"
      ]
     },
     "execution_count": 8,
     "metadata": {},
     "output_type": "execute_result"
    }
   ],
   "source": [
    "df.shape"
   ]
  },
  {
   "cell_type": "code",
   "execution_count": 9,
   "id": "95f02bd5-4448-42cc-b8d5-3c12a8b1f4b7",
   "metadata": {},
   "outputs": [],
   "source": [
    "# status 열에서 값이 0인 행 제거\n",
    "df = df[df['status'] != 0]\n",
    "\n",
    "# status 열에서 값이 1인 행을 0으로, 값이 2인 행을 1로 바꾸기\n",
    "df['status'] = df['status'].replace({1: 0, 2: 1})"
   ]
  },
  {
   "cell_type": "code",
   "execution_count": 10,
   "id": "78e2fd1d-8421-4aed-bfcd-34d5884a25b9",
   "metadata": {},
   "outputs": [
    {
     "data": {
      "text/plain": [
       "(1066594, 12)"
      ]
     },
     "execution_count": 10,
     "metadata": {},
     "output_type": "execute_result"
    }
   ],
   "source": [
    "df.shape"
   ]
  },
  {
   "cell_type": "code",
   "execution_count": 11,
   "id": "82fbc34c-23e5-4485-aa67-f7659eb846d7",
   "metadata": {},
   "outputs": [
    {
     "name": "stderr",
     "output_type": "stream",
     "text": [
      "I:\\anaconda3\\envs\\test01\\lib\\site-packages\\seaborn\\_base.py:948: FutureWarning: When grouping with a length-1 list-like, you will need to pass a length-1 tuple to get_group in a future version of pandas. Pass `(name,)` instead of `name` to silence this warning.\n",
      "  data_subset = grouped_data.get_group(pd_key)\n",
      "I:\\anaconda3\\envs\\test01\\lib\\site-packages\\seaborn\\_base.py:948: FutureWarning: When grouping with a length-1 list-like, you will need to pass a length-1 tuple to get_group in a future version of pandas. Pass `(name,)` instead of `name` to silence this warning.\n",
      "  data_subset = grouped_data.get_group(pd_key)\n"
     ]
    },
    {
     "data": {
      "image/png": "[encoded data removed]",
      "text/plain": [
       "<Figure size 1800x600 with 1 Axes>"
      ]
     },
     "metadata": {},
     "output_type": "display_data"
    }
   ],
   "source": [
    "plt.figure(figsize=(18, 6))\n",
    "sns.countplot(x = \"User_Number\", hue=\"status\", data = df,\n",
    "              order = df.User_Number.value_counts().index)\n",
    "plt.title(\"Records per user\");"
   ]
  },
  {
   "cell_type": "code",
   "execution_count": 12,
   "id": "61c17530-9cf9-4668-ab4d-b6b514c3ab56",
   "metadata": {},
   "outputs": [
    {
     "name": "stdout",
     "output_type": "stream",
     "text": [
      "(17062, 200, 10) (17062, 1)\n",
      "(5332, 200, 10) (5332, 1)\n"
     ]
    }
   ],
   "source": [
    "from scipy import stats\n",
    "\n",
    "def create_dataset(X, y, time_steps=1, step=1):\n",
    "    Xs, ys = [], []\n",
    "    for i in range(0, len(X) - time_steps, step):\n",
    "        v = X.iloc[i:(i + time_steps)].values\n",
    "        labels = y.iloc[i: i + time_steps]\n",
    "        Xs.append(v)\n",
    "        ys.append(stats.mode(labels)[0])\n",
    "    return np.array(Xs), np.array(ys).reshape(-1, 1)\n",
    "\n",
    "TIME_STEPS = 200\n",
    "STEP = 40\n",
    "\n",
    "X_data, y_data = create_dataset(df[['TS', ' Ankel_1', 'Ankel_2', 'Ankel_3', 'Thigh_1', 'Thigh_2', 'Thigh_3',\n",
    "       'Trunk_1', 'Trunk_2', 'Trunk_3']], df.status, TIME_STEPS,\n",
    "                                  STEP)\n",
    "\n",
    "X_train, X_test,y_train, y_test = train_test_split(X_data, y_data, test_size = 0.2, stratify=  y_data )\n",
    "X_train, X_val, y_train, y_val  = train_test_split(X_train, y_train, test_size = 0.2, stratify=  y_train )\n",
    "print(X_train.shape, y_train.shape)\n",
    "print(X_test.shape, y_test.shape)"
   ]
  },
  {
   "cell_type": "code",
   "execution_count": 13,
   "id": "a2f332e6-89eb-41aa-9fea-58b37f5ab797",
   "metadata": {},
   "outputs": [
    {
     "name": "stdout",
     "output_type": "stream",
     "text": [
      "(17062, 200, 10) (17062, 2) (5332, 200, 10) (5332, 2)\n"
     ]
    }
   ],
   "source": [
    "from sklearn.preprocessing import OneHotEncoder\n",
    "\n",
    "enc = OneHotEncoder(handle_unknown = \"ignore\", sparse_output = False)\n",
    "enc = enc.fit(y_train)\n",
    "\n",
    "y_train_hot = enc.transform(y_train)\n",
    "y_test_hot = enc.transform(y_test)\n",
    "y_val_hot = enc.transform(y_val)\n",
    "\n",
    "print(X_train.shape, y_train_hot.shape, X_test.shape, y_test_hot.shape)"
   ]
  },
  {
   "cell_type": "code",
   "execution_count": 14,
   "id": "7bf63fb7-37ad-45e1-b564-e9368a065e87",
   "metadata": {},
   "outputs": [
    {
     "data": {
      "text/plain": [
       "\"\\nX = df[['TS', ' Ankel_1', 'Ankel_2', 'Ankel_3', 'Thigh_1', 'Thigh_2', 'Thigh_3',\\n       'Trunk_1', 'Trunk_2', 'Trunk_3']].values\\ny = df['status'].values.reshape(-1, 1)\\n\""
      ]
     },
     "execution_count": 14,
     "metadata": {},
     "output_type": "execute_result"
    }
   ],
   "source": [
    "'''\n",
    "X = df[['TS', ' Ankel_1', 'Ankel_2', 'Ankel_3', 'Thigh_1', 'Thigh_2', 'Thigh_3',\n",
    "       'Trunk_1', 'Trunk_2', 'Trunk_3']].values\n",
    "y = df['status'].values.reshape(-1, 1)\n",
    "'''"
   ]
  },
  {
   "cell_type": "code",
   "execution_count": 15,
   "id": "2b205b0d-459f-4767-adb5-52d924dceb43",
   "metadata": {},
   "outputs": [
    {
     "data": {
      "text/plain": [
       "'\\nX_train, X_test,y_train, y_test = train_test_split(X, y, test_size = 0.2, stratify= y)\\nX_train, X_val, y_train, y_val  = train_test_split(X_train, y_train, test_size = 0.2, stratify= y_train )\\nprint(X_train.shape, y_train.shape)\\nprint(X_test.shape, y_test.shape)\\n'"
      ]
     },
     "execution_count": 15,
     "metadata": {},
     "output_type": "execute_result"
    }
   ],
   "source": [
    "'''\n",
    "X_train, X_test,y_train, y_test = train_test_split(X, y, test_size = 0.2, stratify= y)\n",
    "X_train, X_val, y_train, y_val  = train_test_split(X_train, y_train, test_size = 0.2, stratify= y_train )\n",
    "print(X_train.shape, y_train.shape)\n",
    "print(X_test.shape, y_test.shape)\n",
    "'''"
   ]
  },
  {
   "cell_type": "code",
   "execution_count": 16,
   "id": "2a6adedd-dee0-4577-a4e1-945707915e9f",
   "metadata": {},
   "outputs": [
    {
     "data": {
      "text/plain": [
       "(200, 10, 2)"
      ]
     },
     "execution_count": 16,
     "metadata": {},
     "output_type": "execute_result"
    }
   ],
   "source": [
    "#Epoch 100\n",
    "\n",
    "BATCH_SIZE = 128\n",
    "\n",
    "verbose,epochs,batch_size=1,10, BATCH_SIZE\n",
    "\n",
    "n_timesteps,n_features,n_outputs= X_train.shape[1],X_train.shape[2],y_train_hot.shape[1]\n",
    "n_timesteps,n_features,n_outputs"
   ]
  },
  {
   "cell_type": "code",
   "execution_count": 17,
   "id": "0e435b29-9753-4adc-ae0e-3a06888c5f56",
   "metadata": {},
   "outputs": [
    {
     "data": {
      "text/plain": [
       "'from sklearn.preprocessing import OneHotEncoder\\n\\nenc = OneHotEncoder(handle_unknown=\"ignore\", sparse_output=False)\\nenc.fit(y_train)\\n\\ny_train_hot = enc.transform(y_train) \\ny_test_hot = enc.transform(y_test) \\ny_val_hot = enc.transform(y_val)\\n'"
      ]
     },
     "execution_count": 17,
     "metadata": {},
     "output_type": "execute_result"
    }
   ],
   "source": [
    "'''from sklearn.preprocessing import OneHotEncoder\n",
    "\n",
    "enc = OneHotEncoder(handle_unknown=\"ignore\", sparse_output=False)\n",
    "enc.fit(y_train)\n",
    "\n",
    "y_train_hot = enc.transform(y_train) \n",
    "y_test_hot = enc.transform(y_test) \n",
    "y_val_hot = enc.transform(y_val)\n",
    "'''"
   ]
  },
  {
   "cell_type": "code",
   "execution_count": 18,
   "id": "587f4a6b-b10e-4deb-86a0-20575f0fa928",
   "metadata": {},
   "outputs": [
    {
     "data": {
      "text/plain": [
       "'\\nn_features, n_outputs = X_train.shape[1], y_train_hot.shape[1]\\n'"
      ]
     },
     "execution_count": 18,
     "metadata": {},
     "output_type": "execute_result"
    }
   ],
   "source": [
    "'''\n",
    "n_features, n_outputs = X_train.shape[1], y_train_hot.shape[1]\n",
    "'''"
   ]
  },
  {
   "cell_type": "markdown",
   "id": "52cd7691-7094-4831-9bcc-f6649ed0451c",
   "metadata": {},
   "source": [
    "## Data Balancing 전 모델"
   ]
  },
  {
   "cell_type": "code",
   "execution_count": 21,
   "id": "c6f4cbca-a2ce-4653-9839-5bd70e61ce74",
   "metadata": {},
   "outputs": [
    {
     "name": "stdout",
     "output_type": "stream",
     "text": [
      "Model: \"sequential_1\"\n",
      "_________________________________________________________________\n",
      " Layer (type)                Output Shape              Param #   \n",
      "=================================================================\n",
      " lstm_1 (LSTM)               (None, 200, 128)          71168     \n",
      "                                                                 \n",
      " dropout_2 (Dropout)         (None, 200, 128)          0         \n",
      "                                                                 \n",
      " conv1d_1 (Conv1D)           (None, 198, 64)           24640     \n",
      "                                                                 \n",
      " dropout_3 (Dropout)         (None, 198, 64)           0         \n",
      "                                                                 \n",
      " max_pooling1d_1 (MaxPooling  (None, 99, 64)           0         \n",
      " 1D)                                                             \n",
      "                                                                 \n",
      " flatten_1 (Flatten)         (None, 6336)              0         \n",
      "                                                                 \n",
      " dense_2 (Dense)             (None, 64)                405568    \n",
      "                                                                 \n",
      " dense_3 (Dense)             (None, 2)                 130       \n",
      "                                                                 \n",
      "=================================================================\n",
      "Total params: 501,506\n",
      "Trainable params: 501,506\n",
      "Non-trainable params: 0\n",
      "_________________________________________________________________\n"
     ]
    }
   ],
   "source": [
    "model = Sequential()\n",
    "# RNN layer\n",
    "model.add(LSTM(units = 128, input_shape = (n_timesteps,n_features),  return_sequences=True))\n",
    "# Dropout layer\n",
    "model.add(Dropout(0.5))\n",
    "# Dense layer with ReLu\n",
    "\n",
    "model.add(Conv1D(filters=64, kernel_size=3, activation='relu'))\n",
    "model.add(Dropout(0.5))\n",
    "model.add(MaxPooling1D(pool_size=2))\n",
    "model.add(Flatten())\n",
    "\n",
    "\n",
    "model.add(Dense(units = 64, activation='relu'))\n",
    "# Softmax layer\n",
    "model.add(Dense(n_outputs, activation = 'sigmoid'))\n",
    "# Compile model\n",
    "model.compile(loss='binary_crossentropy', optimizer='adam', metrics=['accuracy'])\n",
    "model.summary()"
   ]
  },
  {
   "cell_type": "code",
   "execution_count": 22,
   "id": "1fd7b7d1-8d67-4e28-9875-1ebc71d7cea4",
   "metadata": {},
   "outputs": [
    {
     "name": "stdout",
     "output_type": "stream",
     "text": [
      "Epoch 1/20\n",
      "134/134 [==============================] - 9s 22ms/step - loss: 0.3696 - accuracy: 0.9010 - val_loss: 0.3972 - val_accuracy: 0.9018\n",
      "Epoch 2/20\n",
      "134/134 [==============================] - 2s 18ms/step - loss: 0.3259 - accuracy: 0.9017 - val_loss: 0.4160 - val_accuracy: 0.9018\n",
      "Epoch 3/20\n",
      "134/134 [==============================] - 2s 18ms/step - loss: 0.3248 - accuracy: 0.9017 - val_loss: 0.3955 - val_accuracy: 0.9018\n",
      "Epoch 4/20\n",
      "134/134 [==============================] - 2s 19ms/step - loss: 0.3254 - accuracy: 0.9017 - val_loss: 0.3808 - val_accuracy: 0.9018\n",
      "Epoch 5/20\n",
      "134/134 [==============================] - 3s 19ms/step - loss: 0.3237 - accuracy: 0.9017 - val_loss: 0.3913 - val_accuracy: 0.9018\n",
      "Epoch 6/20\n",
      "134/134 [==============================] - 2s 18ms/step - loss: 0.3271 - accuracy: 0.9017 - val_loss: 0.4232 - val_accuracy: 0.9018\n",
      "Epoch 7/20\n",
      "134/134 [==============================] - 2s 18ms/step - loss: 0.3257 - accuracy: 0.9017 - val_loss: 0.3989 - val_accuracy: 0.9018\n",
      "Epoch 8/20\n",
      "134/134 [==============================] - 2s 18ms/step - loss: 0.3249 - accuracy: 0.9017 - val_loss: 0.3774 - val_accuracy: 0.9018\n",
      "Epoch 9/20\n",
      "134/134 [==============================] - 2s 18ms/step - loss: 0.3250 - accuracy: 0.9017 - val_loss: 0.3680 - val_accuracy: 0.9018\n",
      "Epoch 10/20\n",
      "134/134 [==============================] - 2s 18ms/step - loss: 0.3245 - accuracy: 0.9017 - val_loss: 0.3571 - val_accuracy: 0.9018\n",
      "Epoch 11/20\n",
      "134/134 [==============================] - 2s 18ms/step - loss: 0.3247 - accuracy: 0.9017 - val_loss: 0.3596 - val_accuracy: 0.9018\n",
      "Epoch 12/20\n",
      "134/134 [==============================] - 2s 18ms/step - loss: 0.3242 - accuracy: 0.9017 - val_loss: 0.3659 - val_accuracy: 0.9018\n",
      "Epoch 13/20\n",
      "134/134 [==============================] - 2s 18ms/step - loss: 0.3264 - accuracy: 0.9017 - val_loss: 0.3689 - val_accuracy: 0.9018\n",
      "Epoch 14/20\n",
      "134/134 [==============================] - 2s 18ms/step - loss: 0.3250 - accuracy: 0.9017 - val_loss: 0.3617 - val_accuracy: 0.9018\n",
      "Epoch 15/20\n",
      "134/134 [==============================] - 2s 18ms/step - loss: 0.3246 - accuracy: 0.9017 - val_loss: 0.3546 - val_accuracy: 0.9018\n",
      "Epoch 16/20\n",
      "134/134 [==============================] - 3s 21ms/step - loss: 0.3240 - accuracy: 0.9017 - val_loss: 0.3509 - val_accuracy: 0.9018\n",
      "Epoch 17/20\n",
      "134/134 [==============================] - 3s 21ms/step - loss: 0.3241 - accuracy: 0.9017 - val_loss: 0.3477 - val_accuracy: 0.9018\n",
      "Epoch 18/20\n",
      "134/134 [==============================] - 3s 21ms/step - loss: 0.3235 - accuracy: 0.9017 - val_loss: 0.3525 - val_accuracy: 0.9018\n",
      "Epoch 19/20\n",
      "134/134 [==============================] - 3s 21ms/step - loss: 0.3236 - accuracy: 0.9017 - val_loss: 0.3491 - val_accuracy: 0.9018\n",
      "Epoch 20/20\n",
      "134/134 [==============================] - 3s 20ms/step - loss: 0.3234 - accuracy: 0.9017 - val_loss: 0.3508 - val_accuracy: 0.9018\n"
     ]
    }
   ],
   "source": [
    "epochs, batch_size = 20, 128\n",
    "history = model.fit(X_train, y_train_hot, epochs=epochs, batch_size=batch_size, verbose=1, validation_data=(X_val, y_val_hot), shuffle=True)"
   ]
  },
  {
   "cell_type": "code",
   "execution_count": 23,
   "id": "141c9220-b7de-405e-b0a9-e0f2df842fa8",
   "metadata": {},
   "outputs": [
    {
     "data": {
      "text/plain": [
       "<matplotlib.legend.Legend at 0x1f1c688e530>"
      ]
     },
     "execution_count": 23,
     "metadata": {},
     "output_type": "execute_result"
    },
    {
     "data": {
      "image/png": "[encoded data removed]",
      "text/plain": [
       "<Figure size 640x480 with 1 Axes>"
      ]
     },
     "metadata": {},
     "output_type": "display_data"
    }
   ],
   "source": [
    "plt.plot(history.history['loss'])\n",
    "plt.plot(history.history['val_loss'])\n",
    "plt.title('model loss')\n",
    "plt.ylabel('loss')\n",
    "plt.xlabel('epoch')\n",
    "plt.legend(['train', 'Validation'], loc='upper left')"
   ]
  },
  {
   "cell_type": "code",
   "execution_count": 24,
   "id": "7956223b-56de-45f1-9404-6b20a42acffe",
   "metadata": {},
   "outputs": [
    {
     "data": {
      "text/plain": [
       "<matplotlib.legend.Legend at 0x1f1836c5990>"
      ]
     },
     "execution_count": 24,
     "metadata": {},
     "output_type": "execute_result"
    },
    {
     "data": {
      "image/png": "[encoded data removed]",
      "text/plain": [
       "<Figure size 640x480 with 1 Axes>"
      ]
     },
     "metadata": {},
     "output_type": "display_data"
    }
   ],
   "source": [
    "plt.plot(history.history['accuracy'])\n",
    "plt.plot(history.history['val_accuracy'])\n",
    "plt.title('Training and validation accuracy')\n",
    "plt.ylabel('accuracy')\n",
    "plt.xlabel('epoch')\n",
    "plt.legend(['train', 'Validation'], loc='upper left')"
   ]
  },
  {
   "cell_type": "code",
   "execution_count": 25,
   "id": "fd9dbe46-ae60-46c3-98db-5ba90291776c",
   "metadata": {},
   "outputs": [
    {
     "name": "stdout",
     "output_type": "stream",
     "text": [
      "167/167 [==============================] - 2s 7ms/step\n",
      "f1_score =  0.8551273913152845\n",
      "0.9017254313578394\n",
      "              precision    recall  f1-score   support\n",
      "\n",
      "           0       0.90      1.00      0.95      4808\n",
      "           1       0.00      0.00      0.00       524\n",
      "\n",
      "    accuracy                           0.90      5332\n",
      "   macro avg       0.45      0.50      0.47      5332\n",
      "weighted avg       0.81      0.90      0.86      5332\n",
      "\n"
     ]
    },
    {
     "name": "stderr",
     "output_type": "stream",
     "text": [
      "I:\\anaconda3\\envs\\test01\\lib\\site-packages\\sklearn\\metrics\\_classification.py:1509: UndefinedMetricWarning: Precision is ill-defined and being set to 0.0 in labels with no predicted samples. Use `zero_division` parameter to control this behavior.\n",
      "  _warn_prf(average, modifier, f\"{metric.capitalize()} is\", len(result))\n",
      "I:\\anaconda3\\envs\\test01\\lib\\site-packages\\sklearn\\metrics\\_classification.py:1509: UndefinedMetricWarning: Precision is ill-defined and being set to 0.0 in labels with no predicted samples. Use `zero_division` parameter to control this behavior.\n",
      "  _warn_prf(average, modifier, f\"{metric.capitalize()} is\", len(result))\n",
      "I:\\anaconda3\\envs\\test01\\lib\\site-packages\\sklearn\\metrics\\_classification.py:1509: UndefinedMetricWarning: Precision is ill-defined and being set to 0.0 in labels with no predicted samples. Use `zero_division` parameter to control this behavior.\n",
      "  _warn_prf(average, modifier, f\"{metric.capitalize()} is\", len(result))\n"
     ]
    },
    {
     "data": {
      "text/plain": [
       "<Axes: >"
      ]
     },
     "execution_count": 25,
     "metadata": {},
     "output_type": "execute_result"
    },
    {
     "data": {
      "image/png": "[encoded data removed]",
      "text/plain": [
       "<Figure size 640x480 with 2 Axes>"
      ]
     },
     "metadata": {},
     "output_type": "display_data"
    }
   ],
   "source": [
    "from sklearn.metrics import confusion_matrix,classification_report,accuracy_score\n",
    "\n",
    "y_pred=model.predict(X_test)\n",
    "y_pred = np.argmax(y_pred, axis=-1)\n",
    "y_true = np.argmax(y_test_hot, axis=-1)\n",
    "\n",
    "LABELS = ['No_Freeze','Freeze']\n",
    "cm=confusion_matrix(y_true,y_pred)\n",
    "\n",
    "#print(cm)\n",
    "print('f1_score = ', f1_score(y_true, y_pred, average='weighted'))\n",
    "print(accuracy_score(y_true,y_pred))\n",
    "print(classification_report(y_true,y_pred))\n",
    "sns.heatmap(cm, cmap=\"YlGnBu\", xticklabels=LABELS, yticklabels=LABELS, annot=True, fmt = '.2f')"
   ]
  },
  {
   "cell_type": "markdown",
   "id": "e70ba33a-ee5c-45ea-ba4f-092fc2a32488",
   "metadata": {},
   "source": [
    "## Smote()를 통해 각 User 별로 status의 개수 동일하게 밸런싱"
   ]
  },
  {
   "cell_type": "code",
   "execution_count": 26,
   "id": "0c342da7-1940-4f09-9cae-5d45b2153415",
   "metadata": {},
   "outputs": [
    {
     "name": "stdout",
     "output_type": "stream",
     "text": [
      "       TS   Ankel_1  Ankel_2  Ankel_3  Thigh_1  Thigh_2  Thigh_3  Trunk_1  \\\n",
      "0  750000       -30      990      326      -45      972      181      -38   \n",
      "1  750015       -30     1000      356      -18      981      212      -48   \n",
      "2  750031       -20      990      336       18      981      222      -38   \n",
      "3  750046       -20     1000      316       36      990      222      -19   \n",
      "4  750062         0      990      316       36      990      212      -29   \n",
      "\n",
      "   Trunk_2  Trunk_3  status  User_Number  \n",
      "0     1000       29       0            1  \n",
      "1     1028       29       0            1  \n",
      "2     1038        9       0            1  \n",
      "3     1038        9       0            1  \n",
      "4     1038       29       0            1  \n"
     ]
    }
   ],
   "source": [
    "from imblearn.over_sampling import SMOTE\n",
    "import pandas as pd\n",
    "\n",
    "# 데이터프레임 그룹화\n",
    "grouped = df.groupby('User_Number')\n",
    "\n",
    "# 각 그룹에 대해 밸런싱 적용\n",
    "balanced_dfs = []\n",
    "for group_name, group_data in grouped:\n",
    "    # 그룹 내 클래스 개수 확인\n",
    "    num_classes = group_data['status'].nunique()\n",
    "    \n",
    "    # 클래스가 하나 이상인 경우에만 밸런싱 적용, Standing이 존재하지 않는 user가 있어서\n",
    "    if num_classes > 1:\n",
    "        # Smote를 통한 Oversampling\n",
    "        smote = SMOTE(sampling_strategy='auto', random_state=42)\n",
    "        X_resampled, y_resampled = smote.fit_resample(group_data.drop(['status', 'User_Number'], axis=1), group_data['status'])\n",
    "        balanced_group_df = pd.concat([pd.DataFrame(X_resampled, columns=group_data.drop(['status', 'User_Number'], axis=1).columns),\n",
    "                                       pd.DataFrame({'status': y_resampled})], axis=1)\n",
    "\n",
    "        # 'user_id' 열 추가\n",
    "        balanced_group_df['User_Number'] = group_name\n",
    "\n",
    "        balanced_dfs.append(balanced_group_df)\n",
    "    else:\n",
    "        balanced_dfs.append(group_data)\n",
    "\n",
    "# 재결합\n",
    "balanced_df = pd.concat(balanced_dfs)\n",
    "\n",
    "# 결과 확인\n",
    "print(balanced_df.head())"
   ]
  },
  {
   "cell_type": "code",
   "execution_count": 27,
   "id": "f0c04520-1320-4711-9a0e-4c615946b379",
   "metadata": {},
   "outputs": [
    {
     "name": "stdout",
     "output_type": "stream",
     "text": [
      "             TS   Ankel_1  Ankel_2  Ankel_3  Thigh_1  Thigh_2  Thigh_3  \\\n",
      "0        750000       -30      990      326      -45      972      181   \n",
      "1        750015       -30     1000      356      -18      981      212   \n",
      "2        750031       -20      990      336       18      981      222   \n",
      "3        750046       -20     1000      316       36      990      222   \n",
      "4        750062         0      990      316       36      990      212   \n",
      "...         ...       ...      ...      ...      ...      ...      ...   \n",
      "188151   719786       296     1047       21     -213      913      206   \n",
      "188152   457967       -14     1649      261     -802     1205      352   \n",
      "188153   637802       233      923      -12       13      829      333   \n",
      "188154  1010843       222     1008       98     -145      962      150   \n",
      "188155   833621        -1      992      193     -316      894      228   \n",
      "\n",
      "        Trunk_1  Trunk_2  Trunk_3  status  User_Number  \n",
      "0           -38     1000       29       0            1  \n",
      "1           -48     1028       29       0            1  \n",
      "2           -38     1038        9       0            1  \n",
      "3           -19     1038        9       0            1  \n",
      "4           -29     1038       29       0            1  \n",
      "...         ...      ...      ...     ...          ...  \n",
      "188151      182      882      -49       1            9  \n",
      "188152      184     1162       32       1            9  \n",
      "188153      -41      867      -58       1            9  \n",
      "188154      116      990       -9       1            9  \n",
      "188155      123      973     -127       1            9  \n",
      "\n",
      "[1368962 rows x 12 columns]\n"
     ]
    }
   ],
   "source": [
    "# 'Freeze' 활동을 하는 User_Number 추출\n",
    "Freeze_users = balanced_df[balanced_df['status'] == 1]['User_Number'].unique()\n",
    "\n",
    "# 'Freeze' 활동을 하지 않는 User_Number 추출\n",
    "Freeze_absent_users = [User_Number for User_Number in df['User_Number'].unique() if User_Number not in Freeze_users]\n",
    "\n",
    "# 'Freeze' 활동을 하지 않는 User_Number 해당하는 행 삭제\n",
    "balanced_df = balanced_df[~balanced_df['User_Number'].isin(Freeze_absent_users)]\n",
    "\n",
    "# 결과 확인\n",
    "print(balanced_df)"
   ]
  },
  {
   "cell_type": "code",
   "execution_count": 28,
   "id": "5dda27af-ddff-45dc-8b29-e5cb504dbd75",
   "metadata": {},
   "outputs": [
    {
     "name": "stderr",
     "output_type": "stream",
     "text": [
      "I:\\anaconda3\\envs\\test01\\lib\\site-packages\\seaborn\\_base.py:948: FutureWarning: When grouping with a length-1 list-like, you will need to pass a length-1 tuple to get_group in a future version of pandas. Pass `(name,)` instead of `name` to silence this warning.\n",
      "  data_subset = grouped_data.get_group(pd_key)\n",
      "I:\\anaconda3\\envs\\test01\\lib\\site-packages\\seaborn\\_base.py:948: FutureWarning: When grouping with a length-1 list-like, you will need to pass a length-1 tuple to get_group in a future version of pandas. Pass `(name,)` instead of `name` to silence this warning.\n",
      "  data_subset = grouped_data.get_group(pd_key)\n"
     ]
    },
    {
     "data": {
      "image/png": "[encoded data removed]",
      "text/plain": [
       "<Figure size 1800x600 with 1 Axes>"
      ]
     },
     "metadata": {},
     "output_type": "display_data"
    }
   ],
   "source": [
    "plt.figure(figsize=(18, 6))\n",
    "sns.countplot(x = \"User_Number\", hue=\"status\", data = balanced_df,\n",
    "              order = df.User_Number.value_counts().index)\n",
    "plt.title(\"Records per user\");"
   ]
  },
  {
   "cell_type": "code",
   "execution_count": 29,
   "id": "d2716602-58cf-46bb-9207-6afffb8d3ed4",
   "metadata": {},
   "outputs": [
    {
     "name": "stdout",
     "output_type": "stream",
     "text": [
      "User_Number\n",
      "6    237904\n",
      "1    229818\n",
      "3    220608\n",
      "5    206792\n",
      "9    188156\n",
      "2    157906\n",
      "8     72850\n",
      "7     54928\n",
      "Name: count, dtype: int64\n",
      "User_Number\n",
      "6    237904\n",
      "1    229818\n",
      "3    220608\n",
      "5    206792\n",
      "9    188156\n",
      "2    157906\n",
      "8     72850\n",
      "7     54928\n",
      "Name: count, dtype: int64\n"
     ]
    }
   ],
   "source": [
    "print(balanced_df['User_Number'].value_counts())\n",
    "print(balanced_df['User_Number'].value_counts())"
   ]
  },
  {
   "cell_type": "code",
   "execution_count": 30,
   "id": "eecde04e-495c-4de0-9fa6-5963b37d52a8",
   "metadata": {},
   "outputs": [],
   "source": [
    "## 9번 User의 행 개수에 맞춰서 다른 User의 행 개수 밸런싱 (앞의 밸런싱 유지)"
   ]
  },
  {
   "cell_type": "code",
   "execution_count": 31,
   "id": "19095622-ba98-4aa3-80f9-83abb839dfa5",
   "metadata": {},
   "outputs": [
    {
     "name": "stdout",
     "output_type": "stream",
     "text": [
      "             TS   Ankel_1  Ankel_2  Ankel_3  Thigh_1  Thigh_2  Thigh_3  \\\n",
      "121958  1240254      -107     1039      306      322      956      112   \n",
      "146867   578537      -249     1047      172       24     1016      118   \n",
      "131932  1853038      -313      950      227      202     1047      -47   \n",
      "103694   420187       -70     1019       69     -136      981      101   \n",
      "119879   673078      -111     1107      118      763      462     -252   \n",
      "\n",
      "        Trunk_1  Trunk_2  Trunk_3  status  User_Number  \n",
      "121958      -42      995      -77       1            1  \n",
      "146867      243     1043      175       1            1  \n",
      "131932      -97     1035      -10       1            1  \n",
      "103694      194      990      165       0            1  \n",
      "119879      504      723      456       0            1  \n",
      "             TS   Ankel_1  Ankel_2  Ankel_3  Thigh_1  Thigh_2  Thigh_3  \\\n",
      "121958  1240254      -107     1039      306      322      956      112   \n",
      "146867   578537      -249     1047      172       24     1016      118   \n",
      "131932  1853038      -313      950      227      202     1047      -47   \n",
      "103694   420187       -70     1019       69     -136      981      101   \n",
      "119879   673078      -111     1107      118      763      462     -252   \n",
      "...         ...       ...      ...      ...      ...      ...      ...   \n",
      "114043   956490       265     1066      194     -152      944      141   \n",
      "172610   604182        58     1024      185     -173      983      212   \n",
      "62655   1708937       424      725      178      672     1231      232   \n",
      "157647  1010472       230      962       30       -5     1005       33   \n",
      "180283   922178       186      999      133     -218      957       85   \n",
      "\n",
      "        Trunk_1  Trunk_2  Trunk_3  status  User_Number  \n",
      "121958      -42      995      -77       1            1  \n",
      "146867      243     1043      175       1            1  \n",
      "131932      -97     1035      -10       1            1  \n",
      "103694      194      990      165       0            1  \n",
      "119879      504      723      456       0            1  \n",
      "...         ...      ...      ...     ...          ...  \n",
      "114043      158      889        7       1            9  \n",
      "172610       87     1075       21       1            9  \n",
      "62655       165     1019      155       0            9  \n",
      "157647       61     1053       11       1            9  \n",
      "180283       19     1028       33       1            9  \n",
      "\n",
      "[1505248 rows x 12 columns]\n",
      "User_Number\n",
      "1    188156\n",
      "2    188156\n",
      "3    188156\n",
      "5    188156\n",
      "6    188156\n",
      "7    188156\n",
      "8    188156\n",
      "9    188156\n",
      "Name: count, dtype: int64\n",
      "status\n",
      "0    753626\n",
      "1    751622\n",
      "Name: count, dtype: int64\n"
     ]
    }
   ],
   "source": [
    "from imblearn.over_sampling import SMOTE\n",
    "import pandas as pd\n",
    "\n",
    "# 데이터프레임 그룹화\n",
    "grouped = df.groupby('User_Number')\n",
    "\n",
    "# 각 그룹에 대해 밸런싱 적용\n",
    "balanced_dfs = []\n",
    "max_user_data_count = 188156  # 9번 User의 데이터 개수를 기준으로 설정\n",
    "\n",
    "for group_name, group_data in grouped:\n",
    "    # 그룹 내 클래스 개수 확인\n",
    "    num_classes = group_data['status'].nunique()\n",
    "    \n",
    "    # 최소 데이터 개수를 가진 사용자를 기준으로 전체 데이터 개수 조절\n",
    "    if num_classes > 1:\n",
    "        # Smote를 통한 Oversampling\n",
    "        smote = SMOTE(sampling_strategy='auto', random_state=42)\n",
    "        X_resampled, y_resampled = smote.fit_resample(group_data.drop(['status', 'User_Number'], axis=1), group_data['status'])\n",
    "        balanced_group_df = pd.concat([pd.DataFrame(X_resampled, columns=group_data.drop(['status', 'User_Number'], axis=1).columns),\n",
    "                                       pd.DataFrame({'status': y_resampled})], axis=1)\n",
    "\n",
    "        # 'user_id' 열 추가\n",
    "        balanced_group_df['User_Number'] = group_name\n",
    "\n",
    "        # 데이터 개수 조절\n",
    "        balanced_group_df = balanced_group_df.sample(n=max_user_data_count, replace=True, random_state=42)\n",
    "\n",
    "        balanced_dfs.append(balanced_group_df)\n",
    "    else:\n",
    "        # 데이터 개수 조절\n",
    "        group_data = group_data.sample(n=max_user_data_count, replace=True, random_state=42)\n",
    "        balanced_dfs.append(group_data)\n",
    "\n",
    "# 재결합\n",
    "balanced_df = pd.concat(balanced_dfs)\n",
    "\n",
    "# 결과 확인\n",
    "print(balanced_df.head())\n",
    "\n",
    "# 'Freeze' 활동을 하는 User_Number 추출\n",
    "Freeze_users = balanced_df[balanced_df['status'] == 1]['User_Number'].unique()\n",
    "\n",
    "# 'Freeze' 활동을 하지 않는 User_Number 추출\n",
    "Freeze_absent_users = [User_Number for User_Number in df['User_Number'].unique() if User_Number not in Freeze_users]\n",
    "\n",
    "# 'Freeze' 활동을 하지 않는 User_Number 해당하는 행 삭제\n",
    "balanced_df = balanced_df[~balanced_df['User_Number'].isin(Freeze_absent_users)]\n",
    "\n",
    "# 결과 확인\n",
    "print(balanced_df)\n",
    "\n",
    "# 결과 확인\n",
    "print(balanced_df['User_Number'].value_counts())\n",
    "print(balanced_df['status'].value_counts())"
   ]
  },
  {
   "cell_type": "code",
   "execution_count": 32,
   "id": "fa1cc5df-9ef5-4013-9f76-09e907ad1cdf",
   "metadata": {},
   "outputs": [
    {
     "name": "stderr",
     "output_type": "stream",
     "text": [
      "I:\\anaconda3\\envs\\test01\\lib\\site-packages\\seaborn\\_base.py:948: FutureWarning: When grouping with a length-1 list-like, you will need to pass a length-1 tuple to get_group in a future version of pandas. Pass `(name,)` instead of `name` to silence this warning.\n",
      "  data_subset = grouped_data.get_group(pd_key)\n",
      "I:\\anaconda3\\envs\\test01\\lib\\site-packages\\seaborn\\_base.py:948: FutureWarning: When grouping with a length-1 list-like, you will need to pass a length-1 tuple to get_group in a future version of pandas. Pass `(name,)` instead of `name` to silence this warning.\n",
      "  data_subset = grouped_data.get_group(pd_key)\n"
     ]
    },
    {
     "data": {
      "image/png": "[encoded data removed]",
      "text/plain": [
       "<Figure size 1800x600 with 1 Axes>"
      ]
     },
     "metadata": {},
     "output_type": "display_data"
    }
   ],
   "source": [
    "plt.figure(figsize=(18, 6))\n",
    "sns.countplot(x = \"User_Number\", hue=\"status\", data = balanced_df,\n",
    "              order = df.User_Number.value_counts().index)\n",
    "plt.title(\"Records per user\");"
   ]
  },
  {
   "cell_type": "code",
   "execution_count": 33,
   "id": "db37af64-dae3-4cac-85ce-a3f5e5a739d7",
   "metadata": {},
   "outputs": [
    {
     "name": "stdout",
     "output_type": "stream",
     "text": [
      "(17062, 200, 10) (17062, 1)\n",
      "(5332, 200, 10) (5332, 1)\n"
     ]
    }
   ],
   "source": [
    "from scipy import stats\n",
    "\n",
    "def create_dataset(X, y, time_steps=1, step=1):\n",
    "    Xs, ys = [], []\n",
    "    for i in range(0, len(X) - time_steps, step):\n",
    "        v = X.iloc[i:(i + time_steps)].values\n",
    "        labels = y.iloc[i: i + time_steps]\n",
    "        Xs.append(v)\n",
    "        ys.append(stats.mode(labels)[0])\n",
    "    return np.array(Xs), np.array(ys).reshape(-1, 1)\n",
    "\n",
    "TIME_STEPS = 200\n",
    "STEP = 40\n",
    "\n",
    "X_data, y_data = create_dataset(df[['TS', ' Ankel_1', 'Ankel_2', 'Ankel_3', 'Thigh_1', 'Thigh_2', 'Thigh_3',\n",
    "       'Trunk_1', 'Trunk_2', 'Trunk_3']], df.status, TIME_STEPS,\n",
    "                                  STEP)\n",
    "\n",
    "X_train, X_test,y_train, y_test = train_test_split(X_data, y_data, test_size = 0.2, stratify=  y_data )\n",
    "X_train, X_val, y_train, y_val  = train_test_split(X_train, y_train, test_size = 0.2, stratify=  y_train )\n",
    "print(X_train.shape, y_train.shape)\n",
    "print(X_test.shape, y_test.shape)"
   ]
  },
  {
   "cell_type": "code",
   "execution_count": 34,
   "id": "a52d4b2e-e3fc-40aa-97de-c4cb20c28c1b",
   "metadata": {},
   "outputs": [
    {
     "data": {
      "text/plain": [
       "(200, 10, 2)"
      ]
     },
     "execution_count": 34,
     "metadata": {},
     "output_type": "execute_result"
    }
   ],
   "source": [
    "#Epoch 100\n",
    "\n",
    "BATCH_SIZE = 128\n",
    "\n",
    "verbose,epochs,batch_size=1,10, BATCH_SIZE\n",
    "\n",
    "n_timesteps,n_features,n_outputs= X_train.shape[1],X_train.shape[2],y_train_hot.shape[1]\n",
    "n_timesteps,n_features,n_outputs"
   ]
  },
  {
   "cell_type": "code",
   "execution_count": 35,
   "id": "b0071723-225e-43b1-a4ea-c4354c137f6e",
   "metadata": {},
   "outputs": [
    {
     "name": "stdout",
     "output_type": "stream",
     "text": [
      "(17062, 200, 10) (17062, 2) (5332, 200, 10) (5332, 2)\n"
     ]
    }
   ],
   "source": [
    "from sklearn.preprocessing import OneHotEncoder\n",
    "\n",
    "enc = OneHotEncoder(handle_unknown = \"ignore\", sparse_output = False)\n",
    "enc = enc.fit(y_train)\n",
    "\n",
    "y_train_hot = enc.transform(y_train)\n",
    "y_test_hot = enc.transform(y_test)\n",
    "y_val_hot = enc.transform(y_val)\n",
    "\n",
    "print(X_train.shape, y_train_hot.shape, X_test.shape, y_test_hot.shape)"
   ]
  },
  {
   "cell_type": "code",
   "execution_count": 36,
   "id": "370610b8-c46d-4c90-a94f-1cb9fad4b4c7",
   "metadata": {},
   "outputs": [
    {
     "data": {
      "text/plain": [
       "\"\\nX = balanced_df[['TS', ' Ankel_1', 'Ankel_2', 'Ankel_3', 'Thigh_1', 'Thigh_2', 'Thigh_3',\\n       'Trunk_1', 'Trunk_2', 'Trunk_3']].values\\ny = balanced_df['status'].values.reshape(-1, 1)\\n\""
      ]
     },
     "execution_count": 36,
     "metadata": {},
     "output_type": "execute_result"
    }
   ],
   "source": [
    "'''\n",
    "X = balanced_df[['TS', ' Ankel_1', 'Ankel_2', 'Ankel_3', 'Thigh_1', 'Thigh_2', 'Thigh_3',\n",
    "       'Trunk_1', 'Trunk_2', 'Trunk_3']].values\n",
    "y = balanced_df['status'].values.reshape(-1, 1)\n",
    "'''"
   ]
  },
  {
   "cell_type": "code",
   "execution_count": 37,
   "id": "130f014f-7cd7-43c5-a1bb-f262c21b0ed7",
   "metadata": {},
   "outputs": [
    {
     "data": {
      "text/plain": [
       "'\\nX_train, X_test,y_train, y_test = train_test_split(X, y, test_size = 0.2, stratify= y)\\nX_train, X_val, y_train, y_val  = train_test_split(X_train, y_train, test_size = 0.2, stratify= y_train )\\nprint(X_train.shape, y_train.shape)\\nprint(X_test.shape, y_test.shape)\\n'"
      ]
     },
     "execution_count": 37,
     "metadata": {},
     "output_type": "execute_result"
    }
   ],
   "source": [
    "'''\n",
    "X_train, X_test,y_train, y_test = train_test_split(X, y, test_size = 0.2, stratify= y)\n",
    "X_train, X_val, y_train, y_val  = train_test_split(X_train, y_train, test_size = 0.2, stratify= y_train )\n",
    "print(X_train.shape, y_train.shape)\n",
    "print(X_test.shape, y_test.shape)\n",
    "'''"
   ]
  },
  {
   "cell_type": "code",
   "execution_count": 38,
   "id": "af2e8df1-2932-4a00-812f-586d5d0fde75",
   "metadata": {},
   "outputs": [
    {
     "data": {
      "text/plain": [
       "'\\nfrom sklearn.preprocessing import OneHotEncoder\\n\\nenc = OneHotEncoder(handle_unknown=\"ignore\", sparse_output=False)\\nenc.fit(y_train)\\n\\ny_train_hot = enc.transform(y_train) \\ny_test_hot = enc.transform(y_test) \\ny_val_hot = enc.transform(y_val)\\n'"
      ]
     },
     "execution_count": 38,
     "metadata": {},
     "output_type": "execute_result"
    }
   ],
   "source": [
    "'''\n",
    "from sklearn.preprocessing import OneHotEncoder\n",
    "\n",
    "enc = OneHotEncoder(handle_unknown=\"ignore\", sparse_output=False)\n",
    "enc.fit(y_train)\n",
    "\n",
    "y_train_hot = enc.transform(y_train) \n",
    "y_test_hot = enc.transform(y_test) \n",
    "y_val_hot = enc.transform(y_val)\n",
    "'''"
   ]
  },
  {
   "cell_type": "code",
   "execution_count": 39,
   "id": "56632176-5841-4dbd-ba96-337bbda40139",
   "metadata": {},
   "outputs": [
    {
     "data": {
      "text/plain": [
       "'\\nn_features, n_outputs = X_train.shape[1], y_train_hot.shape[1]\\n'"
      ]
     },
     "execution_count": 39,
     "metadata": {},
     "output_type": "execute_result"
    }
   ],
   "source": [
    "'''\n",
    "n_features, n_outputs = X_train.shape[1], y_train_hot.shape[1]\n",
    "'''"
   ]
  },
  {
   "cell_type": "code",
   "execution_count": 42,
   "id": "f7fa9e8e-3332-4854-a346-8994ee9e2526",
   "metadata": {},
   "outputs": [
    {
     "name": "stdout",
     "output_type": "stream",
     "text": [
      "Model: \"sequential_3\"\n",
      "_________________________________________________________________\n",
      " Layer (type)                Output Shape              Param #   \n",
      "=================================================================\n",
      " lstm_3 (LSTM)               (None, 200, 128)          71168     \n",
      "                                                                 \n",
      " dropout_6 (Dropout)         (None, 200, 128)          0         \n",
      "                                                                 \n",
      " conv1d_3 (Conv1D)           (None, 198, 64)           24640     \n",
      "                                                                 \n",
      " dropout_7 (Dropout)         (None, 198, 64)           0         \n",
      "                                                                 \n",
      " max_pooling1d_3 (MaxPooling  (None, 99, 64)           0         \n",
      " 1D)                                                             \n",
      "                                                                 \n",
      " flatten_3 (Flatten)         (None, 6336)              0         \n",
      "                                                                 \n",
      " dense_6 (Dense)             (None, 64)                405568    \n",
      "                                                                 \n",
      " dense_7 (Dense)             (None, 2)                 130       \n",
      "                                                                 \n",
      "=================================================================\n",
      "Total params: 501,506\n",
      "Trainable params: 501,506\n",
      "Non-trainable params: 0\n",
      "_________________________________________________________________\n"
     ]
    }
   ],
   "source": [
    "model = Sequential()\n",
    "# RNN layer\n",
    "model.add(LSTM(units = 128, input_shape = (n_timesteps,n_features),  return_sequences=True))\n",
    "# Dropout layer\n",
    "model.add(Dropout(0.5))\n",
    "# Dense layer with ReLu\n",
    "\n",
    "model.add(Conv1D(filters=64, kernel_size=3, activation='relu'))\n",
    "model.add(Dropout(0.5))\n",
    "model.add(MaxPooling1D(pool_size=2))\n",
    "model.add(Flatten())\n",
    "\n",
    "\n",
    "model.add(Dense(units = 64, activation='relu'))\n",
    "# Softmax layer\n",
    "model.add(Dense(n_outputs, activation = 'sigmoid'))\n",
    "# Compile model\n",
    "model.compile(loss='binary_crossentropy', optimizer='adam', metrics=['accuracy'])\n",
    "model.summary()"
   ]
  },
  {
   "cell_type": "code",
   "execution_count": 43,
   "id": "8b5c1de2-aa3e-4a7f-93ad-04ec3dc6c1ee",
   "metadata": {},
   "outputs": [
    {
     "name": "stdout",
     "output_type": "stream",
     "text": [
      "Epoch 1/20\n",
      "134/134 [==============================] - 4s 23ms/step - loss: 0.3428 - accuracy: 0.9014 - val_loss: 0.4894 - val_accuracy: 0.9018\n",
      "Epoch 2/20\n",
      "134/134 [==============================] - 3s 19ms/step - loss: 0.3271 - accuracy: 0.9017 - val_loss: 0.4825 - val_accuracy: 0.9018\n",
      "Epoch 3/20\n",
      "134/134 [==============================] - 3s 19ms/step - loss: 0.3268 - accuracy: 0.9017 - val_loss: 0.4617 - val_accuracy: 0.9018\n",
      "Epoch 4/20\n",
      "134/134 [==============================] - 3s 19ms/step - loss: 0.3271 - accuracy: 0.9017 - val_loss: 0.4101 - val_accuracy: 0.9018\n",
      "Epoch 5/20\n",
      "134/134 [==============================] - 3s 20ms/step - loss: 0.3260 - accuracy: 0.9017 - val_loss: 0.3868 - val_accuracy: 0.9018\n",
      "Epoch 6/20\n",
      "134/134 [==============================] - 3s 21ms/step - loss: 0.3251 - accuracy: 0.9017 - val_loss: 0.3577 - val_accuracy: 0.9018\n",
      "Epoch 7/20\n",
      "134/134 [==============================] - 3s 20ms/step - loss: 0.3256 - accuracy: 0.9017 - val_loss: 0.3775 - val_accuracy: 0.9018\n",
      "Epoch 8/20\n",
      "134/134 [==============================] - 3s 20ms/step - loss: 0.3249 - accuracy: 0.9017 - val_loss: 0.3492 - val_accuracy: 0.9018\n",
      "Epoch 9/20\n",
      "134/134 [==============================] - 3s 19ms/step - loss: 0.3261 - accuracy: 0.9017 - val_loss: 0.3624 - val_accuracy: 0.9018\n",
      "Epoch 10/20\n",
      "134/134 [==============================] - 3s 22ms/step - loss: 0.3250 - accuracy: 0.9017 - val_loss: 0.3912 - val_accuracy: 0.9018\n",
      "Epoch 11/20\n",
      "134/134 [==============================] - 3s 20ms/step - loss: 0.3255 - accuracy: 0.9017 - val_loss: 0.3412 - val_accuracy: 0.9018\n",
      "Epoch 12/20\n",
      "134/134 [==============================] - 3s 20ms/step - loss: 0.3244 - accuracy: 0.9017 - val_loss: 0.3529 - val_accuracy: 0.9018\n",
      "Epoch 13/20\n",
      "134/134 [==============================] - 3s 21ms/step - loss: 0.3258 - accuracy: 0.9017 - val_loss: 0.3669 - val_accuracy: 0.9018\n",
      "Epoch 14/20\n",
      "134/134 [==============================] - 3s 19ms/step - loss: 0.3237 - accuracy: 0.9017 - val_loss: 0.3492 - val_accuracy: 0.9018\n",
      "Epoch 15/20\n",
      "134/134 [==============================] - 3s 20ms/step - loss: 0.3250 - accuracy: 0.9017 - val_loss: 0.3589 - val_accuracy: 0.9018\n",
      "Epoch 16/20\n",
      "134/134 [==============================] - 3s 22ms/step - loss: 0.3242 - accuracy: 0.9017 - val_loss: 0.3323 - val_accuracy: 0.9018\n",
      "Epoch 17/20\n",
      "134/134 [==============================] - 3s 23ms/step - loss: 0.3248 - accuracy: 0.9017 - val_loss: 0.3593 - val_accuracy: 0.9018\n",
      "Epoch 18/20\n",
      "134/134 [==============================] - 3s 23ms/step - loss: 0.3243 - accuracy: 0.9017 - val_loss: 0.3522 - val_accuracy: 0.9018\n",
      "Epoch 19/20\n",
      "134/134 [==============================] - 4s 32ms/step - loss: 0.3241 - accuracy: 0.9017 - val_loss: 0.3493 - val_accuracy: 0.9018\n",
      "Epoch 20/20\n",
      "134/134 [==============================] - 3s 26ms/step - loss: 0.3243 - accuracy: 0.9017 - val_loss: 0.3456 - val_accuracy: 0.9018\n"
     ]
    }
   ],
   "source": [
    "epochs, batch_size = 20, 128\n",
    "history = model.fit(X_train, y_train_hot, epochs=epochs, batch_size=batch_size, verbose=1, validation_data=(X_val, y_val_hot), shuffle=True)"
   ]
  },
  {
   "cell_type": "code",
   "execution_count": 44,
   "id": "51486a50-e6cb-4a09-ad0c-be66232da3e6",
   "metadata": {},
   "outputs": [
    {
     "data": {
      "text/plain": [
       "<matplotlib.legend.Legend at 0x1f503f53ee0>"
      ]
     },
     "execution_count": 44,
     "metadata": {},
     "output_type": "execute_result"
    },
    {
     "data": {
      "image/png": "[encoded data removed]",
      "text/plain": [
       "<Figure size 640x480 with 1 Axes>"
      ]
     },
     "metadata": {},
     "output_type": "display_data"
    }
   ],
   "source": [
    "plt.plot(history.history['loss'])\n",
    "plt.plot(history.history['val_loss'])\n",
    "plt.title('model loss')\n",
    "plt.ylabel('loss')\n",
    "plt.xlabel('epoch')\n",
    "plt.legend(['train', 'Validation'], loc='upper left')"
   ]
  },
  {
   "cell_type": "code",
   "execution_count": 45,
   "id": "25abaaac-ae00-4537-b8cb-07fada994741",
   "metadata": {},
   "outputs": [
    {
     "data": {
      "text/plain": [
       "<matplotlib.legend.Legend at 0x1f21273e560>"
      ]
     },
     "execution_count": 45,
     "metadata": {},
     "output_type": "execute_result"
    },
    {
     "data": {
      "image/png": "[encoded data removed]",
      "text/plain": [
       "<Figure size 640x480 with 1 Axes>"
      ]
     },
     "metadata": {},
     "output_type": "display_data"
    }
   ],
   "source": [
    "plt.plot(history.history['accuracy'])\n",
    "plt.plot(history.history['val_accuracy'])\n",
    "plt.title('Training and validation accuracy')\n",
    "plt.ylabel('accuracy')\n",
    "plt.xlabel('epoch')\n",
    "plt.legend(['train', 'Validation'], loc='upper left')"
   ]
  },
  {
   "cell_type": "code",
   "execution_count": 46,
   "id": "17bd6a7d-5d2c-463d-9b3c-cc562ebafd5a",
   "metadata": {},
   "outputs": [
    {
     "name": "stdout",
     "output_type": "stream",
     "text": [
      "167/167 [==============================] - 2s 9ms/step\n",
      "f1_score =  0.8551273913152845\n",
      "0.9017254313578394\n",
      "              precision    recall  f1-score   support\n",
      "\n",
      "           0       0.90      1.00      0.95      4808\n",
      "           1       0.00      0.00      0.00       524\n",
      "\n",
      "    accuracy                           0.90      5332\n",
      "   macro avg       0.45      0.50      0.47      5332\n",
      "weighted avg       0.81      0.90      0.86      5332\n",
      "\n"
     ]
    },
    {
     "name": "stderr",
     "output_type": "stream",
     "text": [
      "I:\\anaconda3\\envs\\test01\\lib\\site-packages\\sklearn\\metrics\\_classification.py:1509: UndefinedMetricWarning: Precision is ill-defined and being set to 0.0 in labels with no predicted samples. Use `zero_division` parameter to control this behavior.\n",
      "  _warn_prf(average, modifier, f\"{metric.capitalize()} is\", len(result))\n",
      "I:\\anaconda3\\envs\\test01\\lib\\site-packages\\sklearn\\metrics\\_classification.py:1509: UndefinedMetricWarning: Precision is ill-defined and being set to 0.0 in labels with no predicted samples. Use `zero_division` parameter to control this behavior.\n",
      "  _warn_prf(average, modifier, f\"{metric.capitalize()} is\", len(result))\n",
      "I:\\anaconda3\\envs\\test01\\lib\\site-packages\\sklearn\\metrics\\_classification.py:1509: UndefinedMetricWarning: Precision is ill-defined and being set to 0.0 in labels with no predicted samples. Use `zero_division` parameter to control this behavior.\n",
      "  _warn_prf(average, modifier, f\"{metric.capitalize()} is\", len(result))\n"
     ]
    },
    {
     "data": {
      "text/plain": [
       "<Axes: >"
      ]
     },
     "execution_count": 46,
     "metadata": {},
     "output_type": "execute_result"
    },
    {
     "data": {
      "image/png": "[encoded data removed]",
      "text/plain": [
       "<Figure size 640x480 with 2 Axes>"
      ]
     },
     "metadata": {},
     "output_type": "display_data"
    }
   ],
   "source": [
    "from sklearn.metrics import confusion_matrix,classification_report,accuracy_score\n",
    "\n",
    "y_pred=model.predict(X_test)\n",
    "y_pred = np.argmax(y_pred, axis=-1)\n",
    "y_true = np.argmax(y_test_hot, axis=-1)\n",
    "\n",
    "LABELS = ['No_Freeze','Freeze']\n",
    "cm=confusion_matrix(y_true,y_pred)\n",
    "\n",
    "#print(cm)\n",
    "print('f1_score = ', f1_score(y_true, y_pred, average='weighted'))\n",
    "print(accuracy_score(y_true,y_pred))\n",
    "print(classification_report(y_true,y_pred))\n",
    "sns.heatmap(cm, cmap=\"YlGnBu\", xticklabels=LABELS, yticklabels=LABELS, annot=True, fmt = '.2f')"
   ]
  }
 ],
 "metadata": {
  "kernelspec": {
   "display_name": "Python 3 (ipykernel)",
   "language": "python",
   "name": "python3"
  },
  "language_info": {
   "codemirror_mode": {
    "name": "ipython",
    "version": 3
   },
   "file_extension": ".py",
   "mimetype": "text/x-python",
   "name": "python",
   "nbconvert_exporter": "python",
   "pygments_lexer": "ipython3",
   "version": "3.10.13"
  }
 },
 "nbformat": 4,
 "nbformat_minor": 5
}
