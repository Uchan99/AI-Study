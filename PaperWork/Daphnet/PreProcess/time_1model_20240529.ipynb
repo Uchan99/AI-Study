{
 "cells": [
  {
   "cell_type": "code",
   "execution_count": 1,
   "id": "40ad79fd",
   "metadata": {},
   "outputs": [
    {
     "name": "stderr",
     "output_type": "stream",
     "text": [
      "2024-05-29 09:13:45.973012: E tensorflow/compiler/xla/stream_executor/cuda/cuda_dnn.cc:9360] Unable to register cuDNN factory: Attempting to register factory for plugin cuDNN when one has already been registered\n",
      "2024-05-29 09:13:45.973098: E tensorflow/compiler/xla/stream_executor/cuda/cuda_fft.cc:609] Unable to register cuFFT factory: Attempting to register factory for plugin cuFFT when one has already been registered\n",
      "2024-05-29 09:13:45.973122: E tensorflow/compiler/xla/stream_executor/cuda/cuda_blas.cc:1537] Unable to register cuBLAS factory: Attempting to register factory for plugin cuBLAS when one has already been registered\n",
      "2024-05-29 09:13:45.980923: I tensorflow/core/platform/cpu_feature_guard.cc:183] This TensorFlow binary is optimized to use available CPU instructions in performance-critical operations.\n",
      "To enable the following instructions: SSE3 SSE4.1 SSE4.2 AVX, in other operations, rebuild TensorFlow with the appropriate compiler flags.\n"
     ]
    }
   ],
   "source": [
    "import numpy as np\n",
    "import tensorflow as tf\n",
    "from tensorflow import keras\n",
    "\n",
    "import pandas as pd\n",
    "import seaborn as sns\n",
    "from pylab import rcParams\n",
    "import matplotlib.pyplot as plt\n",
    "from matplotlib import rc\n",
    "from pandas.plotting import register_matplotlib_converters\n",
    "from sklearn.model_selection import train_test_split\n",
    "from sklearn.metrics import precision_score, recall_score, f1_score\n",
    "\n",
    "from pandas import read_csv, unique\n",
    "\n",
    "import numpy as np\n",
    "import pandas as pd\n",
    "\n",
    "from scipy.interpolate import interp1d\n",
    "from scipy.stats import mode\n",
    "\n",
    "from sklearn.preprocessing import LabelEncoder\n",
    "from sklearn.metrics import classification_report, confusion_matrix, ConfusionMatrixDisplay\n",
    "\n",
    "from tensorflow import stack\n",
    "from tensorflow.keras.utils import to_categorical\n",
    "from keras.models import Sequential\n",
    "from tensorflow.keras.layers import Bidirectional, LSTM, Dropout, Dense\n",
    "from keras.layers import Dense, GlobalAveragePooling1D, BatchNormalization, MaxPool1D, Reshape, Activation\n",
    "from tensorflow.keras.layers import Conv1D, Flatten, Reshape, MaxPooling1D\n",
    "from keras.callbacks import ModelCheckpoint, EarlyStopping\n",
    "import matplotlib.pyplot as plt"
   ]
  },
  {
   "cell_type": "code",
   "execution_count": 2,
   "id": "fd4e04d1",
   "metadata": {},
   "outputs": [],
   "source": [
    "df = pd.read_csv('dataset/features/time_1.csv')"
   ]
  },
  {
   "cell_type": "code",
   "execution_count": 3,
   "id": "8edc6ded",
   "metadata": {
    "scrolled": true
   },
   "outputs": [
    {
     "name": "stdout",
     "output_type": "stream",
     "text": [
      "<class 'pandas.core.frame.DataFrame'>\n",
      "RangeIndex: 12658 entries, 0 to 12657\n",
      "Data columns (total 46 columns):\n",
      " #   Column    Non-Null Count  Dtype  \n",
      "---  ------    --------------  -----  \n",
      " 0   0         12658 non-null  int64  \n",
      " 1   mean_A_F  12658 non-null  float64\n",
      " 2   var_A_F   12658 non-null  float64\n",
      " 3   std_A_F   12658 non-null  float64\n",
      " 4   rms_A_F   12658 non-null  float64\n",
      " 5   mav_A_F   12658 non-null  float64\n",
      " 6   mean_A_V  12658 non-null  float64\n",
      " 7   var_A_V   12658 non-null  float64\n",
      " 8   std_A_V   12658 non-null  float64\n",
      " 9   rms_A_V   12658 non-null  float64\n",
      " 10  mav_A_V   12658 non-null  float64\n",
      " 11  mean_A_L  12658 non-null  float64\n",
      " 12  var_A_L   12658 non-null  float64\n",
      " 13  std_A_L   12658 non-null  float64\n",
      " 14  rms_A_L   12658 non-null  float64\n",
      " 15  mav_A_L   12658 non-null  float64\n",
      " 16  mean_L_F  12658 non-null  float64\n",
      " 17  var_L_F   12658 non-null  float64\n",
      " 18  std_L_F   12658 non-null  float64\n",
      " 19  rms_L_F   12658 non-null  float64\n",
      " 20  mav_L_F   12658 non-null  float64\n",
      " 21  mean_L_V  12658 non-null  float64\n",
      " 22  var_L_V   12658 non-null  float64\n",
      " 23  std_L_V   12658 non-null  float64\n",
      " 24  rms_L_V   12658 non-null  float64\n",
      " 25  mav_L_V   12658 non-null  float64\n",
      " 26  mean_L_L  12658 non-null  float64\n",
      " 27  var_L_L   12658 non-null  float64\n",
      " 28  std_L_L   12658 non-null  float64\n",
      " 29  rms_L_L   12658 non-null  float64\n",
      " 30  mav_L_L   12658 non-null  float64\n",
      " 31  mean_T_F  12658 non-null  float64\n",
      " 32  var_T_F   12658 non-null  float64\n",
      " 33  std_T_F   12658 non-null  float64\n",
      " 34  rms_T_F   12658 non-null  float64\n",
      " 35  mav_T_F   12658 non-null  float64\n",
      " 36  mean_T_V  12658 non-null  float64\n",
      " 37  var_T_V   12658 non-null  float64\n",
      " 38  std_T_V   12658 non-null  float64\n",
      " 39  rms_T_V   12658 non-null  float64\n",
      " 40  mav_T_V   12658 non-null  float64\n",
      " 41  mean_T_L  12658 non-null  float64\n",
      " 42  var_T_L   12658 non-null  float64\n",
      " 43  std_T_L   12658 non-null  float64\n",
      " 44  rms_T_L   12658 non-null  float64\n",
      " 45  mav_T_L   12658 non-null  float64\n",
      "dtypes: float64(45), int64(1)\n",
      "memory usage: 4.4 MB\n"
     ]
    }
   ],
   "source": [
    "df.info()"
   ]
  },
  {
   "cell_type": "code",
   "execution_count": 4,
   "id": "0f2e2e21",
   "metadata": {},
   "outputs": [
    {
     "data": {
      "text/plain": [
       "(12658, 46)"
      ]
     },
     "execution_count": 4,
     "metadata": {},
     "output_type": "execute_result"
    }
   ],
   "source": [
    "df.shape"
   ]
  },
  {
   "cell_type": "code",
   "execution_count": 5,
   "id": "9b021e86",
   "metadata": {},
   "outputs": [],
   "source": [
    "# status 열에서 값이 0인 행 제거\n",
    "df = df[df['0'] != 0]\n",
    "\n",
    "# status 열에서 값이 1인 행을 0으로, 값이 2인 행을 1로 바꾸기\n",
    "df['0'] = df['0'].replace({1: 0, 2: 1})"
   ]
  },
  {
   "cell_type": "code",
   "execution_count": 6,
   "id": "be76ffa7",
   "metadata": {},
   "outputs": [
    {
     "data": {
      "text/html": [
       "<div>\n",
       "<style scoped>\n",
       "    .dataframe tbody tr th:only-of-type {\n",
       "        vertical-align: middle;\n",
       "    }\n",
       "\n",
       "    .dataframe tbody tr th {\n",
       "        vertical-align: top;\n",
       "    }\n",
       "\n",
       "    .dataframe thead th {\n",
       "        text-align: right;\n",
       "    }\n",
       "</style>\n",
       "<table border=\"1\" class=\"dataframe\">\n",
       "  <thead>\n",
       "    <tr style=\"text-align: right;\">\n",
       "      <th></th>\n",
       "      <th>mean_A_F</th>\n",
       "      <th>var_A_F</th>\n",
       "      <th>std_A_F</th>\n",
       "      <th>rms_A_F</th>\n",
       "      <th>mav_A_F</th>\n",
       "      <th>mean_A_V</th>\n",
       "      <th>var_A_V</th>\n",
       "      <th>std_A_V</th>\n",
       "      <th>rms_A_V</th>\n",
       "      <th>mav_A_V</th>\n",
       "      <th>...</th>\n",
       "      <th>mean_T_V</th>\n",
       "      <th>var_T_V</th>\n",
       "      <th>std_T_V</th>\n",
       "      <th>rms_T_V</th>\n",
       "      <th>mav_T_V</th>\n",
       "      <th>mean_T_L</th>\n",
       "      <th>var_T_L</th>\n",
       "      <th>std_T_L</th>\n",
       "      <th>rms_T_L</th>\n",
       "      <th>mav_T_L</th>\n",
       "    </tr>\n",
       "  </thead>\n",
       "  <tbody>\n",
       "    <tr>\n",
       "      <th>10804</th>\n",
       "      <td>-283.375000</td>\n",
       "      <td>720704.859375</td>\n",
       "      <td>848.943378</td>\n",
       "      <td>894.989525</td>\n",
       "      <td>459.000000</td>\n",
       "      <td>1017.812500</td>\n",
       "      <td>475692.152344</td>\n",
       "      <td>689.704395</td>\n",
       "      <td>1229.485436</td>\n",
       "      <td>1038.875000</td>\n",
       "      <td>...</td>\n",
       "      <td>1025.421875</td>\n",
       "      <td>47970.493896</td>\n",
       "      <td>219.021674</td>\n",
       "      <td>1048.551628</td>\n",
       "      <td>1025.421875</td>\n",
       "      <td>109.609375</td>\n",
       "      <td>21488.425537</td>\n",
       "      <td>146.589309</td>\n",
       "      <td>183.037266</td>\n",
       "      <td>158.578125</td>\n",
       "    </tr>\n",
       "    <tr>\n",
       "      <th>10805</th>\n",
       "      <td>-286.781250</td>\n",
       "      <td>353485.108398</td>\n",
       "      <td>594.546136</td>\n",
       "      <td>660.097412</td>\n",
       "      <td>381.593750</td>\n",
       "      <td>1025.765625</td>\n",
       "      <td>186732.773193</td>\n",
       "      <td>432.125877</td>\n",
       "      <td>1113.071377</td>\n",
       "      <td>1043.515625</td>\n",
       "      <td>...</td>\n",
       "      <td>988.375000</td>\n",
       "      <td>29664.109375</td>\n",
       "      <td>172.232719</td>\n",
       "      <td>1003.269281</td>\n",
       "      <td>988.375000</td>\n",
       "      <td>136.125000</td>\n",
       "      <td>28641.265625</td>\n",
       "      <td>169.237306</td>\n",
       "      <td>217.189505</td>\n",
       "      <td>177.593750</td>\n",
       "    </tr>\n",
       "    <tr>\n",
       "      <th>10806</th>\n",
       "      <td>-276.390625</td>\n",
       "      <td>318946.081787</td>\n",
       "      <td>564.753116</td>\n",
       "      <td>628.758984</td>\n",
       "      <td>471.296875</td>\n",
       "      <td>927.390625</td>\n",
       "      <td>159429.738037</td>\n",
       "      <td>399.286536</td>\n",
       "      <td>1009.694562</td>\n",
       "      <td>927.390625</td>\n",
       "      <td>...</td>\n",
       "      <td>1024.031250</td>\n",
       "      <td>73886.686523</td>\n",
       "      <td>271.821056</td>\n",
       "      <td>1059.493600</td>\n",
       "      <td>1024.031250</td>\n",
       "      <td>5.390625</td>\n",
       "      <td>22899.519287</td>\n",
       "      <td>151.325871</td>\n",
       "      <td>151.421855</td>\n",
       "      <td>117.203125</td>\n",
       "    </tr>\n",
       "    <tr>\n",
       "      <th>10807</th>\n",
       "      <td>-270.437500</td>\n",
       "      <td>165594.683594</td>\n",
       "      <td>406.933267</td>\n",
       "      <td>488.601192</td>\n",
       "      <td>359.343750</td>\n",
       "      <td>949.718750</td>\n",
       "      <td>68043.170898</td>\n",
       "      <td>260.850859</td>\n",
       "      <td>984.890286</td>\n",
       "      <td>949.718750</td>\n",
       "      <td>...</td>\n",
       "      <td>1031.984375</td>\n",
       "      <td>178930.234131</td>\n",
       "      <td>423.001459</td>\n",
       "      <td>1115.312505</td>\n",
       "      <td>1031.984375</td>\n",
       "      <td>23.562500</td>\n",
       "      <td>33986.996094</td>\n",
       "      <td>184.355624</td>\n",
       "      <td>185.855286</td>\n",
       "      <td>136.343750</td>\n",
       "    </tr>\n",
       "    <tr>\n",
       "      <th>10808</th>\n",
       "      <td>-268.734375</td>\n",
       "      <td>148727.976318</td>\n",
       "      <td>385.652663</td>\n",
       "      <td>470.049083</td>\n",
       "      <td>328.546875</td>\n",
       "      <td>933.781250</td>\n",
       "      <td>86459.295898</td>\n",
       "      <td>294.039616</td>\n",
       "      <td>978.982492</td>\n",
       "      <td>942.031250</td>\n",
       "      <td>...</td>\n",
       "      <td>998.390625</td>\n",
       "      <td>58966.175537</td>\n",
       "      <td>242.829519</td>\n",
       "      <td>1027.496966</td>\n",
       "      <td>998.390625</td>\n",
       "      <td>23.000000</td>\n",
       "      <td>32503.062500</td>\n",
       "      <td>180.286057</td>\n",
       "      <td>181.747249</td>\n",
       "      <td>125.750000</td>\n",
       "    </tr>\n",
       "    <tr>\n",
       "      <th>...</th>\n",
       "      <td>...</td>\n",
       "      <td>...</td>\n",
       "      <td>...</td>\n",
       "      <td>...</td>\n",
       "      <td>...</td>\n",
       "      <td>...</td>\n",
       "      <td>...</td>\n",
       "      <td>...</td>\n",
       "      <td>...</td>\n",
       "      <td>...</td>\n",
       "      <td>...</td>\n",
       "      <td>...</td>\n",
       "      <td>...</td>\n",
       "      <td>...</td>\n",
       "      <td>...</td>\n",
       "      <td>...</td>\n",
       "      <td>...</td>\n",
       "      <td>...</td>\n",
       "      <td>...</td>\n",
       "      <td>...</td>\n",
       "      <td>...</td>\n",
       "    </tr>\n",
       "    <tr>\n",
       "      <th>12653</th>\n",
       "      <td>99.156250</td>\n",
       "      <td>403.600586</td>\n",
       "      <td>20.089813</td>\n",
       "      <td>101.170957</td>\n",
       "      <td>99.156250</td>\n",
       "      <td>998.531250</td>\n",
       "      <td>400.092773</td>\n",
       "      <td>20.002319</td>\n",
       "      <td>998.731571</td>\n",
       "      <td>998.531250</td>\n",
       "      <td>...</td>\n",
       "      <td>992.484375</td>\n",
       "      <td>2499.218506</td>\n",
       "      <td>49.992184</td>\n",
       "      <td>993.742649</td>\n",
       "      <td>992.484375</td>\n",
       "      <td>-215.578125</td>\n",
       "      <td>680.618896</td>\n",
       "      <td>26.088674</td>\n",
       "      <td>217.150977</td>\n",
       "      <td>215.578125</td>\n",
       "    </tr>\n",
       "    <tr>\n",
       "      <th>12654</th>\n",
       "      <td>225.734375</td>\n",
       "      <td>785.913818</td>\n",
       "      <td>28.034154</td>\n",
       "      <td>227.468507</td>\n",
       "      <td>225.734375</td>\n",
       "      <td>982.265625</td>\n",
       "      <td>1042.445068</td>\n",
       "      <td>32.286918</td>\n",
       "      <td>982.796115</td>\n",
       "      <td>982.265625</td>\n",
       "      <td>...</td>\n",
       "      <td>975.250000</td>\n",
       "      <td>2075.250000</td>\n",
       "      <td>45.554912</td>\n",
       "      <td>976.313378</td>\n",
       "      <td>975.250000</td>\n",
       "      <td>-231.062500</td>\n",
       "      <td>873.183594</td>\n",
       "      <td>29.549680</td>\n",
       "      <td>232.944333</td>\n",
       "      <td>231.062500</td>\n",
       "    </tr>\n",
       "    <tr>\n",
       "      <th>12655</th>\n",
       "      <td>247.750000</td>\n",
       "      <td>121800.500000</td>\n",
       "      <td>348.999284</td>\n",
       "      <td>427.995984</td>\n",
       "      <td>301.937500</td>\n",
       "      <td>970.578125</td>\n",
       "      <td>32596.025146</td>\n",
       "      <td>180.543693</td>\n",
       "      <td>987.227391</td>\n",
       "      <td>970.578125</td>\n",
       "      <td>...</td>\n",
       "      <td>991.062500</td>\n",
       "      <td>5452.558594</td>\n",
       "      <td>73.841442</td>\n",
       "      <td>993.809558</td>\n",
       "      <td>991.062500</td>\n",
       "      <td>-192.703125</td>\n",
       "      <td>1679.771240</td>\n",
       "      <td>40.985012</td>\n",
       "      <td>197.013364</td>\n",
       "      <td>192.703125</td>\n",
       "    </tr>\n",
       "    <tr>\n",
       "      <th>12656</th>\n",
       "      <td>238.593750</td>\n",
       "      <td>52313.991211</td>\n",
       "      <td>228.722520</td>\n",
       "      <td>330.516216</td>\n",
       "      <td>238.593750</td>\n",
       "      <td>986.046875</td>\n",
       "      <td>10855.138428</td>\n",
       "      <td>104.187996</td>\n",
       "      <td>991.535969</td>\n",
       "      <td>986.046875</td>\n",
       "      <td>...</td>\n",
       "      <td>997.406250</td>\n",
       "      <td>1663.584961</td>\n",
       "      <td>40.787069</td>\n",
       "      <td>998.239857</td>\n",
       "      <td>997.406250</td>\n",
       "      <td>-227.937500</td>\n",
       "      <td>1225.683594</td>\n",
       "      <td>35.009764</td>\n",
       "      <td>230.610467</td>\n",
       "      <td>227.937500</td>\n",
       "    </tr>\n",
       "    <tr>\n",
       "      <th>12657</th>\n",
       "      <td>270.109375</td>\n",
       "      <td>169820.253662</td>\n",
       "      <td>412.092530</td>\n",
       "      <td>492.726423</td>\n",
       "      <td>326.515625</td>\n",
       "      <td>967.296875</td>\n",
       "      <td>21719.208740</td>\n",
       "      <td>147.374383</td>\n",
       "      <td>978.459224</td>\n",
       "      <td>967.296875</td>\n",
       "      <td>...</td>\n",
       "      <td>993.296875</td>\n",
       "      <td>6310.208740</td>\n",
       "      <td>79.436822</td>\n",
       "      <td>996.468209</td>\n",
       "      <td>993.296875</td>\n",
       "      <td>-201.750000</td>\n",
       "      <td>2839.562500</td>\n",
       "      <td>53.287545</td>\n",
       "      <td>208.668697</td>\n",
       "      <td>201.750000</td>\n",
       "    </tr>\n",
       "  </tbody>\n",
       "</table>\n",
       "<p>1854 rows × 45 columns</p>\n",
       "</div>"
      ],
      "text/plain": [
       "         mean_A_F        var_A_F     std_A_F     rms_A_F     mav_A_F  \\\n",
       "10804 -283.375000  720704.859375  848.943378  894.989525  459.000000   \n",
       "10805 -286.781250  353485.108398  594.546136  660.097412  381.593750   \n",
       "10806 -276.390625  318946.081787  564.753116  628.758984  471.296875   \n",
       "10807 -270.437500  165594.683594  406.933267  488.601192  359.343750   \n",
       "10808 -268.734375  148727.976318  385.652663  470.049083  328.546875   \n",
       "...           ...            ...         ...         ...         ...   \n",
       "12653   99.156250     403.600586   20.089813  101.170957   99.156250   \n",
       "12654  225.734375     785.913818   28.034154  227.468507  225.734375   \n",
       "12655  247.750000  121800.500000  348.999284  427.995984  301.937500   \n",
       "12656  238.593750   52313.991211  228.722520  330.516216  238.593750   \n",
       "12657  270.109375  169820.253662  412.092530  492.726423  326.515625   \n",
       "\n",
       "          mean_A_V        var_A_V     std_A_V      rms_A_V      mav_A_V  ...  \\\n",
       "10804  1017.812500  475692.152344  689.704395  1229.485436  1038.875000  ...   \n",
       "10805  1025.765625  186732.773193  432.125877  1113.071377  1043.515625  ...   \n",
       "10806   927.390625  159429.738037  399.286536  1009.694562   927.390625  ...   \n",
       "10807   949.718750   68043.170898  260.850859   984.890286   949.718750  ...   \n",
       "10808   933.781250   86459.295898  294.039616   978.982492   942.031250  ...   \n",
       "...            ...            ...         ...          ...          ...  ...   \n",
       "12653   998.531250     400.092773   20.002319   998.731571   998.531250  ...   \n",
       "12654   982.265625    1042.445068   32.286918   982.796115   982.265625  ...   \n",
       "12655   970.578125   32596.025146  180.543693   987.227391   970.578125  ...   \n",
       "12656   986.046875   10855.138428  104.187996   991.535969   986.046875  ...   \n",
       "12657   967.296875   21719.208740  147.374383   978.459224   967.296875  ...   \n",
       "\n",
       "          mean_T_V        var_T_V     std_T_V      rms_T_V      mav_T_V  \\\n",
       "10804  1025.421875   47970.493896  219.021674  1048.551628  1025.421875   \n",
       "10805   988.375000   29664.109375  172.232719  1003.269281   988.375000   \n",
       "10806  1024.031250   73886.686523  271.821056  1059.493600  1024.031250   \n",
       "10807  1031.984375  178930.234131  423.001459  1115.312505  1031.984375   \n",
       "10808   998.390625   58966.175537  242.829519  1027.496966   998.390625   \n",
       "...            ...            ...         ...          ...          ...   \n",
       "12653   992.484375    2499.218506   49.992184   993.742649   992.484375   \n",
       "12654   975.250000    2075.250000   45.554912   976.313378   975.250000   \n",
       "12655   991.062500    5452.558594   73.841442   993.809558   991.062500   \n",
       "12656   997.406250    1663.584961   40.787069   998.239857   997.406250   \n",
       "12657   993.296875    6310.208740   79.436822   996.468209   993.296875   \n",
       "\n",
       "         mean_T_L       var_T_L     std_T_L     rms_T_L     mav_T_L  \n",
       "10804  109.609375  21488.425537  146.589309  183.037266  158.578125  \n",
       "10805  136.125000  28641.265625  169.237306  217.189505  177.593750  \n",
       "10806    5.390625  22899.519287  151.325871  151.421855  117.203125  \n",
       "10807   23.562500  33986.996094  184.355624  185.855286  136.343750  \n",
       "10808   23.000000  32503.062500  180.286057  181.747249  125.750000  \n",
       "...           ...           ...         ...         ...         ...  \n",
       "12653 -215.578125    680.618896   26.088674  217.150977  215.578125  \n",
       "12654 -231.062500    873.183594   29.549680  232.944333  231.062500  \n",
       "12655 -192.703125   1679.771240   40.985012  197.013364  192.703125  \n",
       "12656 -227.937500   1225.683594   35.009764  230.610467  227.937500  \n",
       "12657 -201.750000   2839.562500   53.287545  208.668697  201.750000  \n",
       "\n",
       "[1854 rows x 45 columns]"
      ]
     },
     "execution_count": 6,
     "metadata": {},
     "output_type": "execute_result"
    }
   ],
   "source": [
    "X = df.drop(['0'], axis=1)\n",
    "X"
   ]
  },
  {
   "cell_type": "code",
   "execution_count": 7,
   "id": "dd9f19ac",
   "metadata": {},
   "outputs": [
    {
     "data": {
      "text/plain": [
       "10804    0\n",
       "10805    0\n",
       "10806    0\n",
       "10807    0\n",
       "10808    0\n",
       "        ..\n",
       "12653    1\n",
       "12654    1\n",
       "12655    1\n",
       "12656    1\n",
       "12657    1\n",
       "Name: 0, Length: 1854, dtype: int64"
      ]
     },
     "execution_count": 7,
     "metadata": {},
     "output_type": "execute_result"
    }
   ],
   "source": [
    "y = df['0']\n",
    "y"
   ]
  },
  {
   "cell_type": "code",
   "execution_count": 8,
   "id": "19b2bbdc",
   "metadata": {},
   "outputs": [
    {
     "data": {
      "text/plain": [
       "array([[1., 0.],\n",
       "       [1., 0.],\n",
       "       [1., 0.],\n",
       "       ...,\n",
       "       [0., 1.],\n",
       "       [0., 1.],\n",
       "       [0., 1.]], dtype=float32)"
      ]
     },
     "execution_count": 8,
     "metadata": {},
     "output_type": "execute_result"
    }
   ],
   "source": [
    "Y = to_categorical(y)\n",
    "Y"
   ]
  },
  {
   "cell_type": "code",
   "execution_count": 9,
   "id": "3e0a4c15",
   "metadata": {},
   "outputs": [],
   "source": [
    "X_train, X_test, y_train, y_test =  train_test_split(X, Y, test_size = 0.2, random_state = 0, stratify = y)"
   ]
  },
  {
   "cell_type": "code",
   "execution_count": 10,
   "id": "ccdf4bff",
   "metadata": {},
   "outputs": [],
   "source": [
    "X_train, X_val, y_train, y_val = train_test_split(X_train,y_train , test_size = 0.2, random_state = 0, stratify = y_train)"
   ]
  },
  {
   "cell_type": "code",
   "execution_count": 11,
   "id": "942a66d9",
   "metadata": {},
   "outputs": [
    {
     "data": {
      "text/plain": [
       "((1186, 45), (371, 45), (1186, 2), (371, 2))"
      ]
     },
     "execution_count": 11,
     "metadata": {},
     "output_type": "execute_result"
    }
   ],
   "source": [
    "X_train.shape, X_test.shape, y_train.shape, y_test.shape"
   ]
  },
  {
   "cell_type": "code",
   "execution_count": 12,
   "id": "3629bb16",
   "metadata": {},
   "outputs": [],
   "source": [
    "n_features, n_outputs = X_train.shape[1], y_train.shape[1]"
   ]
  },
  {
   "cell_type": "code",
   "execution_count": 13,
   "id": "636448ff",
   "metadata": {},
   "outputs": [
    {
     "name": "stdout",
     "output_type": "stream",
     "text": [
      "Model: \"sequential\"\n",
      "_________________________________________________________________\n",
      " Layer (type)                Output Shape              Param #   \n",
      "=================================================================\n",
      " dense (Dense)               (None, 64)                2944      \n",
      "                                                                 \n",
      " dense_1 (Dense)             (None, 128)               8320      \n",
      "                                                                 \n",
      " batch_normalization (Batch  (None, 128)               512       \n",
      " Normalization)                                                  \n",
      "                                                                 \n",
      " dropout (Dropout)           (None, 128)               0         \n",
      "                                                                 \n",
      " flatten (Flatten)           (None, 128)               0         \n",
      "                                                                 \n",
      " dense_2 (Dense)             (None, 2)                 258       \n",
      "                                                                 \n",
      "=================================================================\n",
      "Total params: 12034 (47.01 KB)\n",
      "Trainable params: 11778 (46.01 KB)\n",
      "Non-trainable params: 256 (1.00 KB)\n",
      "_________________________________________________________________\n"
     ]
    }
   ],
   "source": [
    "model = keras.Sequential()\n",
    "model.add(keras.layers.Dense(64, activation='relu', input_shape=(n_features,)))\n",
    "model.add(keras.layers.Dense(128))\n",
    "model.add(BatchNormalization())\n",
    "model.add(Dropout(0.5))\n",
    "model.add(Flatten())\n",
    "model.add(Dense(n_outputs, activation='softmax'))\n",
    "model.compile(loss='categorical_crossentropy', optimizer='adam', metrics=['accuracy'])\n",
    "model.summary()"
   ]
  },
  {
   "cell_type": "code",
   "execution_count": 14,
   "id": "346c80cc",
   "metadata": {},
   "outputs": [
    {
     "name": "stdout",
     "output_type": "stream",
     "text": [
      "Epoch 1/20\n",
      "10/10 [==============================] - 1s 38ms/step - loss: 0.9774 - accuracy: 0.5464 - val_loss: 1.2761 - val_accuracy: 0.3737\n",
      "Epoch 2/20\n",
      "10/10 [==============================] - 0s 4ms/step - loss: 0.8454 - accuracy: 0.6096 - val_loss: 0.8745 - val_accuracy: 0.6734\n",
      "Epoch 3/20\n",
      "10/10 [==============================] - 0s 4ms/step - loss: 0.7870 - accuracy: 0.6374 - val_loss: 0.7913 - val_accuracy: 0.6970\n",
      "Epoch 4/20\n",
      "10/10 [==============================] - 0s 4ms/step - loss: 0.7349 - accuracy: 0.7074 - val_loss: 0.5261 - val_accuracy: 0.8316\n",
      "Epoch 5/20\n",
      "10/10 [==============================] - 0s 4ms/step - loss: 0.6932 - accuracy: 0.7201 - val_loss: 0.4475 - val_accuracy: 0.8552\n",
      "Epoch 6/20\n",
      "10/10 [==============================] - 0s 4ms/step - loss: 0.6496 - accuracy: 0.7260 - val_loss: 0.4212 - val_accuracy: 0.8586\n",
      "Epoch 7/20\n",
      "10/10 [==============================] - 0s 4ms/step - loss: 0.5953 - accuracy: 0.7976 - val_loss: 0.4623 - val_accuracy: 0.8384\n",
      "Epoch 8/20\n",
      "10/10 [==============================] - 0s 4ms/step - loss: 0.5890 - accuracy: 0.7926 - val_loss: 0.4079 - val_accuracy: 0.8687\n",
      "Epoch 9/20\n",
      "10/10 [==============================] - 0s 4ms/step - loss: 0.6084 - accuracy: 0.7791 - val_loss: 0.4004 - val_accuracy: 0.8620\n",
      "Epoch 10/20\n",
      "10/10 [==============================] - 0s 4ms/step - loss: 0.5406 - accuracy: 0.8179 - val_loss: 0.4039 - val_accuracy: 0.8552\n",
      "Epoch 11/20\n",
      "10/10 [==============================] - 0s 4ms/step - loss: 0.4687 - accuracy: 0.8297 - val_loss: 0.3869 - val_accuracy: 0.8653\n",
      "Epoch 12/20\n",
      "10/10 [==============================] - 0s 4ms/step - loss: 0.4973 - accuracy: 0.8465 - val_loss: 0.4039 - val_accuracy: 0.8653\n",
      "Epoch 13/20\n",
      "10/10 [==============================] - 0s 4ms/step - loss: 0.5241 - accuracy: 0.8339 - val_loss: 0.3955 - val_accuracy: 0.8586\n",
      "Epoch 14/20\n",
      "10/10 [==============================] - 0s 4ms/step - loss: 0.5078 - accuracy: 0.8423 - val_loss: 0.3771 - val_accuracy: 0.8653\n",
      "Epoch 15/20\n",
      "10/10 [==============================] - 0s 4ms/step - loss: 0.5090 - accuracy: 0.8474 - val_loss: 0.3772 - val_accuracy: 0.8653\n",
      "Epoch 16/20\n",
      "10/10 [==============================] - 0s 4ms/step - loss: 0.4833 - accuracy: 0.8474 - val_loss: 0.3822 - val_accuracy: 0.8721\n",
      "Epoch 17/20\n",
      "10/10 [==============================] - 0s 4ms/step - loss: 0.5154 - accuracy: 0.8373 - val_loss: 0.3761 - val_accuracy: 0.8687\n",
      "Epoch 18/20\n",
      "10/10 [==============================] - 0s 4ms/step - loss: 0.5142 - accuracy: 0.8524 - val_loss: 0.3808 - val_accuracy: 0.8721\n",
      "Epoch 19/20\n",
      "10/10 [==============================] - 0s 4ms/step - loss: 0.4626 - accuracy: 0.8499 - val_loss: 0.3792 - val_accuracy: 0.8653\n",
      "Epoch 20/20\n",
      "10/10 [==============================] - 0s 4ms/step - loss: 0.4642 - accuracy: 0.8524 - val_loss: 0.3723 - val_accuracy: 0.8687\n"
     ]
    }
   ],
   "source": [
    "epochs, batch_size = 20, 128\n",
    "history = model.fit(X_train, y_train, epochs=epochs, batch_size=batch_size, verbose=1, validation_data=(X_val, y_val), shuffle=True)"
   ]
  },
  {
   "cell_type": "code",
   "execution_count": 15,
   "id": "7e4bc622",
   "metadata": {},
   "outputs": [
    {
     "data": {
      "text/plain": [
       "<matplotlib.legend.Legend at 0x7f16217a3ca0>"
      ]
     },
     "execution_count": 15,
     "metadata": {},
     "output_type": "execute_result"
    },
    {
     "data": {
      "image/png": "[encoded data removed]",
      "text/plain": [
       "<Figure size 640x480 with 1 Axes>"
      ]
     },
     "metadata": {},
     "output_type": "display_data"
    }
   ],
   "source": [
    "plt.plot(history.history['loss'])\n",
    "plt.plot(history.history['val_loss'])\n",
    "plt.title('model loss')\n",
    "plt.ylabel('loss')\n",
    "plt.xlabel('epoch')\n",
    "plt.legend(['train', 'Validation'], loc='upper left')"
   ]
  },
  {
   "cell_type": "code",
   "execution_count": 16,
   "id": "3fa1c52b",
   "metadata": {},
   "outputs": [
    {
     "data": {
      "text/plain": [
       "<matplotlib.legend.Legend at 0x7f161df8c730>"
      ]
     },
     "execution_count": 16,
     "metadata": {},
     "output_type": "execute_result"
    },
    {
     "data": {
      "image/png": "[encoded data removed]",
      "text/plain": [
       "<Figure size 640x480 with 1 Axes>"
      ]
     },
     "metadata": {},
     "output_type": "display_data"
    }
   ],
   "source": [
    "plt.plot(history.history['accuracy'])\n",
    "plt.plot(history.history['val_accuracy'])\n",
    "plt.title('Training and validation accuracy')\n",
    "plt.ylabel('accuracy')\n",
    "plt.xlabel('epoch')\n",
    "plt.legend(['train', 'Validation'], loc='upper left')"
   ]
  },
  {
   "cell_type": "code",
   "execution_count": 24,
   "id": "fe0d75e6",
   "metadata": {},
   "outputs": [
    {
     "name": "stdout",
     "output_type": "stream",
     "text": [
      "12/12 [==============================] - 0s 1ms/step\n",
      "f1_score =  0.835399559500663\n",
      "0.8787061994609164\n",
      "              precision    recall  f1-score   support\n",
      "\n",
      "           0       0.88      0.99      0.93       324\n",
      "           1       0.67      0.09      0.15        47\n",
      "\n",
      "    accuracy                           0.88       371\n",
      "   macro avg       0.77      0.54      0.54       371\n",
      "weighted avg       0.85      0.88      0.84       371\n",
      "\n"
     ]
    },
    {
     "data": {
      "text/plain": [
       "(<Figure size 700x700 with 1 Axes>,\n",
       " <Axes: xlabel='predicted label', ylabel='true label'>)"
      ]
     },
     "execution_count": 24,
     "metadata": {},
     "output_type": "execute_result"
    },
    {
     "data": {
      "image/png": "[encoded data removed]",
      "text/plain": [
       "<Figure size 700x700 with 1 Axes>"
      ]
     },
     "metadata": {},
     "output_type": "display_data"
    }
   ],
   "source": [
    "from mlxtend.plotting import plot_confusion_matrix\n",
    "from sklearn.metrics import confusion_matrix, classification_report, accuracy_score, f1_score\n",
    "import numpy as np\n",
    "\n",
    "# 모델 예측\n",
    "predy = model.predict(X_test)\n",
    "predy = np.argmax(predy, axis=-1)\n",
    "y_true = np.argmax(y_test, axis=-1)\n",
    "\n",
    "LABELS = ['No_Freeze', 'Freeze']\n",
    "cm = confusion_matrix(y_true, predy)\n",
    "\n",
    "# 결과 출력\n",
    "print('f1_score = ', f1_score(y_true, predy, average='weighted'))\n",
    "print(accuracy_score(y_true, predy))\n",
    "print(classification_report(y_true, predy))\n",
    "\n",
    "# 혼동 행렬 시각화\n",
    "plot_confusion_matrix(conf_mat=cm, class_names=LABELS, show_normed=True, figsize=(7, 7))"
   ]
  }
 ],
 "metadata": {
  "kernelspec": {
   "display_name": "Python 3.10 (NGC 24.01 / TensorFlow 2.14) on Backend.AI",
   "language": "python",
   "name": "python3"
  },
  "language_info": {
   "codemirror_mode": {
    "name": "ipython",
    "version": 3
   },
   "file_extension": ".py",
   "mimetype": "text/x-python",
   "name": "python",
   "nbconvert_exporter": "python",
   "pygments_lexer": "ipython3",
   "version": "3.10.12"
  }
 },
 "nbformat": 4,
 "nbformat_minor": 5
}
