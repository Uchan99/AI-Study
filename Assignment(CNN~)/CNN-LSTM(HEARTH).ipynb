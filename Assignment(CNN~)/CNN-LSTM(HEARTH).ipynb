{
 "cells": [
  {
   "cell_type": "code",
   "execution_count": 1,
   "metadata": {
    "colab": {
     "base_uri": "https://localhost:8080/",
     "height": 424
    },
    "executionInfo": {
     "elapsed": 5333,
     "status": "ok",
     "timestamp": 1709112032034,
     "user": {
      "displayName": "유찬",
      "userId": "05761325302258896347"
     },
     "user_tz": -540
    },
    "id": "Qk5cYPMb1h3J",
    "outputId": "95fcb2e0-46aa-4bc3-c225-ec9662f47ca6"
   },
   "outputs": [
    {
     "data": {
      "text/html": [
       "<div>\n",
       "<style scoped>\n",
       "    .dataframe tbody tr th:only-of-type {\n",
       "        vertical-align: middle;\n",
       "    }\n",
       "\n",
       "    .dataframe tbody tr th {\n",
       "        vertical-align: top;\n",
       "    }\n",
       "\n",
       "    .dataframe thead th {\n",
       "        text-align: right;\n",
       "    }\n",
       "</style>\n",
       "<table border=\"1\" class=\"dataframe\">\n",
       "  <thead>\n",
       "    <tr style=\"text-align: right;\">\n",
       "      <th></th>\n",
       "      <th>timestamp</th>\n",
       "      <th>back_x</th>\n",
       "      <th>back_y</th>\n",
       "      <th>back_z</th>\n",
       "      <th>thigh_x</th>\n",
       "      <th>thigh_y</th>\n",
       "      <th>thigh_z</th>\n",
       "      <th>label</th>\n",
       "    </tr>\n",
       "  </thead>\n",
       "  <tbody>\n",
       "    <tr>\n",
       "      <th>0</th>\n",
       "      <td>2019-01-12 00:00:00.000</td>\n",
       "      <td>-0.760242</td>\n",
       "      <td>0.299570</td>\n",
       "      <td>0.468570</td>\n",
       "      <td>-5.092732</td>\n",
       "      <td>-0.298644</td>\n",
       "      <td>0.709439</td>\n",
       "      <td>6</td>\n",
       "    </tr>\n",
       "    <tr>\n",
       "      <th>1</th>\n",
       "      <td>2019-01-12 00:00:00.010</td>\n",
       "      <td>-0.530138</td>\n",
       "      <td>0.281880</td>\n",
       "      <td>0.319987</td>\n",
       "      <td>0.900547</td>\n",
       "      <td>0.286944</td>\n",
       "      <td>0.340309</td>\n",
       "      <td>6</td>\n",
       "    </tr>\n",
       "    <tr>\n",
       "      <th>2</th>\n",
       "      <td>2019-01-12 00:00:00.020</td>\n",
       "      <td>-1.170922</td>\n",
       "      <td>0.186353</td>\n",
       "      <td>-0.167010</td>\n",
       "      <td>-0.035442</td>\n",
       "      <td>-0.078423</td>\n",
       "      <td>-0.515212</td>\n",
       "      <td>6</td>\n",
       "    </tr>\n",
       "    <tr>\n",
       "      <th>3</th>\n",
       "      <td>2019-01-12 00:00:00.030</td>\n",
       "      <td>-0.648772</td>\n",
       "      <td>0.016579</td>\n",
       "      <td>-0.054284</td>\n",
       "      <td>-1.554248</td>\n",
       "      <td>-0.950978</td>\n",
       "      <td>-0.221140</td>\n",
       "      <td>6</td>\n",
       "    </tr>\n",
       "    <tr>\n",
       "      <th>4</th>\n",
       "      <td>2019-01-12 00:00:00.040</td>\n",
       "      <td>-0.355071</td>\n",
       "      <td>-0.051831</td>\n",
       "      <td>-0.113419</td>\n",
       "      <td>-0.547471</td>\n",
       "      <td>0.140903</td>\n",
       "      <td>-0.653782</td>\n",
       "      <td>6</td>\n",
       "    </tr>\n",
       "    <tr>\n",
       "      <th>...</th>\n",
       "      <td>...</td>\n",
       "      <td>...</td>\n",
       "      <td>...</td>\n",
       "      <td>...</td>\n",
       "      <td>...</td>\n",
       "      <td>...</td>\n",
       "      <td>...</td>\n",
       "      <td>...</td>\n",
       "    </tr>\n",
       "    <tr>\n",
       "      <th>408704</th>\n",
       "      <td>2019-01-12 01:09:32.880</td>\n",
       "      <td>-0.690417</td>\n",
       "      <td>0.035710</td>\n",
       "      <td>-0.697054</td>\n",
       "      <td>0.228261</td>\n",
       "      <td>0.072950</td>\n",
       "      <td>0.985175</td>\n",
       "      <td>7</td>\n",
       "    </tr>\n",
       "    <tr>\n",
       "      <th>408705</th>\n",
       "      <td>2019-01-12 01:09:32.890</td>\n",
       "      <td>-0.745270</td>\n",
       "      <td>0.032438</td>\n",
       "      <td>-0.681320</td>\n",
       "      <td>-0.121986</td>\n",
       "      <td>0.063700</td>\n",
       "      <td>1.026665</td>\n",
       "      <td>7</td>\n",
       "    </tr>\n",
       "    <tr>\n",
       "      <th>408706</th>\n",
       "      <td>2019-01-12 01:09:32.900</td>\n",
       "      <td>-0.684827</td>\n",
       "      <td>0.037622</td>\n",
       "      <td>-0.703884</td>\n",
       "      <td>0.302960</td>\n",
       "      <td>0.076986</td>\n",
       "      <td>0.978313</td>\n",
       "      <td>7</td>\n",
       "    </tr>\n",
       "    <tr>\n",
       "      <th>408707</th>\n",
       "      <td>2019-01-12 01:09:32.910</td>\n",
       "      <td>-0.751518</td>\n",
       "      <td>0.028819</td>\n",
       "      <td>-0.668037</td>\n",
       "      <td>-0.241803</td>\n",
       "      <td>0.056675</td>\n",
       "      <td>1.026166</td>\n",
       "      <td>7</td>\n",
       "    </tr>\n",
       "    <tr>\n",
       "      <th>408708</th>\n",
       "      <td>2019-01-12 01:09:32.920</td>\n",
       "      <td>-0.679800</td>\n",
       "      <td>0.046124</td>\n",
       "      <td>-0.737643</td>\n",
       "      <td>0.535717</td>\n",
       "      <td>0.091326</td>\n",
       "      <td>0.970981</td>\n",
       "      <td>7</td>\n",
       "    </tr>\n",
       "  </tbody>\n",
       "</table>\n",
       "<p>408709 rows × 8 columns</p>\n",
       "</div>"
      ],
      "text/plain": [
       "                      timestamp    back_x    back_y    back_z   thigh_x  \\\n",
       "0       2019-01-12 00:00:00.000 -0.760242  0.299570  0.468570 -5.092732   \n",
       "1       2019-01-12 00:00:00.010 -0.530138  0.281880  0.319987  0.900547   \n",
       "2       2019-01-12 00:00:00.020 -1.170922  0.186353 -0.167010 -0.035442   \n",
       "3       2019-01-12 00:00:00.030 -0.648772  0.016579 -0.054284 -1.554248   \n",
       "4       2019-01-12 00:00:00.040 -0.355071 -0.051831 -0.113419 -0.547471   \n",
       "...                         ...       ...       ...       ...       ...   \n",
       "408704  2019-01-12 01:09:32.880 -0.690417  0.035710 -0.697054  0.228261   \n",
       "408705  2019-01-12 01:09:32.890 -0.745270  0.032438 -0.681320 -0.121986   \n",
       "408706  2019-01-12 01:09:32.900 -0.684827  0.037622 -0.703884  0.302960   \n",
       "408707  2019-01-12 01:09:32.910 -0.751518  0.028819 -0.668037 -0.241803   \n",
       "408708  2019-01-12 01:09:32.920 -0.679800  0.046124 -0.737643  0.535717   \n",
       "\n",
       "         thigh_y   thigh_z  label  \n",
       "0      -0.298644  0.709439      6  \n",
       "1       0.286944  0.340309      6  \n",
       "2      -0.078423 -0.515212      6  \n",
       "3      -0.950978 -0.221140      6  \n",
       "4       0.140903 -0.653782      6  \n",
       "...          ...       ...    ...  \n",
       "408704  0.072950  0.985175      7  \n",
       "408705  0.063700  1.026665      7  \n",
       "408706  0.076986  0.978313      7  \n",
       "408707  0.056675  1.026166      7  \n",
       "408708  0.091326  0.970981      7  \n",
       "\n",
       "[408709 rows x 8 columns]"
      ]
     },
     "execution_count": 1,
     "metadata": {},
     "output_type": "execute_result"
    }
   ],
   "source": [
    "from sklearn.datasets import load_iris\n",
    "import pandas as pd\n",
    "import numpy as np\n",
    "import matplotlib.pyplot as plt\n",
    "from sklearn.model_selection import train_test_split\n",
    "from sklearn.preprocessing import StandardScaler, LabelEncoder\n",
    "from sklearn.neighbors import KNeighborsClassifier\n",
    "import seaborn as sns\n",
    "import tensorflow as tf\n",
    "from tensorflow import keras\n",
    "\n",
    "df = pd.read_csv(\"C:\\AI_study\\S006.csv\")\n",
    "df"
   ]
  },
  {
   "cell_type": "code",
   "execution_count": 2,
   "metadata": {
    "colab": {
     "base_uri": "https://localhost:8080/"
    },
    "executionInfo": {
     "elapsed": 4,
     "status": "ok",
     "timestamp": 1709112032034,
     "user": {
      "displayName": "유찬",
      "userId": "05761325302258896347"
     },
     "user_tz": -540
    },
    "id": "pcOq9BbX16GB",
    "outputId": "eb72ba99-a5c9-4a70-a88c-4c2b69cf1298"
   },
   "outputs": [
    {
     "data": {
      "text/plain": [
       "timestamp    0\n",
       "back_x       0\n",
       "back_y       0\n",
       "back_z       0\n",
       "thigh_x      0\n",
       "thigh_y      0\n",
       "thigh_z      0\n",
       "label        0\n",
       "dtype: int64"
      ]
     },
     "execution_count": 2,
     "metadata": {},
     "output_type": "execute_result"
    }
   ],
   "source": [
    "# 결측치 확인\n",
    "\n",
    "df.isnull().sum()"
   ]
  },
  {
   "cell_type": "code",
   "execution_count": 3,
   "metadata": {
    "colab": {
     "base_uri": "https://localhost:8080/",
     "height": 490
    },
    "executionInfo": {
     "elapsed": 1646,
     "status": "ok",
     "timestamp": 1709112033678,
     "user": {
      "displayName": "유찬",
      "userId": "05761325302258896347"
     },
     "user_tz": -540
    },
    "id": "BTJu4soC2GGy",
    "outputId": "17ca6252-ccd1-4fcf-8d39-79ec29872f31"
   },
   "outputs": [
    {
     "data": {
      "text/plain": [
       "Text(0.5, 1.0, 'Distribution of Hearth Disease Levels')"
      ]
     },
     "execution_count": 3,
     "metadata": {},
     "output_type": "execute_result"
    },
    {
     "data": {
      "image/png": "[encoded data removed]",
      "text/plain": [
       "<Figure size 432x288 with 1 Axes>"
      ]
     },
     "metadata": {
      "needs_background": "light"
     },
     "output_type": "display_data"
    }
   ],
   "source": [
    "# 레이블 갯수 확인 (그래프)\n",
    "sns.countplot(data = df, x=\"label\")\n",
    "plt.xlabel('Hearth Disease Level')\n",
    "plt.ylabel(\"Count\")\n",
    "plt.title('Distribution of Hearth Disease Levels')"
   ]
  },
  {
   "cell_type": "code",
   "execution_count": 4,
   "metadata": {
    "colab": {
     "base_uri": "https://localhost:8080/"
    },
    "executionInfo": {
     "elapsed": 8,
     "status": "ok",
     "timestamp": 1709112033678,
     "user": {
      "displayName": "유찬",
      "userId": "05761325302258896347"
     },
     "user_tz": -540
    },
    "id": "6_W_YtSp2WNb",
    "outputId": "dd29b074-110c-4c67-b204-1b11b94b4719"
   },
   "outputs": [
    {
     "data": {
      "text/plain": [
       "7      253029\n",
       "6       62682\n",
       "13      25040\n",
       "1       24889\n",
       "8       13036\n",
       "3       12693\n",
       "130     11290\n",
       "14       3130\n",
       "5        1550\n",
       "4        1370\n",
       "Name: label, dtype: int64"
      ]
     },
     "execution_count": 4,
     "metadata": {},
     "output_type": "execute_result"
    }
   ],
   "source": [
    "df['label'].value_counts()"
   ]
  },
  {
   "cell_type": "code",
   "execution_count": 5,
   "metadata": {
    "colab": {
     "base_uri": "https://localhost:8080/",
     "height": 490
    },
    "executionInfo": {
     "elapsed": 1187,
     "status": "ok",
     "timestamp": 1709112034859,
     "user": {
      "displayName": "유찬",
      "userId": "05761325302258896347"
     },
     "user_tz": -540
    },
    "id": "9-Ce58364XdD",
    "outputId": "7a9c7aa7-b463-428f-8655-4fa56fc58058"
   },
   "outputs": [
    {
     "data": {
      "text/plain": [
       "Text(0.5, 1.0, 'Distribution of Hearth Disease Levels')"
      ]
     },
     "execution_count": 5,
     "metadata": {},
     "output_type": "execute_result"
    },
    {
     "data": {
      "image/png": "[encoded data removed]",
      "text/plain": [
       "<Figure size 432x288 with 1 Axes>"
      ]
     },
     "metadata": {
      "needs_background": "light"
     },
     "output_type": "display_data"
    }
   ],
   "source": [
    "# 레이블 갯수 확인 (그래프)\n",
    "sns.countplot(data = df, x=\"label\")\n",
    "plt.xlabel('Hearth Disease Level')\n",
    "plt.ylabel(\"Count\")\n",
    "plt.title('Distribution of Hearth Disease Levels')"
   ]
  },
  {
   "cell_type": "code",
   "execution_count": 6,
   "metadata": {
    "colab": {
     "base_uri": "https://localhost:8080/",
     "height": 206
    },
    "executionInfo": {
     "elapsed": 46,
     "status": "ok",
     "timestamp": 1709112034860,
     "user": {
      "displayName": "유찬",
      "userId": "05761325302258896347"
     },
     "user_tz": -540
    },
    "id": "BovFiv1e4Epv",
    "outputId": "67c8c729-3aac-4ae7-d41c-f17001142e2b"
   },
   "outputs": [
    {
     "data": {
      "text/html": [
       "<div>\n",
       "<style scoped>\n",
       "    .dataframe tbody tr th:only-of-type {\n",
       "        vertical-align: middle;\n",
       "    }\n",
       "\n",
       "    .dataframe tbody tr th {\n",
       "        vertical-align: top;\n",
       "    }\n",
       "\n",
       "    .dataframe thead th {\n",
       "        text-align: right;\n",
       "    }\n",
       "</style>\n",
       "<table border=\"1\" class=\"dataframe\">\n",
       "  <thead>\n",
       "    <tr style=\"text-align: right;\">\n",
       "      <th></th>\n",
       "      <th>timestamp</th>\n",
       "      <th>back_x</th>\n",
       "      <th>back_y</th>\n",
       "      <th>back_z</th>\n",
       "      <th>thigh_x</th>\n",
       "      <th>thigh_y</th>\n",
       "      <th>thigh_z</th>\n",
       "      <th>label</th>\n",
       "    </tr>\n",
       "  </thead>\n",
       "  <tbody>\n",
       "    <tr>\n",
       "      <th>0</th>\n",
       "      <td>2019-01-12 00:00:00.000</td>\n",
       "      <td>-0.760242</td>\n",
       "      <td>0.299570</td>\n",
       "      <td>0.468570</td>\n",
       "      <td>-5.092732</td>\n",
       "      <td>-0.298644</td>\n",
       "      <td>0.709439</td>\n",
       "      <td>4</td>\n",
       "    </tr>\n",
       "    <tr>\n",
       "      <th>1</th>\n",
       "      <td>2019-01-12 00:00:00.010</td>\n",
       "      <td>-0.530138</td>\n",
       "      <td>0.281880</td>\n",
       "      <td>0.319987</td>\n",
       "      <td>0.900547</td>\n",
       "      <td>0.286944</td>\n",
       "      <td>0.340309</td>\n",
       "      <td>4</td>\n",
       "    </tr>\n",
       "    <tr>\n",
       "      <th>2</th>\n",
       "      <td>2019-01-12 00:00:00.020</td>\n",
       "      <td>-1.170922</td>\n",
       "      <td>0.186353</td>\n",
       "      <td>-0.167010</td>\n",
       "      <td>-0.035442</td>\n",
       "      <td>-0.078423</td>\n",
       "      <td>-0.515212</td>\n",
       "      <td>4</td>\n",
       "    </tr>\n",
       "    <tr>\n",
       "      <th>3</th>\n",
       "      <td>2019-01-12 00:00:00.030</td>\n",
       "      <td>-0.648772</td>\n",
       "      <td>0.016579</td>\n",
       "      <td>-0.054284</td>\n",
       "      <td>-1.554248</td>\n",
       "      <td>-0.950978</td>\n",
       "      <td>-0.221140</td>\n",
       "      <td>4</td>\n",
       "    </tr>\n",
       "    <tr>\n",
       "      <th>4</th>\n",
       "      <td>2019-01-12 00:00:00.040</td>\n",
       "      <td>-0.355071</td>\n",
       "      <td>-0.051831</td>\n",
       "      <td>-0.113419</td>\n",
       "      <td>-0.547471</td>\n",
       "      <td>0.140903</td>\n",
       "      <td>-0.653782</td>\n",
       "      <td>4</td>\n",
       "    </tr>\n",
       "  </tbody>\n",
       "</table>\n",
       "</div>"
      ],
      "text/plain": [
       "                 timestamp    back_x    back_y    back_z   thigh_x   thigh_y  \\\n",
       "0  2019-01-12 00:00:00.000 -0.760242  0.299570  0.468570 -5.092732 -0.298644   \n",
       "1  2019-01-12 00:00:00.010 -0.530138  0.281880  0.319987  0.900547  0.286944   \n",
       "2  2019-01-12 00:00:00.020 -1.170922  0.186353 -0.167010 -0.035442 -0.078423   \n",
       "3  2019-01-12 00:00:00.030 -0.648772  0.016579 -0.054284 -1.554248 -0.950978   \n",
       "4  2019-01-12 00:00:00.040 -0.355071 -0.051831 -0.113419 -0.547471  0.140903   \n",
       "\n",
       "    thigh_z  label  \n",
       "0  0.709439      4  \n",
       "1  0.340309      4  \n",
       "2 -0.515212      4  \n",
       "3 -0.221140      4  \n",
       "4 -0.653782      4  "
      ]
     },
     "execution_count": 6,
     "metadata": {},
     "output_type": "execute_result"
    }
   ],
   "source": [
    "from sklearn.preprocessing import StandardScaler, LabelEncoder\n",
    "label = LabelEncoder()\n",
    "df['label'] = label.fit_transform(df['label'])\n",
    "df.head()"
   ]
  },
  {
   "cell_type": "code",
   "execution_count": 7,
   "metadata": {
    "colab": {
     "base_uri": "https://localhost:8080/"
    },
    "executionInfo": {
     "elapsed": 44,
     "status": "ok",
     "timestamp": 1709112034860,
     "user": {
      "displayName": "유찬",
      "userId": "05761325302258896347"
     },
     "user_tz": -540
    },
    "id": "FK7dpP2-4O0F",
    "outputId": "a0259e89-181d-4b5a-87bf-7c1b53c8b7b2"
   },
   "outputs": [
    {
     "data": {
      "text/plain": [
       "5    253029\n",
       "4     62682\n",
       "7     25040\n",
       "0     24889\n",
       "6     13036\n",
       "1     12693\n",
       "9     11290\n",
       "8      3130\n",
       "3      1550\n",
       "2      1370\n",
       "Name: label, dtype: int64"
      ]
     },
     "execution_count": 7,
     "metadata": {},
     "output_type": "execute_result"
    }
   ],
   "source": [
    "df['label'].value_counts()"
   ]
  },
  {
   "cell_type": "code",
   "execution_count": 8,
   "metadata": {
    "colab": {
     "base_uri": "https://localhost:8080/",
     "height": 206
    },
    "executionInfo": {
     "elapsed": 42,
     "status": "ok",
     "timestamp": 1709112034860,
     "user": {
      "displayName": "유찬",
      "userId": "05761325302258896347"
     },
     "user_tz": -540
    },
    "id": "6Zh9gBXC61dy",
    "outputId": "6e79d51e-8cdb-46c7-fc61-80431dd85c61"
   },
   "outputs": [
    {
     "data": {
      "text/html": [
       "<div>\n",
       "<style scoped>\n",
       "    .dataframe tbody tr th:only-of-type {\n",
       "        vertical-align: middle;\n",
       "    }\n",
       "\n",
       "    .dataframe tbody tr th {\n",
       "        vertical-align: top;\n",
       "    }\n",
       "\n",
       "    .dataframe thead th {\n",
       "        text-align: right;\n",
       "    }\n",
       "</style>\n",
       "<table border=\"1\" class=\"dataframe\">\n",
       "  <thead>\n",
       "    <tr style=\"text-align: right;\">\n",
       "      <th></th>\n",
       "      <th>back_x</th>\n",
       "      <th>back_y</th>\n",
       "      <th>back_z</th>\n",
       "      <th>thigh_x</th>\n",
       "      <th>thigh_y</th>\n",
       "      <th>thigh_z</th>\n",
       "      <th>label</th>\n",
       "    </tr>\n",
       "  </thead>\n",
       "  <tbody>\n",
       "    <tr>\n",
       "      <th>0</th>\n",
       "      <td>-0.760242</td>\n",
       "      <td>0.299570</td>\n",
       "      <td>0.468570</td>\n",
       "      <td>-5.092732</td>\n",
       "      <td>-0.298644</td>\n",
       "      <td>0.709439</td>\n",
       "      <td>4</td>\n",
       "    </tr>\n",
       "    <tr>\n",
       "      <th>1</th>\n",
       "      <td>-0.530138</td>\n",
       "      <td>0.281880</td>\n",
       "      <td>0.319987</td>\n",
       "      <td>0.900547</td>\n",
       "      <td>0.286944</td>\n",
       "      <td>0.340309</td>\n",
       "      <td>4</td>\n",
       "    </tr>\n",
       "    <tr>\n",
       "      <th>2</th>\n",
       "      <td>-1.170922</td>\n",
       "      <td>0.186353</td>\n",
       "      <td>-0.167010</td>\n",
       "      <td>-0.035442</td>\n",
       "      <td>-0.078423</td>\n",
       "      <td>-0.515212</td>\n",
       "      <td>4</td>\n",
       "    </tr>\n",
       "    <tr>\n",
       "      <th>3</th>\n",
       "      <td>-0.648772</td>\n",
       "      <td>0.016579</td>\n",
       "      <td>-0.054284</td>\n",
       "      <td>-1.554248</td>\n",
       "      <td>-0.950978</td>\n",
       "      <td>-0.221140</td>\n",
       "      <td>4</td>\n",
       "    </tr>\n",
       "    <tr>\n",
       "      <th>4</th>\n",
       "      <td>-0.355071</td>\n",
       "      <td>-0.051831</td>\n",
       "      <td>-0.113419</td>\n",
       "      <td>-0.547471</td>\n",
       "      <td>0.140903</td>\n",
       "      <td>-0.653782</td>\n",
       "      <td>4</td>\n",
       "    </tr>\n",
       "  </tbody>\n",
       "</table>\n",
       "</div>"
      ],
      "text/plain": [
       "     back_x    back_y    back_z   thigh_x   thigh_y   thigh_z  label\n",
       "0 -0.760242  0.299570  0.468570 -5.092732 -0.298644  0.709439      4\n",
       "1 -0.530138  0.281880  0.319987  0.900547  0.286944  0.340309      4\n",
       "2 -1.170922  0.186353 -0.167010 -0.035442 -0.078423 -0.515212      4\n",
       "3 -0.648772  0.016579 -0.054284 -1.554248 -0.950978 -0.221140      4\n",
       "4 -0.355071 -0.051831 -0.113419 -0.547471  0.140903 -0.653782      4"
      ]
     },
     "execution_count": 8,
     "metadata": {},
     "output_type": "execute_result"
    }
   ],
   "source": [
    "df=df.drop('timestamp',axis=1)\n",
    "df.head()"
   ]
  },
  {
   "cell_type": "code",
   "execution_count": 9,
   "metadata": {
    "colab": {
     "base_uri": "https://localhost:8080/",
     "height": 72
    },
    "executionInfo": {
     "elapsed": 42,
     "status": "ok",
     "timestamp": 1709112034861,
     "user": {
      "displayName": "유찬",
      "userId": "05761325302258896347"
     },
     "user_tz": -540
    },
    "id": "Bht3t3RF3Ns_",
    "outputId": "d31b2bcc-14a2-4d33-a423-953bf68da437"
   },
   "outputs": [
    {
     "data": {
      "text/plain": [
       "\"\\ndf0 = df[df['label']==0].head(13000).copy()\\ndf1 = df[df['label']==1].copy()\\ndf2 = df[df['label']==2].copy()\\ndf3 = df[df['label']==3].copy()\\ndf4 = df[df['label']==4].head(13000).copy()\\ndf5 = df[df['label']==5].head(13000).copy()\\ndf6 = df[df['label']==6].copy()\\ndf7 = df[df['label']==7].head(13000).copy()\\ndf8 = df[df['label']==8].copy()\\ndf9 = df[df['label']==9].copy()\\n\""
      ]
     },
     "execution_count": 9,
     "metadata": {},
     "output_type": "execute_result"
    }
   ],
   "source": [
    "'''\n",
    "df0 = df[df['label']==0].head(13000).copy()\n",
    "df1 = df[df['label']==1].copy()\n",
    "df2 = df[df['label']==2].copy()\n",
    "df3 = df[df['label']==3].copy()\n",
    "df4 = df[df['label']==4].head(13000).copy()\n",
    "df5 = df[df['label']==5].head(13000).copy()\n",
    "df6 = df[df['label']==6].copy()\n",
    "df7 = df[df['label']==7].head(13000).copy()\n",
    "df8 = df[df['label']==8].copy()\n",
    "df9 = df[df['label']==9].copy()\n",
    "'''"
   ]
  },
  {
   "cell_type": "code",
   "execution_count": 10,
   "metadata": {
    "colab": {
     "base_uri": "https://localhost:8080/",
     "height": 54
    },
    "executionInfo": {
     "elapsed": 41,
     "status": "ok",
     "timestamp": 1709112034861,
     "user": {
      "displayName": "유찬",
      "userId": "05761325302258896347"
     },
     "user_tz": -540
    },
    "id": "PaR4Ur536mpf",
    "outputId": "6f1f4074-2ea8-4afa-d9ff-973ac506a662"
   },
   "outputs": [
    {
     "data": {
      "text/plain": [
       "'\\nimport pandas as pd\\n\\nbalanced_data = pd.DataFrame()\\nbalanced_data = pd.concat([df0, df1, df2, df3, df4, df5, df6, df7, df8, df9])\\nbalanced_data.shape\\n'"
      ]
     },
     "execution_count": 10,
     "metadata": {},
     "output_type": "execute_result"
    }
   ],
   "source": [
    "'''\n",
    "import pandas as pd\n",
    "\n",
    "balanced_data = pd.DataFrame()\n",
    "balanced_data = pd.concat([df0, df1, df2, df3, df4, df5, df6, df7, df8, df9])\n",
    "balanced_data.shape\n",
    "'''"
   ]
  },
  {
   "cell_type": "code",
   "execution_count": 11,
   "metadata": {
    "colab": {
     "base_uri": "https://localhost:8080/",
     "height": 35
    },
    "executionInfo": {
     "elapsed": 39,
     "status": "ok",
     "timestamp": 1709112034861,
     "user": {
      "displayName": "유찬",
      "userId": "05761325302258896347"
     },
     "user_tz": -540
    },
    "id": "sabYfsvp75Sm",
    "outputId": "6e273d91-d86c-4924-c67e-9a6bb31028b4"
   },
   "outputs": [
    {
     "data": {
      "text/plain": [
       "\"\\nX=balanced_data.drop('label',axis=1)\\nX.head()\\n\""
      ]
     },
     "execution_count": 11,
     "metadata": {},
     "output_type": "execute_result"
    }
   ],
   "source": [
    "'''\n",
    "X=balanced_data.drop('label',axis=1)\n",
    "X.head()\n",
    "'''"
   ]
  },
  {
   "cell_type": "code",
   "execution_count": 12,
   "metadata": {
    "colab": {
     "base_uri": "https://localhost:8080/",
     "height": 206
    },
    "executionInfo": {
     "elapsed": 40,
     "status": "ok",
     "timestamp": 1709112034862,
     "user": {
      "displayName": "유찬",
      "userId": "05761325302258896347"
     },
     "user_tz": -540
    },
    "id": "cTq939loAf1q",
    "outputId": "8ac86b0d-c429-432f-8e57-3810d891eb7f"
   },
   "outputs": [
    {
     "data": {
      "text/html": [
       "<div>\n",
       "<style scoped>\n",
       "    .dataframe tbody tr th:only-of-type {\n",
       "        vertical-align: middle;\n",
       "    }\n",
       "\n",
       "    .dataframe tbody tr th {\n",
       "        vertical-align: top;\n",
       "    }\n",
       "\n",
       "    .dataframe thead th {\n",
       "        text-align: right;\n",
       "    }\n",
       "</style>\n",
       "<table border=\"1\" class=\"dataframe\">\n",
       "  <thead>\n",
       "    <tr style=\"text-align: right;\">\n",
       "      <th></th>\n",
       "      <th>back_x</th>\n",
       "      <th>back_y</th>\n",
       "      <th>back_z</th>\n",
       "      <th>thigh_x</th>\n",
       "      <th>thigh_y</th>\n",
       "      <th>thigh_z</th>\n",
       "    </tr>\n",
       "  </thead>\n",
       "  <tbody>\n",
       "    <tr>\n",
       "      <th>0</th>\n",
       "      <td>-0.760242</td>\n",
       "      <td>0.299570</td>\n",
       "      <td>0.468570</td>\n",
       "      <td>-5.092732</td>\n",
       "      <td>-0.298644</td>\n",
       "      <td>0.709439</td>\n",
       "    </tr>\n",
       "    <tr>\n",
       "      <th>1</th>\n",
       "      <td>-0.530138</td>\n",
       "      <td>0.281880</td>\n",
       "      <td>0.319987</td>\n",
       "      <td>0.900547</td>\n",
       "      <td>0.286944</td>\n",
       "      <td>0.340309</td>\n",
       "    </tr>\n",
       "    <tr>\n",
       "      <th>2</th>\n",
       "      <td>-1.170922</td>\n",
       "      <td>0.186353</td>\n",
       "      <td>-0.167010</td>\n",
       "      <td>-0.035442</td>\n",
       "      <td>-0.078423</td>\n",
       "      <td>-0.515212</td>\n",
       "    </tr>\n",
       "    <tr>\n",
       "      <th>3</th>\n",
       "      <td>-0.648772</td>\n",
       "      <td>0.016579</td>\n",
       "      <td>-0.054284</td>\n",
       "      <td>-1.554248</td>\n",
       "      <td>-0.950978</td>\n",
       "      <td>-0.221140</td>\n",
       "    </tr>\n",
       "    <tr>\n",
       "      <th>4</th>\n",
       "      <td>-0.355071</td>\n",
       "      <td>-0.051831</td>\n",
       "      <td>-0.113419</td>\n",
       "      <td>-0.547471</td>\n",
       "      <td>0.140903</td>\n",
       "      <td>-0.653782</td>\n",
       "    </tr>\n",
       "  </tbody>\n",
       "</table>\n",
       "</div>"
      ],
      "text/plain": [
       "     back_x    back_y    back_z   thigh_x   thigh_y   thigh_z\n",
       "0 -0.760242  0.299570  0.468570 -5.092732 -0.298644  0.709439\n",
       "1 -0.530138  0.281880  0.319987  0.900547  0.286944  0.340309\n",
       "2 -1.170922  0.186353 -0.167010 -0.035442 -0.078423 -0.515212\n",
       "3 -0.648772  0.016579 -0.054284 -1.554248 -0.950978 -0.221140\n",
       "4 -0.355071 -0.051831 -0.113419 -0.547471  0.140903 -0.653782"
      ]
     },
     "execution_count": 12,
     "metadata": {},
     "output_type": "execute_result"
    }
   ],
   "source": [
    "#SMOTE를 사용한 경우\n",
    "X=df.drop('label',axis=1)\n",
    "X.head()"
   ]
  },
  {
   "cell_type": "code",
   "execution_count": 13,
   "metadata": {
    "colab": {
     "base_uri": "https://localhost:8080/",
     "height": 35
    },
    "executionInfo": {
     "elapsed": 39,
     "status": "ok",
     "timestamp": 1709112034862,
     "user": {
      "displayName": "유찬",
      "userId": "05761325302258896347"
     },
     "user_tz": -540
    },
    "id": "n2MFE41O9itN",
    "outputId": "d089c166-5594-4b25-80d5-ed16be2ac73d"
   },
   "outputs": [
    {
     "data": {
      "text/plain": [
       "\"\\ny=balanced_data['label']\\ny.value_counts()\\n\""
      ]
     },
     "execution_count": 13,
     "metadata": {},
     "output_type": "execute_result"
    }
   ],
   "source": [
    "'''\n",
    "y=balanced_data['label']\n",
    "y.value_counts()\n",
    "'''"
   ]
  },
  {
   "cell_type": "code",
   "execution_count": 14,
   "metadata": {
    "colab": {
     "base_uri": "https://localhost:8080/"
    },
    "executionInfo": {
     "elapsed": 38,
     "status": "ok",
     "timestamp": 1709112034862,
     "user": {
      "displayName": "유찬",
      "userId": "05761325302258896347"
     },
     "user_tz": -540
    },
    "id": "Bmaohas8AC4U",
    "outputId": "cdcf3932-7089-4152-df12-6626041faedb"
   },
   "outputs": [
    {
     "data": {
      "text/plain": [
       "5    253029\n",
       "4     62682\n",
       "7     25040\n",
       "0     24889\n",
       "6     13036\n",
       "1     12693\n",
       "9     11290\n",
       "8      3130\n",
       "3      1550\n",
       "2      1370\n",
       "Name: label, dtype: int64"
      ]
     },
     "execution_count": 14,
     "metadata": {},
     "output_type": "execute_result"
    }
   ],
   "source": [
    "# SMOTE 사용한 경우\n",
    "y=df['label']\n",
    "y.value_counts()"
   ]
  },
  {
   "cell_type": "code",
   "execution_count": 15,
   "metadata": {
    "executionInfo": {
     "elapsed": 4612,
     "status": "ok",
     "timestamp": 1709112039442,
     "user": {
      "displayName": "유찬",
      "userId": "05761325302258896347"
     },
     "user_tz": -540
    },
    "id": "0Xrp873NALGv"
   },
   "outputs": [],
   "source": [
    "# SMOTE를 사용해 데이터 불균형 해소\n",
    "from imblearn.over_sampling import SMOTE\n",
    "smt = SMOTE()\n",
    "X_new, y_new = smt.fit_resample(X, y)"
   ]
  },
  {
   "cell_type": "code",
   "execution_count": 16,
   "metadata": {
    "colab": {
     "base_uri": "https://localhost:8080/"
    },
    "executionInfo": {
     "elapsed": 16,
     "status": "ok",
     "timestamp": 1709112039443,
     "user": {
      "displayName": "유찬",
      "userId": "05761325302258896347"
     },
     "user_tz": -540
    },
    "id": "9hzM8BQ5AbdQ",
    "outputId": "8293d87e-64fc-4efb-840c-57cf45937f7a"
   },
   "outputs": [
    {
     "data": {
      "text/plain": [
       "9    253029\n",
       "8    253029\n",
       "7    253029\n",
       "6    253029\n",
       "5    253029\n",
       "4    253029\n",
       "3    253029\n",
       "2    253029\n",
       "1    253029\n",
       "0    253029\n",
       "Name: label, dtype: int64"
      ]
     },
     "execution_count": 16,
     "metadata": {},
     "output_type": "execute_result"
    }
   ],
   "source": [
    "y_new.value_counts()"
   ]
  },
  {
   "cell_type": "code",
   "execution_count": 17,
   "metadata": {
    "executionInfo": {
     "elapsed": 601,
     "status": "ok",
     "timestamp": 1709112040037,
     "user": {
      "displayName": "유찬",
      "userId": "05761325302258896347"
     },
     "user_tz": -540
    },
    "id": "-1dxSeQUAW8T"
   },
   "outputs": [],
   "source": [
    "from sklearn.model_selection import train_test_split\n",
    "\n",
    "X_train, X_test, y_train, y_test = train_test_split(X_new, y_new,test_size = 0.2,\n",
    "                                                    shuffle = True,\n",
    "                                                    random_state = 21)"
   ]
  },
  {
   "cell_type": "code",
   "execution_count": 18,
   "metadata": {
    "colab": {
     "base_uri": "https://localhost:8080/",
     "height": 54
    },
    "executionInfo": {
     "elapsed": 8,
     "status": "ok",
     "timestamp": 1709112040038,
     "user": {
      "displayName": "유찬",
      "userId": "05761325302258896347"
     },
     "user_tz": -540
    },
    "id": "LOS_oP4c9mei",
    "outputId": "733f3562-1da9-478e-b363-9290f8d7c3ef"
   },
   "outputs": [
    {
     "data": {
      "text/plain": [
       "'from sklearn.model_selection import train_test_split\\n\\nX_train, X_test, y_train, y_test = train_test_split(X, y,test_size = 0.2,\\n                                                    shuffle = True,\\n                                                    random_state = 21)\\n'"
      ]
     },
     "execution_count": 18,
     "metadata": {},
     "output_type": "execute_result"
    }
   ],
   "source": [
    "'''from sklearn.model_selection import train_test_split\n",
    "\n",
    "X_train, X_test, y_train, y_test = train_test_split(X, y,test_size = 0.2,\n",
    "                                                    shuffle = True,\n",
    "                                                    random_state = 21)\n",
    "'''"
   ]
  },
  {
   "cell_type": "code",
   "execution_count": 19,
   "metadata": {
    "executionInfo": {
     "elapsed": 7,
     "status": "ok",
     "timestamp": 1709112040039,
     "user": {
      "displayName": "유찬",
      "userId": "05761325302258896347"
     },
     "user_tz": -540
    },
    "id": "GCAIyDG-9xrR"
   },
   "outputs": [],
   "source": [
    "def split_sequences(sequences, n_steps):\n",
    "\tX, y = list(), list()\n",
    "\tfor i in range(len(sequences)):\n",
    "\t\t# find the end of this pattern\n",
    "\t\tend_ix = i + n_steps\n",
    "\t\t# check if we are beyond the dataset\n",
    "\t\tif end_ix > len(sequences):\n",
    "\t\t\tbreak\n",
    "\t\t# gather input and output parts of the pattern\n",
    "\t\tseq_x, seq_y = sequences[i:end_ix, :-1], sequences[end_ix-1, -1]\n",
    "\t\tX.append(seq_x)\n",
    "\t\ty.append(seq_y)\n",
    "\treturn np.array(X), np.array(y)"
   ]
  },
  {
   "cell_type": "code",
   "execution_count": 20,
   "metadata": {
    "colab": {
     "base_uri": "https://localhost:8080/"
    },
    "executionInfo": {
     "elapsed": 8771,
     "status": "ok",
     "timestamp": 1709112048804,
     "user": {
      "displayName": "유찬",
      "userId": "05761325302258896347"
     },
     "user_tz": -540
    },
    "id": "QlG5j3cV90Dm",
    "outputId": "e9e306a1-2367-4786-e72b-8bc42bf1c1eb"
   },
   "outputs": [
    {
     "name": "stdout",
     "output_type": "stream",
     "text": [
      "(2024228, 5, 6) (2024228,)\n",
      "(506054, 5, 6) (506054,)\n"
     ]
    }
   ],
   "source": [
    "# Merge train and test X/y data to apply sequence transformation function\n",
    "y_train_array = np.array(y_train)\n",
    "train_set = np.c_[X_train, y_train_array]\n",
    "\n",
    "y_test_array = np.array(y_test)\n",
    "test_set = np.c_[X_test, y_test_array]\n",
    "\n",
    "# Apply sequence transformation using time step of 25 for both train and test data\n",
    "# All sensing modalities are recorded at a sampling rate of 50 Hz, which is considered sufficient for capturing human activity.\n",
    "\n",
    "X_train, y_train = split_sequences(train_set, 5)\n",
    "print(X_train.shape, y_train.shape)\n",
    "\n",
    "X_test, y_test = split_sequences(test_set, 5)\n",
    "print(X_test.shape, y_test.shape)"
   ]
  },
  {
   "cell_type": "code",
   "execution_count": 21,
   "metadata": {
    "colab": {
     "base_uri": "https://localhost:8080/"
    },
    "executionInfo": {
     "elapsed": 23,
     "status": "ok",
     "timestamp": 1709112048805,
     "user": {
      "displayName": "유찬",
      "userId": "05761325302258896347"
     },
     "user_tz": -540
    },
    "id": "LTAqgqZD92XQ",
    "outputId": "c98d02b7-2749-4343-e56b-25c5bf154d58"
   },
   "outputs": [
    {
     "name": "stdout",
     "output_type": "stream",
     "text": [
      "(2024228, 10)\n",
      "(506054, 10)\n"
     ]
    }
   ],
   "source": [
    "y_train_onehot = pd.get_dummies(y_train).values\n",
    "y_test_onehot = pd.get_dummies(y_test).values\n",
    "\n",
    "print(y_train_onehot.shape)\n",
    "print(y_test_onehot.shape)"
   ]
  },
  {
   "cell_type": "code",
   "execution_count": 22,
   "metadata": {
    "colab": {
     "base_uri": "https://localhost:8080/"
    },
    "executionInfo": {
     "elapsed": 22,
     "status": "ok",
     "timestamp": 1709112048805,
     "user": {
      "displayName": "유찬",
      "userId": "05761325302258896347"
     },
     "user_tz": -540
    },
    "id": "eDtjsk0q94UH",
    "outputId": "970a6fd5-aa92-495e-a760-8040f7e10409"
   },
   "outputs": [
    {
     "name": "stdout",
     "output_type": "stream",
     "text": [
      "(2024228, 5, 6)\n"
     ]
    }
   ],
   "source": [
    "print(X_train.shape)"
   ]
  },
  {
   "cell_type": "code",
   "execution_count": 23,
   "metadata": {
    "executionInfo": {
     "elapsed": 19,
     "status": "ok",
     "timestamp": 1709112048805,
     "user": {
      "displayName": "유찬",
      "userId": "05761325302258896347"
     },
     "user_tz": -540
    },
    "id": "lE5oSZ1D96UE"
   },
   "outputs": [],
   "source": [
    "n_timesteps, n_features, n_outputs = X_train.shape[1], X_train.shape[2], y_train_onehot.shape[1]"
   ]
  },
  {
   "cell_type": "code",
   "execution_count": 24,
   "metadata": {
    "colab": {
     "base_uri": "https://localhost:8080/"
    },
    "executionInfo": {
     "elapsed": 1957,
     "status": "ok",
     "timestamp": 1709112050744,
     "user": {
      "displayName": "유찬",
      "userId": "05761325302258896347"
     },
     "user_tz": -540
    },
    "id": "RSvz3-TU99Y2",
    "outputId": "b48334c3-c309-4d5e-a65b-abb0578d01e2"
   },
   "outputs": [
    {
     "name": "stdout",
     "output_type": "stream",
     "text": [
      "Model: \"sequential\"\n",
      "_________________________________________________________________\n",
      "Layer (type)                 Output Shape              Param #   \n",
      "=================================================================\n",
      "conv1d (Conv1D)              (None, 5, 64)             1216      \n",
      "_________________________________________________________________\n",
      "batch_normalization (BatchNo (None, 5, 64)             256       \n",
      "_________________________________________________________________\n",
      "dropout (Dropout)            (None, 5, 64)             0         \n",
      "_________________________________________________________________\n",
      "conv1d_1 (Conv1D)            (None, 5, 128)            24704     \n",
      "_________________________________________________________________\n",
      "batch_normalization_1 (Batch (None, 5, 128)            512       \n",
      "_________________________________________________________________\n",
      "dropout_1 (Dropout)          (None, 5, 128)            0         \n",
      "_________________________________________________________________\n",
      "conv1d_2 (Conv1D)            (None, 5, 256)            98560     \n",
      "_________________________________________________________________\n",
      "batch_normalization_2 (Batch (None, 5, 256)            1024      \n",
      "_________________________________________________________________\n",
      "dropout_2 (Dropout)          (None, 5, 256)            0         \n",
      "_________________________________________________________________\n",
      "max_pooling1d (MaxPooling1D) (None, 2, 256)            0         \n",
      "_________________________________________________________________\n",
      "lstm (LSTM)                  (None, 2, 100)            142800    \n",
      "_________________________________________________________________\n",
      "lstm_1 (LSTM)                (None, 100)               80400     \n",
      "_________________________________________________________________\n",
      "dropout_3 (Dropout)          (None, 100)               0         \n",
      "_________________________________________________________________\n",
      "dense (Dense)                (None, 100)               10100     \n",
      "_________________________________________________________________\n",
      "dense_1 (Dense)              (None, 10)                1010      \n",
      "=================================================================\n",
      "Total params: 360,582\n",
      "Trainable params: 359,686\n",
      "Non-trainable params: 896\n",
      "_________________________________________________________________\n"
     ]
    }
   ],
   "source": [
    "# define model\n",
    "\n",
    "from tensorflow.keras.layers import Conv1D\n",
    "from tensorflow.keras.layers import Input\n",
    "from keras.layers import Dense, Flatten, Dropout\n",
    "from tensorflow.keras.layers import Input, Conv1D, Flatten, Dense, LSTM, Reshape\n",
    "from tensorflow.keras.models import Sequential\n",
    "from tensorflow.keras.layers import Dense, Flatten, Dropout, MaxPooling1D, TimeDistributed, LSTM, BatchNormalization, Input, concatenate, Conv1D\n",
    "from tensorflow.keras.optimizers import Adam\n",
    "\n",
    "\n",
    "model = Sequential()\n",
    "model.add(Conv1D(filters=64,\n",
    "                 kernel_size=3, activation='relu',\n",
    "                 input_shape=(n_timesteps, n_features),padding='same'))\n",
    "model.add(BatchNormalization())\n",
    "model.add(Dropout(0.5))\n",
    "\n",
    "model.add(Conv1D(filters=128,\n",
    "                 kernel_size=3, activation='relu',padding='same'))\n",
    "model.add(BatchNormalization())\n",
    "model.add(Dropout(0.5))\n",
    "\n",
    "model.add(Conv1D(filters=256,\n",
    "                 kernel_size=3, activation='relu',padding='same'))\n",
    "model.add(BatchNormalization())\n",
    "model.add(Dropout(0.5))\n",
    "\n",
    "model.add(MaxPooling1D(pool_size=2))\n",
    "\n",
    "model.add(LSTM(100,return_sequences=True))\n",
    "model.add(LSTM(100))\n",
    "\n",
    "model.add(Dropout(0.5))\n",
    "model.add(Dense(100,\n",
    "                activation='relu'))\n",
    "model.add(Dense(n_outputs, activation='softmax'))\n",
    "\n",
    "optimizer = Adam(learning_rate=0.001)\n",
    "\n",
    "model.compile(loss='categorical_crossentropy', optimizer=optimizer, metrics=['accuracy'])\n",
    "model.summary()"
   ]
  },
  {
   "cell_type": "code",
   "execution_count": 25,
   "metadata": {
    "executionInfo": {
     "elapsed": 4,
     "status": "ok",
     "timestamp": 1709112050744,
     "user": {
      "displayName": "유찬",
      "userId": "05761325302258896347"
     },
     "user_tz": -540
    },
    "id": "pptzhLWu9-6f"
   },
   "outputs": [],
   "source": [
    "checkpoint_cb = keras.callbacks.ModelCheckpoint('best-cnn-model.h5',\n",
    "                                                save_best_only=True)\n",
    "early_stopping_cb = keras.callbacks.EarlyStopping(patience=3,\n",
    "                                                  restore_best_weights=True)"
   ]
  },
  {
   "cell_type": "code",
   "execution_count": 26,
   "metadata": {
    "colab": {
     "background_save": true,
     "base_uri": "https://localhost:8080/"
    },
    "id": "QmZdyBD8-E-o"
   },
   "outputs": [
    {
     "name": "stdout",
     "output_type": "stream",
     "text": [
      "Epoch 1/30\n",
      "56932/56932 [==============================] - 694s 12ms/step - loss: 0.9799 - accuracy: 0.6224 - val_loss: 0.7573 - val_accuracy: 0.7105\n",
      "Epoch 2/30\n",
      "56932/56932 [==============================] - 779s 14ms/step - loss: 0.8625 - accuracy: 0.6741 - val_loss: 0.7195 - val_accuracy: 0.7263\n",
      "Epoch 3/30\n",
      "56932/56932 [==============================] - 760s 13ms/step - loss: 0.8323 - accuracy: 0.6863 - val_loss: 0.6875 - val_accuracy: 0.7392\n",
      "Epoch 4/30\n",
      "56932/56932 [==============================] - 758s 13ms/step - loss: 0.8113 - accuracy: 0.6937 - val_loss: 0.6765 - val_accuracy: 0.7408\n",
      "Epoch 5/30\n",
      "56932/56932 [==============================] - 659s 12ms/step - loss: 0.7956 - accuracy: 0.6998 - val_loss: 0.6614 - val_accuracy: 0.7466\n",
      "Epoch 6/30\n",
      "56932/56932 [==============================] - 781s 14ms/step - loss: 0.7843 - accuracy: 0.7036 - val_loss: 0.6571 - val_accuracy: 0.7463\n",
      "Epoch 7/30\n",
      "56932/56932 [==============================] - 793s 14ms/step - loss: 0.7754 - accuracy: 0.7069 - val_loss: 0.6444 - val_accuracy: 0.7525\n",
      "Epoch 8/30\n",
      "56932/56932 [==============================] - 701s 12ms/step - loss: 0.7684 - accuracy: 0.7094 - val_loss: 0.6312 - val_accuracy: 0.7563\n",
      "Epoch 9/30\n",
      "56932/56932 [==============================] - 682s 12ms/step - loss: 0.7624 - accuracy: 0.7119 - val_loss: 0.6288 - val_accuracy: 0.7582\n",
      "Epoch 10/30\n",
      "56932/56932 [==============================] - 540s 9ms/step - loss: 0.7580 - accuracy: 0.7132 - val_loss: 0.6309 - val_accuracy: 0.7573\n",
      "Epoch 11/30\n",
      "56932/56932 [==============================] - 561s 10ms/step - loss: 0.7545 - accuracy: 0.7148 - val_loss: 0.6353 - val_accuracy: 0.7547\n",
      "Epoch 12/30\n",
      "56932/56932 [==============================] - 549s 10ms/step - loss: 0.7513 - accuracy: 0.7156 - val_loss: 0.6187 - val_accuracy: 0.7626\n",
      "Epoch 13/30\n",
      "56932/56932 [==============================] - 537s 9ms/step - loss: 0.7489 - accuracy: 0.7167 - val_loss: 0.6243 - val_accuracy: 0.7610\n",
      "Epoch 14/30\n",
      "56932/56932 [==============================] - 536s 9ms/step - loss: 0.7466 - accuracy: 0.7175 - val_loss: 0.6153 - val_accuracy: 0.7633\n",
      "Epoch 15/30\n",
      "56932/56932 [==============================] - 575s 10ms/step - loss: 0.7454 - accuracy: 0.7180 - val_loss: 0.6197 - val_accuracy: 0.7592\n",
      "Epoch 16/30\n",
      "56932/56932 [==============================] - 565s 10ms/step - loss: 0.7430 - accuracy: 0.7190 - val_loss: 0.6115 - val_accuracy: 0.7637\n",
      "Epoch 17/30\n",
      "56932/56932 [==============================] - 571s 10ms/step - loss: 0.7421 - accuracy: 0.7193 - val_loss: 0.6211 - val_accuracy: 0.7609\n",
      "Epoch 18/30\n",
      "56932/56932 [==============================] - 545s 10ms/step - loss: 0.7401 - accuracy: 0.7197 - val_loss: 0.6124 - val_accuracy: 0.7641\n",
      "Epoch 19/30\n",
      "56932/56932 [==============================] - 554s 10ms/step - loss: 0.7385 - accuracy: 0.7206 - val_loss: 0.6059 - val_accuracy: 0.7651\n",
      "Epoch 20/30\n",
      "56932/56932 [==============================] - 566s 10ms/step - loss: 0.7392 - accuracy: 0.7204 - val_loss: 0.6107 - val_accuracy: 0.7644\n",
      "Epoch 21/30\n",
      "56932/56932 [==============================] - 583s 10ms/step - loss: 0.7379 - accuracy: 0.7211 - val_loss: 0.6105 - val_accuracy: 0.7645\n",
      "Epoch 22/30\n",
      "56932/56932 [==============================] - 556s 10ms/step - loss: 0.7368 - accuracy: 0.7215 - val_loss: 0.6171 - val_accuracy: 0.7610\n"
     ]
    }
   ],
   "source": [
    "train_epochs = 30\n",
    "history = model.fit(X_train, y_train_onehot, epochs=train_epochs, verbose=True,\n",
    "                    validation_split=0.1, callbacks=[checkpoint_cb, early_stopping_cb])"
   ]
  },
  {
   "cell_type": "code",
   "execution_count": 27,
   "metadata": {
    "id": "dcWTSw-h-FcU"
   },
   "outputs": [
    {
     "data": {
      "image/png": "[encoded data removed]",
      "text/plain": [
       "<Figure size 432x288 with 1 Axes>"
      ]
     },
     "metadata": {
      "needs_background": "light"
     },
     "output_type": "display_data"
    }
   ],
   "source": [
    "import matplotlib.pyplot as plt\n",
    "import seaborn as sns\n",
    "\n",
    "loss = history.history['loss']\n",
    "val_loss = history.history['val_loss']\n",
    "epochs = range(1, len(loss) + 1)\n",
    "plt.plot(epochs, loss, 'y', label='Training loss')\n",
    "plt.plot(epochs, val_loss, 'r', label='Validation loss')\n",
    "plt.title('Training and validation loss')\n",
    "plt.xlabel('Epochs')\n",
    "plt.ylabel('Loss')\n",
    "plt.legend()\n",
    "plt.show()"
   ]
  },
  {
   "cell_type": "code",
   "execution_count": 28,
   "metadata": {
    "id": "SXF3KGK0-H14"
   },
   "outputs": [
    {
     "data": {
      "image/png": "[encoded data removed]",
      "text/plain": [
       "<Figure size 432x288 with 1 Axes>"
      ]
     },
     "metadata": {
      "needs_background": "light"
     },
     "output_type": "display_data"
    }
   ],
   "source": [
    "acc = history.history['accuracy']\n",
    "val_acc = history.history['val_accuracy']\n",
    "plt.plot(epochs, acc, 'y', label='Training acc')\n",
    "plt.plot(epochs, val_acc, 'r', label='Validation acc')\n",
    "plt.title('Training and validation accuracy')\n",
    "plt.xlabel('Epochs')\n",
    "plt.ylabel('Accuracy')\n",
    "plt.legend()\n",
    "plt.show()"
   ]
  },
  {
   "cell_type": "code",
   "execution_count": 29,
   "metadata": {
    "id": "X8_joagn-JcV"
   },
   "outputs": [],
   "source": [
    "#Accuracy of the predicted values\n",
    "from sklearn.metrics import classification_report,confusion_matrix\n",
    "\n",
    "y_pred = model.predict(X_test)\n",
    "y_test_class = np.argmax(y_test_onehot,axis=1)\n",
    "y_pred_class = np.argmax(y_pred,axis=1)"
   ]
  },
  {
   "cell_type": "code",
   "execution_count": 30,
   "metadata": {
    "id": "NIBTGGGy-LGc"
   },
   "outputs": [
    {
     "name": "stdout",
     "output_type": "stream",
     "text": [
      "              precision    recall  f1-score   support\n",
      "\n",
      "           0       0.70      0.45      0.55     50577\n",
      "           1       0.58      0.64      0.60     50475\n",
      "           2       0.78      0.88      0.82     50576\n",
      "           3       0.87      0.90      0.88     50346\n",
      "           4       0.77      0.80      0.78     50662\n",
      "           5       0.99      0.99      0.99     50582\n",
      "           6       1.00      0.99      1.00     50832\n",
      "           7       0.56      0.68      0.61     50687\n",
      "           8       0.75      0.67      0.71     50655\n",
      "           9       0.70      0.66      0.68     50662\n",
      "\n",
      "    accuracy                           0.77    506054\n",
      "   macro avg       0.77      0.77      0.76    506054\n",
      "weighted avg       0.77      0.77      0.76    506054\n",
      "\n",
      "[[22730 12296  5539  4161  2661    89    22  1412   902   765]\n",
      " [ 5185 32177  1499  1149  8776     4     2   402   516   765]\n",
      " [  936  1910 44339   817   150     0     0  1425   403   596]\n",
      " [ 2297   700  1745 45214   180     4     0   134    62    10]\n",
      " [  784  7972   210   205 40284   621    26    59   371   130]\n",
      " [    6    26    11     0     2 50164    18   120    23   212]\n",
      " [   36    22    13     4     0    17 50567    54    76    43]\n",
      " [  280   337  1850   259   150     4     2 34261  5099  8445]\n",
      " [   38   168   793   137    95     0     0 12135 34154  3135]\n",
      " [  206   335   931   131    21     0     3 11400  4197 33438]]\n"
     ]
    }
   ],
   "source": [
    "#Accuracy of the predicted values\n",
    "from sklearn.metrics import classification_report,confusion_matrix\n",
    "print(classification_report(y_test_class,y_pred_class))\n",
    "print(confusion_matrix(y_test_class,y_pred_class))"
   ]
  },
  {
   "cell_type": "code",
   "execution_count": null,
   "metadata": {},
   "outputs": [],
   "source": []
  }
 ],
 "metadata": {
  "accelerator": "GPU",
  "colab": {
   "authorship_tag": "ABX9TyM3leTx0NVq8Vk/c/lSEa7C",
   "gpuType": "T4",
   "mount_file_id": "1cWtTkf0azuyzgo2EE6GfaVra7aMKS4XJ",
   "name": "",
   "version": ""
  },
  "kernelspec": {
   "display_name": "Python 3",
   "language": "python",
   "name": "python3"
  },
  "language_info": {
   "codemirror_mode": {
    "name": "ipython",
    "version": 3
   },
   "file_extension": ".py",
   "mimetype": "text/x-python",
   "name": "python",
   "nbconvert_exporter": "python",
   "pygments_lexer": "ipython3",
   "version": "3.6.13"
  }
 },
 "nbformat": 4,
 "nbformat_minor": 1
}
